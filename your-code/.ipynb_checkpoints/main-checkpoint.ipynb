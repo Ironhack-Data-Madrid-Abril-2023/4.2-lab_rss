{
 "cells": [
  {
   "cell_type": "markdown",
   "metadata": {},
   "source": [
    "# Working with RSS Feeds Lab\n",
    "\n",
    "Complete the following set of exercises to solidify your knowledge of parsing RSS feeds and extracting information from them."
   ]
  },
  {
   "cell_type": "code",
   "execution_count": 3,
   "metadata": {},
   "outputs": [],
   "source": [
    "import feedparser"
   ]
  },
  {
   "cell_type": "markdown",
   "metadata": {},
   "source": [
    "### 1. Use feedparser to parse the following RSS feed URL."
   ]
  },
  {
   "cell_type": "code",
   "execution_count": 29,
   "metadata": {},
   "outputs": [],
   "source": [
    "nasa = feedparser.parse('https://www.nasa.gov/rss/dyn/onthestation_rss.rss')"
   ]
  },
  {
   "cell_type": "code",
   "execution_count": 30,
   "metadata": {},
   "outputs": [
    {
     "name": "stdout",
     "output_type": "stream",
     "text": [
      "{'language': 'en-us', 'title': 'On the Station - Latest News', 'title_detail': {'type': 'text/plain', 'language': 'en', 'base': 'http://www.nasa.gov/', 'value': 'On the Station - Latest News'}, 'subtitle': 'On the Station - Latest News', 'subtitle_detail': {'type': 'text/html', 'language': 'en', 'base': 'http://www.nasa.gov/', 'value': 'On the Station - Latest News'}, 'links': [{'rel': 'alternate', 'type': 'text/html', 'href': 'http://www.nasa.gov/'}, {'rel': 'self', 'href': 'http://www.nasa.gov/rss/dyn/onthestation_rss.rss', 'type': 'application/atom+xml'}], 'link': 'http://www.nasa.gov/'}\n"
     ]
    }
   ],
   "source": [
    "print(nasa['feed'])"
   ]
  },
  {
   "cell_type": "markdown",
   "metadata": {},
   "source": [
    "### 2. Obtain a list of components (keys) that are available for this feed."
   ]
  },
  {
   "cell_type": "code",
   "execution_count": 31,
   "metadata": {},
   "outputs": [
    {
     "data": {
      "text/plain": [
       "dict_keys(['bozo', 'entries', 'feed', 'headers', 'href', 'status', 'encoding', 'version', 'namespaces'])"
      ]
     },
     "execution_count": 31,
     "metadata": {},
     "output_type": "execute_result"
    }
   ],
   "source": [
    "nasa.keys()"
   ]
  },
  {
   "cell_type": "markdown",
   "metadata": {},
   "source": [
    "### 3. Obtain a list of components (keys) that are available for the *feed* component of this RSS feed."
   ]
  },
  {
   "cell_type": "code",
   "execution_count": 32,
   "metadata": {},
   "outputs": [
    {
     "data": {
      "text/plain": [
       "dict_keys(['language', 'title', 'title_detail', 'subtitle', 'subtitle_detail', 'links', 'link'])"
      ]
     },
     "execution_count": 32,
     "metadata": {},
     "output_type": "execute_result"
    }
   ],
   "source": [
    "nasa.feed.keys()"
   ]
  },
  {
   "cell_type": "markdown",
   "metadata": {},
   "source": [
    "### 4. Extract and print the feed title, subtitle, author, and link."
   ]
  },
  {
   "cell_type": "code",
   "execution_count": 41,
   "metadata": {},
   "outputs": [
    {
     "name": "stdout",
     "output_type": "stream",
     "text": [
      "\n",
      "http://www.nasa.gov/\n",
      "\n",
      "On the Station - Latest News\n",
      "\n",
      "On the Station - Latest News\n"
     ]
    }
   ],
   "source": [
    "# print (nasa.feed.author)\n",
    "print ('')\n",
    "print (nasa.feed.link)\n",
    "print ('')\n",
    "print (nasa.feed.title)\n",
    "print ('')\n",
    "print (nasa.feed.subtitle)"
   ]
  },
  {
   "cell_type": "markdown",
   "metadata": {},
   "source": [
    "### 5. Count the number of entries that are contained in this RSS feed."
   ]
  },
  {
   "cell_type": "code",
   "execution_count": 42,
   "metadata": {},
   "outputs": [
    {
     "data": {
      "text/plain": [
       "10"
      ]
     },
     "execution_count": 42,
     "metadata": {},
     "output_type": "execute_result"
    }
   ],
   "source": [
    "len(nasa.entries)"
   ]
  },
  {
   "cell_type": "markdown",
   "metadata": {},
   "source": [
    "### 6. Obtain a list of components (keys) available for an entry.\n",
    "\n",
    "*Hint: Remember to index first before requesting the keys*"
   ]
  },
  {
   "cell_type": "code",
   "execution_count": 44,
   "metadata": {},
   "outputs": [
    {
     "data": {
      "text/plain": [
       "{'title': 'Space Station Science Highlights: Week of April 24, 2023',\n",
       " 'title_detail': {'type': 'text/plain',\n",
       "  'language': 'en',\n",
       "  'base': 'http://www.nasa.gov/',\n",
       "  'value': 'Space Station Science Highlights: Week of April 24, 2023'},\n",
       " 'links': [{'rel': 'alternate',\n",
       "   'type': 'text/html',\n",
       "   'href': 'http://www.nasa.gov/mission_pages/station/research/news/space-station-science-highlights-24apr23'},\n",
       "  {'length': '2224270',\n",
       "   'type': 'image/jpeg',\n",
       "   'href': 'http://www.nasa.gov/sites/default/files/styles/1x1_cardfeed/public/thumbnails/image/canadarm.jpg?itok=vVHvKY0-',\n",
       "   'rel': 'enclosure'}],\n",
       " 'link': 'http://www.nasa.gov/mission_pages/station/research/news/space-station-science-highlights-24apr23',\n",
       " 'summary': 'Crew members aboard the International Space Station conducted scientific investigations during the week of April 24.',\n",
       " 'summary_detail': {'type': 'text/html',\n",
       "  'language': 'en',\n",
       "  'base': 'http://www.nasa.gov/',\n",
       "  'value': 'Crew members aboard the International Space Station conducted scientific investigations during the week of April 24.'},\n",
       " 'id': 'http://www.nasa.gov/mission_pages/station/research/news/space-station-science-highlights-24apr23',\n",
       " 'guidislink': False,\n",
       " 'published': 'Fri, 28 Apr 2023 14:00 EDT',\n",
       " 'published_parsed': time.struct_time(tm_year=2023, tm_mon=4, tm_mday=28, tm_hour=18, tm_min=0, tm_sec=0, tm_wday=4, tm_yday=118, tm_isdst=0),\n",
       " 'source': {'href': 'http://www.nasa.gov/rss/dyn/onthestation_rss.rss',\n",
       "  'title': 'On the Station - Latest News'}}"
      ]
     },
     "execution_count": 44,
     "metadata": {},
     "output_type": "execute_result"
    }
   ],
   "source": [
    "nasa.entries[0]"
   ]
  },
  {
   "cell_type": "markdown",
   "metadata": {},
   "source": [
    "### 7. Extract a list of entry titles."
   ]
  },
  {
   "cell_type": "code",
   "execution_count": 45,
   "metadata": {},
   "outputs": [
    {
     "name": "stdout",
     "output_type": "stream",
     "text": [
      "['Space Station Science Highlights: Week of April 24, 2023', 'Space Station Science Highlights: Week of April 17, 2023', 'Space Station Studies Help Monitor Climate Change', 'NASA Teams Persevere Through Plant Challenges in Space', 'Space Station Science Highlights: Week of April 10, 2023', \"NASA, SpaceX's 27th Resupply Mission Returns Science Samples for Study\", 'Space Station Science Highlights: Week of April 3, 2023', 'Space Station Science Highlights: Week of March 27, 2023', 'Celebrating Women’s History Month: Female Space Station Crew Members', 'Space Station Science Highlights: Week of March 20, 2023']\n"
     ]
    }
   ],
   "source": [
    "titles = [nasa.entries[i].title for i in range(len(nasa.entries))]\n",
    "print(titles)"
   ]
  },
  {
   "cell_type": "markdown",
   "metadata": {},
   "source": [
    "### 8. Calculate the percentage of \"Four short links\" entry titles."
   ]
  },
  {
   "cell_type": "code",
   "execution_count": 58,
   "metadata": {},
   "outputs": [
    {
     "name": "stdout",
     "output_type": "stream",
     "text": [
      "Porcentaje de entradas que contienen \"Four short links\": 0.0%\n"
     ]
    }
   ],
   "source": [
    "# Cuenta el número de entradas en el feed con títulos que contienen \"Four short links\"\n",
    "num_entries_with_fsl = 0\n",
    "for entry in nasa.entries:\n",
    "    if 'Four short links' in entry.title:\n",
    "        num_entries_with_fsl += 1\n",
    "\n",
    "percentage_with_fsl = (num_entries_with_fsl / len(nasa.entries)) * 100 #porcentaje en relacion a las entries totales\n",
    "\n",
    "print('Porcentaje de entradas que contienen \"Four short links\": {}%'.format(percentage_with_fsl))"
   ]
  },
  {
   "cell_type": "markdown",
   "metadata": {},
   "source": [
    "### 9. Create a Pandas data frame from the feed's entries."
   ]
  },
  {
   "cell_type": "code",
   "execution_count": 46,
   "metadata": {},
   "outputs": [
    {
     "data": {
      "text/html": [
       "<div>\n",
       "<style scoped>\n",
       "    .dataframe tbody tr th:only-of-type {\n",
       "        vertical-align: middle;\n",
       "    }\n",
       "\n",
       "    .dataframe tbody tr th {\n",
       "        vertical-align: top;\n",
       "    }\n",
       "\n",
       "    .dataframe thead th {\n",
       "        text-align: right;\n",
       "    }\n",
       "</style>\n",
       "<table border=\"1\" class=\"dataframe\">\n",
       "  <thead>\n",
       "    <tr style=\"text-align: right;\">\n",
       "      <th></th>\n",
       "      <th>title</th>\n",
       "      <th>title_detail</th>\n",
       "      <th>links</th>\n",
       "      <th>link</th>\n",
       "      <th>summary</th>\n",
       "      <th>summary_detail</th>\n",
       "      <th>id</th>\n",
       "      <th>guidislink</th>\n",
       "      <th>published</th>\n",
       "      <th>published_parsed</th>\n",
       "      <th>source</th>\n",
       "    </tr>\n",
       "  </thead>\n",
       "  <tbody>\n",
       "    <tr>\n",
       "      <th>0</th>\n",
       "      <td>Space Station Science Highlights: Week of Apri...</td>\n",
       "      <td>{'type': 'text/plain', 'language': 'en', 'base...</td>\n",
       "      <td>[{'rel': 'alternate', 'type': 'text/html', 'hr...</td>\n",
       "      <td>http://www.nasa.gov/mission_pages/station/rese...</td>\n",
       "      <td>Crew members aboard the International Space St...</td>\n",
       "      <td>{'type': 'text/html', 'language': 'en', 'base'...</td>\n",
       "      <td>http://www.nasa.gov/mission_pages/station/rese...</td>\n",
       "      <td>False</td>\n",
       "      <td>Fri, 28 Apr 2023 14:00 EDT</td>\n",
       "      <td>(2023, 4, 28, 18, 0, 0, 4, 118, 0)</td>\n",
       "      <td>{'href': 'http://www.nasa.gov/rss/dyn/onthesta...</td>\n",
       "    </tr>\n",
       "    <tr>\n",
       "      <th>1</th>\n",
       "      <td>Space Station Science Highlights: Week of Apri...</td>\n",
       "      <td>{'type': 'text/plain', 'language': 'en', 'base...</td>\n",
       "      <td>[{'rel': 'alternate', 'type': 'text/html', 'hr...</td>\n",
       "      <td>http://www.nasa.gov/mission_pages/station/rese...</td>\n",
       "      <td>Crew members aboard the International Space St...</td>\n",
       "      <td>{'type': 'text/html', 'language': 'en', 'base'...</td>\n",
       "      <td>http://www.nasa.gov/mission_pages/station/rese...</td>\n",
       "      <td>False</td>\n",
       "      <td>Fri, 21 Apr 2023 13:00 EDT</td>\n",
       "      <td>(2023, 4, 21, 17, 0, 0, 4, 111, 0)</td>\n",
       "      <td>{'href': 'http://www.nasa.gov/rss/dyn/onthesta...</td>\n",
       "    </tr>\n",
       "    <tr>\n",
       "      <th>2</th>\n",
       "      <td>Space Station Studies Help Monitor Climate Change</td>\n",
       "      <td>{'type': 'text/plain', 'language': 'en', 'base...</td>\n",
       "      <td>[{'rel': 'alternate', 'type': 'text/html', 'hr...</td>\n",
       "      <td>http://www.nasa.gov/mission_pages/station/rese...</td>\n",
       "      <td>On Earth Day, people focus on the well-being o...</td>\n",
       "      <td>{'type': 'text/html', 'language': 'en', 'base'...</td>\n",
       "      <td>http://www.nasa.gov/mission_pages/station/rese...</td>\n",
       "      <td>False</td>\n",
       "      <td>Fri, 21 Apr 2023 09:00 EDT</td>\n",
       "      <td>(2023, 4, 21, 13, 0, 0, 4, 111, 0)</td>\n",
       "      <td>{'href': 'http://www.nasa.gov/rss/dyn/onthesta...</td>\n",
       "    </tr>\n",
       "    <tr>\n",
       "      <th>3</th>\n",
       "      <td>NASA Teams Persevere Through Plant Challenges ...</td>\n",
       "      <td>{'type': 'text/plain', 'language': 'en', 'base...</td>\n",
       "      <td>[{'rel': 'alternate', 'type': 'text/html', 'hr...</td>\n",
       "      <td>http://www.nasa.gov/feature/nasa-teams-perseve...</td>\n",
       "      <td>Dr. Gioia Massa, life sciences project scienti...</td>\n",
       "      <td>{'type': 'text/html', 'language': 'en', 'base'...</td>\n",
       "      <td>http://www.nasa.gov/feature/nasa-teams-perseve...</td>\n",
       "      <td>False</td>\n",
       "      <td>Thu, 20 Apr 2023 12:53 EDT</td>\n",
       "      <td>(2023, 4, 20, 16, 53, 0, 3, 110, 0)</td>\n",
       "      <td>{'href': 'http://www.nasa.gov/rss/dyn/onthesta...</td>\n",
       "    </tr>\n",
       "    <tr>\n",
       "      <th>4</th>\n",
       "      <td>Space Station Science Highlights: Week of Apri...</td>\n",
       "      <td>{'type': 'text/plain', 'language': 'en', 'base...</td>\n",
       "      <td>[{'rel': 'alternate', 'type': 'text/html', 'hr...</td>\n",
       "      <td>http://www.nasa.gov/mission_pages/station/rese...</td>\n",
       "      <td>Crew members aboard the International Space St...</td>\n",
       "      <td>{'type': 'text/html', 'language': 'en', 'base'...</td>\n",
       "      <td>http://www.nasa.gov/mission_pages/station/rese...</td>\n",
       "      <td>False</td>\n",
       "      <td>Fri, 14 Apr 2023 14:30 EDT</td>\n",
       "      <td>(2023, 4, 14, 18, 30, 0, 4, 104, 0)</td>\n",
       "      <td>{'href': 'http://www.nasa.gov/rss/dyn/onthesta...</td>\n",
       "    </tr>\n",
       "  </tbody>\n",
       "</table>\n",
       "</div>"
      ],
      "text/plain": [
       "                                               title  \\\n",
       "0  Space Station Science Highlights: Week of Apri...   \n",
       "1  Space Station Science Highlights: Week of Apri...   \n",
       "2  Space Station Studies Help Monitor Climate Change   \n",
       "3  NASA Teams Persevere Through Plant Challenges ...   \n",
       "4  Space Station Science Highlights: Week of Apri...   \n",
       "\n",
       "                                        title_detail  \\\n",
       "0  {'type': 'text/plain', 'language': 'en', 'base...   \n",
       "1  {'type': 'text/plain', 'language': 'en', 'base...   \n",
       "2  {'type': 'text/plain', 'language': 'en', 'base...   \n",
       "3  {'type': 'text/plain', 'language': 'en', 'base...   \n",
       "4  {'type': 'text/plain', 'language': 'en', 'base...   \n",
       "\n",
       "                                               links  \\\n",
       "0  [{'rel': 'alternate', 'type': 'text/html', 'hr...   \n",
       "1  [{'rel': 'alternate', 'type': 'text/html', 'hr...   \n",
       "2  [{'rel': 'alternate', 'type': 'text/html', 'hr...   \n",
       "3  [{'rel': 'alternate', 'type': 'text/html', 'hr...   \n",
       "4  [{'rel': 'alternate', 'type': 'text/html', 'hr...   \n",
       "\n",
       "                                                link  \\\n",
       "0  http://www.nasa.gov/mission_pages/station/rese...   \n",
       "1  http://www.nasa.gov/mission_pages/station/rese...   \n",
       "2  http://www.nasa.gov/mission_pages/station/rese...   \n",
       "3  http://www.nasa.gov/feature/nasa-teams-perseve...   \n",
       "4  http://www.nasa.gov/mission_pages/station/rese...   \n",
       "\n",
       "                                             summary  \\\n",
       "0  Crew members aboard the International Space St...   \n",
       "1  Crew members aboard the International Space St...   \n",
       "2  On Earth Day, people focus on the well-being o...   \n",
       "3  Dr. Gioia Massa, life sciences project scienti...   \n",
       "4  Crew members aboard the International Space St...   \n",
       "\n",
       "                                      summary_detail  \\\n",
       "0  {'type': 'text/html', 'language': 'en', 'base'...   \n",
       "1  {'type': 'text/html', 'language': 'en', 'base'...   \n",
       "2  {'type': 'text/html', 'language': 'en', 'base'...   \n",
       "3  {'type': 'text/html', 'language': 'en', 'base'...   \n",
       "4  {'type': 'text/html', 'language': 'en', 'base'...   \n",
       "\n",
       "                                                  id  guidislink  \\\n",
       "0  http://www.nasa.gov/mission_pages/station/rese...       False   \n",
       "1  http://www.nasa.gov/mission_pages/station/rese...       False   \n",
       "2  http://www.nasa.gov/mission_pages/station/rese...       False   \n",
       "3  http://www.nasa.gov/feature/nasa-teams-perseve...       False   \n",
       "4  http://www.nasa.gov/mission_pages/station/rese...       False   \n",
       "\n",
       "                    published                     published_parsed  \\\n",
       "0  Fri, 28 Apr 2023 14:00 EDT   (2023, 4, 28, 18, 0, 0, 4, 118, 0)   \n",
       "1  Fri, 21 Apr 2023 13:00 EDT   (2023, 4, 21, 17, 0, 0, 4, 111, 0)   \n",
       "2  Fri, 21 Apr 2023 09:00 EDT   (2023, 4, 21, 13, 0, 0, 4, 111, 0)   \n",
       "3  Thu, 20 Apr 2023 12:53 EDT  (2023, 4, 20, 16, 53, 0, 3, 110, 0)   \n",
       "4  Fri, 14 Apr 2023 14:30 EDT  (2023, 4, 14, 18, 30, 0, 4, 104, 0)   \n",
       "\n",
       "                                              source  \n",
       "0  {'href': 'http://www.nasa.gov/rss/dyn/onthesta...  \n",
       "1  {'href': 'http://www.nasa.gov/rss/dyn/onthesta...  \n",
       "2  {'href': 'http://www.nasa.gov/rss/dyn/onthesta...  \n",
       "3  {'href': 'http://www.nasa.gov/rss/dyn/onthesta...  \n",
       "4  {'href': 'http://www.nasa.gov/rss/dyn/onthesta...  "
      ]
     },
     "execution_count": 46,
     "metadata": {},
     "output_type": "execute_result"
    }
   ],
   "source": [
    "import pandas as pd\n",
    "\n",
    "df = pd.DataFrame(nasa.entries)\n",
    "df.head()"
   ]
  },
  {
   "cell_type": "markdown",
   "metadata": {},
   "source": [
    "### 10. Count the number of entries per author and sort them in descending order."
   ]
  },
  {
   "cell_type": "code",
   "execution_count": 53,
   "metadata": {},
   "outputs": [
    {
     "name": "stdout",
     "output_type": "stream",
     "text": [
      "Desconocido: 10\n"
     ]
    }
   ],
   "source": [
    "entries_author = {}\n",
    "\n",
    "for entry in nasa.entries:\n",
    "    author = entry.get('author', 'Desconocido')  #como no he econtrado autores, le digo que meta las entries en autor desconocido\n",
    "    if author not in entries_author:\n",
    "        entries_author[author] = 1\n",
    "    else:\n",
    "        entries_author[author] += 1\n",
    "\n",
    "sorted_entries_author = dict(sorted(entries_author.items(), key=lambda x: x[1], reverse=True))\n",
    "\n",
    "for author, num_entries in sorted_entries_author.items():\n",
    "    print('{}: {}'.format(author, num_entries))"
   ]
  },
  {
   "cell_type": "markdown",
   "metadata": {},
   "source": [
    "### 11. Add a new column to the data frame that contains the length (number of characters) of each entry title. Return a data frame that contains the title, author, and title length of each entry in descending order (longest title length at the top)."
   ]
  },
  {
   "cell_type": "code",
   "execution_count": 55,
   "metadata": {},
   "outputs": [
    {
     "name": "stdout",
     "output_type": "stream",
     "text": [
      "                                               title  title_length\n",
      "5  NASA, SpaceX's 27th Resupply Mission Returns S...            70\n",
      "8  Celebrating Women’s History Month: Female Spac...            68\n",
      "0  Space Station Science Highlights: Week of Apri...            56\n",
      "1  Space Station Science Highlights: Week of Apri...            56\n",
      "4  Space Station Science Highlights: Week of Apri...            56\n",
      "7  Space Station Science Highlights: Week of Marc...            56\n",
      "9  Space Station Science Highlights: Week of Marc...            56\n",
      "6  Space Station Science Highlights: Week of Apri...            55\n",
      "3  NASA Teams Persevere Through Plant Challenges ...            54\n",
      "2  Space Station Studies Help Monitor Climate Change            49\n"
     ]
    }
   ],
   "source": [
    "df['title_length'] = df['title'].apply(len)\n",
    "df = df[['title', 'title_length']].sort_values('title_length', ascending=False)\n",
    "\n",
    "print(df)"
   ]
  },
  {
   "cell_type": "markdown",
   "metadata": {},
   "source": [
    "### 12. Create a list of entry titles whose summary includes the phrase \"machine learning.\""
   ]
  },
  {
   "cell_type": "code",
   "execution_count": 59,
   "metadata": {},
   "outputs": [
    {
     "name": "stdout",
     "output_type": "stream",
     "text": [
      "[]\n"
     ]
    }
   ],
   "source": [
    "machine_learning_entries = [entry.title for entry in nasa.entries if 'machine learning' in entry.summary.lower()]\n",
    "print(machine_learning_entries)"
   ]
  }
 ],
 "metadata": {
  "kernelspec": {
   "display_name": "Python 3 (ipykernel)",
   "language": "python",
   "name": "python3"
  },
  "language_info": {
   "codemirror_mode": {
    "name": "ipython",
    "version": 3
   },
   "file_extension": ".py",
   "mimetype": "text/x-python",
   "name": "python",
   "nbconvert_exporter": "python",
   "pygments_lexer": "ipython3",
   "version": "3.9.13"
  }
 },
 "nbformat": 4,
 "nbformat_minor": 2
}
