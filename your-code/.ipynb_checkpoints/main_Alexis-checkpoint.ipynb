{
 "cells": [
  {
   "cell_type": "markdown",
   "metadata": {},
   "source": [
    "# Working with RSS Feeds Lab\n",
    "\n",
    "Complete the following set of exercises to solidify your knowledge of parsing RSS feeds and extracting information from them."
   ]
  },
  {
   "cell_type": "code",
   "execution_count": 1,
   "metadata": {},
   "outputs": [],
   "source": [
    "import feedparser"
   ]
  },
  {
   "cell_type": "markdown",
   "metadata": {},
   "source": [
    "### 1. Use feedparser to parse the following RSS feed URL."
   ]
  },
  {
   "cell_type": "code",
   "execution_count": 2,
   "metadata": {},
   "outputs": [],
   "source": [
    "nasa = feedparser.parse('https://www.nasa.gov/rss/dyn/lg_image_of_the_day.rss')"
   ]
  },
  {
   "cell_type": "code",
   "execution_count": 3,
   "metadata": {},
   "outputs": [
    {
     "data": {
      "text/plain": [
       "feedparser.util.FeedParserDict"
      ]
     },
     "execution_count": 3,
     "metadata": {},
     "output_type": "execute_result"
    }
   ],
   "source": [
    "type(nasa)"
   ]
  },
  {
   "cell_type": "markdown",
   "metadata": {},
   "source": [
    "### 2. Obtain a list of components (keys) that are available for this feed."
   ]
  },
  {
   "cell_type": "code",
   "execution_count": 4,
   "metadata": {},
   "outputs": [
    {
     "data": {
      "text/plain": [
       "dict_keys(['bozo', 'entries', 'feed', 'headers', 'href', 'status', 'encoding', 'version', 'namespaces'])"
      ]
     },
     "execution_count": 4,
     "metadata": {},
     "output_type": "execute_result"
    }
   ],
   "source": [
    "nasa.keys()"
   ]
  },
  {
   "cell_type": "markdown",
   "metadata": {},
   "source": [
    "### 3. Obtain a list of components (keys) that are available for the *feed* component of this RSS feed."
   ]
  },
  {
   "cell_type": "code",
   "execution_count": 5,
   "metadata": {},
   "outputs": [
    {
     "data": {
      "text/plain": [
       "dict_keys(['language', 'title', 'title_detail', 'subtitle', 'subtitle_detail', 'links', 'link', 'authors', 'author', 'author_detail', 'publisher', 'publisher_detail', 'docs'])"
      ]
     },
     "execution_count": 5,
     "metadata": {},
     "output_type": "execute_result"
    }
   ],
   "source": [
    "nasa['feed'].keys()"
   ]
  },
  {
   "cell_type": "markdown",
   "metadata": {},
   "source": [
    "### 4. Extract and print the feed title, subtitle, author, and link."
   ]
  },
  {
   "cell_type": "code",
   "execution_count": 6,
   "metadata": {},
   "outputs": [
    {
     "name": "stdout",
     "output_type": "stream",
     "text": [
      "Título: NASA Image of the Day\n",
      "Subtítulo: The latest NASA \"Image of the Day\" image.\n",
      "Autor: brian.dunbar@nasa.gov\n",
      "Enlace: http://www.nasa.gov/\n"
     ]
    }
   ],
   "source": [
    "# Definir la URL del feed\n",
    "url = 'https://www.nasa.gov/rss/dyn/lg_image_of_the_day.rss'\n",
    "\n",
    "# Descargar el feed y analizarlo\n",
    "feed = feedparser.parse(url)\n",
    "\n",
    "# Verificar si el atributo existe antes de imprimirlo\n",
    "if 'title' in feed.feed:\n",
    "    print('Título:', feed.feed.title)\n",
    "else:\n",
    "    print('El feed no tiene título.')\n",
    "\n",
    "if 'subtitle' in feed.feed:\n",
    "    print('Subtítulo:', feed.feed.subtitle)\n",
    "else:\n",
    "    print('El feed no tiene subtítulo.')\n",
    "\n",
    "if 'author' in feed.feed:\n",
    "    print('Autor:', feed.feed.author)\n",
    "else:\n",
    "    print('El feed no tiene autor.')\n",
    "\n",
    "if 'link' in feed.feed:\n",
    "    print('Enlace:', feed.feed.link)\n",
    "else:\n",
    "    print('El feed no tiene enlace.')"
   ]
  },
  {
   "cell_type": "markdown",
   "metadata": {},
   "source": [
    "### 5. Count the number of entries that are contained in this RSS feed."
   ]
  },
  {
   "cell_type": "code",
   "execution_count": 7,
   "metadata": {},
   "outputs": [
    {
     "data": {
      "text/plain": [
       "13"
      ]
     },
     "execution_count": 7,
     "metadata": {},
     "output_type": "execute_result"
    }
   ],
   "source": [
    "len(nasa[\"feed\"])"
   ]
  },
  {
   "cell_type": "markdown",
   "metadata": {},
   "source": [
    "### 6. Obtain a list of components (keys) available for an entry.\n",
    "\n",
    "*Hint: Remember to index first before requesting the keys*"
   ]
  },
  {
   "cell_type": "code",
   "execution_count": 8,
   "metadata": {},
   "outputs": [
    {
     "name": "stdout",
     "output_type": "stream",
     "text": [
      "Keys available for the entry: dict_keys(['title', 'title_detail', 'links', 'link', 'summary', 'summary_detail', 'id', 'guidislink', 'published', 'published_parsed', 'source'])\n"
     ]
    }
   ],
   "source": [
    "# Download and parse the feed\n",
    "feed = feedparser.parse(url)\n",
    "\n",
    "# Get one of the entries in the feed\n",
    "entry = feed.entries[0]\n",
    "\n",
    "# Get the list of keys for the entry\n",
    "keys = entry.keys()\n",
    "\n",
    "# Print the list of keys\n",
    "print(\"Keys available for the entry:\", keys)"
   ]
  },
  {
   "cell_type": "markdown",
   "metadata": {},
   "source": [
    "### 7. Extract a list of entry titles."
   ]
  },
  {
   "cell_type": "code",
   "execution_count": 9,
   "metadata": {},
   "outputs": [
    {
     "data": {
      "text/plain": [
       "['Astronaut Kjell Lindgren',\n",
       " 'Hubble Captures an Elusive Galaxy Cluster',\n",
       " 'The Cygnus space freighter is released from the Canadarm2 robotic arm',\n",
       " 'Celebrating Earth Day',\n",
       " 'SuperBIT Sees Colliding Antennae Galaxies',\n",
       " \"NASA's New 3D-Printed Superalloy Can Take the Heat\",\n",
       " 'Martian Milestone for Ingenuity',\n",
       " 'Katmai National Park',\n",
       " 'Astronaut Jessica Watkins',\n",
       " 'The Himalayas and Mount Everest in Nepal',\n",
       " 'Bald Eagle Lands at Kennedy Space Center',\n",
       " 'Hubble Spots a Galaxy with Tendrils',\n",
       " 'Heavy Rain, Snow Revive Tulare Lake',\n",
       " 'Celebrating Science at the White House Easter Egg Roll',\n",
       " 'X-59 Gets Its Tail',\n",
       " 'Schulz, Snoopy Visit NASA Headquarters',\n",
       " 'Battling Bots',\n",
       " 'Artemis II Crew Appears on \"The Late Show\"',\n",
       " 'Artemis II Crew Revealed',\n",
       " 'Patagonian Plankton Swirls',\n",
       " 'NASA’s Crawler Transporter 2 Sets Record',\n",
       " 'Crew-4’s Museum Field Trip',\n",
       " 'Earth’s Radiant Atmosphere',\n",
       " 'Working on Artemis II',\n",
       " 'Celebrating Women in STEM',\n",
       " 'Space Station Star Trail',\n",
       " 'Photo Archivist and Photographer Aubrey Gemignani',\n",
       " 'Louisiana’s Rice Fields',\n",
       " 'Galactic Giants Titan and Saturn',\n",
       " \"Venus' Volcano\",\n",
       " 'Sunrise Over the Pacific',\n",
       " \"Diana Trujillo Sparks Students' Curiosity\",\n",
       " 'Crew-5’s Nighttime Splashdown',\n",
       " 'Hubble Spots a Star-Forming Spiral',\n",
       " 'A Sliver of the Sun',\n",
       " 'Eileen Collins, Discovery Pilot',\n",
       " 'Dumbbell Nebula Pumps Out Light Show',\n",
       " 'Deputy Associate Administrator for STEM Engagement Kris Brown',\n",
       " 'Pre-Dawn Launch for Crew-6',\n",
       " 'Cyclone Freddy is Pictured from the Space Station',\n",
       " 'Venus, Jupiter, Moon Shine from Space Station',\n",
       " 'John Glenn Goes Into Orbit',\n",
       " 'A Blue Farewell',\n",
       " 'Social Media Lead Courtney Lee',\n",
       " 'NASA Celebrates National Engineers Week: Perspectives from Jamesa Stokes',\n",
       " 'Let’s Roll, Crew-6!',\n",
       " 'Practicing Our Moonwalk',\n",
       " 'The Himalayan Peaks',\n",
       " 'Space Station Visits South Padre Island',\n",
       " 'Bringing More Power to Space Station',\n",
       " 'NASA’s Modern History Makers: Jarred Wilhite',\n",
       " 'A Visit to NISAR',\n",
       " 'Spiral Galaxy Spans Space',\n",
       " 'Hubble’s New View of the Tarantula Nebula',\n",
       " \"Astronauts' View of the Moon\",\n",
       " 'Flora, Fauna at NASA’s Kennedy Space Center',\n",
       " 'Senior Communications Manager Dewayne Washington',\n",
       " 'Volcanic Plumes in Chile',\n",
       " 'Hubble Views a Stellar Duo in Orion Nebula',\n",
       " 'Day of Remembrance']"
      ]
     },
     "execution_count": 9,
     "metadata": {},
     "output_type": "execute_result"
    }
   ],
   "source": [
    "# Extract the list of entry titles\n",
    "titles = []\n",
    "for entry in feed.entries:\n",
    "    titles.append(entry.title)\n",
    "    \n",
    "titles"
   ]
  },
  {
   "cell_type": "markdown",
   "metadata": {},
   "source": [
    "### 8. Calculate the percentage of \"Four short links\" entry titles."
   ]
  },
  {
   "cell_type": "code",
   "execution_count": 10,
   "metadata": {},
   "outputs": [
    {
     "name": "stdout",
     "output_type": "stream",
     "text": [
      "Percentage of 'Four short links' entry titles: 0.00%\n"
     ]
    }
   ],
   "source": [
    "# Count the number of \"Four short links\" entry titles\n",
    "num_fsl = 0\n",
    "for entry in feed.entries:\n",
    "    if \"Four short links\" in entry.title:\n",
    "        num_fsl += 1\n",
    "\n",
    "# Calculate the percentage of \"Four short links\" entry titles\n",
    "percent_fsl = num_fsl / len(feed.entries) * 100\n",
    "\n",
    "# Print the result\n",
    "print(\"Percentage of 'Four short links' entry titles: {:.2f}%\".format(percent_fsl))\n",
    "\n",
    "# No se puede obtener"
   ]
  },
  {
   "cell_type": "markdown",
   "metadata": {},
   "source": [
    "### 9. Create a Pandas data frame from the feed's entries."
   ]
  },
  {
   "cell_type": "code",
   "execution_count": 11,
   "metadata": {},
   "outputs": [],
   "source": [
    "import pandas as pd"
   ]
  },
  {
   "cell_type": "code",
   "execution_count": 12,
   "metadata": {},
   "outputs": [
    {
     "data": {
      "text/html": [
       "<div>\n",
       "<style scoped>\n",
       "    .dataframe tbody tr th:only-of-type {\n",
       "        vertical-align: middle;\n",
       "    }\n",
       "\n",
       "    .dataframe tbody tr th {\n",
       "        vertical-align: top;\n",
       "    }\n",
       "\n",
       "    .dataframe thead th {\n",
       "        text-align: right;\n",
       "    }\n",
       "</style>\n",
       "<table border=\"1\" class=\"dataframe\">\n",
       "  <thead>\n",
       "    <tr style=\"text-align: right;\">\n",
       "      <th></th>\n",
       "      <th>Title</th>\n",
       "      <th>Link</th>\n",
       "      <th>Published</th>\n",
       "    </tr>\n",
       "  </thead>\n",
       "  <tbody>\n",
       "    <tr>\n",
       "      <th>0</th>\n",
       "      <td>Astronaut Kjell Lindgren</td>\n",
       "      <td>http://www.nasa.gov/faces-of-nasa/kjell-lindgren</td>\n",
       "      <td>Mon, 01 May 2023 10:50 EDT</td>\n",
       "    </tr>\n",
       "    <tr>\n",
       "      <th>1</th>\n",
       "      <td>Hubble Captures an Elusive Galaxy Cluster</td>\n",
       "      <td>http://www.nasa.gov/image-feature/goddard/2023...</td>\n",
       "      <td>Fri, 28 Apr 2023 07:00 EDT</td>\n",
       "    </tr>\n",
       "    <tr>\n",
       "      <th>2</th>\n",
       "      <td>The Cygnus space freighter is released from th...</td>\n",
       "      <td>http://www.nasa.gov/image-feature/the-cygnus-s...</td>\n",
       "      <td>Thu, 27 Apr 2023 10:07 EDT</td>\n",
       "    </tr>\n",
       "    <tr>\n",
       "      <th>3</th>\n",
       "      <td>Celebrating Earth Day</td>\n",
       "      <td>http://www.nasa.gov/image-feature/celebrating-...</td>\n",
       "      <td>Mon, 24 Apr 2023 12:55 EDT</td>\n",
       "    </tr>\n",
       "    <tr>\n",
       "      <th>4</th>\n",
       "      <td>SuperBIT Sees Colliding Antennae Galaxies</td>\n",
       "      <td>http://www.nasa.gov/image-feature/superbit-see...</td>\n",
       "      <td>Thu, 20 Apr 2023 12:07 EDT</td>\n",
       "    </tr>\n",
       "  </tbody>\n",
       "</table>\n",
       "</div>"
      ],
      "text/plain": [
       "                                               Title  \\\n",
       "0                           Astronaut Kjell Lindgren   \n",
       "1          Hubble Captures an Elusive Galaxy Cluster   \n",
       "2  The Cygnus space freighter is released from th...   \n",
       "3                              Celebrating Earth Day   \n",
       "4          SuperBIT Sees Colliding Antennae Galaxies   \n",
       "\n",
       "                                                Link  \\\n",
       "0   http://www.nasa.gov/faces-of-nasa/kjell-lindgren   \n",
       "1  http://www.nasa.gov/image-feature/goddard/2023...   \n",
       "2  http://www.nasa.gov/image-feature/the-cygnus-s...   \n",
       "3  http://www.nasa.gov/image-feature/celebrating-...   \n",
       "4  http://www.nasa.gov/image-feature/superbit-see...   \n",
       "\n",
       "                    Published  \n",
       "0  Mon, 01 May 2023 10:50 EDT  \n",
       "1  Fri, 28 Apr 2023 07:00 EDT  \n",
       "2  Thu, 27 Apr 2023 10:07 EDT  \n",
       "3  Mon, 24 Apr 2023 12:55 EDT  \n",
       "4  Thu, 20 Apr 2023 12:07 EDT  "
      ]
     },
     "execution_count": 12,
     "metadata": {},
     "output_type": "execute_result"
    }
   ],
   "source": [
    "# Extract the desired attributes from the entries\n",
    "data = []\n",
    "for entry in feed.entries:\n",
    "    title = entry.title\n",
    "    link = entry.link\n",
    "    date = entry.published\n",
    "    data.append([title, link, date])\n",
    "\n",
    "# Create a Pandas data frame\n",
    "df = pd.DataFrame(data, columns=['Title', 'Link', 'Published'])\n",
    "\n",
    "df.head()"
   ]
  },
  {
   "cell_type": "markdown",
   "metadata": {},
   "source": [
    "### 10. Count the number of entries per author and sort them in descending order."
   ]
  },
  {
   "cell_type": "code",
   "execution_count": 13,
   "metadata": {},
   "outputs": [
    {
     "data": {
      "text/plain": [
       "Astronaut Kjell Lindgren                                                 1\n",
       "X-59 Gets Its Tail                                                       1\n",
       "The Cygnus space freighter is released from the Canadarm2 robotic arm    1\n",
       "Celebrating Earth Day                                                    1\n",
       "SuperBIT Sees Colliding Antennae Galaxies                                1\n",
       "Name: Title, dtype: int64"
      ]
     },
     "execution_count": 13,
     "metadata": {},
     "output_type": "execute_result"
    }
   ],
   "source": [
    "count_entries = df[\"Title\"].value_counts().sort_values()\n",
    "count_entries.head()\n",
    "# al no tenner \"author\" en mi df elijo filtrar por \"Title\""
   ]
  },
  {
   "cell_type": "markdown",
   "metadata": {},
   "source": [
    "### 11. Add a new column to the data frame that contains the length (number of characters) of each entry title. Return a data frame that contains the title, author, and title length of each entry in descending order (longest title length at the top)."
   ]
  },
  {
   "cell_type": "code",
   "execution_count": 14,
   "metadata": {},
   "outputs": [
    {
     "data": {
      "text/html": [
       "<div>\n",
       "<style scoped>\n",
       "    .dataframe tbody tr th:only-of-type {\n",
       "        vertical-align: middle;\n",
       "    }\n",
       "\n",
       "    .dataframe tbody tr th {\n",
       "        vertical-align: top;\n",
       "    }\n",
       "\n",
       "    .dataframe thead th {\n",
       "        text-align: right;\n",
       "    }\n",
       "</style>\n",
       "<table border=\"1\" class=\"dataframe\">\n",
       "  <thead>\n",
       "    <tr style=\"text-align: right;\">\n",
       "      <th></th>\n",
       "      <th>title</th>\n",
       "      <th>author</th>\n",
       "      <th>title_length</th>\n",
       "    </tr>\n",
       "  </thead>\n",
       "  <tbody>\n",
       "    <tr>\n",
       "      <th>44</th>\n",
       "      <td>NASA Celebrates National Engineers Week: Persp...</td>\n",
       "      <td>Unknown</td>\n",
       "      <td>72</td>\n",
       "    </tr>\n",
       "    <tr>\n",
       "      <th>2</th>\n",
       "      <td>The Cygnus space freighter is released from th...</td>\n",
       "      <td>Unknown</td>\n",
       "      <td>69</td>\n",
       "    </tr>\n",
       "    <tr>\n",
       "      <th>37</th>\n",
       "      <td>Deputy Associate Administrator for STEM Engage...</td>\n",
       "      <td>Unknown</td>\n",
       "      <td>61</td>\n",
       "    </tr>\n",
       "    <tr>\n",
       "      <th>13</th>\n",
       "      <td>Celebrating Science at the White House Easter ...</td>\n",
       "      <td>Unknown</td>\n",
       "      <td>54</td>\n",
       "    </tr>\n",
       "    <tr>\n",
       "      <th>5</th>\n",
       "      <td>NASA's New 3D-Printed Superalloy Can Take the ...</td>\n",
       "      <td>Unknown</td>\n",
       "      <td>50</td>\n",
       "    </tr>\n",
       "  </tbody>\n",
       "</table>\n",
       "</div>"
      ],
      "text/plain": [
       "                                                title   author  title_length\n",
       "44  NASA Celebrates National Engineers Week: Persp...  Unknown            72\n",
       "2   The Cygnus space freighter is released from th...  Unknown            69\n",
       "37  Deputy Associate Administrator for STEM Engage...  Unknown            61\n",
       "13  Celebrating Science at the White House Easter ...  Unknown            54\n",
       "5   NASA's New 3D-Printed Superalloy Can Take the ...  Unknown            50"
      ]
     },
     "execution_count": 14,
     "metadata": {},
     "output_type": "execute_result"
    }
   ],
   "source": [
    "# Create a list of dictionaries that contain the data for each entry\n",
    "data = []\n",
    "for entry in feed.entries:\n",
    "    data.append({\n",
    "        'title': entry.get('title', 'Unknown'),\n",
    "        'author': entry.get('author', 'Unknown'),\n",
    "        'title_length': len(entry.get('title', 'Unknown'))\n",
    "    })\n",
    "\n",
    "# Convert the list of dictionaries to a Pandas data frame\n",
    "df = pd.DataFrame(data)\n",
    "\n",
    "# Sort the data frame by the title length in descending order\n",
    "df = df.sort_values(by='title_length', ascending=False)\n",
    "\n",
    "df.head()"
   ]
  },
  {
   "cell_type": "markdown",
   "metadata": {},
   "source": [
    "### 12. Create a list of entry titles whose summary includes the phrase \"machine learning.\""
   ]
  },
  {
   "cell_type": "code",
   "execution_count": 15,
   "metadata": {},
   "outputs": [
    {
     "data": {
      "text/plain": [
       "[]"
      ]
     },
     "execution_count": 15,
     "metadata": {},
     "output_type": "execute_result"
    }
   ],
   "source": [
    "# Create an empty list to hold the titles\n",
    "machine_learning_titles = []\n",
    "\n",
    "# Loop over the entries and check if the phrase \"machine learning\" is in the summary\n",
    "for entry in feed.entries:\n",
    "    if 'machine learning' in entry.summary.lower():\n",
    "        machine_learning_titles.append(entry.title)\n",
    "\n",
    "machine_learning_titles"
   ]
  },
  {
   "cell_type": "code",
   "execution_count": null,
   "metadata": {},
   "outputs": [],
   "source": []
  }
 ],
 "metadata": {
  "kernelspec": {
   "display_name": "Python 3 (ipykernel)",
   "language": "python",
   "name": "python3"
  },
  "language_info": {
   "codemirror_mode": {
    "name": "ipython",
    "version": 3
   },
   "file_extension": ".py",
   "mimetype": "text/x-python",
   "name": "python",
   "nbconvert_exporter": "python",
   "pygments_lexer": "ipython3",
   "version": "3.9.13"
  }
 },
 "nbformat": 4,
 "nbformat_minor": 2
}
