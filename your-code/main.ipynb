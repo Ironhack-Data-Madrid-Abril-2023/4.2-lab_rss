{
 "cells": [
  {
   "cell_type": "markdown",
   "metadata": {},
   "source": [
    "# Working with RSS Feeds Lab\n",
    "\n",
    "Complete the following set of exercises to solidify your knowledge of parsing RSS feeds and extracting information from them."
   ]
  },
  {
   "cell_type": "code",
   "execution_count": 1,
   "metadata": {},
   "outputs": [
    {
     "name": "stdout",
     "output_type": "stream",
     "text": [
      "Requirement already satisfied: feedparser in /Users/davidapariciofernandez/opt/anaconda3/lib/python3.9/site-packages (6.0.10)\n",
      "Requirement already satisfied: sgmllib3k in /Users/davidapariciofernandez/opt/anaconda3/lib/python3.9/site-packages (from feedparser) (1.0.0)\n",
      "Note: you may need to restart the kernel to use updated packages.\n"
     ]
    }
   ],
   "source": [
    "%pip install feedparser\n",
    "import feedparser"
   ]
  },
  {
   "cell_type": "markdown",
   "metadata": {},
   "source": [
    "### 1. Use feedparser to parse the following RSS feed URL."
   ]
  },
  {
   "cell_type": "code",
   "execution_count": 2,
   "metadata": {},
   "outputs": [],
   "source": [
    "url = 'https://www.nasa.gov/rss/dyn/solar_system.rss'"
   ]
  },
  {
   "cell_type": "code",
   "execution_count": 3,
   "metadata": {},
   "outputs": [
    {
     "data": {
      "text/plain": [
       "{'bozo': False,\n",
       " 'entries': [{'title': 'NASA Awards Contract to Maintain Webb Telescope Operations',\n",
       "   'title_detail': {'type': 'text/plain',\n",
       "    'language': 'en',\n",
       "    'base': 'http://www.nasa.gov/',\n",
       "    'value': 'NASA Awards Contract to Maintain Webb Telescope Operations'},\n",
       "   'links': [{'rel': 'alternate',\n",
       "     'type': 'text/html',\n",
       "     'href': 'http://www.nasa.gov/press-release/nasa-awards-contract-to-maintain-webb-telescope-operations'},\n",
       "    {'length': '189751',\n",
       "     'type': 'image/jpeg',\n",
       "     'href': 'http://www.nasa.gov/sites/default/files/styles/1x1_cardfeed/public/thumbnails/image/nasa-logo-web-rgb_0.jpg?itok=mrBnB_c9',\n",
       "     'rel': 'enclosure'}],\n",
       "   'link': 'http://www.nasa.gov/press-release/nasa-awards-contract-to-maintain-webb-telescope-operations',\n",
       "   'summary': 'NASA has selected Northrop Grumman Systems Corporation of Redondo Beach, California, to support the James Webb Space Telescope Phase E – Operations and Sustainment contract.',\n",
       "   'summary_detail': {'type': 'text/html',\n",
       "    'language': 'en',\n",
       "    'base': 'http://www.nasa.gov/',\n",
       "    'value': 'NASA has selected Northrop Grumman Systems Corporation of Redondo Beach, California, to support the James Webb Space Telescope Phase E – Operations and Sustainment contract.'},\n",
       "   'id': 'http://www.nasa.gov/press-release/nasa-awards-contract-to-maintain-webb-telescope-operations',\n",
       "   'guidislink': False,\n",
       "   'published': 'Thu, 15 Dec 2022 16:02 EST',\n",
       "   'published_parsed': time.struct_time(tm_year=2022, tm_mon=12, tm_mday=15, tm_hour=21, tm_min=2, tm_sec=0, tm_wday=3, tm_yday=349, tm_isdst=0),\n",
       "   'source': {'href': 'http://www.nasa.gov/rss/dyn/solar_system.rss',\n",
       "    'title': 'Solar System and Beyond'}},\n",
       "  {'title': 'NASA’s Big 2022: Historic Moon Mission, Webb Telescope Images, More',\n",
       "   'title_detail': {'type': 'text/plain',\n",
       "    'language': 'en',\n",
       "    'base': 'http://www.nasa.gov/',\n",
       "    'value': 'NASA’s Big 2022: Historic Moon Mission, Webb Telescope Images, More'},\n",
       "   'links': [{'rel': 'alternate',\n",
       "     'type': 'text/html',\n",
       "     'href': 'http://www.nasa.gov/press-release/nasa-s-big-2022-historic-moon-mission-webb-telescope-images-more'},\n",
       "    {'length': '189751',\n",
       "     'type': 'image/jpeg',\n",
       "     'href': 'http://www.nasa.gov/sites/default/files/styles/1x1_cardfeed/public/thumbnails/image/nasa-logo-web-rgb_0.jpg?itok=mrBnB_c9',\n",
       "     'rel': 'enclosure'}],\n",
       "   'link': 'http://www.nasa.gov/press-release/nasa-s-big-2022-historic-moon-mission-webb-telescope-images-more',\n",
       "   'summary': '2022 is one for the history books as NASA caps off another astronomical year.',\n",
       "   'summary_detail': {'type': 'text/html',\n",
       "    'language': 'en',\n",
       "    'base': 'http://www.nasa.gov/',\n",
       "    'value': '2022 is one for the history books as NASA caps off another astronomical year.'},\n",
       "   'id': 'http://www.nasa.gov/press-release/nasa-s-big-2022-historic-moon-mission-webb-telescope-images-more',\n",
       "   'guidislink': False,\n",
       "   'published': 'Tue, 13 Dec 2022 10:22 EST',\n",
       "   'published_parsed': time.struct_time(tm_year=2022, tm_mon=12, tm_mday=13, tm_hour=15, tm_min=22, tm_sec=0, tm_wday=1, tm_yday=347, tm_isdst=0),\n",
       "   'source': {'href': 'http://www.nasa.gov/rss/dyn/solar_system.rss',\n",
       "    'title': 'Solar System and Beyond'}},\n",
       "  {'title': 'Experts Available to Discuss NASA Webb Telescope Science Results',\n",
       "   'title_detail': {'type': 'text/plain',\n",
       "    'language': 'en',\n",
       "    'base': 'http://www.nasa.gov/',\n",
       "    'value': 'Experts Available to Discuss NASA Webb Telescope Science Results'},\n",
       "   'links': [{'rel': 'alternate',\n",
       "     'type': 'text/html',\n",
       "     'href': 'http://www.nasa.gov/press-release/experts-available-to-discuss-nasa-webb-telescope-science-results'},\n",
       "    {'length': '642970',\n",
       "     'type': 'image/jpeg',\n",
       "     'href': 'http://www.nasa.gov/sites/default/files/styles/1x1_cardfeed/public/thumbnails/image/50489833002_218bac543f_k.jpg?itok=tyBi9PtS',\n",
       "     'rel': 'enclosure'}],\n",
       "   'link': 'http://www.nasa.gov/press-release/experts-available-to-discuss-nasa-webb-telescope-science-results',\n",
       "   'summary': 'Experts from NASA and other institutions will be available by teleconference at 11 a.m. EST on Thursday, Nov. 17, to answer media questions about early science results from the agency’s James Webb Space Telescope.',\n",
       "   'summary_detail': {'type': 'text/html',\n",
       "    'language': 'en',\n",
       "    'base': 'http://www.nasa.gov/',\n",
       "    'value': 'Experts from NASA and other institutions will be available by teleconference at 11 a.m. EST on Thursday, Nov. 17, to answer media questions about early science results from the agency’s James Webb Space Telescope.'},\n",
       "   'id': 'http://www.nasa.gov/press-release/experts-available-to-discuss-nasa-webb-telescope-science-results',\n",
       "   'guidislink': False,\n",
       "   'published': 'Tue, 15 Nov 2022 16:41 EST',\n",
       "   'published_parsed': time.struct_time(tm_year=2022, tm_mon=11, tm_mday=15, tm_hour=21, tm_min=41, tm_sec=0, tm_wday=1, tm_yday=319, tm_isdst=0),\n",
       "   'source': {'href': 'http://www.nasa.gov/rss/dyn/solar_system.rss',\n",
       "    'title': 'Solar System and Beyond'}},\n",
       "  {'title': 'El impacto de DART cambió el movimiento de un asteroide en el espacio',\n",
       "   'title_detail': {'type': 'text/plain',\n",
       "    'language': 'en',\n",
       "    'base': 'http://www.nasa.gov/',\n",
       "    'value': 'El impacto de DART cambió el movimiento de un asteroide en el espacio'},\n",
       "   'links': [{'rel': 'alternate',\n",
       "     'type': 'text/html',\n",
       "     'href': 'http://www.nasa.gov/press-release/el-impacto-de-dart-cambi-el-movimiento-de-un-asteroide-en-el-espacio'},\n",
       "    {'length': '992792',\n",
       "     'type': 'image/png',\n",
       "     'href': 'http://www.nasa.gov/sites/default/files/styles/1x1_cardfeed/public/thumbnails/image/3.2_dart_compass_draft2.png?itok=5Q-Zo0uG',\n",
       "     'rel': 'enclosure'}],\n",
       "   'link': 'http://www.nasa.gov/press-release/el-impacto-de-dart-cambi-el-movimiento-de-un-asteroide-en-el-espacio',\n",
       "   'summary': 'El análisis de los datos obtenidos en las últimas dos semanas por el equipo de investigación de la Prueba de redireccionamiento del asteroide doble (DART, por sus siglas en inglés) de la NASA muestra que el impacto cinético de la nave espacial contra su asteroide objetivo, Dimorphos, alteró con éxito la órbita del asteroide. Esto marca la primera v',\n",
       "   'summary_detail': {'type': 'text/html',\n",
       "    'language': 'en',\n",
       "    'base': 'http://www.nasa.gov/',\n",
       "    'value': 'El análisis de los datos obtenidos en las últimas dos semanas por el equipo de investigación de la Prueba de redireccionamiento del asteroide doble (DART, por sus siglas en inglés) de la NASA muestra que el impacto cinético de la nave espacial contra su asteroide objetivo, Dimorphos, alteró con éxito la órbita del asteroide. Esto marca la primera v'},\n",
       "   'id': 'http://www.nasa.gov/press-release/el-impacto-de-dart-cambi-el-movimiento-de-un-asteroide-en-el-espacio',\n",
       "   'guidislink': False,\n",
       "   'published': 'Tue, 11 Oct 2022 13:28 EDT',\n",
       "   'published_parsed': time.struct_time(tm_year=2022, tm_mon=10, tm_mday=11, tm_hour=17, tm_min=28, tm_sec=0, tm_wday=1, tm_yday=284, tm_isdst=0),\n",
       "   'source': {'href': 'http://www.nasa.gov/rss/dyn/solar_system.rss',\n",
       "    'title': 'Solar System and Beyond'}},\n",
       "  {'title': 'NASA Confirms DART Mission Impact Changed Asteroid’s Motion in Space',\n",
       "   'title_detail': {'type': 'text/plain',\n",
       "    'language': 'en',\n",
       "    'base': 'http://www.nasa.gov/',\n",
       "    'value': 'NASA Confirms DART Mission Impact Changed Asteroid’s Motion in Space'},\n",
       "   'links': [{'rel': 'alternate',\n",
       "     'type': 'text/html',\n",
       "     'href': 'http://www.nasa.gov/press-release/nasa-confirms-dart-mission-impact-changed-asteroid-s-motion-in-space'},\n",
       "    {'length': '992792',\n",
       "     'type': 'image/png',\n",
       "     'href': 'http://www.nasa.gov/sites/default/files/styles/1x1_cardfeed/public/thumbnails/image/3.2_dart_compass_draft2.png?itok=5Q-Zo0uG',\n",
       "     'rel': 'enclosure'}],\n",
       "   'link': 'http://www.nasa.gov/press-release/nasa-confirms-dart-mission-impact-changed-asteroid-s-motion-in-space',\n",
       "   'summary': \"Analysis of data obtained over the past two weeks by NASA’s Double Asteroid Redirection Test (DART) investigation team shows the spacecraft's kinetic impact with its target asteroid, Dimorphos, successfully altered the asteroid’s orbit. This marks humanity’s first time purposely changing the motion of a celestial object and the first full-scale dem\",\n",
       "   'summary_detail': {'type': 'text/html',\n",
       "    'language': 'en',\n",
       "    'base': 'http://www.nasa.gov/',\n",
       "    'value': \"Analysis of data obtained over the past two weeks by NASA’s Double Asteroid Redirection Test (DART) investigation team shows the spacecraft's kinetic impact with its target asteroid, Dimorphos, successfully altered the asteroid’s orbit. This marks humanity’s first time purposely changing the motion of a celestial object and the first full-scale dem\"},\n",
       "   'id': 'http://www.nasa.gov/press-release/nasa-confirms-dart-mission-impact-changed-asteroid-s-motion-in-space',\n",
       "   'guidislink': False,\n",
       "   'published': 'Tue, 11 Oct 2022 13:12 EDT',\n",
       "   'published_parsed': time.struct_time(tm_year=2022, tm_mon=10, tm_mday=11, tm_hour=17, tm_min=12, tm_sec=0, tm_wday=1, tm_yday=284, tm_isdst=0),\n",
       "   'source': {'href': 'http://www.nasa.gov/rss/dyn/solar_system.rss',\n",
       "    'title': 'Solar System and Beyond'}},\n",
       "  {'title': 'NASA to Provide Update on DART, World’s First Planetary Defense Test',\n",
       "   'title_detail': {'type': 'text/plain',\n",
       "    'language': 'en',\n",
       "    'base': 'http://www.nasa.gov/',\n",
       "    'value': 'NASA to Provide Update on DART, World’s First Planetary Defense Test'},\n",
       "   'links': [{'rel': 'alternate',\n",
       "     'type': 'text/html',\n",
       "     'href': 'http://www.nasa.gov/press-release/nasa-to-provide-update-on-dart-world-s-first-planetary-defense-test'},\n",
       "    {'length': '48784',\n",
       "     'type': 'image/png',\n",
       "     'href': 'http://www.nasa.gov/sites/default/files/styles/1x1_cardfeed/public/thumbnails/image/dart_imagery.png?itok=FPZ7u2Zv',\n",
       "     'rel': 'enclosure'}],\n",
       "   'link': 'http://www.nasa.gov/press-release/nasa-to-provide-update-on-dart-world-s-first-planetary-defense-test',\n",
       "   'summary': 'NASA will host a media briefing at 2 p.m. EDT, Tuesday, Oct. 11, to discuss the agency’s Double Asteroid Redirection Test (DART) mission and its intentional collision with its target asteroid, Dimorphos.',\n",
       "   'summary_detail': {'type': 'text/html',\n",
       "    'language': 'en',\n",
       "    'base': 'http://www.nasa.gov/',\n",
       "    'value': 'NASA will host a media briefing at 2 p.m. EDT, Tuesday, Oct. 11, to discuss the agency’s Double Asteroid Redirection Test (DART) mission and its intentional collision with its target asteroid, Dimorphos.'},\n",
       "   'id': 'http://www.nasa.gov/press-release/nasa-to-provide-update-on-dart-world-s-first-planetary-defense-test',\n",
       "   'guidislink': False,\n",
       "   'published': 'Fri, 07 Oct 2022 15:34 EDT',\n",
       "   'published_parsed': time.struct_time(tm_year=2022, tm_mon=10, tm_mday=7, tm_hour=19, tm_min=34, tm_sec=0, tm_wday=4, tm_yday=280, tm_isdst=0),\n",
       "   'source': {'href': 'http://www.nasa.gov/rss/dyn/solar_system.rss',\n",
       "    'title': 'Solar System and Beyond'}},\n",
       "  {'title': 'NASA’s DART Mission Hits Asteroid in First-Ever Planetary Defense Test',\n",
       "   'title_detail': {'type': 'text/plain',\n",
       "    'language': 'en',\n",
       "    'base': 'http://www.nasa.gov/',\n",
       "    'value': 'NASA’s DART Mission Hits Asteroid in First-Ever Planetary Defense Test'},\n",
       "   'links': [{'rel': 'alternate',\n",
       "     'type': 'text/html',\n",
       "     'href': 'http://www.nasa.gov/press-release/nasa-s-dart-mission-hits-asteroid-in-first-ever-planetary-defense-test'},\n",
       "    {'length': '111478',\n",
       "     'type': 'image/png',\n",
       "     'href': 'http://www.nasa.gov/sites/default/files/styles/1x1_cardfeed/public/thumbnails/image/all_dimorphos_dart_0401930040_12262_01_raw_0.png?itok=5uyNkCGk',\n",
       "     'rel': 'enclosure'}],\n",
       "   'link': 'http://www.nasa.gov/press-release/nasa-s-dart-mission-hits-asteroid-in-first-ever-planetary-defense-test',\n",
       "   'summary': 'After 10 months flying in space, NASA’s Double Asteroid Redirection Test (DART) – the world’s first planetary defense technology demonstration – successfully impacted its asteroid target on Monday, the agency’s first attempt to move an asteroid in space.',\n",
       "   'summary_detail': {'type': 'text/html',\n",
       "    'language': 'en',\n",
       "    'base': 'http://www.nasa.gov/',\n",
       "    'value': 'After 10 months flying in space, NASA’s Double Asteroid Redirection Test (DART) – the world’s first planetary defense technology demonstration – successfully impacted its asteroid target on Monday, the agency’s first attempt to move an asteroid in space.'},\n",
       "   'id': 'http://www.nasa.gov/press-release/nasa-s-dart-mission-hits-asteroid-in-first-ever-planetary-defense-test',\n",
       "   'guidislink': False,\n",
       "   'published': 'Mon, 26 Sep 2022 20:09 EDT',\n",
       "   'published_parsed': time.struct_time(tm_year=2022, tm_mon=9, tm_mday=27, tm_hour=0, tm_min=9, tm_sec=0, tm_wday=1, tm_yday=270, tm_isdst=0),\n",
       "   'source': {'href': 'http://www.nasa.gov/rss/dyn/solar_system.rss',\n",
       "    'title': 'Solar System and Beyond'}},\n",
       "  {'title': \"Celebrate 'International Observe the Moon Night' with NASA\",\n",
       "   'title_detail': {'type': 'text/plain',\n",
       "    'language': 'en',\n",
       "    'base': 'http://www.nasa.gov/',\n",
       "    'value': \"Celebrate 'International Observe the Moon Night' with NASA\"},\n",
       "   'links': [{'rel': 'alternate',\n",
       "     'type': 'text/html',\n",
       "     'href': 'http://www.nasa.gov/press-release/goddard/2022/celebrate-international-observe-the-moon-night-with-nasa'},\n",
       "    {'length': '566220',\n",
       "     'type': 'image/png',\n",
       "     'href': 'http://www.nasa.gov/sites/default/files/styles/1x1_cardfeed/public/thumbnails/image/observe-moon-night.png?itok=OdMEa5_J',\n",
       "     'rel': 'enclosure'}],\n",
       "   'link': 'http://www.nasa.gov/press-release/goddard/2022/celebrate-international-observe-the-moon-night-with-nasa',\n",
       "   'summary': 'The public is invited to participate in NASA’s celebration of \"International Observe the Moon Night\" on Saturday, Oct. 1.',\n",
       "   'summary_detail': {'type': 'text/html',\n",
       "    'language': 'en',\n",
       "    'base': 'http://www.nasa.gov/',\n",
       "    'value': 'The public is invited to participate in NASA’s celebration of \"International Observe the Moon Night\" on Saturday, Oct. 1.'},\n",
       "   'id': 'http://www.nasa.gov/press-release/goddard/2022/celebrate-international-observe-the-moon-night-with-nasa',\n",
       "   'guidislink': False,\n",
       "   'published': 'Fri, 23 Sep 2022 10:00 EDT',\n",
       "   'published_parsed': time.struct_time(tm_year=2022, tm_mon=9, tm_mday=23, tm_hour=14, tm_min=0, tm_sec=0, tm_wday=4, tm_yday=266, tm_isdst=0),\n",
       "   'source': {'href': 'http://www.nasa.gov/rss/dyn/solar_system.rss',\n",
       "    'title': 'Solar System and Beyond'}},\n",
       "  {'title': 'NASA to Host Briefing on Perseverance Mars Rover Mission Operations',\n",
       "   'title_detail': {'type': 'text/plain',\n",
       "    'language': 'en',\n",
       "    'base': 'http://www.nasa.gov/',\n",
       "    'value': 'NASA to Host Briefing on Perseverance Mars Rover Mission Operations'},\n",
       "   'links': [{'rel': 'alternate',\n",
       "     'type': 'text/html',\n",
       "     'href': 'http://www.nasa.gov/press-release/nasa-to-host-briefing-on-perseverance-mars-rover-mission-operations'},\n",
       "    {'length': '1896714',\n",
       "     'type': 'image/jpeg',\n",
       "     'href': 'http://www.nasa.gov/sites/default/files/styles/1x1_cardfeed/public/thumbnails/image/jezero_rocks.jpg?itok=bBDKG8oC',\n",
       "     'rel': 'enclosure'}],\n",
       "   'link': 'http://www.nasa.gov/press-release/nasa-to-host-briefing-on-perseverance-mars-rover-mission-operations',\n",
       "   'summary': 'NASA will host a briefing at 11:30 a.m. EDT (8:30 a.m. PDT) on Thursday, Sept. 15, at the agency’s Jet Propulsion Laboratory in Southern California to provide highlights from the first year and a half of the Perseverance rover’s exploration of Mars.',\n",
       "   'summary_detail': {'type': 'text/html',\n",
       "    'language': 'en',\n",
       "    'base': 'http://www.nasa.gov/',\n",
       "    'value': 'NASA will host a briefing at 11:30 a.m. EDT (8:30 a.m. PDT) on Thursday, Sept. 15, at the agency’s Jet Propulsion Laboratory in Southern California to provide highlights from the first year and a half of the Perseverance rover’s exploration of Mars.'},\n",
       "   'id': 'http://www.nasa.gov/press-release/nasa-to-host-briefing-on-perseverance-mars-rover-mission-operations',\n",
       "   'guidislink': False,\n",
       "   'published': 'Mon, 12 Sep 2022 09:49 EDT',\n",
       "   'published_parsed': time.struct_time(tm_year=2022, tm_mon=9, tm_mday=12, tm_hour=13, tm_min=49, tm_sec=0, tm_wday=0, tm_yday=255, tm_isdst=0),\n",
       "   'source': {'href': 'http://www.nasa.gov/rss/dyn/solar_system.rss',\n",
       "    'title': 'Solar System and Beyond'}},\n",
       "  {'title': 'La NASA invita a la prensa a la primera prueba de defensa planetaria',\n",
       "   'title_detail': {'type': 'text/plain',\n",
       "    'language': 'en',\n",
       "    'base': 'http://www.nasa.gov/',\n",
       "    'value': 'La NASA invita a la prensa a la primera prueba de defensa planetaria'},\n",
       "   'links': [{'rel': 'alternate',\n",
       "     'type': 'text/html',\n",
       "     'href': 'http://www.nasa.gov/press-release/la-nasa-invita-a-la-prensa-a-la-primera-prueba-de-defensa-planetaria'},\n",
       "    {'length': '7458136',\n",
       "     'type': 'image/jpeg',\n",
       "     'href': 'http://www.nasa.gov/sites/default/files/styles/1x1_cardfeed/public/thumbnails/image/dart_2.jpg?itok=awjvcq54',\n",
       "     'rel': 'enclosure'}],\n",
       "   'link': 'http://www.nasa.gov/press-release/la-nasa-invita-a-la-prensa-a-la-primera-prueba-de-defensa-planetaria',\n",
       "   'summary': 'La misión Prueba de redireccionamiento del asteroide doble (DART, por sus siglas en inglés) de la NASA, la primera en el mundo que pone a prueba una tecnología para defender a la Tierra de posibles peligros de asteroides o cometas, impactará con su objetivo, un asteroide que no supone ninguna amenaza para la Tierra, a las 7:14 pm EDT del lunes 26 d',\n",
       "   'summary_detail': {'type': 'text/html',\n",
       "    'language': 'en',\n",
       "    'base': 'http://www.nasa.gov/',\n",
       "    'value': 'La misión Prueba de redireccionamiento del asteroide doble (DART, por sus siglas en inglés) de la NASA, la primera en el mundo que pone a prueba una tecnología para defender a la Tierra de posibles peligros de asteroides o cometas, impactará con su objetivo, un asteroide que no supone ninguna amenaza para la Tierra, a las 7:14 pm EDT del lunes 26 d'},\n",
       "   'id': 'http://www.nasa.gov/press-release/la-nasa-invita-a-la-prensa-a-la-primera-prueba-de-defensa-planetaria',\n",
       "   'guidislink': False,\n",
       "   'published': 'Tue, 23 Aug 2022 11:47 EDT',\n",
       "   'published_parsed': time.struct_time(tm_year=2022, tm_mon=8, tm_mday=23, tm_hour=15, tm_min=47, tm_sec=0, tm_wday=1, tm_yday=235, tm_isdst=0),\n",
       "   'source': {'href': 'http://www.nasa.gov/rss/dyn/solar_system.rss',\n",
       "    'title': 'Solar System and Beyond'}}],\n",
       " 'feed': {'language': 'en-us',\n",
       "  'title': 'Solar System and Beyond',\n",
       "  'title_detail': {'type': 'text/plain',\n",
       "   'language': 'en',\n",
       "   'base': 'http://www.nasa.gov/',\n",
       "   'value': 'Solar System and Beyond'},\n",
       "  'subtitle': 'A RSS news feed containing the latest NASA press releases on missions exploring our solar system and beyond.',\n",
       "  'subtitle_detail': {'type': 'text/html',\n",
       "   'language': 'en',\n",
       "   'base': 'http://www.nasa.gov/',\n",
       "   'value': 'A RSS news feed containing the latest NASA press releases on missions exploring our solar system and beyond.'},\n",
       "  'links': [{'rel': 'alternate',\n",
       "    'type': 'text/html',\n",
       "    'href': 'http://www.nasa.gov/'},\n",
       "   {'rel': 'self',\n",
       "    'href': 'http://www.nasa.gov/rss/dyn/solar_system.rss',\n",
       "    'type': 'application/atom+xml'}],\n",
       "  'link': 'http://www.nasa.gov/',\n",
       "  'authors': [{'email': 'jim.wilson@nasa.gov'}],\n",
       "  'author': 'jim.wilson@nasa.gov',\n",
       "  'author_detail': {'email': 'jim.wilson@nasa.gov'},\n",
       "  'publisher': 'brian.dunbar@nasa.gov',\n",
       "  'publisher_detail': {'email': 'brian.dunbar@nasa.gov'},\n",
       "  'docs': 'http://blogs.harvard.edu/tech/rss'},\n",
       " 'headers': {'content-type': 'application/rss+xml; charset=utf-8',\n",
       "  'content-length': '2824',\n",
       "  'connection': 'close',\n",
       "  'cache-control': 'max-age=120, public',\n",
       "  'content-encoding': 'gzip',\n",
       "  'content-language': 'en',\n",
       "  'date': 'Tue, 02 May 2023 15:16:37 GMT',\n",
       "  'server': 'NASA',\n",
       "  'x-content-type-options': 'nosniff',\n",
       "  'x-frame-options': 'SAMEORIGIN',\n",
       "  'x-nginx-cache-status': 'EXPIRED',\n",
       "  'x-xss-protection': '1; mode=block',\n",
       "  'vary': 'Accept-Encoding',\n",
       "  'strict-transport-security': 'max-age=31536000',\n",
       "  'x-cache': 'Miss from cloudfront',\n",
       "  'via': '1.1 bbacf7d4cb14ee5c151294924cf9ea4e.cloudfront.net (CloudFront)',\n",
       "  'x-amz-cf-pop': 'MAD56-P2',\n",
       "  'x-amz-cf-id': 'tIpXLXIBKXzhr3CbU2_ug2LIrCBfACfeu_EzwccNntKedrQr2wDr1w=='},\n",
       " 'href': 'https://www.nasa.gov/rss/dyn/solar_system.rss',\n",
       " 'status': 200,\n",
       " 'encoding': 'utf-8',\n",
       " 'version': 'rss20',\n",
       " 'namespaces': {'': 'http://www.w3.org/2005/Atom',\n",
       "  'dc': 'http://purl.org/dc/elements/1.1/',\n",
       "  'itunes': 'http://www.itunes.com/dtds/podcast-1.0.dtd',\n",
       "  'media': 'http://search.yahoo.com/mrss/'}}"
      ]
     },
     "execution_count": 3,
     "metadata": {},
     "output_type": "execute_result"
    }
   ],
   "source": [
    "nasa = feedparser.parse(url)\n",
    "nasa"
   ]
  },
  {
   "cell_type": "markdown",
   "metadata": {},
   "source": [
    "### 2. Obtain a list of components (keys) that are available for this feed."
   ]
  },
  {
   "cell_type": "code",
   "execution_count": 4,
   "metadata": {},
   "outputs": [
    {
     "data": {
      "text/plain": [
       "dict_keys(['bozo', 'entries', 'feed', 'headers', 'href', 'status', 'encoding', 'version', 'namespaces'])"
      ]
     },
     "execution_count": 4,
     "metadata": {},
     "output_type": "execute_result"
    }
   ],
   "source": [
    "nasa.keys()"
   ]
  },
  {
   "cell_type": "markdown",
   "metadata": {},
   "source": [
    "### 3. Obtain a list of components (keys) that are available for the *feed* component of this RSS feed."
   ]
  },
  {
   "cell_type": "code",
   "execution_count": 11,
   "metadata": {},
   "outputs": [
    {
     "data": {
      "text/plain": [
       "['language',\n",
       " 'title',\n",
       " 'title_detail',\n",
       " 'subtitle',\n",
       " 'subtitle_detail',\n",
       " 'links',\n",
       " 'link',\n",
       " 'authors',\n",
       " 'author',\n",
       " 'author_detail',\n",
       " 'publisher',\n",
       " 'publisher_detail',\n",
       " 'docs']"
      ]
     },
     "execution_count": 11,
     "metadata": {},
     "output_type": "execute_result"
    }
   ],
   "source": [
    "list(nasa['feed'])"
   ]
  },
  {
   "cell_type": "markdown",
   "metadata": {},
   "source": [
    "### 4. Extract and print the feed title, subtitle, author, and link."
   ]
  },
  {
   "cell_type": "code",
   "execution_count": 6,
   "metadata": {},
   "outputs": [
    {
     "name": "stdout",
     "output_type": "stream",
     "text": [
      "Solar System and Beyond\n",
      "A RSS news feed containing the latest NASA press releases on missions exploring our solar system and beyond.\n",
      "jim.wilson@nasa.gov\n",
      "http://www.nasa.gov/\n"
     ]
    }
   ],
   "source": [
    "print(nasa['feed']['title'])\n",
    "print(nasa['feed']['subtitle'])\n",
    "print(nasa['feed']['author'])\n",
    "print(nasa['feed']['link'])"
   ]
  },
  {
   "cell_type": "markdown",
   "metadata": {},
   "source": [
    "### 5. Count the number of entries that are contained in this RSS feed."
   ]
  },
  {
   "cell_type": "code",
   "execution_count": 7,
   "metadata": {},
   "outputs": [
    {
     "data": {
      "text/plain": [
       "10"
      ]
     },
     "execution_count": 7,
     "metadata": {},
     "output_type": "execute_result"
    }
   ],
   "source": [
    "len(nasa['entries'])"
   ]
  },
  {
   "cell_type": "markdown",
   "metadata": {},
   "source": [
    "### 6. Obtain a list of components (keys) available for an entry.\n",
    "\n",
    "*Hint: Remember to index first before requesting the keys*"
   ]
  },
  {
   "cell_type": "code",
   "execution_count": 8,
   "metadata": {},
   "outputs": [
    {
     "data": {
      "text/plain": [
       "dict_keys(['title', 'title_detail', 'links', 'link', 'summary', 'summary_detail', 'id', 'guidislink', 'published', 'published_parsed', 'source'])"
      ]
     },
     "execution_count": 8,
     "metadata": {},
     "output_type": "execute_result"
    }
   ],
   "source": [
    "nasa['entries'][0].keys()"
   ]
  },
  {
   "cell_type": "markdown",
   "metadata": {},
   "source": [
    "### 7. Extract a list of entry titles."
   ]
  },
  {
   "cell_type": "code",
   "execution_count": 14,
   "metadata": {},
   "outputs": [
    {
     "data": {
      "text/plain": [
       "['NASA Awards Contract to Maintain Webb Telescope Operations',\n",
       " 'NASA’s Big 2022: Historic Moon Mission, Webb Telescope Images, More',\n",
       " 'Experts Available to Discuss NASA Webb Telescope Science Results',\n",
       " 'El impacto de DART cambió el movimiento de un asteroide en el espacio',\n",
       " 'NASA Confirms DART Mission Impact Changed Asteroid’s Motion in Space',\n",
       " 'NASA to Provide Update on DART, World’s First Planetary Defense Test',\n",
       " 'NASA’s DART Mission Hits Asteroid in First-Ever Planetary Defense Test',\n",
       " \"Celebrate 'International Observe the Moon Night' with NASA\",\n",
       " 'NASA to Host Briefing on Perseverance Mars Rover Mission Operations',\n",
       " 'La NASA invita a la prensa a la primera prueba de defensa planetaria']"
      ]
     },
     "execution_count": 14,
     "metadata": {},
     "output_type": "execute_result"
    }
   ],
   "source": [
    "entry_titles = [entry.title for entry in nasa['entries']]\n",
    "entry_titles"
   ]
  },
  {
   "cell_type": "markdown",
   "metadata": {},
   "source": [
    "### 8. Calculate the percentage of \"Four short links\" entry titles."
   ]
  },
  {
   "cell_type": "code",
   "execution_count": null,
   "metadata": {},
   "outputs": [],
   "source": []
  },
  {
   "cell_type": "markdown",
   "metadata": {},
   "source": [
    "### 9. Create a Pandas data frame from the feed's entries."
   ]
  },
  {
   "cell_type": "code",
   "execution_count": 15,
   "metadata": {},
   "outputs": [],
   "source": [
    "import pandas as pd"
   ]
  },
  {
   "cell_type": "code",
   "execution_count": 17,
   "metadata": {},
   "outputs": [
    {
     "data": {
      "text/html": [
       "<div>\n",
       "<style scoped>\n",
       "    .dataframe tbody tr th:only-of-type {\n",
       "        vertical-align: middle;\n",
       "    }\n",
       "\n",
       "    .dataframe tbody tr th {\n",
       "        vertical-align: top;\n",
       "    }\n",
       "\n",
       "    .dataframe thead th {\n",
       "        text-align: right;\n",
       "    }\n",
       "</style>\n",
       "<table border=\"1\" class=\"dataframe\">\n",
       "  <thead>\n",
       "    <tr style=\"text-align: right;\">\n",
       "      <th></th>\n",
       "      <th>title</th>\n",
       "      <th>title_detail</th>\n",
       "      <th>links</th>\n",
       "      <th>link</th>\n",
       "      <th>summary</th>\n",
       "      <th>summary_detail</th>\n",
       "      <th>id</th>\n",
       "      <th>guidislink</th>\n",
       "      <th>published</th>\n",
       "      <th>published_parsed</th>\n",
       "      <th>source</th>\n",
       "    </tr>\n",
       "  </thead>\n",
       "  <tbody>\n",
       "    <tr>\n",
       "      <th>0</th>\n",
       "      <td>NASA Awards Contract to Maintain Webb Telescop...</td>\n",
       "      <td>{'type': 'text/plain', 'language': 'en', 'base...</td>\n",
       "      <td>[{'rel': 'alternate', 'type': 'text/html', 'hr...</td>\n",
       "      <td>http://www.nasa.gov/press-release/nasa-awards-...</td>\n",
       "      <td>NASA has selected Northrop Grumman Systems Cor...</td>\n",
       "      <td>{'type': 'text/html', 'language': 'en', 'base'...</td>\n",
       "      <td>http://www.nasa.gov/press-release/nasa-awards-...</td>\n",
       "      <td>False</td>\n",
       "      <td>Thu, 15 Dec 2022 16:02 EST</td>\n",
       "      <td>(2022, 12, 15, 21, 2, 0, 3, 349, 0)</td>\n",
       "      <td>{'href': 'http://www.nasa.gov/rss/dyn/solar_sy...</td>\n",
       "    </tr>\n",
       "    <tr>\n",
       "      <th>1</th>\n",
       "      <td>NASA’s Big 2022: Historic Moon Mission, Webb T...</td>\n",
       "      <td>{'type': 'text/plain', 'language': 'en', 'base...</td>\n",
       "      <td>[{'rel': 'alternate', 'type': 'text/html', 'hr...</td>\n",
       "      <td>http://www.nasa.gov/press-release/nasa-s-big-2...</td>\n",
       "      <td>2022 is one for the history books as NASA caps...</td>\n",
       "      <td>{'type': 'text/html', 'language': 'en', 'base'...</td>\n",
       "      <td>http://www.nasa.gov/press-release/nasa-s-big-2...</td>\n",
       "      <td>False</td>\n",
       "      <td>Tue, 13 Dec 2022 10:22 EST</td>\n",
       "      <td>(2022, 12, 13, 15, 22, 0, 1, 347, 0)</td>\n",
       "      <td>{'href': 'http://www.nasa.gov/rss/dyn/solar_sy...</td>\n",
       "    </tr>\n",
       "    <tr>\n",
       "      <th>2</th>\n",
       "      <td>Experts Available to Discuss NASA Webb Telesco...</td>\n",
       "      <td>{'type': 'text/plain', 'language': 'en', 'base...</td>\n",
       "      <td>[{'rel': 'alternate', 'type': 'text/html', 'hr...</td>\n",
       "      <td>http://www.nasa.gov/press-release/experts-avai...</td>\n",
       "      <td>Experts from NASA and other institutions will ...</td>\n",
       "      <td>{'type': 'text/html', 'language': 'en', 'base'...</td>\n",
       "      <td>http://www.nasa.gov/press-release/experts-avai...</td>\n",
       "      <td>False</td>\n",
       "      <td>Tue, 15 Nov 2022 16:41 EST</td>\n",
       "      <td>(2022, 11, 15, 21, 41, 0, 1, 319, 0)</td>\n",
       "      <td>{'href': 'http://www.nasa.gov/rss/dyn/solar_sy...</td>\n",
       "    </tr>\n",
       "    <tr>\n",
       "      <th>3</th>\n",
       "      <td>El impacto de DART cambió el movimiento de un ...</td>\n",
       "      <td>{'type': 'text/plain', 'language': 'en', 'base...</td>\n",
       "      <td>[{'rel': 'alternate', 'type': 'text/html', 'hr...</td>\n",
       "      <td>http://www.nasa.gov/press-release/el-impacto-d...</td>\n",
       "      <td>El análisis de los datos obtenidos en las últi...</td>\n",
       "      <td>{'type': 'text/html', 'language': 'en', 'base'...</td>\n",
       "      <td>http://www.nasa.gov/press-release/el-impacto-d...</td>\n",
       "      <td>False</td>\n",
       "      <td>Tue, 11 Oct 2022 13:28 EDT</td>\n",
       "      <td>(2022, 10, 11, 17, 28, 0, 1, 284, 0)</td>\n",
       "      <td>{'href': 'http://www.nasa.gov/rss/dyn/solar_sy...</td>\n",
       "    </tr>\n",
       "    <tr>\n",
       "      <th>4</th>\n",
       "      <td>NASA Confirms DART Mission Impact Changed Aste...</td>\n",
       "      <td>{'type': 'text/plain', 'language': 'en', 'base...</td>\n",
       "      <td>[{'rel': 'alternate', 'type': 'text/html', 'hr...</td>\n",
       "      <td>http://www.nasa.gov/press-release/nasa-confirm...</td>\n",
       "      <td>Analysis of data obtained over the past two we...</td>\n",
       "      <td>{'type': 'text/html', 'language': 'en', 'base'...</td>\n",
       "      <td>http://www.nasa.gov/press-release/nasa-confirm...</td>\n",
       "      <td>False</td>\n",
       "      <td>Tue, 11 Oct 2022 13:12 EDT</td>\n",
       "      <td>(2022, 10, 11, 17, 12, 0, 1, 284, 0)</td>\n",
       "      <td>{'href': 'http://www.nasa.gov/rss/dyn/solar_sy...</td>\n",
       "    </tr>\n",
       "    <tr>\n",
       "      <th>5</th>\n",
       "      <td>NASA to Provide Update on DART, World’s First ...</td>\n",
       "      <td>{'type': 'text/plain', 'language': 'en', 'base...</td>\n",
       "      <td>[{'rel': 'alternate', 'type': 'text/html', 'hr...</td>\n",
       "      <td>http://www.nasa.gov/press-release/nasa-to-prov...</td>\n",
       "      <td>NASA will host a media briefing at 2 p.m. EDT,...</td>\n",
       "      <td>{'type': 'text/html', 'language': 'en', 'base'...</td>\n",
       "      <td>http://www.nasa.gov/press-release/nasa-to-prov...</td>\n",
       "      <td>False</td>\n",
       "      <td>Fri, 07 Oct 2022 15:34 EDT</td>\n",
       "      <td>(2022, 10, 7, 19, 34, 0, 4, 280, 0)</td>\n",
       "      <td>{'href': 'http://www.nasa.gov/rss/dyn/solar_sy...</td>\n",
       "    </tr>\n",
       "    <tr>\n",
       "      <th>6</th>\n",
       "      <td>NASA’s DART Mission Hits Asteroid in First-Eve...</td>\n",
       "      <td>{'type': 'text/plain', 'language': 'en', 'base...</td>\n",
       "      <td>[{'rel': 'alternate', 'type': 'text/html', 'hr...</td>\n",
       "      <td>http://www.nasa.gov/press-release/nasa-s-dart-...</td>\n",
       "      <td>After 10 months flying in space, NASA’s Double...</td>\n",
       "      <td>{'type': 'text/html', 'language': 'en', 'base'...</td>\n",
       "      <td>http://www.nasa.gov/press-release/nasa-s-dart-...</td>\n",
       "      <td>False</td>\n",
       "      <td>Mon, 26 Sep 2022 20:09 EDT</td>\n",
       "      <td>(2022, 9, 27, 0, 9, 0, 1, 270, 0)</td>\n",
       "      <td>{'href': 'http://www.nasa.gov/rss/dyn/solar_sy...</td>\n",
       "    </tr>\n",
       "    <tr>\n",
       "      <th>7</th>\n",
       "      <td>Celebrate 'International Observe the Moon Nigh...</td>\n",
       "      <td>{'type': 'text/plain', 'language': 'en', 'base...</td>\n",
       "      <td>[{'rel': 'alternate', 'type': 'text/html', 'hr...</td>\n",
       "      <td>http://www.nasa.gov/press-release/goddard/2022...</td>\n",
       "      <td>The public is invited to participate in NASA’s...</td>\n",
       "      <td>{'type': 'text/html', 'language': 'en', 'base'...</td>\n",
       "      <td>http://www.nasa.gov/press-release/goddard/2022...</td>\n",
       "      <td>False</td>\n",
       "      <td>Fri, 23 Sep 2022 10:00 EDT</td>\n",
       "      <td>(2022, 9, 23, 14, 0, 0, 4, 266, 0)</td>\n",
       "      <td>{'href': 'http://www.nasa.gov/rss/dyn/solar_sy...</td>\n",
       "    </tr>\n",
       "    <tr>\n",
       "      <th>8</th>\n",
       "      <td>NASA to Host Briefing on Perseverance Mars Rov...</td>\n",
       "      <td>{'type': 'text/plain', 'language': 'en', 'base...</td>\n",
       "      <td>[{'rel': 'alternate', 'type': 'text/html', 'hr...</td>\n",
       "      <td>http://www.nasa.gov/press-release/nasa-to-host...</td>\n",
       "      <td>NASA will host a briefing at 11:30 a.m. EDT (8...</td>\n",
       "      <td>{'type': 'text/html', 'language': 'en', 'base'...</td>\n",
       "      <td>http://www.nasa.gov/press-release/nasa-to-host...</td>\n",
       "      <td>False</td>\n",
       "      <td>Mon, 12 Sep 2022 09:49 EDT</td>\n",
       "      <td>(2022, 9, 12, 13, 49, 0, 0, 255, 0)</td>\n",
       "      <td>{'href': 'http://www.nasa.gov/rss/dyn/solar_sy...</td>\n",
       "    </tr>\n",
       "    <tr>\n",
       "      <th>9</th>\n",
       "      <td>La NASA invita a la prensa a la primera prueba...</td>\n",
       "      <td>{'type': 'text/plain', 'language': 'en', 'base...</td>\n",
       "      <td>[{'rel': 'alternate', 'type': 'text/html', 'hr...</td>\n",
       "      <td>http://www.nasa.gov/press-release/la-nasa-invi...</td>\n",
       "      <td>La misión Prueba de redireccionamiento del ast...</td>\n",
       "      <td>{'type': 'text/html', 'language': 'en', 'base'...</td>\n",
       "      <td>http://www.nasa.gov/press-release/la-nasa-invi...</td>\n",
       "      <td>False</td>\n",
       "      <td>Tue, 23 Aug 2022 11:47 EDT</td>\n",
       "      <td>(2022, 8, 23, 15, 47, 0, 1, 235, 0)</td>\n",
       "      <td>{'href': 'http://www.nasa.gov/rss/dyn/solar_sy...</td>\n",
       "    </tr>\n",
       "  </tbody>\n",
       "</table>\n",
       "</div>"
      ],
      "text/plain": [
       "                                               title  \\\n",
       "0  NASA Awards Contract to Maintain Webb Telescop...   \n",
       "1  NASA’s Big 2022: Historic Moon Mission, Webb T...   \n",
       "2  Experts Available to Discuss NASA Webb Telesco...   \n",
       "3  El impacto de DART cambió el movimiento de un ...   \n",
       "4  NASA Confirms DART Mission Impact Changed Aste...   \n",
       "5  NASA to Provide Update on DART, World’s First ...   \n",
       "6  NASA’s DART Mission Hits Asteroid in First-Eve...   \n",
       "7  Celebrate 'International Observe the Moon Nigh...   \n",
       "8  NASA to Host Briefing on Perseverance Mars Rov...   \n",
       "9  La NASA invita a la prensa a la primera prueba...   \n",
       "\n",
       "                                        title_detail  \\\n",
       "0  {'type': 'text/plain', 'language': 'en', 'base...   \n",
       "1  {'type': 'text/plain', 'language': 'en', 'base...   \n",
       "2  {'type': 'text/plain', 'language': 'en', 'base...   \n",
       "3  {'type': 'text/plain', 'language': 'en', 'base...   \n",
       "4  {'type': 'text/plain', 'language': 'en', 'base...   \n",
       "5  {'type': 'text/plain', 'language': 'en', 'base...   \n",
       "6  {'type': 'text/plain', 'language': 'en', 'base...   \n",
       "7  {'type': 'text/plain', 'language': 'en', 'base...   \n",
       "8  {'type': 'text/plain', 'language': 'en', 'base...   \n",
       "9  {'type': 'text/plain', 'language': 'en', 'base...   \n",
       "\n",
       "                                               links  \\\n",
       "0  [{'rel': 'alternate', 'type': 'text/html', 'hr...   \n",
       "1  [{'rel': 'alternate', 'type': 'text/html', 'hr...   \n",
       "2  [{'rel': 'alternate', 'type': 'text/html', 'hr...   \n",
       "3  [{'rel': 'alternate', 'type': 'text/html', 'hr...   \n",
       "4  [{'rel': 'alternate', 'type': 'text/html', 'hr...   \n",
       "5  [{'rel': 'alternate', 'type': 'text/html', 'hr...   \n",
       "6  [{'rel': 'alternate', 'type': 'text/html', 'hr...   \n",
       "7  [{'rel': 'alternate', 'type': 'text/html', 'hr...   \n",
       "8  [{'rel': 'alternate', 'type': 'text/html', 'hr...   \n",
       "9  [{'rel': 'alternate', 'type': 'text/html', 'hr...   \n",
       "\n",
       "                                                link  \\\n",
       "0  http://www.nasa.gov/press-release/nasa-awards-...   \n",
       "1  http://www.nasa.gov/press-release/nasa-s-big-2...   \n",
       "2  http://www.nasa.gov/press-release/experts-avai...   \n",
       "3  http://www.nasa.gov/press-release/el-impacto-d...   \n",
       "4  http://www.nasa.gov/press-release/nasa-confirm...   \n",
       "5  http://www.nasa.gov/press-release/nasa-to-prov...   \n",
       "6  http://www.nasa.gov/press-release/nasa-s-dart-...   \n",
       "7  http://www.nasa.gov/press-release/goddard/2022...   \n",
       "8  http://www.nasa.gov/press-release/nasa-to-host...   \n",
       "9  http://www.nasa.gov/press-release/la-nasa-invi...   \n",
       "\n",
       "                                             summary  \\\n",
       "0  NASA has selected Northrop Grumman Systems Cor...   \n",
       "1  2022 is one for the history books as NASA caps...   \n",
       "2  Experts from NASA and other institutions will ...   \n",
       "3  El análisis de los datos obtenidos en las últi...   \n",
       "4  Analysis of data obtained over the past two we...   \n",
       "5  NASA will host a media briefing at 2 p.m. EDT,...   \n",
       "6  After 10 months flying in space, NASA’s Double...   \n",
       "7  The public is invited to participate in NASA’s...   \n",
       "8  NASA will host a briefing at 11:30 a.m. EDT (8...   \n",
       "9  La misión Prueba de redireccionamiento del ast...   \n",
       "\n",
       "                                      summary_detail  \\\n",
       "0  {'type': 'text/html', 'language': 'en', 'base'...   \n",
       "1  {'type': 'text/html', 'language': 'en', 'base'...   \n",
       "2  {'type': 'text/html', 'language': 'en', 'base'...   \n",
       "3  {'type': 'text/html', 'language': 'en', 'base'...   \n",
       "4  {'type': 'text/html', 'language': 'en', 'base'...   \n",
       "5  {'type': 'text/html', 'language': 'en', 'base'...   \n",
       "6  {'type': 'text/html', 'language': 'en', 'base'...   \n",
       "7  {'type': 'text/html', 'language': 'en', 'base'...   \n",
       "8  {'type': 'text/html', 'language': 'en', 'base'...   \n",
       "9  {'type': 'text/html', 'language': 'en', 'base'...   \n",
       "\n",
       "                                                  id  guidislink  \\\n",
       "0  http://www.nasa.gov/press-release/nasa-awards-...       False   \n",
       "1  http://www.nasa.gov/press-release/nasa-s-big-2...       False   \n",
       "2  http://www.nasa.gov/press-release/experts-avai...       False   \n",
       "3  http://www.nasa.gov/press-release/el-impacto-d...       False   \n",
       "4  http://www.nasa.gov/press-release/nasa-confirm...       False   \n",
       "5  http://www.nasa.gov/press-release/nasa-to-prov...       False   \n",
       "6  http://www.nasa.gov/press-release/nasa-s-dart-...       False   \n",
       "7  http://www.nasa.gov/press-release/goddard/2022...       False   \n",
       "8  http://www.nasa.gov/press-release/nasa-to-host...       False   \n",
       "9  http://www.nasa.gov/press-release/la-nasa-invi...       False   \n",
       "\n",
       "                    published                      published_parsed  \\\n",
       "0  Thu, 15 Dec 2022 16:02 EST   (2022, 12, 15, 21, 2, 0, 3, 349, 0)   \n",
       "1  Tue, 13 Dec 2022 10:22 EST  (2022, 12, 13, 15, 22, 0, 1, 347, 0)   \n",
       "2  Tue, 15 Nov 2022 16:41 EST  (2022, 11, 15, 21, 41, 0, 1, 319, 0)   \n",
       "3  Tue, 11 Oct 2022 13:28 EDT  (2022, 10, 11, 17, 28, 0, 1, 284, 0)   \n",
       "4  Tue, 11 Oct 2022 13:12 EDT  (2022, 10, 11, 17, 12, 0, 1, 284, 0)   \n",
       "5  Fri, 07 Oct 2022 15:34 EDT   (2022, 10, 7, 19, 34, 0, 4, 280, 0)   \n",
       "6  Mon, 26 Sep 2022 20:09 EDT     (2022, 9, 27, 0, 9, 0, 1, 270, 0)   \n",
       "7  Fri, 23 Sep 2022 10:00 EDT    (2022, 9, 23, 14, 0, 0, 4, 266, 0)   \n",
       "8  Mon, 12 Sep 2022 09:49 EDT   (2022, 9, 12, 13, 49, 0, 0, 255, 0)   \n",
       "9  Tue, 23 Aug 2022 11:47 EDT   (2022, 8, 23, 15, 47, 0, 1, 235, 0)   \n",
       "\n",
       "                                              source  \n",
       "0  {'href': 'http://www.nasa.gov/rss/dyn/solar_sy...  \n",
       "1  {'href': 'http://www.nasa.gov/rss/dyn/solar_sy...  \n",
       "2  {'href': 'http://www.nasa.gov/rss/dyn/solar_sy...  \n",
       "3  {'href': 'http://www.nasa.gov/rss/dyn/solar_sy...  \n",
       "4  {'href': 'http://www.nasa.gov/rss/dyn/solar_sy...  \n",
       "5  {'href': 'http://www.nasa.gov/rss/dyn/solar_sy...  \n",
       "6  {'href': 'http://www.nasa.gov/rss/dyn/solar_sy...  \n",
       "7  {'href': 'http://www.nasa.gov/rss/dyn/solar_sy...  \n",
       "8  {'href': 'http://www.nasa.gov/rss/dyn/solar_sy...  \n",
       "9  {'href': 'http://www.nasa.gov/rss/dyn/solar_sy...  "
      ]
     },
     "execution_count": 17,
     "metadata": {},
     "output_type": "execute_result"
    }
   ],
   "source": [
    "entries_df = pd.DataFrame(nasa['entries'])\n",
    "entries_df"
   ]
  },
  {
   "cell_type": "markdown",
   "metadata": {},
   "source": [
    "### 10. Count the number of entries per author and sort them in descending order."
   ]
  },
  {
   "cell_type": "code",
   "execution_count": 22,
   "metadata": {},
   "outputs": [
    {
     "ename": "KeyError",
     "evalue": "'Author'",
     "output_type": "error",
     "traceback": [
      "\u001b[0;31m---------------------------------------------------------------------------\u001b[0m",
      "\u001b[0;31mKeyError\u001b[0m                                  Traceback (most recent call last)",
      "\u001b[0;32m~/opt/anaconda3/lib/python3.9/site-packages/pandas/core/indexes/base.py\u001b[0m in \u001b[0;36mget_loc\u001b[0;34m(self, key, method, tolerance)\u001b[0m\n\u001b[1;32m   3628\u001b[0m             \u001b[0;32mtry\u001b[0m\u001b[0;34m:\u001b[0m\u001b[0;34m\u001b[0m\u001b[0;34m\u001b[0m\u001b[0m\n\u001b[0;32m-> 3629\u001b[0;31m                 \u001b[0;32mreturn\u001b[0m \u001b[0mself\u001b[0m\u001b[0;34m.\u001b[0m\u001b[0m_engine\u001b[0m\u001b[0;34m.\u001b[0m\u001b[0mget_loc\u001b[0m\u001b[0;34m(\u001b[0m\u001b[0mcasted_key\u001b[0m\u001b[0;34m)\u001b[0m\u001b[0;34m\u001b[0m\u001b[0;34m\u001b[0m\u001b[0m\n\u001b[0m\u001b[1;32m   3630\u001b[0m             \u001b[0;32mexcept\u001b[0m \u001b[0mKeyError\u001b[0m \u001b[0;32mas\u001b[0m \u001b[0merr\u001b[0m\u001b[0;34m:\u001b[0m\u001b[0;34m\u001b[0m\u001b[0;34m\u001b[0m\u001b[0m\n",
      "\u001b[0;32m~/opt/anaconda3/lib/python3.9/site-packages/pandas/_libs/index.pyx\u001b[0m in \u001b[0;36mpandas._libs.index.IndexEngine.get_loc\u001b[0;34m()\u001b[0m\n",
      "\u001b[0;32m~/opt/anaconda3/lib/python3.9/site-packages/pandas/_libs/index.pyx\u001b[0m in \u001b[0;36mpandas._libs.index.IndexEngine.get_loc\u001b[0;34m()\u001b[0m\n",
      "\u001b[0;32mpandas/_libs/hashtable_class_helper.pxi\u001b[0m in \u001b[0;36mpandas._libs.hashtable.PyObjectHashTable.get_item\u001b[0;34m()\u001b[0m\n",
      "\u001b[0;32mpandas/_libs/hashtable_class_helper.pxi\u001b[0m in \u001b[0;36mpandas._libs.hashtable.PyObjectHashTable.get_item\u001b[0;34m()\u001b[0m\n",
      "\u001b[0;31mKeyError\u001b[0m: 'Author'",
      "\nThe above exception was the direct cause of the following exception:\n",
      "\u001b[0;31mKeyError\u001b[0m                                  Traceback (most recent call last)",
      "\u001b[0;32m/var/folders/m0/lx952bgs23ddy9nzvwd3ms200000gn/T/ipykernel_12524/3418909760.py\u001b[0m in \u001b[0;36m<module>\u001b[0;34m\u001b[0m\n\u001b[0;32m----> 1\u001b[0;31m \u001b[0mentries_df\u001b[0m\u001b[0;34m[\u001b[0m\u001b[0;34m'Author'\u001b[0m\u001b[0;34m]\u001b[0m\u001b[0;34m.\u001b[0m\u001b[0mvalue_counts\u001b[0m\u001b[0;34m(\u001b[0m\u001b[0;34m)\u001b[0m\u001b[0;34m.\u001b[0m\u001b[0msort_values\u001b[0m\u001b[0;34m(\u001b[0m\u001b[0mascending\u001b[0m\u001b[0;34m=\u001b[0m\u001b[0;32mFalse\u001b[0m\u001b[0;34m)\u001b[0m\u001b[0;34m\u001b[0m\u001b[0;34m\u001b[0m\u001b[0m\n\u001b[0m",
      "\u001b[0;32m~/opt/anaconda3/lib/python3.9/site-packages/pandas/core/frame.py\u001b[0m in \u001b[0;36m__getitem__\u001b[0;34m(self, key)\u001b[0m\n\u001b[1;32m   3503\u001b[0m             \u001b[0;32mif\u001b[0m \u001b[0mself\u001b[0m\u001b[0;34m.\u001b[0m\u001b[0mcolumns\u001b[0m\u001b[0;34m.\u001b[0m\u001b[0mnlevels\u001b[0m \u001b[0;34m>\u001b[0m \u001b[0;36m1\u001b[0m\u001b[0;34m:\u001b[0m\u001b[0;34m\u001b[0m\u001b[0;34m\u001b[0m\u001b[0m\n\u001b[1;32m   3504\u001b[0m                 \u001b[0;32mreturn\u001b[0m \u001b[0mself\u001b[0m\u001b[0;34m.\u001b[0m\u001b[0m_getitem_multilevel\u001b[0m\u001b[0;34m(\u001b[0m\u001b[0mkey\u001b[0m\u001b[0;34m)\u001b[0m\u001b[0;34m\u001b[0m\u001b[0;34m\u001b[0m\u001b[0m\n\u001b[0;32m-> 3505\u001b[0;31m             \u001b[0mindexer\u001b[0m \u001b[0;34m=\u001b[0m \u001b[0mself\u001b[0m\u001b[0;34m.\u001b[0m\u001b[0mcolumns\u001b[0m\u001b[0;34m.\u001b[0m\u001b[0mget_loc\u001b[0m\u001b[0;34m(\u001b[0m\u001b[0mkey\u001b[0m\u001b[0;34m)\u001b[0m\u001b[0;34m\u001b[0m\u001b[0;34m\u001b[0m\u001b[0m\n\u001b[0m\u001b[1;32m   3506\u001b[0m             \u001b[0;32mif\u001b[0m \u001b[0mis_integer\u001b[0m\u001b[0;34m(\u001b[0m\u001b[0mindexer\u001b[0m\u001b[0;34m)\u001b[0m\u001b[0;34m:\u001b[0m\u001b[0;34m\u001b[0m\u001b[0;34m\u001b[0m\u001b[0m\n\u001b[1;32m   3507\u001b[0m                 \u001b[0mindexer\u001b[0m \u001b[0;34m=\u001b[0m \u001b[0;34m[\u001b[0m\u001b[0mindexer\u001b[0m\u001b[0;34m]\u001b[0m\u001b[0;34m\u001b[0m\u001b[0;34m\u001b[0m\u001b[0m\n",
      "\u001b[0;32m~/opt/anaconda3/lib/python3.9/site-packages/pandas/core/indexes/base.py\u001b[0m in \u001b[0;36mget_loc\u001b[0;34m(self, key, method, tolerance)\u001b[0m\n\u001b[1;32m   3629\u001b[0m                 \u001b[0;32mreturn\u001b[0m \u001b[0mself\u001b[0m\u001b[0;34m.\u001b[0m\u001b[0m_engine\u001b[0m\u001b[0;34m.\u001b[0m\u001b[0mget_loc\u001b[0m\u001b[0;34m(\u001b[0m\u001b[0mcasted_key\u001b[0m\u001b[0;34m)\u001b[0m\u001b[0;34m\u001b[0m\u001b[0;34m\u001b[0m\u001b[0m\n\u001b[1;32m   3630\u001b[0m             \u001b[0;32mexcept\u001b[0m \u001b[0mKeyError\u001b[0m \u001b[0;32mas\u001b[0m \u001b[0merr\u001b[0m\u001b[0;34m:\u001b[0m\u001b[0;34m\u001b[0m\u001b[0;34m\u001b[0m\u001b[0m\n\u001b[0;32m-> 3631\u001b[0;31m                 \u001b[0;32mraise\u001b[0m \u001b[0mKeyError\u001b[0m\u001b[0;34m(\u001b[0m\u001b[0mkey\u001b[0m\u001b[0;34m)\u001b[0m \u001b[0;32mfrom\u001b[0m \u001b[0merr\u001b[0m\u001b[0;34m\u001b[0m\u001b[0;34m\u001b[0m\u001b[0m\n\u001b[0m\u001b[1;32m   3632\u001b[0m             \u001b[0;32mexcept\u001b[0m \u001b[0mTypeError\u001b[0m\u001b[0;34m:\u001b[0m\u001b[0;34m\u001b[0m\u001b[0;34m\u001b[0m\u001b[0m\n\u001b[1;32m   3633\u001b[0m                 \u001b[0;31m# If we have a listlike key, _check_indexing_error will raise\u001b[0m\u001b[0;34m\u001b[0m\u001b[0;34m\u001b[0m\u001b[0m\n",
      "\u001b[0;31mKeyError\u001b[0m: 'Author'"
     ]
    }
   ],
   "source": [
    "entries_df['Author'].value_counts().sort_values(ascending=False)\n",
    "\n",
    "# no existe la columna \"Author\", asi que dejo el codigo de como seria"
   ]
  },
  {
   "cell_type": "markdown",
   "metadata": {},
   "source": [
    "### 11. Add a new column to the data frame that contains the length (number of characters) of each entry title. Return a data frame that contains the title, author, and title length of each entry in descending order (longest title length at the top)."
   ]
  },
  {
   "cell_type": "code",
   "execution_count": 21,
   "metadata": {},
   "outputs": [
    {
     "ename": "KeyError",
     "evalue": "'Title'",
     "output_type": "error",
     "traceback": [
      "\u001b[0;31m---------------------------------------------------------------------------\u001b[0m",
      "\u001b[0;31mKeyError\u001b[0m                                  Traceback (most recent call last)",
      "\u001b[0;32m~/opt/anaconda3/lib/python3.9/site-packages/pandas/core/indexes/base.py\u001b[0m in \u001b[0;36mget_loc\u001b[0;34m(self, key, method, tolerance)\u001b[0m\n\u001b[1;32m   3628\u001b[0m             \u001b[0;32mtry\u001b[0m\u001b[0;34m:\u001b[0m\u001b[0;34m\u001b[0m\u001b[0;34m\u001b[0m\u001b[0m\n\u001b[0;32m-> 3629\u001b[0;31m                 \u001b[0;32mreturn\u001b[0m \u001b[0mself\u001b[0m\u001b[0;34m.\u001b[0m\u001b[0m_engine\u001b[0m\u001b[0;34m.\u001b[0m\u001b[0mget_loc\u001b[0m\u001b[0;34m(\u001b[0m\u001b[0mcasted_key\u001b[0m\u001b[0;34m)\u001b[0m\u001b[0;34m\u001b[0m\u001b[0;34m\u001b[0m\u001b[0m\n\u001b[0m\u001b[1;32m   3630\u001b[0m             \u001b[0;32mexcept\u001b[0m \u001b[0mKeyError\u001b[0m \u001b[0;32mas\u001b[0m \u001b[0merr\u001b[0m\u001b[0;34m:\u001b[0m\u001b[0;34m\u001b[0m\u001b[0;34m\u001b[0m\u001b[0m\n",
      "\u001b[0;32m~/opt/anaconda3/lib/python3.9/site-packages/pandas/_libs/index.pyx\u001b[0m in \u001b[0;36mpandas._libs.index.IndexEngine.get_loc\u001b[0;34m()\u001b[0m\n",
      "\u001b[0;32m~/opt/anaconda3/lib/python3.9/site-packages/pandas/_libs/index.pyx\u001b[0m in \u001b[0;36mpandas._libs.index.IndexEngine.get_loc\u001b[0;34m()\u001b[0m\n",
      "\u001b[0;32mpandas/_libs/hashtable_class_helper.pxi\u001b[0m in \u001b[0;36mpandas._libs.hashtable.PyObjectHashTable.get_item\u001b[0;34m()\u001b[0m\n",
      "\u001b[0;32mpandas/_libs/hashtable_class_helper.pxi\u001b[0m in \u001b[0;36mpandas._libs.hashtable.PyObjectHashTable.get_item\u001b[0;34m()\u001b[0m\n",
      "\u001b[0;31mKeyError\u001b[0m: 'Title'",
      "\nThe above exception was the direct cause of the following exception:\n",
      "\u001b[0;31mKeyError\u001b[0m                                  Traceback (most recent call last)",
      "\u001b[0;32m/var/folders/m0/lx952bgs23ddy9nzvwd3ms200000gn/T/ipykernel_12524/2910638734.py\u001b[0m in \u001b[0;36m<module>\u001b[0;34m\u001b[0m\n\u001b[0;32m----> 1\u001b[0;31m \u001b[0mentries_df\u001b[0m\u001b[0;34m[\u001b[0m\u001b[0;34m'Title Length'\u001b[0m\u001b[0;34m]\u001b[0m \u001b[0;34m=\u001b[0m \u001b[0mentries_df\u001b[0m\u001b[0;34m[\u001b[0m\u001b[0;34m'Title'\u001b[0m\u001b[0;34m]\u001b[0m\u001b[0;34m.\u001b[0m\u001b[0mapply\u001b[0m\u001b[0;34m(\u001b[0m\u001b[0mlen\u001b[0m\u001b[0;34m)\u001b[0m\u001b[0;34m\u001b[0m\u001b[0;34m\u001b[0m\u001b[0m\n\u001b[0m\u001b[1;32m      2\u001b[0m \u001b[0mentry_titles\u001b[0m\u001b[0;34m\u001b[0m\u001b[0;34m\u001b[0m\u001b[0m\n",
      "\u001b[0;32m~/opt/anaconda3/lib/python3.9/site-packages/pandas/core/frame.py\u001b[0m in \u001b[0;36m__getitem__\u001b[0;34m(self, key)\u001b[0m\n\u001b[1;32m   3503\u001b[0m             \u001b[0;32mif\u001b[0m \u001b[0mself\u001b[0m\u001b[0;34m.\u001b[0m\u001b[0mcolumns\u001b[0m\u001b[0;34m.\u001b[0m\u001b[0mnlevels\u001b[0m \u001b[0;34m>\u001b[0m \u001b[0;36m1\u001b[0m\u001b[0;34m:\u001b[0m\u001b[0;34m\u001b[0m\u001b[0;34m\u001b[0m\u001b[0m\n\u001b[1;32m   3504\u001b[0m                 \u001b[0;32mreturn\u001b[0m \u001b[0mself\u001b[0m\u001b[0;34m.\u001b[0m\u001b[0m_getitem_multilevel\u001b[0m\u001b[0;34m(\u001b[0m\u001b[0mkey\u001b[0m\u001b[0;34m)\u001b[0m\u001b[0;34m\u001b[0m\u001b[0;34m\u001b[0m\u001b[0m\n\u001b[0;32m-> 3505\u001b[0;31m             \u001b[0mindexer\u001b[0m \u001b[0;34m=\u001b[0m \u001b[0mself\u001b[0m\u001b[0;34m.\u001b[0m\u001b[0mcolumns\u001b[0m\u001b[0;34m.\u001b[0m\u001b[0mget_loc\u001b[0m\u001b[0;34m(\u001b[0m\u001b[0mkey\u001b[0m\u001b[0;34m)\u001b[0m\u001b[0;34m\u001b[0m\u001b[0;34m\u001b[0m\u001b[0m\n\u001b[0m\u001b[1;32m   3506\u001b[0m             \u001b[0;32mif\u001b[0m \u001b[0mis_integer\u001b[0m\u001b[0;34m(\u001b[0m\u001b[0mindexer\u001b[0m\u001b[0;34m)\u001b[0m\u001b[0;34m:\u001b[0m\u001b[0;34m\u001b[0m\u001b[0;34m\u001b[0m\u001b[0m\n\u001b[1;32m   3507\u001b[0m                 \u001b[0mindexer\u001b[0m \u001b[0;34m=\u001b[0m \u001b[0;34m[\u001b[0m\u001b[0mindexer\u001b[0m\u001b[0;34m]\u001b[0m\u001b[0;34m\u001b[0m\u001b[0;34m\u001b[0m\u001b[0m\n",
      "\u001b[0;32m~/opt/anaconda3/lib/python3.9/site-packages/pandas/core/indexes/base.py\u001b[0m in \u001b[0;36mget_loc\u001b[0;34m(self, key, method, tolerance)\u001b[0m\n\u001b[1;32m   3629\u001b[0m                 \u001b[0;32mreturn\u001b[0m \u001b[0mself\u001b[0m\u001b[0;34m.\u001b[0m\u001b[0m_engine\u001b[0m\u001b[0;34m.\u001b[0m\u001b[0mget_loc\u001b[0m\u001b[0;34m(\u001b[0m\u001b[0mcasted_key\u001b[0m\u001b[0;34m)\u001b[0m\u001b[0;34m\u001b[0m\u001b[0;34m\u001b[0m\u001b[0m\n\u001b[1;32m   3630\u001b[0m             \u001b[0;32mexcept\u001b[0m \u001b[0mKeyError\u001b[0m \u001b[0;32mas\u001b[0m \u001b[0merr\u001b[0m\u001b[0;34m:\u001b[0m\u001b[0;34m\u001b[0m\u001b[0;34m\u001b[0m\u001b[0m\n\u001b[0;32m-> 3631\u001b[0;31m                 \u001b[0;32mraise\u001b[0m \u001b[0mKeyError\u001b[0m\u001b[0;34m(\u001b[0m\u001b[0mkey\u001b[0m\u001b[0;34m)\u001b[0m \u001b[0;32mfrom\u001b[0m \u001b[0merr\u001b[0m\u001b[0;34m\u001b[0m\u001b[0;34m\u001b[0m\u001b[0m\n\u001b[0m\u001b[1;32m   3632\u001b[0m             \u001b[0;32mexcept\u001b[0m \u001b[0mTypeError\u001b[0m\u001b[0;34m:\u001b[0m\u001b[0;34m\u001b[0m\u001b[0;34m\u001b[0m\u001b[0m\n\u001b[1;32m   3633\u001b[0m                 \u001b[0;31m# If we have a listlike key, _check_indexing_error will raise\u001b[0m\u001b[0;34m\u001b[0m\u001b[0;34m\u001b[0m\u001b[0m\n",
      "\u001b[0;31mKeyError\u001b[0m: 'Title'"
     ]
    }
   ],
   "source": [
    "entries_df['Title Length'] = entries_df['Title'].apply(len)\n",
    "\n",
    "new_df = entries_df[['Title', 'Author', 'Title Length']].sort_values(by='Title Length', ascending=False)\n",
    "\n",
    "# no existen esas columnas, pero pongo el codigo de como seria"
   ]
  },
  {
   "cell_type": "markdown",
   "metadata": {},
   "source": [
    "### 12. Create a list of entry titles whose summary includes the phrase \"machine learning.\""
   ]
  },
  {
   "cell_type": "code",
   "execution_count": null,
   "metadata": {},
   "outputs": [],
   "source": []
  }
 ],
 "metadata": {
  "kernelspec": {
   "display_name": "Python 3 (ipykernel)",
   "language": "python",
   "name": "python3"
  },
  "language_info": {
   "codemirror_mode": {
    "name": "ipython",
    "version": 3
   },
   "file_extension": ".py",
   "mimetype": "text/x-python",
   "name": "python",
   "nbconvert_exporter": "python",
   "pygments_lexer": "ipython3",
   "version": "3.9.13"
  }
 },
 "nbformat": 4,
 "nbformat_minor": 2
}
