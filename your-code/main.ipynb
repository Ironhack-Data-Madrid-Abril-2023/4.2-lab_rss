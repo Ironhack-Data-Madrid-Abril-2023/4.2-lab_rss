{
 "cells": [
  {
   "cell_type": "markdown",
   "metadata": {},
   "source": [
    "# Working with RSS Feeds Lab\n",
    "\n",
    "Complete the following set of exercises to solidify your knowledge of parsing RSS feeds and extracting information from them."
   ]
  },
  {
   "cell_type": "code",
   "execution_count": 45,
   "metadata": {},
   "outputs": [
    {
     "name": "stdout",
     "output_type": "stream",
     "text": [
      "Requirement already satisfied: feedparser in c:\\users\\fx506\\appdata\\local\\programs\\python\\python310\\lib\\site-packages (6.0.10)\n",
      "Requirement already satisfied: sgmllib3k in c:\\users\\fx506\\appdata\\local\\programs\\python\\python310\\lib\\site-packages (from feedparser) (1.0.0)\n",
      "Note: you may need to restart the kernel to use updated packages.\n"
     ]
    },
    {
     "name": "stderr",
     "output_type": "stream",
     "text": [
      "\n",
      "[notice] A new release of pip is available: 23.0.1 -> 23.1.2\n",
      "[notice] To update, run: python.exe -m pip install --upgrade pip\n"
     ]
    },
    {
     "name": "stdout",
     "output_type": "stream",
     "text": [
      "Collecting pandas\n",
      "  Downloading pandas-2.0.1-cp310-cp310-win_amd64.whl (10.7 MB)\n",
      "     ---------------------------------------- 10.7/10.7 MB 3.0 MB/s eta 0:00:00\n",
      "Requirement already satisfied: python-dateutil>=2.8.2 in c:\\users\\fx506\\appdata\\local\\programs\\python\\python310\\lib\\site-packages (from pandas) (2.8.2)\n",
      "Collecting tzdata>=2022.1\n",
      "  Downloading tzdata-2023.3-py2.py3-none-any.whl (341 kB)\n",
      "     -------------------------------------- 341.8/341.8 kB 3.0 MB/s eta 0:00:00\n",
      "Collecting numpy>=1.21.0\n",
      "  Downloading numpy-1.24.3-cp310-cp310-win_amd64.whl (14.8 MB)\n",
      "     ---------------------------------------- 14.8/14.8 MB 3.0 MB/s eta 0:00:00\n",
      "Collecting pytz>=2020.1\n",
      "  Downloading pytz-2023.3-py2.py3-none-any.whl (502 kB)\n",
      "     -------------------------------------- 502.3/502.3 kB 2.9 MB/s eta 0:00:00\n",
      "Requirement already satisfied: six>=1.5 in c:\\users\\fx506\\appdata\\local\\programs\\python\\python310\\lib\\site-packages (from python-dateutil>=2.8.2->pandas) (1.16.0)\n",
      "Installing collected packages: pytz, tzdata, numpy, pandas\n",
      "Successfully installed numpy-1.24.3 pandas-2.0.1 pytz-2023.3 tzdata-2023.3\n",
      "Note: you may need to restart the kernel to use updated packages.\n"
     ]
    },
    {
     "name": "stderr",
     "output_type": "stream",
     "text": [
      "\n",
      "[notice] A new release of pip is available: 23.0.1 -> 23.1.2\n",
      "[notice] To update, run: python.exe -m pip install --upgrade pip\n"
     ]
    }
   ],
   "source": [
    "%pip install feedparser\n",
    "\n",
    "%pip install pandas\n",
    "\n",
    "import feedparser\n",
    "\n",
    "import pandas as pd"
   ]
  },
  {
   "cell_type": "markdown",
   "metadata": {},
   "source": [
    "### 1. Use feedparser to parse the following RSS feed URL."
   ]
  },
  {
   "cell_type": "code",
   "execution_count": 18,
   "metadata": {},
   "outputs": [],
   "source": [
    "NASA = feedparser.parse('https://www.nasa.gov/rss/dyn/onthestation_rss.rss')"
   ]
  },
  {
   "cell_type": "code",
   "execution_count": 19,
   "metadata": {},
   "outputs": [
    {
     "data": {
      "text/plain": [
       "feedparser.util.FeedParserDict"
      ]
     },
     "execution_count": 19,
     "metadata": {},
     "output_type": "execute_result"
    }
   ],
   "source": [
    "type(NASA)"
   ]
  },
  {
   "cell_type": "markdown",
   "metadata": {},
   "source": [
    "### 2. Obtain a list of components (keys) that are available for this feed."
   ]
  },
  {
   "cell_type": "code",
   "execution_count": 20,
   "metadata": {},
   "outputs": [
    {
     "data": {
      "text/plain": [
       "dict_keys(['bozo', 'entries', 'feed', 'headers', 'href', 'status', 'encoding', 'version', 'namespaces'])"
      ]
     },
     "execution_count": 20,
     "metadata": {},
     "output_type": "execute_result"
    }
   ],
   "source": [
    "NASA.keys()"
   ]
  },
  {
   "cell_type": "markdown",
   "metadata": {},
   "source": [
    "### 3. Obtain a list of components (keys) that are available for the *feed* component of this RSS feed."
   ]
  },
  {
   "cell_type": "code",
   "execution_count": 21,
   "metadata": {},
   "outputs": [
    {
     "data": {
      "text/plain": [
       "dict_keys(['language', 'title', 'title_detail', 'subtitle', 'subtitle_detail', 'links', 'link'])"
      ]
     },
     "execution_count": 21,
     "metadata": {},
     "output_type": "execute_result"
    }
   ],
   "source": [
    "NASA['feed'].keys()"
   ]
  },
  {
   "cell_type": "markdown",
   "metadata": {},
   "source": [
    "### 4. Extract and print the feed title, subtitle, author, and link."
   ]
  },
  {
   "cell_type": "code",
   "execution_count": 23,
   "metadata": {},
   "outputs": [
    {
     "name": "stdout",
     "output_type": "stream",
     "text": [
      "[{'rel': 'alternate', 'type': 'text/html', 'href': 'http://www.nasa.gov/'}, {'rel': 'self', 'href': 'http://www.nasa.gov/rss/dyn/onthestation_rss.rss', 'type': 'application/atom+xml'}]\n",
      "On the Station - Latest News\n"
     ]
    }
   ],
   "source": [
    "print (NASA.feed.links)\n",
    "print (NASA.feed.title)"
   ]
  },
  {
   "cell_type": "markdown",
   "metadata": {},
   "source": [
    "### 5. Count the number of entries that are contained in this RSS feed."
   ]
  },
  {
   "cell_type": "code",
   "execution_count": 26,
   "metadata": {},
   "outputs": [
    {
     "data": {
      "text/plain": [
       "7"
      ]
     },
     "execution_count": 26,
     "metadata": {},
     "output_type": "execute_result"
    }
   ],
   "source": [
    "len(NASA['feed'])"
   ]
  },
  {
   "cell_type": "markdown",
   "metadata": {},
   "source": [
    "### 6. Obtain a list of components (keys) available for an entry.\n",
    "\n",
    "*Hint: Remember to index first before requesting the keys*"
   ]
  },
  {
   "cell_type": "code",
   "execution_count": 33,
   "metadata": {},
   "outputs": [
    {
     "data": {
      "text/plain": [
       "dict_keys(['title', 'title_detail', 'links', 'link', 'summary', 'summary_detail', 'id', 'guidislink', 'published', 'published_parsed', 'source'])"
      ]
     },
     "execution_count": 33,
     "metadata": {},
     "output_type": "execute_result"
    }
   ],
   "source": [
    "NASA['entries'][0].keys()"
   ]
  },
  {
   "cell_type": "markdown",
   "metadata": {},
   "source": [
    "### 7. Extract a list of entry titles."
   ]
  },
  {
   "cell_type": "code",
   "execution_count": 39,
   "metadata": {},
   "outputs": [
    {
     "name": "stdout",
     "output_type": "stream",
     "text": [
      "Title of first entry: Space Station Science Highlights: Week of April 24, 2023\n"
     ]
    }
   ],
   "source": [
    "if not NASA:\n",
    "    print(\"Failed to parse RSS feed from URL:\", url)\n",
    "else:\n",
    "    if len(NASA.entries) == 0:\n",
    "        print(\"No entries found in RSS feed.\")\n",
    "    else:\n",
    "        title = NASA.entries[0]['title']\n",
    "        print(\"Title of first entry:\", title) #### me sale que solo tiene un titulo"
   ]
  },
  {
   "cell_type": "markdown",
   "metadata": {},
   "source": [
    "### 8. Calculate the percentage of \"Four short links\" entry titles."
   ]
  },
  {
   "cell_type": "code",
   "execution_count": 41,
   "metadata": {},
   "outputs": [
    {
     "name": "stdout",
     "output_type": "stream",
     "text": [
      "0.00% of entry titles contain 'Four short links'\n"
     ]
    }
   ],
   "source": [
    "if not NASA:\n",
    "    print(\"Failed to parse RSS feed from URL:\", url)\n",
    "else:\n",
    "    if len(NASA.entries) == 0:\n",
    "        print(\"No entries found in RSS feed.\")\n",
    "    else:\n",
    "        num_four_short_links = 0\n",
    "        for entry in NASA.entries:\n",
    "            if \"Four short links\" in entry.title:\n",
    "                num_four_short_links += 1\n",
    "        percentage = num_four_short_links / len(NASA.entries) * 100\n",
    "        print(f\"{percentage:.2f}% of entry titles contain 'Four short links'\") ### creo que no es lo que me pide pero no entendi bien"
   ]
  },
  {
   "cell_type": "markdown",
   "metadata": {},
   "source": [
    "### 9. Create a Pandas data frame from the feed's entries."
   ]
  },
  {
   "cell_type": "code",
   "execution_count": 47,
   "metadata": {},
   "outputs": [
    {
     "data": {
      "text/plain": [
       "dict_keys(['language', 'title', 'title_detail', 'subtitle', 'subtitle_detail', 'links', 'link'])"
      ]
     },
     "execution_count": 47,
     "metadata": {},
     "output_type": "execute_result"
    }
   ],
   "source": [
    "NASA['feed'].keys()"
   ]
  },
  {
   "cell_type": "code",
   "execution_count": 55,
   "metadata": {},
   "outputs": [],
   "source": [
    "dfnasa = pd.DataFrame(NASA['entries'])"
   ]
  },
  {
   "cell_type": "code",
   "execution_count": 56,
   "metadata": {},
   "outputs": [
    {
     "data": {
      "text/html": [
       "<div>\n",
       "<style scoped>\n",
       "    .dataframe tbody tr th:only-of-type {\n",
       "        vertical-align: middle;\n",
       "    }\n",
       "\n",
       "    .dataframe tbody tr th {\n",
       "        vertical-align: top;\n",
       "    }\n",
       "\n",
       "    .dataframe thead th {\n",
       "        text-align: right;\n",
       "    }\n",
       "</style>\n",
       "<table border=\"1\" class=\"dataframe\">\n",
       "  <thead>\n",
       "    <tr style=\"text-align: right;\">\n",
       "      <th></th>\n",
       "      <th>title</th>\n",
       "      <th>title_detail</th>\n",
       "      <th>links</th>\n",
       "      <th>link</th>\n",
       "      <th>summary</th>\n",
       "      <th>summary_detail</th>\n",
       "      <th>id</th>\n",
       "      <th>guidislink</th>\n",
       "      <th>published</th>\n",
       "      <th>published_parsed</th>\n",
       "      <th>source</th>\n",
       "    </tr>\n",
       "  </thead>\n",
       "  <tbody>\n",
       "    <tr>\n",
       "      <th>0</th>\n",
       "      <td>Space Station Science Highlights: Week of Apri...</td>\n",
       "      <td>{'type': 'text/plain', 'language': 'en', 'base...</td>\n",
       "      <td>[{'rel': 'alternate', 'type': 'text/html', 'hr...</td>\n",
       "      <td>http://www.nasa.gov/mission_pages/station/rese...</td>\n",
       "      <td>Crew members aboard the International Space St...</td>\n",
       "      <td>{'type': 'text/html', 'language': 'en', 'base'...</td>\n",
       "      <td>http://www.nasa.gov/mission_pages/station/rese...</td>\n",
       "      <td>False</td>\n",
       "      <td>Fri, 28 Apr 2023 14:00 EDT</td>\n",
       "      <td>(2023, 4, 28, 18, 0, 0, 4, 118, 0)</td>\n",
       "      <td>{'href': 'http://www.nasa.gov/rss/dyn/onthesta...</td>\n",
       "    </tr>\n",
       "    <tr>\n",
       "      <th>1</th>\n",
       "      <td>Space Station Science Highlights: Week of Apri...</td>\n",
       "      <td>{'type': 'text/plain', 'language': 'en', 'base...</td>\n",
       "      <td>[{'rel': 'alternate', 'type': 'text/html', 'hr...</td>\n",
       "      <td>http://www.nasa.gov/mission_pages/station/rese...</td>\n",
       "      <td>Crew members aboard the International Space St...</td>\n",
       "      <td>{'type': 'text/html', 'language': 'en', 'base'...</td>\n",
       "      <td>http://www.nasa.gov/mission_pages/station/rese...</td>\n",
       "      <td>False</td>\n",
       "      <td>Fri, 21 Apr 2023 13:00 EDT</td>\n",
       "      <td>(2023, 4, 21, 17, 0, 0, 4, 111, 0)</td>\n",
       "      <td>{'href': 'http://www.nasa.gov/rss/dyn/onthesta...</td>\n",
       "    </tr>\n",
       "    <tr>\n",
       "      <th>2</th>\n",
       "      <td>Space Station Studies Help Monitor Climate Change</td>\n",
       "      <td>{'type': 'text/plain', 'language': 'en', 'base...</td>\n",
       "      <td>[{'rel': 'alternate', 'type': 'text/html', 'hr...</td>\n",
       "      <td>http://www.nasa.gov/mission_pages/station/rese...</td>\n",
       "      <td>On Earth Day, people focus on the well-being o...</td>\n",
       "      <td>{'type': 'text/html', 'language': 'en', 'base'...</td>\n",
       "      <td>http://www.nasa.gov/mission_pages/station/rese...</td>\n",
       "      <td>False</td>\n",
       "      <td>Fri, 21 Apr 2023 09:00 EDT</td>\n",
       "      <td>(2023, 4, 21, 13, 0, 0, 4, 111, 0)</td>\n",
       "      <td>{'href': 'http://www.nasa.gov/rss/dyn/onthesta...</td>\n",
       "    </tr>\n",
       "    <tr>\n",
       "      <th>3</th>\n",
       "      <td>NASA Teams Persevere Through Plant Challenges ...</td>\n",
       "      <td>{'type': 'text/plain', 'language': 'en', 'base...</td>\n",
       "      <td>[{'rel': 'alternate', 'type': 'text/html', 'hr...</td>\n",
       "      <td>http://www.nasa.gov/feature/nasa-teams-perseve...</td>\n",
       "      <td>Dr. Gioia Massa, life sciences project scienti...</td>\n",
       "      <td>{'type': 'text/html', 'language': 'en', 'base'...</td>\n",
       "      <td>http://www.nasa.gov/feature/nasa-teams-perseve...</td>\n",
       "      <td>False</td>\n",
       "      <td>Thu, 20 Apr 2023 12:53 EDT</td>\n",
       "      <td>(2023, 4, 20, 16, 53, 0, 3, 110, 0)</td>\n",
       "      <td>{'href': 'http://www.nasa.gov/rss/dyn/onthesta...</td>\n",
       "    </tr>\n",
       "    <tr>\n",
       "      <th>4</th>\n",
       "      <td>Space Station Science Highlights: Week of Apri...</td>\n",
       "      <td>{'type': 'text/plain', 'language': 'en', 'base...</td>\n",
       "      <td>[{'rel': 'alternate', 'type': 'text/html', 'hr...</td>\n",
       "      <td>http://www.nasa.gov/mission_pages/station/rese...</td>\n",
       "      <td>Crew members aboard the International Space St...</td>\n",
       "      <td>{'type': 'text/html', 'language': 'en', 'base'...</td>\n",
       "      <td>http://www.nasa.gov/mission_pages/station/rese...</td>\n",
       "      <td>False</td>\n",
       "      <td>Fri, 14 Apr 2023 14:30 EDT</td>\n",
       "      <td>(2023, 4, 14, 18, 30, 0, 4, 104, 0)</td>\n",
       "      <td>{'href': 'http://www.nasa.gov/rss/dyn/onthesta...</td>\n",
       "    </tr>\n",
       "    <tr>\n",
       "      <th>5</th>\n",
       "      <td>NASA, SpaceX's 27th Resupply Mission Returns S...</td>\n",
       "      <td>{'type': 'text/plain', 'language': 'en', 'base...</td>\n",
       "      <td>[{'rel': 'alternate', 'type': 'text/html', 'hr...</td>\n",
       "      <td>http://www.nasa.gov/mission_pages/station/rese...</td>\n",
       "      <td>Samples from NASA studies are returning from t...</td>\n",
       "      <td>{'type': 'text/html', 'language': 'en', 'base'...</td>\n",
       "      <td>http://www.nasa.gov/mission_pages/station/rese...</td>\n",
       "      <td>False</td>\n",
       "      <td>Thu, 13 Apr 2023 11:00 EDT</td>\n",
       "      <td>(2023, 4, 13, 15, 0, 0, 3, 103, 0)</td>\n",
       "      <td>{'href': 'http://www.nasa.gov/rss/dyn/onthesta...</td>\n",
       "    </tr>\n",
       "    <tr>\n",
       "      <th>6</th>\n",
       "      <td>Space Station Science Highlights: Week of Apri...</td>\n",
       "      <td>{'type': 'text/plain', 'language': 'en', 'base...</td>\n",
       "      <td>[{'rel': 'alternate', 'type': 'text/html', 'hr...</td>\n",
       "      <td>http://www.nasa.gov/mission_pages/station/rese...</td>\n",
       "      <td>Crew members aboard the International Space St...</td>\n",
       "      <td>{'type': 'text/html', 'language': 'en', 'base'...</td>\n",
       "      <td>http://www.nasa.gov/mission_pages/station/rese...</td>\n",
       "      <td>False</td>\n",
       "      <td>Fri, 07 Apr 2023 12:00 EDT</td>\n",
       "      <td>(2023, 4, 7, 16, 0, 0, 4, 97, 0)</td>\n",
       "      <td>{'href': 'http://www.nasa.gov/rss/dyn/onthesta...</td>\n",
       "    </tr>\n",
       "    <tr>\n",
       "      <th>7</th>\n",
       "      <td>Space Station Science Highlights: Week of Marc...</td>\n",
       "      <td>{'type': 'text/plain', 'language': 'en', 'base...</td>\n",
       "      <td>[{'rel': 'alternate', 'type': 'text/html', 'hr...</td>\n",
       "      <td>http://www.nasa.gov/mission_pages/station/rese...</td>\n",
       "      <td>Crew members aboard the International Space St...</td>\n",
       "      <td>{'type': 'text/html', 'language': 'en', 'base'...</td>\n",
       "      <td>http://www.nasa.gov/mission_pages/station/rese...</td>\n",
       "      <td>False</td>\n",
       "      <td>Fri, 31 Mar 2023 10:40 EDT</td>\n",
       "      <td>(2023, 3, 31, 14, 40, 0, 4, 90, 0)</td>\n",
       "      <td>{'href': 'http://www.nasa.gov/rss/dyn/onthesta...</td>\n",
       "    </tr>\n",
       "    <tr>\n",
       "      <th>8</th>\n",
       "      <td>Celebrating Women’s History Month: Female Spac...</td>\n",
       "      <td>{'type': 'text/plain', 'language': 'en', 'base...</td>\n",
       "      <td>[{'rel': 'alternate', 'type': 'text/html', 'hr...</td>\n",
       "      <td>http://www.nasa.gov/mission_pages/station/rese...</td>\n",
       "      <td>For Women’s History Month, NASA and the Intern...</td>\n",
       "      <td>{'type': 'text/html', 'language': 'en', 'base'...</td>\n",
       "      <td>http://www.nasa.gov/mission_pages/station/rese...</td>\n",
       "      <td>False</td>\n",
       "      <td>Tue, 28 Mar 2023 11:00 EDT</td>\n",
       "      <td>(2023, 3, 28, 15, 0, 0, 1, 87, 0)</td>\n",
       "      <td>{'href': 'http://www.nasa.gov/rss/dyn/onthesta...</td>\n",
       "    </tr>\n",
       "    <tr>\n",
       "      <th>9</th>\n",
       "      <td>Space Station Science Highlights: Week of Marc...</td>\n",
       "      <td>{'type': 'text/plain', 'language': 'en', 'base...</td>\n",
       "      <td>[{'rel': 'alternate', 'type': 'text/html', 'hr...</td>\n",
       "      <td>http://www.nasa.gov/mission_pages/station/rese...</td>\n",
       "      <td>Crew members aboard the International Space St...</td>\n",
       "      <td>{'type': 'text/html', 'language': 'en', 'base'...</td>\n",
       "      <td>http://www.nasa.gov/mission_pages/station/rese...</td>\n",
       "      <td>False</td>\n",
       "      <td>Fri, 24 Mar 2023 14:00 EDT</td>\n",
       "      <td>(2023, 3, 24, 18, 0, 0, 4, 83, 0)</td>\n",
       "      <td>{'href': 'http://www.nasa.gov/rss/dyn/onthesta...</td>\n",
       "    </tr>\n",
       "  </tbody>\n",
       "</table>\n",
       "</div>"
      ],
      "text/plain": [
       "                                               title   \n",
       "0  Space Station Science Highlights: Week of Apri...  \\\n",
       "1  Space Station Science Highlights: Week of Apri...   \n",
       "2  Space Station Studies Help Monitor Climate Change   \n",
       "3  NASA Teams Persevere Through Plant Challenges ...   \n",
       "4  Space Station Science Highlights: Week of Apri...   \n",
       "5  NASA, SpaceX's 27th Resupply Mission Returns S...   \n",
       "6  Space Station Science Highlights: Week of Apri...   \n",
       "7  Space Station Science Highlights: Week of Marc...   \n",
       "8  Celebrating Women’s History Month: Female Spac...   \n",
       "9  Space Station Science Highlights: Week of Marc...   \n",
       "\n",
       "                                        title_detail   \n",
       "0  {'type': 'text/plain', 'language': 'en', 'base...  \\\n",
       "1  {'type': 'text/plain', 'language': 'en', 'base...   \n",
       "2  {'type': 'text/plain', 'language': 'en', 'base...   \n",
       "3  {'type': 'text/plain', 'language': 'en', 'base...   \n",
       "4  {'type': 'text/plain', 'language': 'en', 'base...   \n",
       "5  {'type': 'text/plain', 'language': 'en', 'base...   \n",
       "6  {'type': 'text/plain', 'language': 'en', 'base...   \n",
       "7  {'type': 'text/plain', 'language': 'en', 'base...   \n",
       "8  {'type': 'text/plain', 'language': 'en', 'base...   \n",
       "9  {'type': 'text/plain', 'language': 'en', 'base...   \n",
       "\n",
       "                                               links   \n",
       "0  [{'rel': 'alternate', 'type': 'text/html', 'hr...  \\\n",
       "1  [{'rel': 'alternate', 'type': 'text/html', 'hr...   \n",
       "2  [{'rel': 'alternate', 'type': 'text/html', 'hr...   \n",
       "3  [{'rel': 'alternate', 'type': 'text/html', 'hr...   \n",
       "4  [{'rel': 'alternate', 'type': 'text/html', 'hr...   \n",
       "5  [{'rel': 'alternate', 'type': 'text/html', 'hr...   \n",
       "6  [{'rel': 'alternate', 'type': 'text/html', 'hr...   \n",
       "7  [{'rel': 'alternate', 'type': 'text/html', 'hr...   \n",
       "8  [{'rel': 'alternate', 'type': 'text/html', 'hr...   \n",
       "9  [{'rel': 'alternate', 'type': 'text/html', 'hr...   \n",
       "\n",
       "                                                link   \n",
       "0  http://www.nasa.gov/mission_pages/station/rese...  \\\n",
       "1  http://www.nasa.gov/mission_pages/station/rese...   \n",
       "2  http://www.nasa.gov/mission_pages/station/rese...   \n",
       "3  http://www.nasa.gov/feature/nasa-teams-perseve...   \n",
       "4  http://www.nasa.gov/mission_pages/station/rese...   \n",
       "5  http://www.nasa.gov/mission_pages/station/rese...   \n",
       "6  http://www.nasa.gov/mission_pages/station/rese...   \n",
       "7  http://www.nasa.gov/mission_pages/station/rese...   \n",
       "8  http://www.nasa.gov/mission_pages/station/rese...   \n",
       "9  http://www.nasa.gov/mission_pages/station/rese...   \n",
       "\n",
       "                                             summary   \n",
       "0  Crew members aboard the International Space St...  \\\n",
       "1  Crew members aboard the International Space St...   \n",
       "2  On Earth Day, people focus on the well-being o...   \n",
       "3  Dr. Gioia Massa, life sciences project scienti...   \n",
       "4  Crew members aboard the International Space St...   \n",
       "5  Samples from NASA studies are returning from t...   \n",
       "6  Crew members aboard the International Space St...   \n",
       "7  Crew members aboard the International Space St...   \n",
       "8  For Women’s History Month, NASA and the Intern...   \n",
       "9  Crew members aboard the International Space St...   \n",
       "\n",
       "                                      summary_detail   \n",
       "0  {'type': 'text/html', 'language': 'en', 'base'...  \\\n",
       "1  {'type': 'text/html', 'language': 'en', 'base'...   \n",
       "2  {'type': 'text/html', 'language': 'en', 'base'...   \n",
       "3  {'type': 'text/html', 'language': 'en', 'base'...   \n",
       "4  {'type': 'text/html', 'language': 'en', 'base'...   \n",
       "5  {'type': 'text/html', 'language': 'en', 'base'...   \n",
       "6  {'type': 'text/html', 'language': 'en', 'base'...   \n",
       "7  {'type': 'text/html', 'language': 'en', 'base'...   \n",
       "8  {'type': 'text/html', 'language': 'en', 'base'...   \n",
       "9  {'type': 'text/html', 'language': 'en', 'base'...   \n",
       "\n",
       "                                                  id  guidislink   \n",
       "0  http://www.nasa.gov/mission_pages/station/rese...       False  \\\n",
       "1  http://www.nasa.gov/mission_pages/station/rese...       False   \n",
       "2  http://www.nasa.gov/mission_pages/station/rese...       False   \n",
       "3  http://www.nasa.gov/feature/nasa-teams-perseve...       False   \n",
       "4  http://www.nasa.gov/mission_pages/station/rese...       False   \n",
       "5  http://www.nasa.gov/mission_pages/station/rese...       False   \n",
       "6  http://www.nasa.gov/mission_pages/station/rese...       False   \n",
       "7  http://www.nasa.gov/mission_pages/station/rese...       False   \n",
       "8  http://www.nasa.gov/mission_pages/station/rese...       False   \n",
       "9  http://www.nasa.gov/mission_pages/station/rese...       False   \n",
       "\n",
       "                    published                     published_parsed   \n",
       "0  Fri, 28 Apr 2023 14:00 EDT   (2023, 4, 28, 18, 0, 0, 4, 118, 0)  \\\n",
       "1  Fri, 21 Apr 2023 13:00 EDT   (2023, 4, 21, 17, 0, 0, 4, 111, 0)   \n",
       "2  Fri, 21 Apr 2023 09:00 EDT   (2023, 4, 21, 13, 0, 0, 4, 111, 0)   \n",
       "3  Thu, 20 Apr 2023 12:53 EDT  (2023, 4, 20, 16, 53, 0, 3, 110, 0)   \n",
       "4  Fri, 14 Apr 2023 14:30 EDT  (2023, 4, 14, 18, 30, 0, 4, 104, 0)   \n",
       "5  Thu, 13 Apr 2023 11:00 EDT   (2023, 4, 13, 15, 0, 0, 3, 103, 0)   \n",
       "6  Fri, 07 Apr 2023 12:00 EDT     (2023, 4, 7, 16, 0, 0, 4, 97, 0)   \n",
       "7  Fri, 31 Mar 2023 10:40 EDT   (2023, 3, 31, 14, 40, 0, 4, 90, 0)   \n",
       "8  Tue, 28 Mar 2023 11:00 EDT    (2023, 3, 28, 15, 0, 0, 1, 87, 0)   \n",
       "9  Fri, 24 Mar 2023 14:00 EDT    (2023, 3, 24, 18, 0, 0, 4, 83, 0)   \n",
       "\n",
       "                                              source  \n",
       "0  {'href': 'http://www.nasa.gov/rss/dyn/onthesta...  \n",
       "1  {'href': 'http://www.nasa.gov/rss/dyn/onthesta...  \n",
       "2  {'href': 'http://www.nasa.gov/rss/dyn/onthesta...  \n",
       "3  {'href': 'http://www.nasa.gov/rss/dyn/onthesta...  \n",
       "4  {'href': 'http://www.nasa.gov/rss/dyn/onthesta...  \n",
       "5  {'href': 'http://www.nasa.gov/rss/dyn/onthesta...  \n",
       "6  {'href': 'http://www.nasa.gov/rss/dyn/onthesta...  \n",
       "7  {'href': 'http://www.nasa.gov/rss/dyn/onthesta...  \n",
       "8  {'href': 'http://www.nasa.gov/rss/dyn/onthesta...  \n",
       "9  {'href': 'http://www.nasa.gov/rss/dyn/onthesta...  "
      ]
     },
     "execution_count": 56,
     "metadata": {},
     "output_type": "execute_result"
    }
   ],
   "source": [
    "dfnasa"
   ]
  },
  {
   "cell_type": "markdown",
   "metadata": {},
   "source": [
    "### 10. Count the number of entries per author and sort them in descending order."
   ]
  },
  {
   "cell_type": "code",
   "execution_count": 65,
   "metadata": {},
   "outputs": [
    {
     "data": {
      "text/plain": [
       "title\n",
       "Space Station Science Highlights: Week of April 24, 2023                  1\n",
       "Space Station Science Highlights: Week of April 17, 2023                  1\n",
       "Space Station Studies Help Monitor Climate Change                         1\n",
       "NASA Teams Persevere Through Plant Challenges in Space                    1\n",
       "Space Station Science Highlights: Week of April 10, 2023                  1\n",
       "NASA, SpaceX's 27th Resupply Mission Returns Science Samples for Study    1\n",
       "Space Station Science Highlights: Week of April 3, 2023                   1\n",
       "Space Station Science Highlights: Week of March 27, 2023                  1\n",
       "Celebrating Women’s History Month: Female Space Station Crew Members      1\n",
       "Space Station Science Highlights: Week of March 20, 2023                  1\n",
       "Name: count, dtype: int64"
      ]
     },
     "execution_count": 65,
     "metadata": {},
     "output_type": "execute_result"
    }
   ],
   "source": [
    "### el url que utilice no tiene esos valores asi que usare otra columna\n",
    "\n",
    "dfnasa['title'].value_counts().sort_values(ascending=False)\n",
    "\n",
    "\n",
    "\n"
   ]
  },
  {
   "cell_type": "markdown",
   "metadata": {},
   "source": [
    "### 11. Add a new column to the data frame that contains the length (number of characters) of each entry title. Return a data frame that contains the title, author, and title length of each entry in descending order (longest title length at the top)."
   ]
  },
  {
   "cell_type": "code",
   "execution_count": 63,
   "metadata": {},
   "outputs": [
    {
     "name": "stdout",
     "output_type": "stream",
     "text": [
      "                                               title   \n",
      "0  Space Station Science Highlights: Week of Apri...  \\\n",
      "1  Space Station Science Highlights: Week of Apri...   \n",
      "2  Space Station Studies Help Monitor Climate Change   \n",
      "3  NASA Teams Persevere Through Plant Challenges ...   \n",
      "4  Space Station Science Highlights: Week of Apri...   \n",
      "5  NASA, SpaceX's 27th Resupply Mission Returns S...   \n",
      "6  Space Station Science Highlights: Week of Apri...   \n",
      "7  Space Station Science Highlights: Week of Marc...   \n",
      "8  Celebrating Women’s History Month: Female Spac...   \n",
      "9  Space Station Science Highlights: Week of Marc...   \n",
      "\n",
      "                                        title_detail   \n",
      "0  {'type': 'text/plain', 'language': 'en', 'base...  \\\n",
      "1  {'type': 'text/plain', 'language': 'en', 'base...   \n",
      "2  {'type': 'text/plain', 'language': 'en', 'base...   \n",
      "3  {'type': 'text/plain', 'language': 'en', 'base...   \n",
      "4  {'type': 'text/plain', 'language': 'en', 'base...   \n",
      "5  {'type': 'text/plain', 'language': 'en', 'base...   \n",
      "6  {'type': 'text/plain', 'language': 'en', 'base...   \n",
      "7  {'type': 'text/plain', 'language': 'en', 'base...   \n",
      "8  {'type': 'text/plain', 'language': 'en', 'base...   \n",
      "9  {'type': 'text/plain', 'language': 'en', 'base...   \n",
      "\n",
      "                                               links   \n",
      "0  [{'rel': 'alternate', 'type': 'text/html', 'hr...  \\\n",
      "1  [{'rel': 'alternate', 'type': 'text/html', 'hr...   \n",
      "2  [{'rel': 'alternate', 'type': 'text/html', 'hr...   \n",
      "3  [{'rel': 'alternate', 'type': 'text/html', 'hr...   \n",
      "4  [{'rel': 'alternate', 'type': 'text/html', 'hr...   \n",
      "5  [{'rel': 'alternate', 'type': 'text/html', 'hr...   \n",
      "6  [{'rel': 'alternate', 'type': 'text/html', 'hr...   \n",
      "7  [{'rel': 'alternate', 'type': 'text/html', 'hr...   \n",
      "8  [{'rel': 'alternate', 'type': 'text/html', 'hr...   \n",
      "9  [{'rel': 'alternate', 'type': 'text/html', 'hr...   \n",
      "\n",
      "                                                link   \n",
      "0  http://www.nasa.gov/mission_pages/station/rese...  \\\n",
      "1  http://www.nasa.gov/mission_pages/station/rese...   \n",
      "2  http://www.nasa.gov/mission_pages/station/rese...   \n",
      "3  http://www.nasa.gov/feature/nasa-teams-perseve...   \n",
      "4  http://www.nasa.gov/mission_pages/station/rese...   \n",
      "5  http://www.nasa.gov/mission_pages/station/rese...   \n",
      "6  http://www.nasa.gov/mission_pages/station/rese...   \n",
      "7  http://www.nasa.gov/mission_pages/station/rese...   \n",
      "8  http://www.nasa.gov/mission_pages/station/rese...   \n",
      "9  http://www.nasa.gov/mission_pages/station/rese...   \n",
      "\n",
      "                                             summary   \n",
      "0  Crew members aboard the International Space St...  \\\n",
      "1  Crew members aboard the International Space St...   \n",
      "2  On Earth Day, people focus on the well-being o...   \n",
      "3  Dr. Gioia Massa, life sciences project scienti...   \n",
      "4  Crew members aboard the International Space St...   \n",
      "5  Samples from NASA studies are returning from t...   \n",
      "6  Crew members aboard the International Space St...   \n",
      "7  Crew members aboard the International Space St...   \n",
      "8  For Women’s History Month, NASA and the Intern...   \n",
      "9  Crew members aboard the International Space St...   \n",
      "\n",
      "                                      summary_detail   \n",
      "0  {'type': 'text/html', 'language': 'en', 'base'...  \\\n",
      "1  {'type': 'text/html', 'language': 'en', 'base'...   \n",
      "2  {'type': 'text/html', 'language': 'en', 'base'...   \n",
      "3  {'type': 'text/html', 'language': 'en', 'base'...   \n",
      "4  {'type': 'text/html', 'language': 'en', 'base'...   \n",
      "5  {'type': 'text/html', 'language': 'en', 'base'...   \n",
      "6  {'type': 'text/html', 'language': 'en', 'base'...   \n",
      "7  {'type': 'text/html', 'language': 'en', 'base'...   \n",
      "8  {'type': 'text/html', 'language': 'en', 'base'...   \n",
      "9  {'type': 'text/html', 'language': 'en', 'base'...   \n",
      "\n",
      "                                                  id  guidislink   \n",
      "0  http://www.nasa.gov/mission_pages/station/rese...       False  \\\n",
      "1  http://www.nasa.gov/mission_pages/station/rese...       False   \n",
      "2  http://www.nasa.gov/mission_pages/station/rese...       False   \n",
      "3  http://www.nasa.gov/feature/nasa-teams-perseve...       False   \n",
      "4  http://www.nasa.gov/mission_pages/station/rese...       False   \n",
      "5  http://www.nasa.gov/mission_pages/station/rese...       False   \n",
      "6  http://www.nasa.gov/mission_pages/station/rese...       False   \n",
      "7  http://www.nasa.gov/mission_pages/station/rese...       False   \n",
      "8  http://www.nasa.gov/mission_pages/station/rese...       False   \n",
      "9  http://www.nasa.gov/mission_pages/station/rese...       False   \n",
      "\n",
      "                    published                     published_parsed   \n",
      "0  Fri, 28 Apr 2023 14:00 EDT   (2023, 4, 28, 18, 0, 0, 4, 118, 0)  \\\n",
      "1  Fri, 21 Apr 2023 13:00 EDT   (2023, 4, 21, 17, 0, 0, 4, 111, 0)   \n",
      "2  Fri, 21 Apr 2023 09:00 EDT   (2023, 4, 21, 13, 0, 0, 4, 111, 0)   \n",
      "3  Thu, 20 Apr 2023 12:53 EDT  (2023, 4, 20, 16, 53, 0, 3, 110, 0)   \n",
      "4  Fri, 14 Apr 2023 14:30 EDT  (2023, 4, 14, 18, 30, 0, 4, 104, 0)   \n",
      "5  Thu, 13 Apr 2023 11:00 EDT   (2023, 4, 13, 15, 0, 0, 3, 103, 0)   \n",
      "6  Fri, 07 Apr 2023 12:00 EDT     (2023, 4, 7, 16, 0, 0, 4, 97, 0)   \n",
      "7  Fri, 31 Mar 2023 10:40 EDT   (2023, 3, 31, 14, 40, 0, 4, 90, 0)   \n",
      "8  Tue, 28 Mar 2023 11:00 EDT    (2023, 3, 28, 15, 0, 0, 1, 87, 0)   \n",
      "9  Fri, 24 Mar 2023 14:00 EDT    (2023, 3, 24, 18, 0, 0, 4, 83, 0)   \n",
      "\n",
      "                                              source  title_length  \n",
      "0  {'href': 'http://www.nasa.gov/rss/dyn/onthesta...            56  \n",
      "1  {'href': 'http://www.nasa.gov/rss/dyn/onthesta...            56  \n",
      "2  {'href': 'http://www.nasa.gov/rss/dyn/onthesta...            49  \n",
      "3  {'href': 'http://www.nasa.gov/rss/dyn/onthesta...            54  \n",
      "4  {'href': 'http://www.nasa.gov/rss/dyn/onthesta...            56  \n",
      "5  {'href': 'http://www.nasa.gov/rss/dyn/onthesta...            70  \n",
      "6  {'href': 'http://www.nasa.gov/rss/dyn/onthesta...            55  \n",
      "7  {'href': 'http://www.nasa.gov/rss/dyn/onthesta...            56  \n",
      "8  {'href': 'http://www.nasa.gov/rss/dyn/onthesta...            68  \n",
      "9  {'href': 'http://www.nasa.gov/rss/dyn/onthesta...            56  \n"
     ]
    }
   ],
   "source": [
    "dfnasa['title_length'] = dfnasa['title'].apply(lambda x: len(x))\n",
    "\n",
    "print(dfnasa)\n"
   ]
  },
  {
   "cell_type": "markdown",
   "metadata": {},
   "source": [
    "### 12. Create a list of entry titles whose summary includes the phrase \"machine learning.\""
   ]
  },
  {
   "cell_type": "code",
   "execution_count": 68,
   "metadata": {},
   "outputs": [
    {
     "name": "stdout",
     "output_type": "stream",
     "text": [
      "[]\n"
     ]
    }
   ],
   "source": [
    "titles = []\n",
    "for index, row in dfnasa.iterrows():\n",
    "    if 'machine learning' in row['title_detail']:\n",
    "        titles.append(row['title'])\n",
    "\n",
    "print(titles)"
   ]
  },
  {
   "cell_type": "code",
   "execution_count": null,
   "metadata": {},
   "outputs": [],
   "source": [
    "#### me sale que no hay, seguro es por el url que use"
   ]
  }
 ],
 "metadata": {
  "kernelspec": {
   "display_name": "Python 3 (ipykernel)",
   "language": "python",
   "name": "python3"
  },
  "language_info": {
   "codemirror_mode": {
    "name": "ipython",
    "version": 3
   },
   "file_extension": ".py",
   "mimetype": "text/x-python",
   "name": "python",
   "nbconvert_exporter": "python",
   "pygments_lexer": "ipython3",
   "version": "3.10.7"
  }
 },
 "nbformat": 4,
 "nbformat_minor": 2
}
