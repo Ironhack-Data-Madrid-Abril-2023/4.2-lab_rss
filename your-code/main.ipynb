{
 "cells": [
  {
   "cell_type": "markdown",
   "metadata": {},
   "source": [
    "# Working with RSS Feeds Lab\n",
    "\n",
    "Complete the following set of exercises to solidify your knowledge of parsing RSS feeds and extracting information from them."
   ]
  },
  {
   "cell_type": "code",
   "execution_count": 4,
   "metadata": {},
   "outputs": [
    {
     "name": "stdout",
     "output_type": "stream",
     "text": [
      "Collecting feedparser\n",
      "  Downloading feedparser-6.0.10-py3-none-any.whl (81 kB)\n",
      "     ---------------------------------------- 81.1/81.1 kB 4.7 MB/s eta 0:00:00\n",
      "Collecting sgmllib3k\n",
      "  Downloading sgmllib3k-1.0.0.tar.gz (5.8 kB)\n",
      "  Preparing metadata (setup.py): started\n",
      "  Preparing metadata (setup.py): finished with status 'done'\n",
      "Building wheels for collected packages: sgmllib3k\n",
      "  Building wheel for sgmllib3k (setup.py): started\n",
      "  Building wheel for sgmllib3k (setup.py): finished with status 'done'\n",
      "  Created wheel for sgmllib3k: filename=sgmllib3k-1.0.0-py3-none-any.whl size=6048 sha256=bc50346d9aec95c36813f3787ad52bffd49fca1baf2ad0cdcea57542a16e7ee2\n",
      "  Stored in directory: c:\\users\\gamm\\appdata\\local\\pip\\cache\\wheels\\65\\7a\\a7\\78c287f64e401255dff4c13fdbc672fed5efbfd21c530114e1\n",
      "Successfully built sgmllib3k\n",
      "Installing collected packages: sgmllib3k, feedparser\n",
      "Successfully installed feedparser-6.0.10 sgmllib3k-1.0.0\n",
      "Note: you may need to restart the kernel to use updated packages.\n"
     ]
    }
   ],
   "source": [
    "pip install feedparser"
   ]
  },
  {
   "cell_type": "code",
   "execution_count": 5,
   "metadata": {},
   "outputs": [],
   "source": [
    "import feedparser"
   ]
  },
  {
   "cell_type": "markdown",
   "metadata": {},
   "source": [
    "### 1. Use feedparser to parse the following RSS feed URL."
   ]
  },
  {
   "cell_type": "code",
   "execution_count": 7,
   "metadata": {},
   "outputs": [],
   "source": [
    "url = \"https://www.nasa.gov/rss/dyn/earth.rss\""
   ]
  },
  {
   "cell_type": "code",
   "execution_count": 9,
   "metadata": {},
   "outputs": [
    {
     "data": {
      "text/plain": [
       "{'bozo': False,\n",
       " 'entries': [{'title': 'NASA Experts Available for Interviews About Sea and Sky Campaign',\n",
       "   'title_detail': {'type': 'text/plain',\n",
       "    'language': 'en',\n",
       "    'base': 'http://www.nasa.gov/',\n",
       "    'value': 'NASA Experts Available for Interviews About Sea and Sky Campaign'},\n",
       "   'links': [{'rel': 'alternate',\n",
       "     'type': 'text/html',\n",
       "     'href': 'http://www.nasa.gov/press-release/nasa-experts-available-for-interviews-about-sea-and-sky-campaign'},\n",
       "    {'length': '1512632',\n",
       "     'type': 'image/jpeg',\n",
       "     'href': 'http://www.nasa.gov/sites/default/files/styles/1x1_cardfeed/public/thumbnails/image/sallyride_mlf-recovery.jpeg?itok=NwU3oF0l',\n",
       "     'rel': 'enclosure'}],\n",
       "   'link': 'http://www.nasa.gov/press-release/nasa-experts-available-for-interviews-about-sea-and-sky-campaign',\n",
       "   'summary': 'This spring, NASA’s S-MODE (Sub-Mesoscale Ocean Dynamics Experiment) began conducting its final plane, ship, and ocean glider campaign to better understand the ocean’s impact on Earth’s climate.',\n",
       "   'summary_detail': {'type': 'text/html',\n",
       "    'language': 'en',\n",
       "    'base': 'http://www.nasa.gov/',\n",
       "    'value': 'This spring, NASA’s S-MODE (Sub-Mesoscale Ocean Dynamics Experiment) began conducting its final plane, ship, and ocean glider campaign to better understand the ocean’s impact on Earth’s climate.'},\n",
       "   'id': 'http://www.nasa.gov/press-release/nasa-experts-available-for-interviews-about-sea-and-sky-campaign',\n",
       "   'guidislink': False,\n",
       "   'published': 'Wed, 26 Apr 2023 14:09 EDT',\n",
       "   'published_parsed': time.struct_time(tm_year=2023, tm_mon=4, tm_mday=26, tm_hour=18, tm_min=9, tm_sec=0, tm_wday=2, tm_yday=116, tm_isdst=0),\n",
       "   'source': {'href': 'http://www.nasa.gov/rss/dyn/earth.rss',\n",
       "    'title': 'Earth News'}},\n",
       "  {'title': 'NASA, Rocket Lab Set Coverage for Tropical Cyclones Mission',\n",
       "   'title_detail': {'type': 'text/plain',\n",
       "    'language': 'en',\n",
       "    'base': 'http://www.nasa.gov/',\n",
       "    'value': 'NASA, Rocket Lab Set Coverage for Tropical Cyclones Mission'},\n",
       "   'links': [{'rel': 'alternate',\n",
       "     'type': 'text/html',\n",
       "     'href': 'http://www.nasa.gov/press-release/nasa-rocket-lab-set-coverage-for-tropical-cyclones-mission'},\n",
       "    {'length': '3271623',\n",
       "     'type': 'image/jpeg',\n",
       "     'href': 'http://www.nasa.gov/sites/default/files/styles/1x1_cardfeed/public/thumbnails/image/hurricaneian_tmo_2022270_lrg_0.jpg?itok=-kh71f89',\n",
       "     'rel': 'enclosure'}],\n",
       "   'link': 'http://www.nasa.gov/press-release/nasa-rocket-lab-set-coverage-for-tropical-cyclones-mission',\n",
       "   'summary': 'NASA and Rocket Lab are targeting 9 p.m. EDT, Sunday, April 30 (1 p.m. New Zealand Standard Time, Monday, May 1), to launch two storm tracking CubeSats into orbit.',\n",
       "   'summary_detail': {'type': 'text/html',\n",
       "    'language': 'en',\n",
       "    'base': 'http://www.nasa.gov/',\n",
       "    'value': 'NASA and Rocket Lab are targeting 9 p.m. EDT, Sunday, April 30 (1 p.m. New Zealand Standard Time, Monday, May 1), to launch two storm tracking CubeSats into orbit.'},\n",
       "   'id': 'http://www.nasa.gov/press-release/nasa-rocket-lab-set-coverage-for-tropical-cyclones-mission',\n",
       "   'guidislink': False,\n",
       "   'published': 'Mon, 24 Apr 2023 15:18 EDT',\n",
       "   'published_parsed': time.struct_time(tm_year=2023, tm_mon=4, tm_mday=24, tm_hour=19, tm_min=18, tm_sec=0, tm_wday=0, tm_yday=114, tm_isdst=0),\n",
       "   'source': {'href': 'http://www.nasa.gov/rss/dyn/earth.rss',\n",
       "    'title': 'Earth News'}},\n",
       "  {'title': 'NASA’s High-Resolution Air Quality Control Instrument Launches',\n",
       "   'title_detail': {'type': 'text/plain',\n",
       "    'language': 'en',\n",
       "    'base': 'http://www.nasa.gov/',\n",
       "    'value': 'NASA’s High-Resolution Air Quality Control Instrument Launches'},\n",
       "   'links': [{'rel': 'alternate',\n",
       "     'type': 'text/html',\n",
       "     'href': 'http://www.nasa.gov/press-release/nasa-s-high-resolution-air-quality-control-instrument-launches'},\n",
       "    {'length': '279751',\n",
       "     'type': 'image/png',\n",
       "     'href': 'http://www.nasa.gov/sites/default/files/styles/1x1_cardfeed/public/thumbnails/image/screenshot_2023-04-07_005857.png?itok=YKXX7xWx',\n",
       "     'rel': 'enclosure'}],\n",
       "   'link': 'http://www.nasa.gov/press-release/nasa-s-high-resolution-air-quality-control-instrument-launches',\n",
       "   'summary': 'A NASA instrument to provide unprecedented resolution of monitoring major air pollutants – down to four square miles – lifted off on its way to geostationary orbit at 12:30 a.m. EDT Friday.',\n",
       "   'summary_detail': {'type': 'text/html',\n",
       "    'language': 'en',\n",
       "    'base': 'http://www.nasa.gov/',\n",
       "    'value': 'A NASA instrument to provide unprecedented resolution of monitoring major air pollutants – down to four square miles – lifted off on its way to geostationary orbit at 12:30 a.m. EDT Friday.'},\n",
       "   'id': 'http://www.nasa.gov/press-release/nasa-s-high-resolution-air-quality-control-instrument-launches',\n",
       "   'guidislink': False,\n",
       "   'published': 'Fri, 07 Apr 2023 00:30 EDT',\n",
       "   'published_parsed': time.struct_time(tm_year=2023, tm_mon=4, tm_mday=7, tm_hour=4, tm_min=30, tm_sec=0, tm_wday=4, tm_yday=97, tm_isdst=0),\n",
       "   'source': {'href': 'http://www.nasa.gov/rss/dyn/earth.rss',\n",
       "    'title': 'Earth News'}},\n",
       "  {'title': 'NASA Sets Coverage for Air Quality Instrument Launch',\n",
       "   'title_detail': {'type': 'text/plain',\n",
       "    'language': 'en',\n",
       "    'base': 'http://www.nasa.gov/',\n",
       "    'value': 'NASA Sets Coverage for Air Quality Instrument Launch'},\n",
       "   'links': [{'rel': 'alternate',\n",
       "     'type': 'text/html',\n",
       "     'href': 'http://www.nasa.gov/press-release/nasa-sets-coverage-for-air-quality-instrument-launch'},\n",
       "    {'length': '3972734',\n",
       "     'type': 'image/jpeg',\n",
       "     'href': 'http://www.nasa.gov/sites/default/files/styles/1x1_cardfeed/public/thumbnails/image/maxar_intelsat_40e.jpeg?itok=RQw17aYC',\n",
       "     'rel': 'enclosure'}],\n",
       "   'link': 'http://www.nasa.gov/press-release/nasa-sets-coverage-for-air-quality-instrument-launch',\n",
       "   'summary': 'NASA and SpaceX are targeting no earlier than 12:30 a.m. EDT Friday, April 7, to launch NASA’s TEMPO (Tropospheric Emissions Monitoring of Pollution instrument). TEMPO is the first space-based instrument to monitor major air pollutants hourly in high spatial resolution – down to four square miles – in a region stretching from the Atlantic to the Pa',\n",
       "   'summary_detail': {'type': 'text/html',\n",
       "    'language': 'en',\n",
       "    'base': 'http://www.nasa.gov/',\n",
       "    'value': 'NASA and SpaceX are targeting no earlier than 12:30 a.m. EDT Friday, April 7, to launch NASA’s TEMPO (Tropospheric Emissions Monitoring of Pollution instrument). TEMPO is the first space-based instrument to monitor major air pollutants hourly in high spatial resolution – down to four square miles – in a region stretching from the Atlantic to the Pa'},\n",
       "   'id': 'http://www.nasa.gov/press-release/nasa-sets-coverage-for-air-quality-instrument-launch',\n",
       "   'guidislink': False,\n",
       "   'published': 'Thu, 06 Apr 2023 08:24 EDT',\n",
       "   'published_parsed': time.struct_time(tm_year=2023, tm_mon=4, tm_mday=6, tm_hour=12, tm_min=24, tm_sec=0, tm_wday=3, tm_yday=96, tm_isdst=0),\n",
       "   'source': {'href': 'http://www.nasa.gov/rss/dyn/earth.rss',\n",
       "    'title': 'Earth News'}},\n",
       "  {'title': 'NASA to Host Media Call on Upcoming Air Quality Satellite Launch',\n",
       "   'title_detail': {'type': 'text/plain',\n",
       "    'language': 'en',\n",
       "    'base': 'http://www.nasa.gov/',\n",
       "    'value': 'NASA to Host Media Call on Upcoming Air Quality Satellite Launch'},\n",
       "   'links': [{'rel': 'alternate',\n",
       "     'type': 'text/html',\n",
       "     'href': 'http://www.nasa.gov/press-release/nasa-to-host-media-call-on-upcoming-air-quality-satellite-launch'},\n",
       "    {'length': '1108738',\n",
       "     'type': 'image/png',\n",
       "     'href': 'http://www.nasa.gov/sites/default/files/styles/1x1_cardfeed/public/thumbnails/image/tempo_intelsat_image.png?itok=fgwRj0SC',\n",
       "     'rel': 'enclosure'}],\n",
       "   'link': 'http://www.nasa.gov/press-release/nasa-to-host-media-call-on-upcoming-air-quality-satellite-launch',\n",
       "   'summary': 'Media are invited to a NASA media teleconference 1 p.m. EDT Wednesday, April 5, to discuss the upcoming launch of the first space-based instrument to observe major air pollutants across North America every hour during the daytime.',\n",
       "   'summary_detail': {'type': 'text/html',\n",
       "    'language': 'en',\n",
       "    'base': 'http://www.nasa.gov/',\n",
       "    'value': 'Media are invited to a NASA media teleconference 1 p.m. EDT Wednesday, April 5, to discuss the upcoming launch of the first space-based instrument to observe major air pollutants across North America every hour during the daytime.'},\n",
       "   'id': 'http://www.nasa.gov/press-release/nasa-to-host-media-call-on-upcoming-air-quality-satellite-launch',\n",
       "   'guidislink': False,\n",
       "   'published': 'Fri, 31 Mar 2023 10:04 EDT',\n",
       "   'published_parsed': time.struct_time(tm_year=2023, tm_mon=3, tm_mday=31, tm_hour=14, tm_min=4, tm_sec=0, tm_wday=4, tm_yday=90, tm_isdst=0),\n",
       "   'source': {'href': 'http://www.nasa.gov/rss/dyn/earth.rss',\n",
       "    'title': 'Earth News'}},\n",
       "  {'title': 'NASA Selects L3Harris to Develop Imager for NOAA Satellite',\n",
       "   'title_detail': {'type': 'text/plain',\n",
       "    'language': 'en',\n",
       "    'base': 'http://www.nasa.gov/',\n",
       "    'value': 'NASA Selects L3Harris to Develop Imager for NOAA Satellite'},\n",
       "   'links': [{'rel': 'alternate',\n",
       "     'type': 'text/html',\n",
       "     'href': 'http://www.nasa.gov/press-release/nasa-selects-l3harris-to-develop-imager-for-noaa-satellite'},\n",
       "    {'length': '3988010',\n",
       "     'type': 'image/jpeg',\n",
       "     'href': 'http://www.nasa.gov/sites/default/files/styles/1x1_cardfeed/public/thumbnails/image/gxi_contract_release.jpg?itok=Bnmp1Z1w',\n",
       "     'rel': 'enclosure'}],\n",
       "   'link': 'http://www.nasa.gov/press-release/nasa-selects-l3harris-to-develop-imager-for-noaa-satellite',\n",
       "   'summary': 'NASA, on behalf of the National Oceanic and Atmospheric Administration (NOAA), has selected L3Harris Technologies Inc. of Fort Wayne, Indiana, to develop the imager for NOAA’s Geostationary Extended Observations (GeoXO) satellite program.',\n",
       "   'summary_detail': {'type': 'text/html',\n",
       "    'language': 'en',\n",
       "    'base': 'http://www.nasa.gov/',\n",
       "    'value': 'NASA, on behalf of the National Oceanic and Atmospheric Administration (NOAA), has selected L3Harris Technologies Inc. of Fort Wayne, Indiana, to develop the imager for NOAA’s Geostationary Extended Observations (GeoXO) satellite program.'},\n",
       "   'id': 'http://www.nasa.gov/press-release/nasa-selects-l3harris-to-develop-imager-for-noaa-satellite',\n",
       "   'guidislink': False,\n",
       "   'published': 'Mon, 13 Mar 2023 14:46 EDT',\n",
       "   'published_parsed': time.struct_time(tm_year=2023, tm_mon=3, tm_mday=13, tm_hour=18, tm_min=46, tm_sec=0, tm_wday=0, tm_yday=72, tm_isdst=0),\n",
       "   'source': {'href': 'http://www.nasa.gov/rss/dyn/earth.rss',\n",
       "    'title': 'Earth News'}},\n",
       "  {'title': 'NASA to Participate in Aerospace Conference, Discuss New Collaboration',\n",
       "   'title_detail': {'type': 'text/plain',\n",
       "    'language': 'en',\n",
       "    'base': 'http://www.nasa.gov/',\n",
       "    'value': 'NASA to Participate in Aerospace Conference, Discuss New Collaboration'},\n",
       "   'links': [{'rel': 'alternate',\n",
       "     'type': 'text/html',\n",
       "     'href': 'http://www.nasa.gov/press-release/nasa-to-participate-in-aerospace-conference-discuss-new-collaboration'},\n",
       "    {'length': '2936895',\n",
       "     'type': 'image/jpeg',\n",
       "     'href': 'http://www.nasa.gov/sites/default/files/styles/1x1_cardfeed/public/thumbnails/image/mars-globe-valles-marineris-enhanced_scitech.jpg?itok=7AedNBla',\n",
       "     'rel': 'enclosure'}],\n",
       "   'link': 'http://www.nasa.gov/press-release/nasa-to-participate-in-aerospace-conference-discuss-new-collaboration',\n",
       "   'summary': 'NASA Administrator Bill Nelson, Deputy Administrator Pam Melroy, Bhavya Lal, associate administrator for Technology, Policy, and Strategy, as well as other agency speakers, will participate in the 2023 American Institute of Aeronautics and Astronautics (AIAA) SciTech Forum from Monday, Jan. 23, to Friday, Jan. 27, in National Harbor, Maryland.',\n",
       "   'summary_detail': {'type': 'text/html',\n",
       "    'language': 'en',\n",
       "    'base': 'http://www.nasa.gov/',\n",
       "    'value': 'NASA Administrator Bill Nelson, Deputy Administrator Pam Melroy, Bhavya Lal, associate administrator for Technology, Policy, and Strategy, as well as other agency speakers, will participate in the 2023 American Institute of Aeronautics and Astronautics (AIAA) SciTech Forum from Monday, Jan. 23, to Friday, Jan. 27, in National Harbor, Maryland.'},\n",
       "   'id': 'http://www.nasa.gov/press-release/nasa-to-participate-in-aerospace-conference-discuss-new-collaboration',\n",
       "   'guidislink': False,\n",
       "   'published': 'Thu, 19 Jan 2023 16:50 EST',\n",
       "   'published_parsed': time.struct_time(tm_year=2023, tm_mon=1, tm_mday=19, tm_hour=21, tm_min=50, tm_sec=0, tm_wday=3, tm_yday=19, tm_isdst=0),\n",
       "   'source': {'href': 'http://www.nasa.gov/rss/dyn/earth.rss',\n",
       "    'title': 'Earth News'}},\n",
       "  {'title': 'La NASA afirma que 2022 es el quinto año más cálido registrado',\n",
       "   'title_detail': {'type': 'text/plain',\n",
       "    'language': 'en',\n",
       "    'base': 'http://www.nasa.gov/',\n",
       "    'value': 'La NASA afirma que 2022 es el quinto año más cálido registrado'},\n",
       "   'links': [{'rel': 'alternate',\n",
       "     'type': 'text/html',\n",
       "     'href': 'http://www.nasa.gov/press-release/2022-quinto-mas-calido-registrado'},\n",
       "    {'length': '1887049',\n",
       "     'type': 'image/png',\n",
       "     'href': 'http://www.nasa.gov/sites/default/files/styles/1x1_cardfeed/public/thumbnails/image/2022_temps_for_release.png?itok=-DzgNn4E',\n",
       "     'rel': 'enclosure'}],\n",
       "   'link': 'http://www.nasa.gov/press-release/2022-quinto-mas-calido-registrado',\n",
       "   'summary': 'La temperatura promedio de la superficie de la Tierra en 2022 empató con 2015 como la quinta más cálida registrada, según un análisis de la NASA. Continuando con la tendencia del calentamiento a largo plazo del planeta, las temperaturas globales en 2022 estuvieron 0,89 grados centígrados (1,6 grados Fahrenheit) por encima del promedio para el perío',\n",
       "   'summary_detail': {'type': 'text/html',\n",
       "    'language': 'en',\n",
       "    'base': 'http://www.nasa.gov/',\n",
       "    'value': 'La temperatura promedio de la superficie de la Tierra en 2022 empató con 2015 como la quinta más cálida registrada, según un análisis de la NASA. Continuando con la tendencia del calentamiento a largo plazo del planeta, las temperaturas globales en 2022 estuvieron 0,89 grados centígrados (1,6 grados Fahrenheit) por encima del promedio para el perío'},\n",
       "   'id': 'http://www.nasa.gov/press-release/2022-quinto-mas-calido-registrado',\n",
       "   'guidislink': False,\n",
       "   'published': 'Thu, 12 Jan 2023 10:35 EST',\n",
       "   'published_parsed': time.struct_time(tm_year=2023, tm_mon=1, tm_mday=12, tm_hour=15, tm_min=35, tm_sec=0, tm_wday=3, tm_yday=12, tm_isdst=0),\n",
       "   'source': {'href': 'http://www.nasa.gov/rss/dyn/earth.rss',\n",
       "    'title': 'Earth News'}},\n",
       "  {'title': 'NASA Says 2022 Fifth Warmest Year on Record, Warming Trend Continues',\n",
       "   'title_detail': {'type': 'text/plain',\n",
       "    'language': 'en',\n",
       "    'base': 'http://www.nasa.gov/',\n",
       "    'value': 'NASA Says 2022 Fifth Warmest Year on Record, Warming Trend Continues'},\n",
       "   'links': [{'rel': 'alternate',\n",
       "     'type': 'text/html',\n",
       "     'href': 'http://www.nasa.gov/press-release/nasa-says-2022-fifth-warmest-year-on-record-warming-trend-continues'},\n",
       "    {'length': '1887049',\n",
       "     'type': 'image/png',\n",
       "     'href': 'http://www.nasa.gov/sites/default/files/styles/1x1_cardfeed/public/thumbnails/image/2022_temps_for_release.png?itok=-DzgNn4E',\n",
       "     'rel': 'enclosure'}],\n",
       "   'link': 'http://www.nasa.gov/press-release/nasa-says-2022-fifth-warmest-year-on-record-warming-trend-continues',\n",
       "   'summary': \"Earth's average surface temperature in 2022 tied with 2015 as the fifth warmest on record, according to an analysis by NASA. Continuing the planet's long-term warming trend, global temperatures in 2022 were 1.6 degrees Fahrenheit (0.89 degrees Celsius) above the average for NASA's baseline period (1951-1980), scientists from NASA's Goddard Institut\",\n",
       "   'summary_detail': {'type': 'text/html',\n",
       "    'language': 'en',\n",
       "    'base': 'http://www.nasa.gov/',\n",
       "    'value': \"Earth's average surface temperature in 2022 tied with 2015 as the fifth warmest on record, according to an analysis by NASA. Continuing the planet's long-term warming trend, global temperatures in 2022 were 1.6 degrees Fahrenheit (0.89 degrees Celsius) above the average for NASA's baseline period (1951-1980), scientists from NASA's Goddard Institut\"},\n",
       "   'id': 'http://www.nasa.gov/press-release/nasa-says-2022-fifth-warmest-year-on-record-warming-trend-continues',\n",
       "   'guidislink': False,\n",
       "   'published': 'Thu, 12 Jan 2023 09:46 EST',\n",
       "   'published_parsed': time.struct_time(tm_year=2023, tm_mon=1, tm_mday=12, tm_hour=14, tm_min=46, tm_sec=0, tm_wday=3, tm_yday=12, tm_isdst=0),\n",
       "   'source': {'href': 'http://www.nasa.gov/rss/dyn/earth.rss',\n",
       "    'title': 'Earth News'}},\n",
       "  {'title': 'NASA, NOAA to Announce 2022 Global Temperatures, Climate Conditions',\n",
       "   'title_detail': {'type': 'text/plain',\n",
       "    'language': 'en',\n",
       "    'base': 'http://www.nasa.gov/',\n",
       "    'value': 'NASA, NOAA to Announce 2022 Global Temperatures, Climate Conditions'},\n",
       "   'links': [{'rel': 'alternate',\n",
       "     'type': 'text/html',\n",
       "     'href': 'http://www.nasa.gov/press-release/nasa-noaa-to-announce-2022-global-temperatures-climate-conditions'},\n",
       "    {'length': '1653132',\n",
       "     'type': 'image/jpeg',\n",
       "     'href': 'http://www.nasa.gov/sites/default/files/styles/1x1_cardfeed/public/thumbnails/image/2021f-temperatureanomalyf.0900.jpg?itok=d3wCuJJm',\n",
       "     'rel': 'enclosure'}],\n",
       "   'link': 'http://www.nasa.gov/press-release/nasa-noaa-to-announce-2022-global-temperatures-climate-conditions',\n",
       "   'summary': 'Climate researchers from NASA and the National Oceanic and Atmospheric Administration (NOAA) will release their annual assessments of global temperatures and discuss the major climate trends of 2022 during a media briefing at 11 a.m. EST Thursday, Jan. 12.',\n",
       "   'summary_detail': {'type': 'text/html',\n",
       "    'language': 'en',\n",
       "    'base': 'http://www.nasa.gov/',\n",
       "    'value': 'Climate researchers from NASA and the National Oceanic and Atmospheric Administration (NOAA) will release their annual assessments of global temperatures and discuss the major climate trends of 2022 during a media briefing at 11 a.m. EST Thursday, Jan. 12.'},\n",
       "   'id': 'http://www.nasa.gov/press-release/nasa-noaa-to-announce-2022-global-temperatures-climate-conditions',\n",
       "   'guidislink': False,\n",
       "   'published': 'Tue, 10 Jan 2023 10:22 EST',\n",
       "   'published_parsed': time.struct_time(tm_year=2023, tm_mon=1, tm_mday=10, tm_hour=15, tm_min=22, tm_sec=0, tm_wday=1, tm_yday=10, tm_isdst=0),\n",
       "   'source': {'href': 'http://www.nasa.gov/rss/dyn/earth.rss',\n",
       "    'title': 'Earth News'}}],\n",
       " 'feed': {'language': 'en-us',\n",
       "  'title': 'Earth News',\n",
       "  'title_detail': {'type': 'text/plain',\n",
       "   'language': 'en',\n",
       "   'base': 'http://www.nasa.gov/',\n",
       "   'value': 'Earth News'},\n",
       "  'subtitle': 'A RSS news feed containing the latest NASA press releases on Earth-observing missions.',\n",
       "  'subtitle_detail': {'type': 'text/html',\n",
       "   'language': 'en',\n",
       "   'base': 'http://www.nasa.gov/',\n",
       "   'value': 'A RSS news feed containing the latest NASA press releases on Earth-observing missions.'},\n",
       "  'links': [{'rel': 'alternate',\n",
       "    'type': 'text/html',\n",
       "    'href': 'http://www.nasa.gov/'},\n",
       "   {'rel': 'self',\n",
       "    'href': 'http://www.nasa.gov/rss/dyn/earth.rss',\n",
       "    'type': 'application/atom+xml'}],\n",
       "  'link': 'http://www.nasa.gov/',\n",
       "  'authors': [{'email': 'jim.wilson@nasa.gov'}],\n",
       "  'author': 'jim.wilson@nasa.gov',\n",
       "  'author_detail': {'email': 'jim.wilson@nasa.gov'},\n",
       "  'publisher': 'brian.dunbar@nasa.gov',\n",
       "  'publisher_detail': {'email': 'brian.dunbar@nasa.gov'},\n",
       "  'docs': 'http://blogs.harvard.edu/tech/rss'},\n",
       " 'headers': {'content-type': 'application/rss+xml; charset=utf-8',\n",
       "  'content-length': '3041',\n",
       "  'connection': 'close',\n",
       "  'cache-control': 'max-age=120, public',\n",
       "  'content-encoding': 'gzip',\n",
       "  'content-language': 'en',\n",
       "  'date': 'Tue, 02 May 2023 12:14:37 GMT',\n",
       "  'server': 'NASA',\n",
       "  'x-content-type-options': 'nosniff',\n",
       "  'x-frame-options': 'SAMEORIGIN',\n",
       "  'x-nginx-cache-status': 'HIT',\n",
       "  'x-xss-protection': '1; mode=block',\n",
       "  'vary': 'Accept-Encoding',\n",
       "  'strict-transport-security': 'max-age=31536000',\n",
       "  'x-cache': 'Hit from cloudfront',\n",
       "  'via': '1.1 65efe8ee2d33c55cbd211682cb533286.cloudfront.net (CloudFront)',\n",
       "  'x-amz-cf-pop': 'MAD56-P2',\n",
       "  'x-amz-cf-id': 'MpYYizObnEt3XFQwBpn00FYv1D1avv6Rzbxc-S_rc19OcrJrVezvPA==',\n",
       "  'age': '7'},\n",
       " 'href': 'https://www.nasa.gov/rss/dyn/earth.rss',\n",
       " 'status': 200,\n",
       " 'encoding': 'utf-8',\n",
       " 'version': 'rss20',\n",
       " 'namespaces': {'': 'http://www.w3.org/2005/Atom',\n",
       "  'dc': 'http://purl.org/dc/elements/1.1/',\n",
       "  'itunes': 'http://www.itunes.com/dtds/podcast-1.0.dtd',\n",
       "  'media': 'http://search.yahoo.com/mrss/'}}"
      ]
     },
     "execution_count": 9,
     "metadata": {},
     "output_type": "execute_result"
    }
   ],
   "source": [
    "nasa = feedparser.parse(url)\n",
    "nasa"
   ]
  },
  {
   "cell_type": "markdown",
   "metadata": {},
   "source": [
    "### 2. Obtain a list of components (keys) that are available for this feed."
   ]
  },
  {
   "cell_type": "code",
   "execution_count": 11,
   "metadata": {},
   "outputs": [
    {
     "data": {
      "text/plain": [
       "dict_keys(['bozo', 'entries', 'feed', 'headers', 'href', 'status', 'encoding', 'version', 'namespaces'])"
      ]
     },
     "execution_count": 11,
     "metadata": {},
     "output_type": "execute_result"
    }
   ],
   "source": [
    "nasa.keys()"
   ]
  },
  {
   "cell_type": "markdown",
   "metadata": {},
   "source": [
    "### 3. Obtain a list of components (keys) that are available for the *feed* component of this RSS feed."
   ]
  },
  {
   "cell_type": "code",
   "execution_count": 12,
   "metadata": {},
   "outputs": [
    {
     "data": {
      "text/plain": [
       "dict_keys(['language', 'title', 'title_detail', 'subtitle', 'subtitle_detail', 'links', 'link', 'authors', 'author', 'author_detail', 'publisher', 'publisher_detail', 'docs'])"
      ]
     },
     "execution_count": 12,
     "metadata": {},
     "output_type": "execute_result"
    }
   ],
   "source": [
    "nasa[\"feed\"].keys()"
   ]
  },
  {
   "cell_type": "code",
   "execution_count": 13,
   "metadata": {},
   "outputs": [
    {
     "data": {
      "text/plain": [
       "dict_keys(['language', 'title', 'title_detail', 'subtitle', 'subtitle_detail', 'links', 'link', 'authors', 'author', 'author_detail', 'publisher', 'publisher_detail', 'docs'])"
      ]
     },
     "execution_count": 13,
     "metadata": {},
     "output_type": "execute_result"
    }
   ],
   "source": [
    "nasa.feed.keys()"
   ]
  },
  {
   "cell_type": "markdown",
   "metadata": {},
   "source": [
    "### 4. Extract and print the feed title, subtitle, author, and link."
   ]
  },
  {
   "cell_type": "code",
   "execution_count": 16,
   "metadata": {},
   "outputs": [
    {
     "name": "stdout",
     "output_type": "stream",
     "text": [
      "Earth News\n",
      " \n",
      "A RSS news feed containing the latest NASA press releases on Earth-observing missions.\n",
      " \n",
      "jim.wilson@nasa.gov\n",
      " \n",
      "http://www.nasa.gov/\n"
     ]
    }
   ],
   "source": [
    "print(nasa.feed.title)\n",
    "print(\" \")\n",
    "print(nasa.feed.subtitle)\n",
    "print(\" \")\n",
    "print(nasa.feed.author)\n",
    "print(\" \")\n",
    "print(nasa.feed.link)"
   ]
  },
  {
   "cell_type": "markdown",
   "metadata": {},
   "source": [
    "### 5. Count the number of entries that are contained in this RSS feed."
   ]
  },
  {
   "cell_type": "code",
   "execution_count": 28,
   "metadata": {},
   "outputs": [
    {
     "data": {
      "text/plain": [
       "10"
      ]
     },
     "execution_count": 28,
     "metadata": {},
     "output_type": "execute_result"
    }
   ],
   "source": [
    "len(nasa.entries)"
   ]
  },
  {
   "cell_type": "markdown",
   "metadata": {},
   "source": [
    "### 6. Obtain a list of components (keys) available for an entry.\n",
    "\n",
    "*Hint: Remember to index first before requesting the keys*"
   ]
  },
  {
   "cell_type": "code",
   "execution_count": 22,
   "metadata": {},
   "outputs": [
    {
     "data": {
      "text/plain": [
       "{'type': 'text/plain',\n",
       " 'language': 'en',\n",
       " 'base': 'http://www.nasa.gov/',\n",
       " 'value': 'Earth News'}"
      ]
     },
     "execution_count": 22,
     "metadata": {},
     "output_type": "execute_result"
    }
   ],
   "source": [
    "nasa.feed[\"title_detail\"]"
   ]
  },
  {
   "cell_type": "markdown",
   "metadata": {},
   "source": [
    "### 7. Extract a list of entry titles."
   ]
  },
  {
   "cell_type": "code",
   "execution_count": 23,
   "metadata": {},
   "outputs": [
    {
     "name": "stdout",
     "output_type": "stream",
     "text": [
      "['NASA Experts Available for Interviews About Sea and Sky Campaign', 'NASA, Rocket Lab Set Coverage for Tropical Cyclones Mission', 'NASA’s High-Resolution Air Quality Control Instrument Launches', 'NASA Sets Coverage for Air Quality Instrument Launch', 'NASA to Host Media Call on Upcoming Air Quality Satellite Launch', 'NASA Selects L3Harris to Develop Imager for NOAA Satellite', 'NASA to Participate in Aerospace Conference, Discuss New Collaboration', 'La NASA afirma que 2022 es el quinto año más cálido registrado', 'NASA Says 2022 Fifth Warmest Year on Record, Warming Trend Continues', 'NASA, NOAA to Announce 2022 Global Temperatures, Climate Conditions']\n"
     ]
    }
   ],
   "source": [
    "titles = [nasa.entries[i].title for i in range(len(nasa.entries))]\n",
    "print(titles)"
   ]
  },
  {
   "cell_type": "code",
   "execution_count": 36,
   "metadata": {},
   "outputs": [
    {
     "data": {
      "text/plain": [
       "[{'title': 'NASA Experts Available for Interviews About Sea and Sky Campaign',\n",
       "  'title_detail': {'type': 'text/plain',\n",
       "   'language': 'en',\n",
       "   'base': 'http://www.nasa.gov/',\n",
       "   'value': 'NASA Experts Available for Interviews About Sea and Sky Campaign'},\n",
       "  'links': [{'rel': 'alternate',\n",
       "    'type': 'text/html',\n",
       "    'href': 'http://www.nasa.gov/press-release/nasa-experts-available-for-interviews-about-sea-and-sky-campaign'},\n",
       "   {'length': '1512632',\n",
       "    'type': 'image/jpeg',\n",
       "    'href': 'http://www.nasa.gov/sites/default/files/styles/1x1_cardfeed/public/thumbnails/image/sallyride_mlf-recovery.jpeg?itok=NwU3oF0l',\n",
       "    'rel': 'enclosure'}],\n",
       "  'link': 'http://www.nasa.gov/press-release/nasa-experts-available-for-interviews-about-sea-and-sky-campaign',\n",
       "  'summary': 'This spring, NASA’s S-MODE (Sub-Mesoscale Ocean Dynamics Experiment) began conducting its final plane, ship, and ocean glider campaign to better understand the ocean’s impact on Earth’s climate.',\n",
       "  'summary_detail': {'type': 'text/html',\n",
       "   'language': 'en',\n",
       "   'base': 'http://www.nasa.gov/',\n",
       "   'value': 'This spring, NASA’s S-MODE (Sub-Mesoscale Ocean Dynamics Experiment) began conducting its final plane, ship, and ocean glider campaign to better understand the ocean’s impact on Earth’s climate.'},\n",
       "  'id': 'http://www.nasa.gov/press-release/nasa-experts-available-for-interviews-about-sea-and-sky-campaign',\n",
       "  'guidislink': False,\n",
       "  'published': 'Wed, 26 Apr 2023 14:09 EDT',\n",
       "  'published_parsed': time.struct_time(tm_year=2023, tm_mon=4, tm_mday=26, tm_hour=18, tm_min=9, tm_sec=0, tm_wday=2, tm_yday=116, tm_isdst=0),\n",
       "  'source': {'href': 'http://www.nasa.gov/rss/dyn/earth.rss',\n",
       "   'title': 'Earth News'}},\n",
       " {'title': 'NASA, Rocket Lab Set Coverage for Tropical Cyclones Mission',\n",
       "  'title_detail': {'type': 'text/plain',\n",
       "   'language': 'en',\n",
       "   'base': 'http://www.nasa.gov/',\n",
       "   'value': 'NASA, Rocket Lab Set Coverage for Tropical Cyclones Mission'},\n",
       "  'links': [{'rel': 'alternate',\n",
       "    'type': 'text/html',\n",
       "    'href': 'http://www.nasa.gov/press-release/nasa-rocket-lab-set-coverage-for-tropical-cyclones-mission'},\n",
       "   {'length': '3271623',\n",
       "    'type': 'image/jpeg',\n",
       "    'href': 'http://www.nasa.gov/sites/default/files/styles/1x1_cardfeed/public/thumbnails/image/hurricaneian_tmo_2022270_lrg_0.jpg?itok=-kh71f89',\n",
       "    'rel': 'enclosure'}],\n",
       "  'link': 'http://www.nasa.gov/press-release/nasa-rocket-lab-set-coverage-for-tropical-cyclones-mission',\n",
       "  'summary': 'NASA and Rocket Lab are targeting 9 p.m. EDT, Sunday, April 30 (1 p.m. New Zealand Standard Time, Monday, May 1), to launch two storm tracking CubeSats into orbit.',\n",
       "  'summary_detail': {'type': 'text/html',\n",
       "   'language': 'en',\n",
       "   'base': 'http://www.nasa.gov/',\n",
       "   'value': 'NASA and Rocket Lab are targeting 9 p.m. EDT, Sunday, April 30 (1 p.m. New Zealand Standard Time, Monday, May 1), to launch two storm tracking CubeSats into orbit.'},\n",
       "  'id': 'http://www.nasa.gov/press-release/nasa-rocket-lab-set-coverage-for-tropical-cyclones-mission',\n",
       "  'guidislink': False,\n",
       "  'published': 'Mon, 24 Apr 2023 15:18 EDT',\n",
       "  'published_parsed': time.struct_time(tm_year=2023, tm_mon=4, tm_mday=24, tm_hour=19, tm_min=18, tm_sec=0, tm_wday=0, tm_yday=114, tm_isdst=0),\n",
       "  'source': {'href': 'http://www.nasa.gov/rss/dyn/earth.rss',\n",
       "   'title': 'Earth News'}},\n",
       " {'title': 'NASA’s High-Resolution Air Quality Control Instrument Launches',\n",
       "  'title_detail': {'type': 'text/plain',\n",
       "   'language': 'en',\n",
       "   'base': 'http://www.nasa.gov/',\n",
       "   'value': 'NASA’s High-Resolution Air Quality Control Instrument Launches'},\n",
       "  'links': [{'rel': 'alternate',\n",
       "    'type': 'text/html',\n",
       "    'href': 'http://www.nasa.gov/press-release/nasa-s-high-resolution-air-quality-control-instrument-launches'},\n",
       "   {'length': '279751',\n",
       "    'type': 'image/png',\n",
       "    'href': 'http://www.nasa.gov/sites/default/files/styles/1x1_cardfeed/public/thumbnails/image/screenshot_2023-04-07_005857.png?itok=YKXX7xWx',\n",
       "    'rel': 'enclosure'}],\n",
       "  'link': 'http://www.nasa.gov/press-release/nasa-s-high-resolution-air-quality-control-instrument-launches',\n",
       "  'summary': 'A NASA instrument to provide unprecedented resolution of monitoring major air pollutants – down to four square miles – lifted off on its way to geostationary orbit at 12:30 a.m. EDT Friday.',\n",
       "  'summary_detail': {'type': 'text/html',\n",
       "   'language': 'en',\n",
       "   'base': 'http://www.nasa.gov/',\n",
       "   'value': 'A NASA instrument to provide unprecedented resolution of monitoring major air pollutants – down to four square miles – lifted off on its way to geostationary orbit at 12:30 a.m. EDT Friday.'},\n",
       "  'id': 'http://www.nasa.gov/press-release/nasa-s-high-resolution-air-quality-control-instrument-launches',\n",
       "  'guidislink': False,\n",
       "  'published': 'Fri, 07 Apr 2023 00:30 EDT',\n",
       "  'published_parsed': time.struct_time(tm_year=2023, tm_mon=4, tm_mday=7, tm_hour=4, tm_min=30, tm_sec=0, tm_wday=4, tm_yday=97, tm_isdst=0),\n",
       "  'source': {'href': 'http://www.nasa.gov/rss/dyn/earth.rss',\n",
       "   'title': 'Earth News'}},\n",
       " {'title': 'NASA Sets Coverage for Air Quality Instrument Launch',\n",
       "  'title_detail': {'type': 'text/plain',\n",
       "   'language': 'en',\n",
       "   'base': 'http://www.nasa.gov/',\n",
       "   'value': 'NASA Sets Coverage for Air Quality Instrument Launch'},\n",
       "  'links': [{'rel': 'alternate',\n",
       "    'type': 'text/html',\n",
       "    'href': 'http://www.nasa.gov/press-release/nasa-sets-coverage-for-air-quality-instrument-launch'},\n",
       "   {'length': '3972734',\n",
       "    'type': 'image/jpeg',\n",
       "    'href': 'http://www.nasa.gov/sites/default/files/styles/1x1_cardfeed/public/thumbnails/image/maxar_intelsat_40e.jpeg?itok=RQw17aYC',\n",
       "    'rel': 'enclosure'}],\n",
       "  'link': 'http://www.nasa.gov/press-release/nasa-sets-coverage-for-air-quality-instrument-launch',\n",
       "  'summary': 'NASA and SpaceX are targeting no earlier than 12:30 a.m. EDT Friday, April 7, to launch NASA’s TEMPO (Tropospheric Emissions Monitoring of Pollution instrument). TEMPO is the first space-based instrument to monitor major air pollutants hourly in high spatial resolution – down to four square miles – in a region stretching from the Atlantic to the Pa',\n",
       "  'summary_detail': {'type': 'text/html',\n",
       "   'language': 'en',\n",
       "   'base': 'http://www.nasa.gov/',\n",
       "   'value': 'NASA and SpaceX are targeting no earlier than 12:30 a.m. EDT Friday, April 7, to launch NASA’s TEMPO (Tropospheric Emissions Monitoring of Pollution instrument). TEMPO is the first space-based instrument to monitor major air pollutants hourly in high spatial resolution – down to four square miles – in a region stretching from the Atlantic to the Pa'},\n",
       "  'id': 'http://www.nasa.gov/press-release/nasa-sets-coverage-for-air-quality-instrument-launch',\n",
       "  'guidislink': False,\n",
       "  'published': 'Thu, 06 Apr 2023 08:24 EDT',\n",
       "  'published_parsed': time.struct_time(tm_year=2023, tm_mon=4, tm_mday=6, tm_hour=12, tm_min=24, tm_sec=0, tm_wday=3, tm_yday=96, tm_isdst=0),\n",
       "  'source': {'href': 'http://www.nasa.gov/rss/dyn/earth.rss',\n",
       "   'title': 'Earth News'}},\n",
       " {'title': 'NASA to Host Media Call on Upcoming Air Quality Satellite Launch',\n",
       "  'title_detail': {'type': 'text/plain',\n",
       "   'language': 'en',\n",
       "   'base': 'http://www.nasa.gov/',\n",
       "   'value': 'NASA to Host Media Call on Upcoming Air Quality Satellite Launch'},\n",
       "  'links': [{'rel': 'alternate',\n",
       "    'type': 'text/html',\n",
       "    'href': 'http://www.nasa.gov/press-release/nasa-to-host-media-call-on-upcoming-air-quality-satellite-launch'},\n",
       "   {'length': '1108738',\n",
       "    'type': 'image/png',\n",
       "    'href': 'http://www.nasa.gov/sites/default/files/styles/1x1_cardfeed/public/thumbnails/image/tempo_intelsat_image.png?itok=fgwRj0SC',\n",
       "    'rel': 'enclosure'}],\n",
       "  'link': 'http://www.nasa.gov/press-release/nasa-to-host-media-call-on-upcoming-air-quality-satellite-launch',\n",
       "  'summary': 'Media are invited to a NASA media teleconference 1 p.m. EDT Wednesday, April 5, to discuss the upcoming launch of the first space-based instrument to observe major air pollutants across North America every hour during the daytime.',\n",
       "  'summary_detail': {'type': 'text/html',\n",
       "   'language': 'en',\n",
       "   'base': 'http://www.nasa.gov/',\n",
       "   'value': 'Media are invited to a NASA media teleconference 1 p.m. EDT Wednesday, April 5, to discuss the upcoming launch of the first space-based instrument to observe major air pollutants across North America every hour during the daytime.'},\n",
       "  'id': 'http://www.nasa.gov/press-release/nasa-to-host-media-call-on-upcoming-air-quality-satellite-launch',\n",
       "  'guidislink': False,\n",
       "  'published': 'Fri, 31 Mar 2023 10:04 EDT',\n",
       "  'published_parsed': time.struct_time(tm_year=2023, tm_mon=3, tm_mday=31, tm_hour=14, tm_min=4, tm_sec=0, tm_wday=4, tm_yday=90, tm_isdst=0),\n",
       "  'source': {'href': 'http://www.nasa.gov/rss/dyn/earth.rss',\n",
       "   'title': 'Earth News'}},\n",
       " {'title': 'NASA Selects L3Harris to Develop Imager for NOAA Satellite',\n",
       "  'title_detail': {'type': 'text/plain',\n",
       "   'language': 'en',\n",
       "   'base': 'http://www.nasa.gov/',\n",
       "   'value': 'NASA Selects L3Harris to Develop Imager for NOAA Satellite'},\n",
       "  'links': [{'rel': 'alternate',\n",
       "    'type': 'text/html',\n",
       "    'href': 'http://www.nasa.gov/press-release/nasa-selects-l3harris-to-develop-imager-for-noaa-satellite'},\n",
       "   {'length': '3988010',\n",
       "    'type': 'image/jpeg',\n",
       "    'href': 'http://www.nasa.gov/sites/default/files/styles/1x1_cardfeed/public/thumbnails/image/gxi_contract_release.jpg?itok=Bnmp1Z1w',\n",
       "    'rel': 'enclosure'}],\n",
       "  'link': 'http://www.nasa.gov/press-release/nasa-selects-l3harris-to-develop-imager-for-noaa-satellite',\n",
       "  'summary': 'NASA, on behalf of the National Oceanic and Atmospheric Administration (NOAA), has selected L3Harris Technologies Inc. of Fort Wayne, Indiana, to develop the imager for NOAA’s Geostationary Extended Observations (GeoXO) satellite program.',\n",
       "  'summary_detail': {'type': 'text/html',\n",
       "   'language': 'en',\n",
       "   'base': 'http://www.nasa.gov/',\n",
       "   'value': 'NASA, on behalf of the National Oceanic and Atmospheric Administration (NOAA), has selected L3Harris Technologies Inc. of Fort Wayne, Indiana, to develop the imager for NOAA’s Geostationary Extended Observations (GeoXO) satellite program.'},\n",
       "  'id': 'http://www.nasa.gov/press-release/nasa-selects-l3harris-to-develop-imager-for-noaa-satellite',\n",
       "  'guidislink': False,\n",
       "  'published': 'Mon, 13 Mar 2023 14:46 EDT',\n",
       "  'published_parsed': time.struct_time(tm_year=2023, tm_mon=3, tm_mday=13, tm_hour=18, tm_min=46, tm_sec=0, tm_wday=0, tm_yday=72, tm_isdst=0),\n",
       "  'source': {'href': 'http://www.nasa.gov/rss/dyn/earth.rss',\n",
       "   'title': 'Earth News'}},\n",
       " {'title': 'NASA to Participate in Aerospace Conference, Discuss New Collaboration',\n",
       "  'title_detail': {'type': 'text/plain',\n",
       "   'language': 'en',\n",
       "   'base': 'http://www.nasa.gov/',\n",
       "   'value': 'NASA to Participate in Aerospace Conference, Discuss New Collaboration'},\n",
       "  'links': [{'rel': 'alternate',\n",
       "    'type': 'text/html',\n",
       "    'href': 'http://www.nasa.gov/press-release/nasa-to-participate-in-aerospace-conference-discuss-new-collaboration'},\n",
       "   {'length': '2936895',\n",
       "    'type': 'image/jpeg',\n",
       "    'href': 'http://www.nasa.gov/sites/default/files/styles/1x1_cardfeed/public/thumbnails/image/mars-globe-valles-marineris-enhanced_scitech.jpg?itok=7AedNBla',\n",
       "    'rel': 'enclosure'}],\n",
       "  'link': 'http://www.nasa.gov/press-release/nasa-to-participate-in-aerospace-conference-discuss-new-collaboration',\n",
       "  'summary': 'NASA Administrator Bill Nelson, Deputy Administrator Pam Melroy, Bhavya Lal, associate administrator for Technology, Policy, and Strategy, as well as other agency speakers, will participate in the 2023 American Institute of Aeronautics and Astronautics (AIAA) SciTech Forum from Monday, Jan. 23, to Friday, Jan. 27, in National Harbor, Maryland.',\n",
       "  'summary_detail': {'type': 'text/html',\n",
       "   'language': 'en',\n",
       "   'base': 'http://www.nasa.gov/',\n",
       "   'value': 'NASA Administrator Bill Nelson, Deputy Administrator Pam Melroy, Bhavya Lal, associate administrator for Technology, Policy, and Strategy, as well as other agency speakers, will participate in the 2023 American Institute of Aeronautics and Astronautics (AIAA) SciTech Forum from Monday, Jan. 23, to Friday, Jan. 27, in National Harbor, Maryland.'},\n",
       "  'id': 'http://www.nasa.gov/press-release/nasa-to-participate-in-aerospace-conference-discuss-new-collaboration',\n",
       "  'guidislink': False,\n",
       "  'published': 'Thu, 19 Jan 2023 16:50 EST',\n",
       "  'published_parsed': time.struct_time(tm_year=2023, tm_mon=1, tm_mday=19, tm_hour=21, tm_min=50, tm_sec=0, tm_wday=3, tm_yday=19, tm_isdst=0),\n",
       "  'source': {'href': 'http://www.nasa.gov/rss/dyn/earth.rss',\n",
       "   'title': 'Earth News'}},\n",
       " {'title': 'La NASA afirma que 2022 es el quinto año más cálido registrado',\n",
       "  'title_detail': {'type': 'text/plain',\n",
       "   'language': 'en',\n",
       "   'base': 'http://www.nasa.gov/',\n",
       "   'value': 'La NASA afirma que 2022 es el quinto año más cálido registrado'},\n",
       "  'links': [{'rel': 'alternate',\n",
       "    'type': 'text/html',\n",
       "    'href': 'http://www.nasa.gov/press-release/2022-quinto-mas-calido-registrado'},\n",
       "   {'length': '1887049',\n",
       "    'type': 'image/png',\n",
       "    'href': 'http://www.nasa.gov/sites/default/files/styles/1x1_cardfeed/public/thumbnails/image/2022_temps_for_release.png?itok=-DzgNn4E',\n",
       "    'rel': 'enclosure'}],\n",
       "  'link': 'http://www.nasa.gov/press-release/2022-quinto-mas-calido-registrado',\n",
       "  'summary': 'La temperatura promedio de la superficie de la Tierra en 2022 empató con 2015 como la quinta más cálida registrada, según un análisis de la NASA. Continuando con la tendencia del calentamiento a largo plazo del planeta, las temperaturas globales en 2022 estuvieron 0,89 grados centígrados (1,6 grados Fahrenheit) por encima del promedio para el perío',\n",
       "  'summary_detail': {'type': 'text/html',\n",
       "   'language': 'en',\n",
       "   'base': 'http://www.nasa.gov/',\n",
       "   'value': 'La temperatura promedio de la superficie de la Tierra en 2022 empató con 2015 como la quinta más cálida registrada, según un análisis de la NASA. Continuando con la tendencia del calentamiento a largo plazo del planeta, las temperaturas globales en 2022 estuvieron 0,89 grados centígrados (1,6 grados Fahrenheit) por encima del promedio para el perío'},\n",
       "  'id': 'http://www.nasa.gov/press-release/2022-quinto-mas-calido-registrado',\n",
       "  'guidislink': False,\n",
       "  'published': 'Thu, 12 Jan 2023 10:35 EST',\n",
       "  'published_parsed': time.struct_time(tm_year=2023, tm_mon=1, tm_mday=12, tm_hour=15, tm_min=35, tm_sec=0, tm_wday=3, tm_yday=12, tm_isdst=0),\n",
       "  'source': {'href': 'http://www.nasa.gov/rss/dyn/earth.rss',\n",
       "   'title': 'Earth News'}},\n",
       " {'title': 'NASA Says 2022 Fifth Warmest Year on Record, Warming Trend Continues',\n",
       "  'title_detail': {'type': 'text/plain',\n",
       "   'language': 'en',\n",
       "   'base': 'http://www.nasa.gov/',\n",
       "   'value': 'NASA Says 2022 Fifth Warmest Year on Record, Warming Trend Continues'},\n",
       "  'links': [{'rel': 'alternate',\n",
       "    'type': 'text/html',\n",
       "    'href': 'http://www.nasa.gov/press-release/nasa-says-2022-fifth-warmest-year-on-record-warming-trend-continues'},\n",
       "   {'length': '1887049',\n",
       "    'type': 'image/png',\n",
       "    'href': 'http://www.nasa.gov/sites/default/files/styles/1x1_cardfeed/public/thumbnails/image/2022_temps_for_release.png?itok=-DzgNn4E',\n",
       "    'rel': 'enclosure'}],\n",
       "  'link': 'http://www.nasa.gov/press-release/nasa-says-2022-fifth-warmest-year-on-record-warming-trend-continues',\n",
       "  'summary': \"Earth's average surface temperature in 2022 tied with 2015 as the fifth warmest on record, according to an analysis by NASA. Continuing the planet's long-term warming trend, global temperatures in 2022 were 1.6 degrees Fahrenheit (0.89 degrees Celsius) above the average for NASA's baseline period (1951-1980), scientists from NASA's Goddard Institut\",\n",
       "  'summary_detail': {'type': 'text/html',\n",
       "   'language': 'en',\n",
       "   'base': 'http://www.nasa.gov/',\n",
       "   'value': \"Earth's average surface temperature in 2022 tied with 2015 as the fifth warmest on record, according to an analysis by NASA. Continuing the planet's long-term warming trend, global temperatures in 2022 were 1.6 degrees Fahrenheit (0.89 degrees Celsius) above the average for NASA's baseline period (1951-1980), scientists from NASA's Goddard Institut\"},\n",
       "  'id': 'http://www.nasa.gov/press-release/nasa-says-2022-fifth-warmest-year-on-record-warming-trend-continues',\n",
       "  'guidislink': False,\n",
       "  'published': 'Thu, 12 Jan 2023 09:46 EST',\n",
       "  'published_parsed': time.struct_time(tm_year=2023, tm_mon=1, tm_mday=12, tm_hour=14, tm_min=46, tm_sec=0, tm_wday=3, tm_yday=12, tm_isdst=0),\n",
       "  'source': {'href': 'http://www.nasa.gov/rss/dyn/earth.rss',\n",
       "   'title': 'Earth News'}},\n",
       " {'title': 'NASA, NOAA to Announce 2022 Global Temperatures, Climate Conditions',\n",
       "  'title_detail': {'type': 'text/plain',\n",
       "   'language': 'en',\n",
       "   'base': 'http://www.nasa.gov/',\n",
       "   'value': 'NASA, NOAA to Announce 2022 Global Temperatures, Climate Conditions'},\n",
       "  'links': [{'rel': 'alternate',\n",
       "    'type': 'text/html',\n",
       "    'href': 'http://www.nasa.gov/press-release/nasa-noaa-to-announce-2022-global-temperatures-climate-conditions'},\n",
       "   {'length': '1653132',\n",
       "    'type': 'image/jpeg',\n",
       "    'href': 'http://www.nasa.gov/sites/default/files/styles/1x1_cardfeed/public/thumbnails/image/2021f-temperatureanomalyf.0900.jpg?itok=d3wCuJJm',\n",
       "    'rel': 'enclosure'}],\n",
       "  'link': 'http://www.nasa.gov/press-release/nasa-noaa-to-announce-2022-global-temperatures-climate-conditions',\n",
       "  'summary': 'Climate researchers from NASA and the National Oceanic and Atmospheric Administration (NOAA) will release their annual assessments of global temperatures and discuss the major climate trends of 2022 during a media briefing at 11 a.m. EST Thursday, Jan. 12.',\n",
       "  'summary_detail': {'type': 'text/html',\n",
       "   'language': 'en',\n",
       "   'base': 'http://www.nasa.gov/',\n",
       "   'value': 'Climate researchers from NASA and the National Oceanic and Atmospheric Administration (NOAA) will release their annual assessments of global temperatures and discuss the major climate trends of 2022 during a media briefing at 11 a.m. EST Thursday, Jan. 12.'},\n",
       "  'id': 'http://www.nasa.gov/press-release/nasa-noaa-to-announce-2022-global-temperatures-climate-conditions',\n",
       "  'guidislink': False,\n",
       "  'published': 'Tue, 10 Jan 2023 10:22 EST',\n",
       "  'published_parsed': time.struct_time(tm_year=2023, tm_mon=1, tm_mday=10, tm_hour=15, tm_min=22, tm_sec=0, tm_wday=1, tm_yday=10, tm_isdst=0),\n",
       "  'source': {'href': 'http://www.nasa.gov/rss/dyn/earth.rss',\n",
       "   'title': 'Earth News'}}]"
      ]
     },
     "execution_count": 36,
     "metadata": {},
     "output_type": "execute_result"
    }
   ],
   "source": [
    "nasa.entries"
   ]
  },
  {
   "cell_type": "markdown",
   "metadata": {},
   "source": [
    "### 8. Calculate the percentage of \"Four short links\" entry titles."
   ]
  },
  {
   "cell_type": "code",
   "execution_count": 39,
   "metadata": {},
   "outputs": [
    {
     "name": "stdout",
     "output_type": "stream",
     "text": [
      "Percentage of 'link' entry titles: 0.0\n"
     ]
    }
   ],
   "source": [
    "#no entiendo bien el problema \n",
    "\n",
    "four_short_links = 0\n",
    "\n",
    "for entry in nasa.entries:\n",
    "    if \"href\" in nasa.entries:\n",
    "        four_short_links += 1\n",
    "        \n",
    "percentage = (four_short_links/len(nasa.entries))*100\n",
    "\n",
    "print(\"Percentage of 'link' entry titles:\", percentage)"
   ]
  },
  {
   "cell_type": "markdown",
   "metadata": {},
   "source": [
    "### 9. Create a Pandas data frame from the feed's entries."
   ]
  },
  {
   "cell_type": "code",
   "execution_count": 48,
   "metadata": {},
   "outputs": [],
   "source": [
    "import pandas as pd\n",
    "\n",
    "nasa_df = pd.DataFrame(nasa.entries)"
   ]
  },
  {
   "cell_type": "code",
   "execution_count": 43,
   "metadata": {},
   "outputs": [
    {
     "data": {
      "text/html": [
       "<div>\n",
       "<style scoped>\n",
       "    .dataframe tbody tr th:only-of-type {\n",
       "        vertical-align: middle;\n",
       "    }\n",
       "\n",
       "    .dataframe tbody tr th {\n",
       "        vertical-align: top;\n",
       "    }\n",
       "\n",
       "    .dataframe thead th {\n",
       "        text-align: right;\n",
       "    }\n",
       "</style>\n",
       "<table border=\"1\" class=\"dataframe\">\n",
       "  <thead>\n",
       "    <tr style=\"text-align: right;\">\n",
       "      <th></th>\n",
       "      <th>title</th>\n",
       "      <th>title_detail</th>\n",
       "      <th>links</th>\n",
       "      <th>link</th>\n",
       "      <th>summary</th>\n",
       "      <th>summary_detail</th>\n",
       "      <th>id</th>\n",
       "      <th>guidislink</th>\n",
       "      <th>published</th>\n",
       "      <th>published_parsed</th>\n",
       "      <th>source</th>\n",
       "    </tr>\n",
       "  </thead>\n",
       "  <tbody>\n",
       "    <tr>\n",
       "      <th>0</th>\n",
       "      <td>NASA Experts Available for Interviews About Se...</td>\n",
       "      <td>{'type': 'text/plain', 'language': 'en', 'base...</td>\n",
       "      <td>[{'rel': 'alternate', 'type': 'text/html', 'hr...</td>\n",
       "      <td>http://www.nasa.gov/press-release/nasa-experts...</td>\n",
       "      <td>This spring, NASA’s S-MODE (Sub-Mesoscale Ocea...</td>\n",
       "      <td>{'type': 'text/html', 'language': 'en', 'base'...</td>\n",
       "      <td>http://www.nasa.gov/press-release/nasa-experts...</td>\n",
       "      <td>False</td>\n",
       "      <td>Wed, 26 Apr 2023 14:09 EDT</td>\n",
       "      <td>(2023, 4, 26, 18, 9, 0, 2, 116, 0)</td>\n",
       "      <td>{'href': 'http://www.nasa.gov/rss/dyn/earth.rs...</td>\n",
       "    </tr>\n",
       "    <tr>\n",
       "      <th>1</th>\n",
       "      <td>NASA, Rocket Lab Set Coverage for Tropical Cyc...</td>\n",
       "      <td>{'type': 'text/plain', 'language': 'en', 'base...</td>\n",
       "      <td>[{'rel': 'alternate', 'type': 'text/html', 'hr...</td>\n",
       "      <td>http://www.nasa.gov/press-release/nasa-rocket-...</td>\n",
       "      <td>NASA and Rocket Lab are targeting 9 p.m. EDT, ...</td>\n",
       "      <td>{'type': 'text/html', 'language': 'en', 'base'...</td>\n",
       "      <td>http://www.nasa.gov/press-release/nasa-rocket-...</td>\n",
       "      <td>False</td>\n",
       "      <td>Mon, 24 Apr 2023 15:18 EDT</td>\n",
       "      <td>(2023, 4, 24, 19, 18, 0, 0, 114, 0)</td>\n",
       "      <td>{'href': 'http://www.nasa.gov/rss/dyn/earth.rs...</td>\n",
       "    </tr>\n",
       "    <tr>\n",
       "      <th>2</th>\n",
       "      <td>NASA’s High-Resolution Air Quality Control Ins...</td>\n",
       "      <td>{'type': 'text/plain', 'language': 'en', 'base...</td>\n",
       "      <td>[{'rel': 'alternate', 'type': 'text/html', 'hr...</td>\n",
       "      <td>http://www.nasa.gov/press-release/nasa-s-high-...</td>\n",
       "      <td>A NASA instrument to provide unprecedented res...</td>\n",
       "      <td>{'type': 'text/html', 'language': 'en', 'base'...</td>\n",
       "      <td>http://www.nasa.gov/press-release/nasa-s-high-...</td>\n",
       "      <td>False</td>\n",
       "      <td>Fri, 07 Apr 2023 00:30 EDT</td>\n",
       "      <td>(2023, 4, 7, 4, 30, 0, 4, 97, 0)</td>\n",
       "      <td>{'href': 'http://www.nasa.gov/rss/dyn/earth.rs...</td>\n",
       "    </tr>\n",
       "  </tbody>\n",
       "</table>\n",
       "</div>"
      ],
      "text/plain": [
       "                                               title  \\\n",
       "0  NASA Experts Available for Interviews About Se...   \n",
       "1  NASA, Rocket Lab Set Coverage for Tropical Cyc...   \n",
       "2  NASA’s High-Resolution Air Quality Control Ins...   \n",
       "\n",
       "                                        title_detail  \\\n",
       "0  {'type': 'text/plain', 'language': 'en', 'base...   \n",
       "1  {'type': 'text/plain', 'language': 'en', 'base...   \n",
       "2  {'type': 'text/plain', 'language': 'en', 'base...   \n",
       "\n",
       "                                               links  \\\n",
       "0  [{'rel': 'alternate', 'type': 'text/html', 'hr...   \n",
       "1  [{'rel': 'alternate', 'type': 'text/html', 'hr...   \n",
       "2  [{'rel': 'alternate', 'type': 'text/html', 'hr...   \n",
       "\n",
       "                                                link  \\\n",
       "0  http://www.nasa.gov/press-release/nasa-experts...   \n",
       "1  http://www.nasa.gov/press-release/nasa-rocket-...   \n",
       "2  http://www.nasa.gov/press-release/nasa-s-high-...   \n",
       "\n",
       "                                             summary  \\\n",
       "0  This spring, NASA’s S-MODE (Sub-Mesoscale Ocea...   \n",
       "1  NASA and Rocket Lab are targeting 9 p.m. EDT, ...   \n",
       "2  A NASA instrument to provide unprecedented res...   \n",
       "\n",
       "                                      summary_detail  \\\n",
       "0  {'type': 'text/html', 'language': 'en', 'base'...   \n",
       "1  {'type': 'text/html', 'language': 'en', 'base'...   \n",
       "2  {'type': 'text/html', 'language': 'en', 'base'...   \n",
       "\n",
       "                                                  id  guidislink  \\\n",
       "0  http://www.nasa.gov/press-release/nasa-experts...       False   \n",
       "1  http://www.nasa.gov/press-release/nasa-rocket-...       False   \n",
       "2  http://www.nasa.gov/press-release/nasa-s-high-...       False   \n",
       "\n",
       "                    published                     published_parsed  \\\n",
       "0  Wed, 26 Apr 2023 14:09 EDT   (2023, 4, 26, 18, 9, 0, 2, 116, 0)   \n",
       "1  Mon, 24 Apr 2023 15:18 EDT  (2023, 4, 24, 19, 18, 0, 0, 114, 0)   \n",
       "2  Fri, 07 Apr 2023 00:30 EDT     (2023, 4, 7, 4, 30, 0, 4, 97, 0)   \n",
       "\n",
       "                                              source  \n",
       "0  {'href': 'http://www.nasa.gov/rss/dyn/earth.rs...  \n",
       "1  {'href': 'http://www.nasa.gov/rss/dyn/earth.rs...  \n",
       "2  {'href': 'http://www.nasa.gov/rss/dyn/earth.rs...  "
      ]
     },
     "execution_count": 43,
     "metadata": {},
     "output_type": "execute_result"
    }
   ],
   "source": [
    "nasa_df.head(3)"
   ]
  },
  {
   "cell_type": "code",
   "execution_count": 51,
   "metadata": {},
   "outputs": [
    {
     "data": {
      "text/plain": [
       "(10, 11)"
      ]
     },
     "execution_count": 51,
     "metadata": {},
     "output_type": "execute_result"
    }
   ],
   "source": [
    "nasa_df.shape"
   ]
  },
  {
   "cell_type": "markdown",
   "metadata": {},
   "source": [
    "### 10. Count the number of entries per author and sort them in descending order."
   ]
  },
  {
   "cell_type": "code",
   "execution_count": 50,
   "metadata": {},
   "outputs": [
    {
     "data": {
      "text/plain": [
       "NASA Experts Available for Interviews About Sea and Sky Campaign          1\n",
       "NASA, Rocket Lab Set Coverage for Tropical Cyclones Mission               1\n",
       "NASA’s High-Resolution Air Quality Control Instrument Launches            1\n",
       "NASA Sets Coverage for Air Quality Instrument Launch                      1\n",
       "NASA to Host Media Call on Upcoming Air Quality Satellite Launch          1\n",
       "NASA Selects L3Harris to Develop Imager for NOAA Satellite                1\n",
       "NASA to Participate in Aerospace Conference, Discuss New Collaboration    1\n",
       "La NASA afirma que 2022 es el quinto año más cálido registrado            1\n",
       "NASA Says 2022 Fifth Warmest Year on Record, Warming Trend Continues      1\n",
       "NASA, NOAA to Announce 2022 Global Temperatures, Climate Conditions       1\n",
       "Name: title, dtype: int64"
      ]
     },
     "execution_count": 50,
     "metadata": {},
     "output_type": "execute_result"
    }
   ],
   "source": [
    "count_entries = nasa_df[\"title\"].value_counts().sort_values()\n",
    "count_entries"
   ]
  },
  {
   "cell_type": "markdown",
   "metadata": {},
   "source": [
    "### 11. Add a new column to the data frame that contains the length (number of characters) of each entry title. Return a data frame that contains the title, author, and title length of each entry in descending order (longest title length at the top)."
   ]
  },
  {
   "cell_type": "code",
   "execution_count": 58,
   "metadata": {},
   "outputs": [],
   "source": [
    "#creamos una columna nueva llamada title_leght\n",
    "\n",
    "nasa_df[\"title_leght\"] = nasa_df[\"title\"].apply(len)"
   ]
  },
  {
   "cell_type": "code",
   "execution_count": 60,
   "metadata": {},
   "outputs": [
    {
     "data": {
      "text/html": [
       "<div>\n",
       "<style scoped>\n",
       "    .dataframe tbody tr th:only-of-type {\n",
       "        vertical-align: middle;\n",
       "    }\n",
       "\n",
       "    .dataframe tbody tr th {\n",
       "        vertical-align: top;\n",
       "    }\n",
       "\n",
       "    .dataframe thead th {\n",
       "        text-align: right;\n",
       "    }\n",
       "</style>\n",
       "<table border=\"1\" class=\"dataframe\">\n",
       "  <thead>\n",
       "    <tr style=\"text-align: right;\">\n",
       "      <th></th>\n",
       "      <th>title</th>\n",
       "      <th>title_detail</th>\n",
       "      <th>title_leght</th>\n",
       "    </tr>\n",
       "  </thead>\n",
       "  <tbody>\n",
       "    <tr>\n",
       "      <th>6</th>\n",
       "      <td>NASA to Participate in Aerospace Conference, D...</td>\n",
       "      <td>{'type': 'text/plain', 'language': 'en', 'base...</td>\n",
       "      <td>70</td>\n",
       "    </tr>\n",
       "    <tr>\n",
       "      <th>8</th>\n",
       "      <td>NASA Says 2022 Fifth Warmest Year on Record, W...</td>\n",
       "      <td>{'type': 'text/plain', 'language': 'en', 'base...</td>\n",
       "      <td>68</td>\n",
       "    </tr>\n",
       "    <tr>\n",
       "      <th>9</th>\n",
       "      <td>NASA, NOAA to Announce 2022 Global Temperature...</td>\n",
       "      <td>{'type': 'text/plain', 'language': 'en', 'base...</td>\n",
       "      <td>67</td>\n",
       "    </tr>\n",
       "    <tr>\n",
       "      <th>0</th>\n",
       "      <td>NASA Experts Available for Interviews About Se...</td>\n",
       "      <td>{'type': 'text/plain', 'language': 'en', 'base...</td>\n",
       "      <td>64</td>\n",
       "    </tr>\n",
       "    <tr>\n",
       "      <th>4</th>\n",
       "      <td>NASA to Host Media Call on Upcoming Air Qualit...</td>\n",
       "      <td>{'type': 'text/plain', 'language': 'en', 'base...</td>\n",
       "      <td>64</td>\n",
       "    </tr>\n",
       "    <tr>\n",
       "      <th>2</th>\n",
       "      <td>NASA’s High-Resolution Air Quality Control Ins...</td>\n",
       "      <td>{'type': 'text/plain', 'language': 'en', 'base...</td>\n",
       "      <td>62</td>\n",
       "    </tr>\n",
       "    <tr>\n",
       "      <th>7</th>\n",
       "      <td>La NASA afirma que 2022 es el quinto año más c...</td>\n",
       "      <td>{'type': 'text/plain', 'language': 'en', 'base...</td>\n",
       "      <td>62</td>\n",
       "    </tr>\n",
       "    <tr>\n",
       "      <th>1</th>\n",
       "      <td>NASA, Rocket Lab Set Coverage for Tropical Cyc...</td>\n",
       "      <td>{'type': 'text/plain', 'language': 'en', 'base...</td>\n",
       "      <td>59</td>\n",
       "    </tr>\n",
       "    <tr>\n",
       "      <th>5</th>\n",
       "      <td>NASA Selects L3Harris to Develop Imager for NO...</td>\n",
       "      <td>{'type': 'text/plain', 'language': 'en', 'base...</td>\n",
       "      <td>58</td>\n",
       "    </tr>\n",
       "    <tr>\n",
       "      <th>3</th>\n",
       "      <td>NASA Sets Coverage for Air Quality Instrument ...</td>\n",
       "      <td>{'type': 'text/plain', 'language': 'en', 'base...</td>\n",
       "      <td>52</td>\n",
       "    </tr>\n",
       "  </tbody>\n",
       "</table>\n",
       "</div>"
      ],
      "text/plain": [
       "                                               title  \\\n",
       "6  NASA to Participate in Aerospace Conference, D...   \n",
       "8  NASA Says 2022 Fifth Warmest Year on Record, W...   \n",
       "9  NASA, NOAA to Announce 2022 Global Temperature...   \n",
       "0  NASA Experts Available for Interviews About Se...   \n",
       "4  NASA to Host Media Call on Upcoming Air Qualit...   \n",
       "2  NASA’s High-Resolution Air Quality Control Ins...   \n",
       "7  La NASA afirma que 2022 es el quinto año más c...   \n",
       "1  NASA, Rocket Lab Set Coverage for Tropical Cyc...   \n",
       "5  NASA Selects L3Harris to Develop Imager for NO...   \n",
       "3  NASA Sets Coverage for Air Quality Instrument ...   \n",
       "\n",
       "                                        title_detail  title_leght  \n",
       "6  {'type': 'text/plain', 'language': 'en', 'base...           70  \n",
       "8  {'type': 'text/plain', 'language': 'en', 'base...           68  \n",
       "9  {'type': 'text/plain', 'language': 'en', 'base...           67  \n",
       "0  {'type': 'text/plain', 'language': 'en', 'base...           64  \n",
       "4  {'type': 'text/plain', 'language': 'en', 'base...           64  \n",
       "2  {'type': 'text/plain', 'language': 'en', 'base...           62  \n",
       "7  {'type': 'text/plain', 'language': 'en', 'base...           62  \n",
       "1  {'type': 'text/plain', 'language': 'en', 'base...           59  \n",
       "5  {'type': 'text/plain', 'language': 'en', 'base...           58  \n",
       "3  {'type': 'text/plain', 'language': 'en', 'base...           52  "
      ]
     },
     "execution_count": 60,
     "metadata": {},
     "output_type": "execute_result"
    }
   ],
   "source": [
    "#filtramos por tres columnas y ordenamos de forma descendente\n",
    "\n",
    "nasa_df_result = nasa_df[[\"title\", \"title_detail\", \"title_leght\"]].sort_values(by= \"title_leght\", ascending=False)\n",
    "nasa_df_result"
   ]
  },
  {
   "cell_type": "markdown",
   "metadata": {},
   "source": [
    "### 12. Create a list of entry titles whose summary includes the phrase \"machine learning.\""
   ]
  },
  {
   "cell_type": "code",
   "execution_count": 69,
   "metadata": {},
   "outputs": [],
   "source": [
    "#creamos una lista para agrupar los titulos que contengan la palabra clave \"NASA\"\n",
    "ml_titles = []\n",
    "for index, row in nasa_df.iterrows():\n",
    "    if \"NASA\" in row[\"title\"]:\n",
    "        ml_titles.append(row[\"title\"])\n"
   ]
  },
  {
   "cell_type": "code",
   "execution_count": 70,
   "metadata": {},
   "outputs": [
    {
     "data": {
      "text/plain": [
       "['NASA Experts Available for Interviews About Sea and Sky Campaign',\n",
       " 'NASA, Rocket Lab Set Coverage for Tropical Cyclones Mission',\n",
       " 'NASA’s High-Resolution Air Quality Control Instrument Launches',\n",
       " 'NASA Sets Coverage for Air Quality Instrument Launch',\n",
       " 'NASA to Host Media Call on Upcoming Air Quality Satellite Launch',\n",
       " 'NASA Selects L3Harris to Develop Imager for NOAA Satellite',\n",
       " 'NASA to Participate in Aerospace Conference, Discuss New Collaboration',\n",
       " 'La NASA afirma que 2022 es el quinto año más cálido registrado',\n",
       " 'NASA Says 2022 Fifth Warmest Year on Record, Warming Trend Continues',\n",
       " 'NASA, NOAA to Announce 2022 Global Temperatures, Climate Conditions']"
      ]
     },
     "execution_count": 70,
     "metadata": {},
     "output_type": "execute_result"
    }
   ],
   "source": [
    "ml_titles"
   ]
  },
  {
   "cell_type": "code",
   "execution_count": 77,
   "metadata": {},
   "outputs": [],
   "source": [
    "#creamos una función para buscar por palabras claves entre los títulos\n",
    "def find_theme(dataframe, phrase):\n",
    "    ml_title = []\n",
    "    for index, row in dataframe.iterrows():\n",
    "        if phrase in row[\"title\"]:\n",
    "            ml_title.append(row[\"title\"])\n",
    "    return(ml_title)"
   ]
  },
  {
   "cell_type": "code",
   "execution_count": 80,
   "metadata": {},
   "outputs": [
    {
     "data": {
      "text/plain": [
       "['NASA, NOAA to Announce 2022 Global Temperatures, Climate Conditions']"
      ]
     },
     "execution_count": 80,
     "metadata": {},
     "output_type": "execute_result"
    }
   ],
   "source": [
    "find_theme(nasa_df, \"Global\")"
   ]
  }
 ],
 "metadata": {
  "kernelspec": {
   "display_name": "Python 3 (ipykernel)",
   "language": "python",
   "name": "python3"
  },
  "language_info": {
   "codemirror_mode": {
    "name": "ipython",
    "version": 3
   },
   "file_extension": ".py",
   "mimetype": "text/x-python",
   "name": "python",
   "nbconvert_exporter": "python",
   "pygments_lexer": "ipython3",
   "version": "3.9.13"
  }
 },
 "nbformat": 4,
 "nbformat_minor": 2
}
