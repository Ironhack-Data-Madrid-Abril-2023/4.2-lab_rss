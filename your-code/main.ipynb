{
 "cells": [
  {
   "attachments": {},
   "cell_type": "markdown",
   "metadata": {},
   "source": [
    "# Working with RSS Feeds Lab\n",
    "\n",
    "Complete the following set of exercises to solidify your knowledge of parsing RSS feeds and extracting information from them."
   ]
  },
  {
   "cell_type": "code",
   "execution_count": 1,
   "metadata": {},
   "outputs": [],
   "source": [
    "import feedparser as fp\n",
    "import pandas as pd"
   ]
  },
  {
   "cell_type": "code",
   "execution_count": 2,
   "metadata": {},
   "outputs": [
    {
     "name": "stdout",
     "output_type": "stream",
     "text": [
      "Collecting feedparser\n",
      "  Downloading feedparser-6.0.10-py3-none-any.whl (81 kB)\n",
      "     -------------------------------------- 81.1/81.1 kB 323.6 kB/s eta 0:00:00\n",
      "Collecting sgmllib3k\n",
      "  Downloading sgmllib3k-1.0.0.tar.gz (5.8 kB)\n",
      "  Preparing metadata (setup.py): started\n",
      "  Preparing metadata (setup.py): finished with status 'done'\n",
      "Installing collected packages: sgmllib3k, feedparser\n",
      "  Running setup.py install for sgmllib3k: started\n",
      "  Running setup.py install for sgmllib3k: finished with status 'done'\n",
      "Successfully installed feedparser-6.0.10 sgmllib3k-1.0.0\n",
      "Note: you may need to restart the kernel to use updated packages.\n"
     ]
    },
    {
     "name": "stderr",
     "output_type": "stream",
     "text": [
      "  DEPRECATION: sgmllib3k is being installed using the legacy 'setup.py install' method, because it does not have a 'pyproject.toml' and the 'wheel' package is not installed. pip 23.1 will enforce this behaviour change. A possible replacement is to enable the '--use-pep517' option. Discussion can be found at https://github.com/pypa/pip/issues/8559\n",
      "\n",
      "[notice] A new release of pip available: 22.3.1 -> 23.1.2\n",
      "[notice] To update, run: python.exe -m pip install --upgrade pip\n"
     ]
    }
   ],
   "source": [
    "%pip install feedparser"
   ]
  },
  {
   "attachments": {},
   "cell_type": "markdown",
   "metadata": {},
   "source": [
    "### 1. Use feedparser to parse the following RSS feed URL."
   ]
  },
  {
   "cell_type": "code",
   "execution_count": 3,
   "metadata": {},
   "outputs": [],
   "source": [
    "nassa=fp.parse('https://www.nasa.gov/rss/dyn/breaking_news.rss')"
   ]
  },
  {
   "cell_type": "code",
   "execution_count": 4,
   "metadata": {},
   "outputs": [
    {
     "data": {
      "text/plain": [
       "feedparser.util.FeedParserDict"
      ]
     },
     "execution_count": 4,
     "metadata": {},
     "output_type": "execute_result"
    }
   ],
   "source": [
    "type(nassa)"
   ]
  },
  {
   "attachments": {},
   "cell_type": "markdown",
   "metadata": {},
   "source": [
    "### 2. Obtain a list of components (keys) that are available for this feed."
   ]
  },
  {
   "cell_type": "code",
   "execution_count": 5,
   "metadata": {},
   "outputs": [
    {
     "data": {
      "text/plain": [
       "dict_keys(['bozo', 'entries', 'feed', 'headers', 'href', 'status', 'encoding', 'version', 'namespaces'])"
      ]
     },
     "execution_count": 5,
     "metadata": {},
     "output_type": "execute_result"
    }
   ],
   "source": [
    "nassa.keys()"
   ]
  },
  {
   "attachments": {},
   "cell_type": "markdown",
   "metadata": {},
   "source": [
    "### 3. Obtain a list of components (keys) that are available for the *feed* component of this RSS feed."
   ]
  },
  {
   "cell_type": "code",
   "execution_count": 6,
   "metadata": {},
   "outputs": [
    {
     "data": {
      "text/plain": [
       "dict_keys(['language', 'title', 'title_detail', 'subtitle', 'subtitle_detail', 'links', 'link', 'authors', 'author', 'author_detail', 'publisher', 'publisher_detail', 'docs'])"
      ]
     },
     "execution_count": 6,
     "metadata": {},
     "output_type": "execute_result"
    }
   ],
   "source": [
    "nassa['feed'].keys()"
   ]
  },
  {
   "attachments": {},
   "cell_type": "markdown",
   "metadata": {},
   "source": [
    "### 4. Extract and print the feed title, subtitle, author, and link."
   ]
  },
  {
   "cell_type": "code",
   "execution_count": 7,
   "metadata": {},
   "outputs": [
    {
     "data": {
      "text/plain": [
       "('NASA Breaking News',\n",
       " 'A RSS news feed containing the latest NASA news articles and press releases.',\n",
       " 'http://www.nasa.gov/')"
      ]
     },
     "execution_count": 7,
     "metadata": {},
     "output_type": "execute_result"
    }
   ],
   "source": [
    "nassa['feed']['title'],nassa['feed']['subtitle'],nassa['feed']['link']"
   ]
  },
  {
   "attachments": {},
   "cell_type": "markdown",
   "metadata": {},
   "source": [
    "### 5. Count the number of entries that are contained in this RSS feed."
   ]
  },
  {
   "cell_type": "code",
   "execution_count": 8,
   "metadata": {},
   "outputs": [
    {
     "data": {
      "text/plain": [
       "10"
      ]
     },
     "execution_count": 8,
     "metadata": {},
     "output_type": "execute_result"
    }
   ],
   "source": [
    "len(nassa['entries'])"
   ]
  },
  {
   "attachments": {},
   "cell_type": "markdown",
   "metadata": {},
   "source": [
    "### 6. Obtain a list of components (keys) available for an entry.\n",
    "\n",
    "*Hint: Remember to index first before requesting the keys*"
   ]
  },
  {
   "cell_type": "code",
   "execution_count": 9,
   "metadata": {},
   "outputs": [
    {
     "data": {
      "text/plain": [
       "{'title': 'NASA Welcomes Czech Foreign Minister for Artemis Accords Signing',\n",
       " 'title_detail': {'type': 'text/plain',\n",
       "  'language': 'en',\n",
       "  'base': 'http://www.nasa.gov/',\n",
       "  'value': 'NASA Welcomes Czech Foreign Minister for Artemis Accords Signing'},\n",
       " 'links': [{'rel': 'alternate',\n",
       "   'type': 'text/html',\n",
       "   'href': 'http://www.nasa.gov/press-release/nasa-welcomes-czech-foreign-minister-for-artemis-accords-signing'},\n",
       "  {'length': '2620728',\n",
       "   'type': 'image/jpeg',\n",
       "   'href': 'http://www.nasa.gov/sites/default/files/styles/1x1_cardfeed/public/thumbnails/image/nhq202305030001.jpeg?itok=UafnYVHD',\n",
       "   'rel': 'enclosure'}],\n",
       " 'link': 'http://www.nasa.gov/press-release/nasa-welcomes-czech-foreign-minister-for-artemis-accords-signing',\n",
       " 'summary': 'During a ceremony at NASA Headquarters in Washington Wednesday, the Czech Republic became the 24th country to sign the Artemis Accords. NASA Administrator Bill Nelson participated in the signing ceremony for the agency and Foreign Minister Jan Lipavský signed the Artemis Accords on behalf of the Czech Republic.',\n",
       " 'summary_detail': {'type': 'text/html',\n",
       "  'language': 'en',\n",
       "  'base': 'http://www.nasa.gov/',\n",
       "  'value': 'During a ceremony at NASA Headquarters in Washington Wednesday, the Czech Republic became the 24th country to sign the Artemis Accords. NASA Administrator Bill Nelson participated in the signing ceremony for the agency and Foreign Minister Jan Lipavský signed the Artemis Accords on behalf of the Czech Republic.'},\n",
       " 'id': 'http://www.nasa.gov/press-release/nasa-welcomes-czech-foreign-minister-for-artemis-accords-signing',\n",
       " 'guidislink': False,\n",
       " 'published': 'Wed, 03 May 2023 10:36 EDT',\n",
       " 'published_parsed': time.struct_time(tm_year=2023, tm_mon=5, tm_mday=3, tm_hour=14, tm_min=36, tm_sec=0, tm_wday=2, tm_yday=123, tm_isdst=0),\n",
       " 'source': {'href': 'http://www.nasa.gov/rss/dyn/breaking_news.rss',\n",
       "  'title': 'NASA Breaking News'},\n",
       " 'dc_identifier': '487001'}"
      ]
     },
     "execution_count": 9,
     "metadata": {},
     "output_type": "execute_result"
    }
   ],
   "source": [
    "nassa['entries'][0]"
   ]
  },
  {
   "attachments": {},
   "cell_type": "markdown",
   "metadata": {},
   "source": [
    "### 7. Extract a list of entry titles."
   ]
  },
  {
   "cell_type": "code",
   "execution_count": 10,
   "metadata": {},
   "outputs": [
    {
     "data": {
      "text/plain": [
       "['NASA Welcomes Czech Foreign Minister for Artemis Accords Signing',\n",
       " 'NASA Sets Coverage for Dragon Port Relocation on Space Station',\n",
       " 'Entrepreneurs to Pitch Ideas for Future in NASA ‘Space Tank’',\n",
       " 'NASA Updates Coverage of Roscosmos Spacewalks at Space Station',\n",
       " 'NASA Sets Coverage for Czech Republic Artemis Accords Signing Ceremony',\n",
       " 'NASA Experts Available for Interviews About Sea and Sky Campaign',\n",
       " 'NASA Announces Winners of 2023 Human Exploration Rover Challenge',\n",
       " 'NASA Selects 12 Companies to Collaborate on Key Technology Development',\n",
       " 'NASA Announces Student Winners of Power to Explore Challenge',\n",
       " 'NASA, Rocket Lab Set Coverage for Tropical Cyclones Mission']"
      ]
     },
     "execution_count": 10,
     "metadata": {},
     "output_type": "execute_result"
    }
   ],
   "source": [
    "lista=[e['title'] for e in nassa['entries']]\n",
    "lista"
   ]
  },
  {
   "attachments": {},
   "cell_type": "markdown",
   "metadata": {},
   "source": [
    "### 8. Calculate the percentage of \"Four short links\" entry titles."
   ]
  },
  {
   "cell_type": "code",
   "execution_count": null,
   "metadata": {},
   "outputs": [],
   "source": []
  },
  {
   "attachments": {},
   "cell_type": "markdown",
   "metadata": {},
   "source": [
    "### 9. Create a Pandas data frame from the feed's entries."
   ]
  },
  {
   "cell_type": "code",
   "execution_count": 21,
   "metadata": {},
   "outputs": [
    {
     "data": {
      "text/html": [
       "<div>\n",
       "<style scoped>\n",
       "    .dataframe tbody tr th:only-of-type {\n",
       "        vertical-align: middle;\n",
       "    }\n",
       "\n",
       "    .dataframe tbody tr th {\n",
       "        vertical-align: top;\n",
       "    }\n",
       "\n",
       "    .dataframe thead th {\n",
       "        text-align: right;\n",
       "    }\n",
       "</style>\n",
       "<table border=\"1\" class=\"dataframe\">\n",
       "  <thead>\n",
       "    <tr style=\"text-align: right;\">\n",
       "      <th></th>\n",
       "      <th>title</th>\n",
       "      <th>link</th>\n",
       "      <th>summary</th>\n",
       "      <th>id</th>\n",
       "      <th>published</th>\n",
       "      <th>published_parsed</th>\n",
       "      <th>source</th>\n",
       "      <th>dc_identifier</th>\n",
       "    </tr>\n",
       "  </thead>\n",
       "  <tbody>\n",
       "    <tr>\n",
       "      <th>0</th>\n",
       "      <td>NASA Welcomes Czech Foreign Minister for Artem...</td>\n",
       "      <td>http://www.nasa.gov/press-release/nasa-welcome...</td>\n",
       "      <td>During a ceremony at NASA Headquarters in Wash...</td>\n",
       "      <td>http://www.nasa.gov/press-release/nasa-welcome...</td>\n",
       "      <td>Wed, 03 May 2023 10:36 EDT</td>\n",
       "      <td>(2023, 5, 3, 14, 36, 0, 2, 123, 0)</td>\n",
       "      <td>{'href': 'http://www.nasa.gov/rss/dyn/breaking...</td>\n",
       "      <td>487001</td>\n",
       "    </tr>\n",
       "    <tr>\n",
       "      <th>1</th>\n",
       "      <td>NASA Sets Coverage for Dragon Port Relocation ...</td>\n",
       "      <td>http://www.nasa.gov/press-release/nasa-sets-co...</td>\n",
       "      <td>Four crew members aboard the International Spa...</td>\n",
       "      <td>http://www.nasa.gov/press-release/nasa-sets-co...</td>\n",
       "      <td>Mon, 01 May 2023 15:06 EDT</td>\n",
       "      <td>(2023, 5, 1, 19, 6, 0, 0, 121, 0)</td>\n",
       "      <td>{'href': 'http://www.nasa.gov/rss/dyn/breaking...</td>\n",
       "      <td>486960</td>\n",
       "    </tr>\n",
       "    <tr>\n",
       "      <th>2</th>\n",
       "      <td>Entrepreneurs to Pitch Ideas for Future in NAS...</td>\n",
       "      <td>http://www.nasa.gov/press-release/entrepreneur...</td>\n",
       "      <td>College students in NASA’s Minority University...</td>\n",
       "      <td>http://www.nasa.gov/press-release/entrepreneur...</td>\n",
       "      <td>Thu, 27 Apr 2023 14:02 EDT</td>\n",
       "      <td>(2023, 4, 27, 18, 2, 0, 3, 117, 0)</td>\n",
       "      <td>{'href': 'http://www.nasa.gov/rss/dyn/breaking...</td>\n",
       "      <td>486922</td>\n",
       "    </tr>\n",
       "    <tr>\n",
       "      <th>3</th>\n",
       "      <td>NASA Updates Coverage of Roscosmos Spacewalks ...</td>\n",
       "      <td>http://www.nasa.gov/press-release/nasa-updates...</td>\n",
       "      <td>NASA will provide live coverage as two Roscosm...</td>\n",
       "      <td>http://www.nasa.gov/press-release/nasa-updates...</td>\n",
       "      <td>Wed, 26 Apr 2023 14:59 EDT</td>\n",
       "      <td>(2023, 4, 26, 18, 59, 0, 2, 116, 0)</td>\n",
       "      <td>{'href': 'http://www.nasa.gov/rss/dyn/breaking...</td>\n",
       "      <td>486897</td>\n",
       "    </tr>\n",
       "    <tr>\n",
       "      <th>4</th>\n",
       "      <td>NASA Sets Coverage for Czech Republic Artemis ...</td>\n",
       "      <td>http://www.nasa.gov/press-release/nasa-sets-co...</td>\n",
       "      <td>The Czech Republic is expected to sign the Art...</td>\n",
       "      <td>http://www.nasa.gov/press-release/nasa-sets-co...</td>\n",
       "      <td>Wed, 26 Apr 2023 14:49 EDT</td>\n",
       "      <td>(2023, 4, 26, 18, 49, 0, 2, 116, 0)</td>\n",
       "      <td>{'href': 'http://www.nasa.gov/rss/dyn/breaking...</td>\n",
       "      <td>486898</td>\n",
       "    </tr>\n",
       "    <tr>\n",
       "      <th>5</th>\n",
       "      <td>NASA Experts Available for Interviews About Se...</td>\n",
       "      <td>http://www.nasa.gov/press-release/nasa-experts...</td>\n",
       "      <td>This spring, NASA’s S-MODE (Sub-Mesoscale Ocea...</td>\n",
       "      <td>http://www.nasa.gov/press-release/nasa-experts...</td>\n",
       "      <td>Wed, 26 Apr 2023 14:09 EDT</td>\n",
       "      <td>(2023, 4, 26, 18, 9, 0, 2, 116, 0)</td>\n",
       "      <td>{'href': 'http://www.nasa.gov/rss/dyn/breaking...</td>\n",
       "      <td>486894</td>\n",
       "    </tr>\n",
       "    <tr>\n",
       "      <th>6</th>\n",
       "      <td>NASA Announces Winners of 2023 Human Explorati...</td>\n",
       "      <td>http://www.nasa.gov/press-release/nasa-announc...</td>\n",
       "      <td>NASA has announced the winners of the 2023 Hum...</td>\n",
       "      <td>http://www.nasa.gov/press-release/nasa-announc...</td>\n",
       "      <td>Wed, 26 Apr 2023 09:04 EDT</td>\n",
       "      <td>(2023, 4, 26, 13, 4, 0, 2, 116, 0)</td>\n",
       "      <td>{'href': 'http://www.nasa.gov/rss/dyn/breaking...</td>\n",
       "      <td>486884</td>\n",
       "    </tr>\n",
       "    <tr>\n",
       "      <th>7</th>\n",
       "      <td>NASA Selects 12 Companies to Collaborate on Ke...</td>\n",
       "      <td>http://www.nasa.gov/press-release/nasa-selects...</td>\n",
       "      <td>NASA has selected 16 proposals from 12 compani...</td>\n",
       "      <td>http://www.nasa.gov/press-release/nasa-selects...</td>\n",
       "      <td>Tue, 25 Apr 2023 14:31 EDT</td>\n",
       "      <td>(2023, 4, 25, 18, 31, 0, 1, 115, 0)</td>\n",
       "      <td>{'href': 'http://www.nasa.gov/rss/dyn/breaking...</td>\n",
       "      <td>486867</td>\n",
       "    </tr>\n",
       "    <tr>\n",
       "      <th>8</th>\n",
       "      <td>NASA Announces Student Winners of Power to Exp...</td>\n",
       "      <td>http://www.nasa.gov/press-release/nasa-announc...</td>\n",
       "      <td>NASA selected three winners out of nine finali...</td>\n",
       "      <td>http://www.nasa.gov/press-release/nasa-announc...</td>\n",
       "      <td>Tue, 25 Apr 2023 10:30 EDT</td>\n",
       "      <td>(2023, 4, 25, 14, 30, 0, 1, 115, 0)</td>\n",
       "      <td>{'href': 'http://www.nasa.gov/rss/dyn/breaking...</td>\n",
       "      <td>486862</td>\n",
       "    </tr>\n",
       "    <tr>\n",
       "      <th>9</th>\n",
       "      <td>NASA, Rocket Lab Set Coverage for Tropical Cyc...</td>\n",
       "      <td>http://www.nasa.gov/press-release/nasa-rocket-...</td>\n",
       "      <td>NASA and Rocket Lab are targeting 9 p.m. EDT, ...</td>\n",
       "      <td>http://www.nasa.gov/press-release/nasa-rocket-...</td>\n",
       "      <td>Mon, 24 Apr 2023 15:18 EDT</td>\n",
       "      <td>(2023, 4, 24, 19, 18, 0, 0, 114, 0)</td>\n",
       "      <td>{'href': 'http://www.nasa.gov/rss/dyn/breaking...</td>\n",
       "      <td>486848</td>\n",
       "    </tr>\n",
       "  </tbody>\n",
       "</table>\n",
       "</div>"
      ],
      "text/plain": [
       "                                               title   \n",
       "0  NASA Welcomes Czech Foreign Minister for Artem...  \\\n",
       "1  NASA Sets Coverage for Dragon Port Relocation ...   \n",
       "2  Entrepreneurs to Pitch Ideas for Future in NAS...   \n",
       "3  NASA Updates Coverage of Roscosmos Spacewalks ...   \n",
       "4  NASA Sets Coverage for Czech Republic Artemis ...   \n",
       "5  NASA Experts Available for Interviews About Se...   \n",
       "6  NASA Announces Winners of 2023 Human Explorati...   \n",
       "7  NASA Selects 12 Companies to Collaborate on Ke...   \n",
       "8  NASA Announces Student Winners of Power to Exp...   \n",
       "9  NASA, Rocket Lab Set Coverage for Tropical Cyc...   \n",
       "\n",
       "                                                link   \n",
       "0  http://www.nasa.gov/press-release/nasa-welcome...  \\\n",
       "1  http://www.nasa.gov/press-release/nasa-sets-co...   \n",
       "2  http://www.nasa.gov/press-release/entrepreneur...   \n",
       "3  http://www.nasa.gov/press-release/nasa-updates...   \n",
       "4  http://www.nasa.gov/press-release/nasa-sets-co...   \n",
       "5  http://www.nasa.gov/press-release/nasa-experts...   \n",
       "6  http://www.nasa.gov/press-release/nasa-announc...   \n",
       "7  http://www.nasa.gov/press-release/nasa-selects...   \n",
       "8  http://www.nasa.gov/press-release/nasa-announc...   \n",
       "9  http://www.nasa.gov/press-release/nasa-rocket-...   \n",
       "\n",
       "                                             summary   \n",
       "0  During a ceremony at NASA Headquarters in Wash...  \\\n",
       "1  Four crew members aboard the International Spa...   \n",
       "2  College students in NASA’s Minority University...   \n",
       "3  NASA will provide live coverage as two Roscosm...   \n",
       "4  The Czech Republic is expected to sign the Art...   \n",
       "5  This spring, NASA’s S-MODE (Sub-Mesoscale Ocea...   \n",
       "6  NASA has announced the winners of the 2023 Hum...   \n",
       "7  NASA has selected 16 proposals from 12 compani...   \n",
       "8  NASA selected three winners out of nine finali...   \n",
       "9  NASA and Rocket Lab are targeting 9 p.m. EDT, ...   \n",
       "\n",
       "                                                  id   \n",
       "0  http://www.nasa.gov/press-release/nasa-welcome...  \\\n",
       "1  http://www.nasa.gov/press-release/nasa-sets-co...   \n",
       "2  http://www.nasa.gov/press-release/entrepreneur...   \n",
       "3  http://www.nasa.gov/press-release/nasa-updates...   \n",
       "4  http://www.nasa.gov/press-release/nasa-sets-co...   \n",
       "5  http://www.nasa.gov/press-release/nasa-experts...   \n",
       "6  http://www.nasa.gov/press-release/nasa-announc...   \n",
       "7  http://www.nasa.gov/press-release/nasa-selects...   \n",
       "8  http://www.nasa.gov/press-release/nasa-announc...   \n",
       "9  http://www.nasa.gov/press-release/nasa-rocket-...   \n",
       "\n",
       "                    published                     published_parsed   \n",
       "0  Wed, 03 May 2023 10:36 EDT   (2023, 5, 3, 14, 36, 0, 2, 123, 0)  \\\n",
       "1  Mon, 01 May 2023 15:06 EDT    (2023, 5, 1, 19, 6, 0, 0, 121, 0)   \n",
       "2  Thu, 27 Apr 2023 14:02 EDT   (2023, 4, 27, 18, 2, 0, 3, 117, 0)   \n",
       "3  Wed, 26 Apr 2023 14:59 EDT  (2023, 4, 26, 18, 59, 0, 2, 116, 0)   \n",
       "4  Wed, 26 Apr 2023 14:49 EDT  (2023, 4, 26, 18, 49, 0, 2, 116, 0)   \n",
       "5  Wed, 26 Apr 2023 14:09 EDT   (2023, 4, 26, 18, 9, 0, 2, 116, 0)   \n",
       "6  Wed, 26 Apr 2023 09:04 EDT   (2023, 4, 26, 13, 4, 0, 2, 116, 0)   \n",
       "7  Tue, 25 Apr 2023 14:31 EDT  (2023, 4, 25, 18, 31, 0, 1, 115, 0)   \n",
       "8  Tue, 25 Apr 2023 10:30 EDT  (2023, 4, 25, 14, 30, 0, 1, 115, 0)   \n",
       "9  Mon, 24 Apr 2023 15:18 EDT  (2023, 4, 24, 19, 18, 0, 0, 114, 0)   \n",
       "\n",
       "                                              source dc_identifier  \n",
       "0  {'href': 'http://www.nasa.gov/rss/dyn/breaking...        487001  \n",
       "1  {'href': 'http://www.nasa.gov/rss/dyn/breaking...        486960  \n",
       "2  {'href': 'http://www.nasa.gov/rss/dyn/breaking...        486922  \n",
       "3  {'href': 'http://www.nasa.gov/rss/dyn/breaking...        486897  \n",
       "4  {'href': 'http://www.nasa.gov/rss/dyn/breaking...        486898  \n",
       "5  {'href': 'http://www.nasa.gov/rss/dyn/breaking...        486894  \n",
       "6  {'href': 'http://www.nasa.gov/rss/dyn/breaking...        486884  \n",
       "7  {'href': 'http://www.nasa.gov/rss/dyn/breaking...        486867  \n",
       "8  {'href': 'http://www.nasa.gov/rss/dyn/breaking...        486862  \n",
       "9  {'href': 'http://www.nasa.gov/rss/dyn/breaking...        486848  "
      ]
     },
     "execution_count": 21,
     "metadata": {},
     "output_type": "execute_result"
    }
   ],
   "source": [
    "df=pd.DataFrame(nassa['entries']).drop(columns=['title_detail','links','summary_detail','guidislink'])\n",
    "df"
   ]
  },
  {
   "attachments": {},
   "cell_type": "markdown",
   "metadata": {},
   "source": [
    "### 10. Count the number of entries per author and sort them in descending order."
   ]
  },
  {
   "cell_type": "code",
   "execution_count": 20,
   "metadata": {},
   "outputs": [
    {
     "data": {
      "text/plain": [
       "['486848',\n",
       " '486862',\n",
       " '486867',\n",
       " '486884',\n",
       " '486894',\n",
       " '486897',\n",
       " '486898',\n",
       " '486922',\n",
       " '486960',\n",
       " '487001']"
      ]
     },
     "execution_count": 20,
     "metadata": {},
     "output_type": "execute_result"
    }
   ],
   "source": [
    "sorted([e['dc_identifier']for e in nassa['entries']])"
   ]
  },
  {
   "attachments": {},
   "cell_type": "markdown",
   "metadata": {},
   "source": [
    "### 11. Add a new column to the data frame that contains the length (number of characters) of each entry title. Return a data frame that contains the title, author, and title length of each entry in descending order (longest title length at the top)."
   ]
  },
  {
   "cell_type": "code",
   "execution_count": 29,
   "metadata": {},
   "outputs": [
    {
     "data": {
      "text/html": [
       "<div>\n",
       "<style scoped>\n",
       "    .dataframe tbody tr th:only-of-type {\n",
       "        vertical-align: middle;\n",
       "    }\n",
       "\n",
       "    .dataframe tbody tr th {\n",
       "        vertical-align: top;\n",
       "    }\n",
       "\n",
       "    .dataframe thead th {\n",
       "        text-align: right;\n",
       "    }\n",
       "</style>\n",
       "<table border=\"1\" class=\"dataframe\">\n",
       "  <thead>\n",
       "    <tr style=\"text-align: right;\">\n",
       "      <th></th>\n",
       "      <th>title</th>\n",
       "      <th>length</th>\n",
       "    </tr>\n",
       "  </thead>\n",
       "  <tbody>\n",
       "    <tr>\n",
       "      <th>0</th>\n",
       "      <td>NASA Welcomes Czech Foreign Minister for Artem...</td>\n",
       "      <td>64</td>\n",
       "    </tr>\n",
       "    <tr>\n",
       "      <th>1</th>\n",
       "      <td>NASA Sets Coverage for Dragon Port Relocation ...</td>\n",
       "      <td>62</td>\n",
       "    </tr>\n",
       "    <tr>\n",
       "      <th>2</th>\n",
       "      <td>Entrepreneurs to Pitch Ideas for Future in NAS...</td>\n",
       "      <td>60</td>\n",
       "    </tr>\n",
       "    <tr>\n",
       "      <th>3</th>\n",
       "      <td>NASA Updates Coverage of Roscosmos Spacewalks ...</td>\n",
       "      <td>62</td>\n",
       "    </tr>\n",
       "    <tr>\n",
       "      <th>4</th>\n",
       "      <td>NASA Sets Coverage for Czech Republic Artemis ...</td>\n",
       "      <td>70</td>\n",
       "    </tr>\n",
       "    <tr>\n",
       "      <th>5</th>\n",
       "      <td>NASA Experts Available for Interviews About Se...</td>\n",
       "      <td>64</td>\n",
       "    </tr>\n",
       "    <tr>\n",
       "      <th>6</th>\n",
       "      <td>NASA Announces Winners of 2023 Human Explorati...</td>\n",
       "      <td>64</td>\n",
       "    </tr>\n",
       "    <tr>\n",
       "      <th>7</th>\n",
       "      <td>NASA Selects 12 Companies to Collaborate on Ke...</td>\n",
       "      <td>70</td>\n",
       "    </tr>\n",
       "    <tr>\n",
       "      <th>8</th>\n",
       "      <td>NASA Announces Student Winners of Power to Exp...</td>\n",
       "      <td>60</td>\n",
       "    </tr>\n",
       "    <tr>\n",
       "      <th>9</th>\n",
       "      <td>NASA, Rocket Lab Set Coverage for Tropical Cyc...</td>\n",
       "      <td>59</td>\n",
       "    </tr>\n",
       "  </tbody>\n",
       "</table>\n",
       "</div>"
      ],
      "text/plain": [
       "                                               title  length\n",
       "0  NASA Welcomes Czech Foreign Minister for Artem...      64\n",
       "1  NASA Sets Coverage for Dragon Port Relocation ...      62\n",
       "2  Entrepreneurs to Pitch Ideas for Future in NAS...      60\n",
       "3  NASA Updates Coverage of Roscosmos Spacewalks ...      62\n",
       "4  NASA Sets Coverage for Czech Republic Artemis ...      70\n",
       "5  NASA Experts Available for Interviews About Se...      64\n",
       "6  NASA Announces Winners of 2023 Human Explorati...      64\n",
       "7  NASA Selects 12 Companies to Collaborate on Ke...      70\n",
       "8  NASA Announces Student Winners of Power to Exp...      60\n",
       "9  NASA, Rocket Lab Set Coverage for Tropical Cyc...      59"
      ]
     },
     "execution_count": 29,
     "metadata": {},
     "output_type": "execute_result"
    }
   ],
   "source": [
    "df['length']=df['title'].apply(len)\n",
    "sol=df[['title','length']]\n",
    "sol\n"
   ]
  },
  {
   "attachments": {},
   "cell_type": "markdown",
   "metadata": {},
   "source": [
    "### 12. Create a list of entry titles whose summary includes the phrase \"machine learning.\""
   ]
  },
  {
   "cell_type": "code",
   "execution_count": 46,
   "metadata": {},
   "outputs": [
    {
     "data": {
      "text/plain": [
       "0    During a ceremony at NASA Headquarters in Wash...\n",
       "1    Four crew members aboard the International Spa...\n",
       "2    College students in NASA’s Minority University...\n",
       "3    NASA will provide live coverage as two Roscosm...\n",
       "4    The Czech Republic is expected to sign the Art...\n",
       "5    This spring, NASA’s S-MODE (Sub-Mesoscale Ocea...\n",
       "6    NASA has announced the winners of the 2023 Hum...\n",
       "7    NASA has selected 16 proposals from 12 compani...\n",
       "8    NASA selected three winners out of nine finali...\n",
       "9    NASA and Rocket Lab are targeting 9 p.m. EDT, ...\n",
       "Name: summary_detail, dtype: object"
      ]
     },
     "execution_count": 46,
     "metadata": {},
     "output_type": "execute_result"
    }
   ],
   "source": [
    "pd.DataFrame(nassa['entries'])['summary_detail'].apply(lambda x : x['value'] )"
   ]
  },
  {
   "cell_type": "code",
   "execution_count": 41,
   "metadata": {},
   "outputs": [
    {
     "data": {
      "text/plain": [
       "0    none\n",
       "1    none\n",
       "2    none\n",
       "3    none\n",
       "4    none\n",
       "5    none\n",
       "6    none\n",
       "7    none\n",
       "8    none\n",
       "9    none\n",
       "Name: summary_detail, dtype: object"
      ]
     },
     "execution_count": 41,
     "metadata": {},
     "output_type": "execute_result"
    }
   ],
   "source": [
    "pd.DataFrame(nassa['entries'])['summary_detail'].apply(lambda x :x if 'machine learning' in x['value'] else 'none')"
   ]
  },
  {
   "cell_type": "code",
   "execution_count": null,
   "metadata": {},
   "outputs": [],
   "source": []
  }
 ],
 "metadata": {
  "kernelspec": {
   "display_name": "Python 3 (ipykernel)",
   "language": "python",
   "name": "python3"
  },
  "language_info": {
   "codemirror_mode": {
    "name": "ipython",
    "version": 3
   },
   "file_extension": ".py",
   "mimetype": "text/x-python",
   "name": "python",
   "nbconvert_exporter": "python",
   "pygments_lexer": "ipython3",
   "version": "3.11.3"
  }
 },
 "nbformat": 4,
 "nbformat_minor": 2
}
