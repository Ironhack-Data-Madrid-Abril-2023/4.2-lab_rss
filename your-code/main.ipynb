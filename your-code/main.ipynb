{
 "cells": [
  {
   "cell_type": "markdown",
   "metadata": {},
   "source": [
    "# Working with RSS Feeds Lab\n",
    "\n",
    "Complete the following set of exercises to solidify your knowledge of parsing RSS feeds and extracting information from them."
   ]
  },
  {
   "cell_type": "code",
   "execution_count": 16,
   "metadata": {},
   "outputs": [
    {
     "name": "stdout",
     "output_type": "stream",
     "text": [
      "Defaulting to user installation because normal site-packages is not writeable\n",
      "Requirement already satisfied: feedparser in /Users/monicaclaroscadima/Library/Python/3.9/lib/python/site-packages (6.0.10)\n",
      "Requirement already satisfied: sgmllib3k in /Users/monicaclaroscadima/Library/Python/3.9/lib/python/site-packages (from feedparser) (1.0.0)\n",
      "\u001b[33mWARNING: You are using pip version 21.2.4; however, version 23.1.2 is available.\n",
      "You should consider upgrading via the '/Applications/Xcode.app/Contents/Developer/usr/bin/python3 -m pip install --upgrade pip' command.\u001b[0m\n",
      "Note: you may need to restart the kernel to use updated packages.\n"
     ]
    }
   ],
   "source": [
    "%pip install feedparser\n",
    "import feedparser"
   ]
  },
  {
   "cell_type": "markdown",
   "metadata": {},
   "source": [
    "### 1. Use feedparser to parse the following RSS feed URL."
   ]
  },
  {
   "cell_type": "code",
   "execution_count": 17,
   "metadata": {},
   "outputs": [],
   "source": [
    "nasaedu = feedparser.parse('https://www.nasa.gov/rss/dyn/educationnews.rss')"
   ]
  },
  {
   "cell_type": "code",
   "execution_count": 18,
   "metadata": {},
   "outputs": [
    {
     "name": "stdout",
     "output_type": "stream",
     "text": [
      "{'language': 'en-us', 'title': 'Education News', 'title_detail': {'type': 'text/plain', 'language': 'en', 'base': 'http://www.nasa.gov/', 'value': 'Education News'}, 'subtitle': 'A RSS feed containing the latest education related news from NASA.', 'subtitle_detail': {'type': 'text/html', 'language': 'en', 'base': 'http://www.nasa.gov/', 'value': 'A RSS feed containing the latest education related news from NASA.'}, 'links': [{'rel': 'alternate', 'type': 'text/html', 'href': 'http://www.nasa.gov/'}, {'rel': 'self', 'href': 'http://www.nasa.gov/rss/dyn/educationnews.rss', 'type': 'application/atom+xml'}], 'link': 'http://www.nasa.gov/', 'authors': [{'email': 'sandra.b.may@nasa.gov'}], 'author': 'sandra.b.may@nasa.gov', 'author_detail': {'email': 'sandra.b.may@nasa.gov'}, 'publisher': 'brian.dunbar@nasa.gov', 'publisher_detail': {'email': 'brian.dunbar@nasa.gov'}}\n"
     ]
    }
   ],
   "source": [
    "print(nasaedu['feed'])"
   ]
  },
  {
   "cell_type": "markdown",
   "metadata": {},
   "source": [
    "### 2. Obtain a list of components (keys) that are available for this feed."
   ]
  },
  {
   "cell_type": "code",
   "execution_count": 19,
   "metadata": {},
   "outputs": [
    {
     "data": {
      "text/plain": [
       "dict_keys(['bozo', 'entries', 'feed', 'headers', 'href', 'status', 'encoding', 'version', 'namespaces'])"
      ]
     },
     "execution_count": 19,
     "metadata": {},
     "output_type": "execute_result"
    }
   ],
   "source": [
    "nasaedu.keys()"
   ]
  },
  {
   "cell_type": "markdown",
   "metadata": {},
   "source": [
    "### 3. Obtain a list of components (keys) that are available for the *feed* component of this RSS feed."
   ]
  },
  {
   "cell_type": "code",
   "execution_count": 20,
   "metadata": {},
   "outputs": [
    {
     "data": {
      "text/plain": [
       "dict_keys(['language', 'title', 'title_detail', 'subtitle', 'subtitle_detail', 'links', 'link', 'authors', 'author', 'author_detail', 'publisher', 'publisher_detail'])"
      ]
     },
     "execution_count": 20,
     "metadata": {},
     "output_type": "execute_result"
    }
   ],
   "source": [
    "nasaedu.feed.keys()"
   ]
  },
  {
   "cell_type": "markdown",
   "metadata": {},
   "source": [
    "### 4. Extract and print the feed title, subtitle, author, and link."
   ]
  },
  {
   "cell_type": "code",
   "execution_count": 21,
   "metadata": {},
   "outputs": [
    {
     "name": "stdout",
     "output_type": "stream",
     "text": [
      "Education News\n",
      "\n",
      "A RSS feed containing the latest education related news from NASA.\n",
      "Education News\n",
      "\n",
      "A RSS feed containing the latest education related news from NASA.\n",
      "\n"
     ]
    }
   ],
   "source": [
    "print (nasaedu.feed.title)\n",
    "print ('')\n",
    "print (nasaedu.feed.subtitle)\n",
    "print (nasaedu.feed.title)\n",
    "print ('')\n",
    "print (nasaedu.feed.subtitle)\n",
    "print ('')"
   ]
  },
  {
   "cell_type": "markdown",
   "metadata": {},
   "source": [
    "### 5. Count the number of entries that are contained in this RSS feed."
   ]
  },
  {
   "cell_type": "code",
   "execution_count": 22,
   "metadata": {},
   "outputs": [
    {
     "data": {
      "text/plain": [
       "11"
      ]
     },
     "execution_count": 22,
     "metadata": {},
     "output_type": "execute_result"
    }
   ],
   "source": [
    "len(nasaedu.entries[0])"
   ]
  },
  {
   "cell_type": "markdown",
   "metadata": {},
   "source": [
    "### 6. Obtain a list of components (keys) available for an entry.\n",
    "\n",
    "*Hint: Remember to index first before requesting the keys*"
   ]
  },
  {
   "cell_type": "code",
   "execution_count": 23,
   "metadata": {},
   "outputs": [
    {
     "data": {
      "text/plain": [
       "dict_keys(['title', 'title_detail', 'links', 'link', 'summary', 'summary_detail', 'id', 'guidislink', 'published', 'published_parsed', 'source'])"
      ]
     },
     "execution_count": 23,
     "metadata": {},
     "output_type": "execute_result"
    }
   ],
   "source": [
    "nasaedu.entries[0].keys()"
   ]
  },
  {
   "cell_type": "markdown",
   "metadata": {},
   "source": [
    "### 7. Extract a list of entry titles."
   ]
  },
  {
   "cell_type": "code",
   "execution_count": 24,
   "metadata": {},
   "outputs": [
    {
     "name": "stdout",
     "output_type": "stream",
     "text": [
      "['Pi Day Challenge: Solve Stellar Math Problems With NASA', 'NASA Solar System Ambassadors: Sharing the Science for 25 Years', 'Maryland Students, Navy Pilots to Hear from NASA Astronauts in Space', 'NASA Langley STEM Outreach Pays Dividends with Virginia Beach Schools', 'SOAR High School Student Wins NASA Armstrong Scholarship', 'NASA Langley Welcomes Virginia Teachers as Part of 2022 MODSIM Program', 'NASA Interns’ First Day at Goddard', 'NASA Administrator, STEM Partner Connect Orlando Children with Artemis', 'NASA Selects Minority-Serving Institution Proposals to Receive Support', 'NASA Administrator to Launch Artemis Learning Lunchbox Initiative']\n"
     ]
    }
   ],
   "source": [
    "titles = [nasaedu.entries[i].title for i in range(len(nasaedu.entries))]\n",
    "print(titles)"
   ]
  },
  {
   "cell_type": "markdown",
   "metadata": {},
   "source": [
    "### 8. Calculate the percentage of \"Four short links\" entry titles."
   ]
  },
  {
   "cell_type": "code",
   "execution_count": 25,
   "metadata": {},
   "outputs": [],
   "source": [
    "#no entiendo bien la pregunta, es que no entiendo \"4 enlaces cortos\" ¿hay algún parametro?"
   ]
  },
  {
   "cell_type": "markdown",
   "metadata": {},
   "source": [
    "### 9. Create a Pandas data frame from the feed's entries."
   ]
  },
  {
   "cell_type": "code",
   "execution_count": 26,
   "metadata": {},
   "outputs": [],
   "source": [
    "import pandas as pd"
   ]
  },
  {
   "cell_type": "code",
   "execution_count": 27,
   "metadata": {},
   "outputs": [
    {
     "data": {
      "text/html": [
       "<div>\n",
       "<style scoped>\n",
       "    .dataframe tbody tr th:only-of-type {\n",
       "        vertical-align: middle;\n",
       "    }\n",
       "\n",
       "    .dataframe tbody tr th {\n",
       "        vertical-align: top;\n",
       "    }\n",
       "\n",
       "    .dataframe thead th {\n",
       "        text-align: right;\n",
       "    }\n",
       "</style>\n",
       "<table border=\"1\" class=\"dataframe\">\n",
       "  <thead>\n",
       "    <tr style=\"text-align: right;\">\n",
       "      <th></th>\n",
       "      <th>title</th>\n",
       "      <th>title_detail</th>\n",
       "      <th>links</th>\n",
       "      <th>link</th>\n",
       "      <th>summary</th>\n",
       "      <th>summary_detail</th>\n",
       "      <th>id</th>\n",
       "      <th>guidislink</th>\n",
       "      <th>published</th>\n",
       "      <th>published_parsed</th>\n",
       "      <th>source</th>\n",
       "    </tr>\n",
       "  </thead>\n",
       "  <tbody>\n",
       "    <tr>\n",
       "      <th>0</th>\n",
       "      <td>Pi Day Challenge: Solve Stellar Math Problems ...</td>\n",
       "      <td>{'type': 'text/plain', 'language': 'en', 'base...</td>\n",
       "      <td>[{'rel': 'alternate', 'type': 'text/html', 'hr...</td>\n",
       "      <td>http://www.nasa.gov/feature/jpl/pi-day-challen...</td>\n",
       "      <td>The agency’s Jet Propulsion Laboratory celebra...</td>\n",
       "      <td>{'type': 'text/html', 'language': 'en', 'base'...</td>\n",
       "      <td>http://www.nasa.gov/feature/jpl/pi-day-challen...</td>\n",
       "      <td>False</td>\n",
       "      <td>Thu, 09 Mar 2023 14:49 EST</td>\n",
       "      <td>(2023, 3, 9, 19, 49, 0, 3, 68, 0)</td>\n",
       "      <td>{'href': 'http://www.nasa.gov/rss/dyn/educatio...</td>\n",
       "    </tr>\n",
       "    <tr>\n",
       "      <th>1</th>\n",
       "      <td>NASA Solar System Ambassadors: Sharing the Sci...</td>\n",
       "      <td>{'type': 'text/plain', 'language': 'en', 'base...</td>\n",
       "      <td>[{'rel': 'alternate', 'type': 'text/html', 'hr...</td>\n",
       "      <td>http://www.nasa.gov/feature/jpl/nasa-solar-sys...</td>\n",
       "      <td>Volunteers with the program, which is managed ...</td>\n",
       "      <td>{'type': 'text/html', 'language': 'en', 'base'...</td>\n",
       "      <td>http://www.nasa.gov/feature/jpl/nasa-solar-sys...</td>\n",
       "      <td>False</td>\n",
       "      <td>Tue, 01 Nov 2022 14:21 EDT</td>\n",
       "      <td>(2022, 11, 1, 18, 21, 0, 1, 305, 0)</td>\n",
       "      <td>{'href': 'http://www.nasa.gov/rss/dyn/educatio...</td>\n",
       "    </tr>\n",
       "    <tr>\n",
       "      <th>2</th>\n",
       "      <td>Maryland Students, Navy Pilots to Hear from NA...</td>\n",
       "      <td>{'type': 'text/plain', 'language': 'en', 'base...</td>\n",
       "      <td>[{'rel': 'alternate', 'type': 'text/html', 'hr...</td>\n",
       "      <td>http://www.nasa.gov/press-release/maryland-stu...</td>\n",
       "      <td>Pilots from the U.S. Naval Test Pilot School i...</td>\n",
       "      <td>{'type': 'text/html', 'language': 'en', 'base'...</td>\n",
       "      <td>http://www.nasa.gov/press-release/maryland-stu...</td>\n",
       "      <td>False</td>\n",
       "      <td>Mon, 24 Oct 2022 11:26 EDT</td>\n",
       "      <td>(2022, 10, 24, 15, 26, 0, 0, 297, 0)</td>\n",
       "      <td>{'href': 'http://www.nasa.gov/rss/dyn/educatio...</td>\n",
       "    </tr>\n",
       "    <tr>\n",
       "      <th>3</th>\n",
       "      <td>NASA Langley STEM Outreach Pays Dividends with...</td>\n",
       "      <td>{'type': 'text/plain', 'language': 'en', 'base...</td>\n",
       "      <td>[{'rel': 'alternate', 'type': 'text/html', 'hr...</td>\n",
       "      <td>http://www.nasa.gov/feature/langley/nasa-langl...</td>\n",
       "      <td>Students took part in a variety of activities ...</td>\n",
       "      <td>{'type': 'text/html', 'language': 'en', 'base'...</td>\n",
       "      <td>http://www.nasa.gov/feature/langley/nasa-langl...</td>\n",
       "      <td>False</td>\n",
       "      <td>Mon, 01 Aug 2022 08:48 EDT</td>\n",
       "      <td>(2022, 8, 1, 12, 48, 0, 0, 213, 0)</td>\n",
       "      <td>{'href': 'http://www.nasa.gov/rss/dyn/educatio...</td>\n",
       "    </tr>\n",
       "    <tr>\n",
       "      <th>4</th>\n",
       "      <td>SOAR High School Student Wins NASA Armstrong S...</td>\n",
       "      <td>{'type': 'text/plain', 'language': 'en', 'base...</td>\n",
       "      <td>[{'rel': 'alternate', 'type': 'text/html', 'hr...</td>\n",
       "      <td>http://www.nasa.gov/centers/armstrong/news/new...</td>\n",
       "      <td>The NASA Armstrong Employee Exchange Council p...</td>\n",
       "      <td>{'type': 'text/html', 'language': 'en', 'base'...</td>\n",
       "      <td>http://www.nasa.gov/centers/armstrong/news/new...</td>\n",
       "      <td>False</td>\n",
       "      <td>Thu, 28 Jul 2022 07:45 EDT</td>\n",
       "      <td>(2022, 7, 28, 11, 45, 0, 3, 209, 0)</td>\n",
       "      <td>{'href': 'http://www.nasa.gov/rss/dyn/educatio...</td>\n",
       "    </tr>\n",
       "  </tbody>\n",
       "</table>\n",
       "</div>"
      ],
      "text/plain": [
       "                                               title   \n",
       "0  Pi Day Challenge: Solve Stellar Math Problems ...  \\\n",
       "1  NASA Solar System Ambassadors: Sharing the Sci...   \n",
       "2  Maryland Students, Navy Pilots to Hear from NA...   \n",
       "3  NASA Langley STEM Outreach Pays Dividends with...   \n",
       "4  SOAR High School Student Wins NASA Armstrong S...   \n",
       "\n",
       "                                        title_detail   \n",
       "0  {'type': 'text/plain', 'language': 'en', 'base...  \\\n",
       "1  {'type': 'text/plain', 'language': 'en', 'base...   \n",
       "2  {'type': 'text/plain', 'language': 'en', 'base...   \n",
       "3  {'type': 'text/plain', 'language': 'en', 'base...   \n",
       "4  {'type': 'text/plain', 'language': 'en', 'base...   \n",
       "\n",
       "                                               links   \n",
       "0  [{'rel': 'alternate', 'type': 'text/html', 'hr...  \\\n",
       "1  [{'rel': 'alternate', 'type': 'text/html', 'hr...   \n",
       "2  [{'rel': 'alternate', 'type': 'text/html', 'hr...   \n",
       "3  [{'rel': 'alternate', 'type': 'text/html', 'hr...   \n",
       "4  [{'rel': 'alternate', 'type': 'text/html', 'hr...   \n",
       "\n",
       "                                                link   \n",
       "0  http://www.nasa.gov/feature/jpl/pi-day-challen...  \\\n",
       "1  http://www.nasa.gov/feature/jpl/nasa-solar-sys...   \n",
       "2  http://www.nasa.gov/press-release/maryland-stu...   \n",
       "3  http://www.nasa.gov/feature/langley/nasa-langl...   \n",
       "4  http://www.nasa.gov/centers/armstrong/news/new...   \n",
       "\n",
       "                                             summary   \n",
       "0  The agency’s Jet Propulsion Laboratory celebra...  \\\n",
       "1  Volunteers with the program, which is managed ...   \n",
       "2  Pilots from the U.S. Naval Test Pilot School i...   \n",
       "3  Students took part in a variety of activities ...   \n",
       "4  The NASA Armstrong Employee Exchange Council p...   \n",
       "\n",
       "                                      summary_detail   \n",
       "0  {'type': 'text/html', 'language': 'en', 'base'...  \\\n",
       "1  {'type': 'text/html', 'language': 'en', 'base'...   \n",
       "2  {'type': 'text/html', 'language': 'en', 'base'...   \n",
       "3  {'type': 'text/html', 'language': 'en', 'base'...   \n",
       "4  {'type': 'text/html', 'language': 'en', 'base'...   \n",
       "\n",
       "                                                  id  guidislink   \n",
       "0  http://www.nasa.gov/feature/jpl/pi-day-challen...       False  \\\n",
       "1  http://www.nasa.gov/feature/jpl/nasa-solar-sys...       False   \n",
       "2  http://www.nasa.gov/press-release/maryland-stu...       False   \n",
       "3  http://www.nasa.gov/feature/langley/nasa-langl...       False   \n",
       "4  http://www.nasa.gov/centers/armstrong/news/new...       False   \n",
       "\n",
       "                    published                      published_parsed   \n",
       "0  Thu, 09 Mar 2023 14:49 EST     (2023, 3, 9, 19, 49, 0, 3, 68, 0)  \\\n",
       "1  Tue, 01 Nov 2022 14:21 EDT   (2022, 11, 1, 18, 21, 0, 1, 305, 0)   \n",
       "2  Mon, 24 Oct 2022 11:26 EDT  (2022, 10, 24, 15, 26, 0, 0, 297, 0)   \n",
       "3  Mon, 01 Aug 2022 08:48 EDT    (2022, 8, 1, 12, 48, 0, 0, 213, 0)   \n",
       "4  Thu, 28 Jul 2022 07:45 EDT   (2022, 7, 28, 11, 45, 0, 3, 209, 0)   \n",
       "\n",
       "                                              source  \n",
       "0  {'href': 'http://www.nasa.gov/rss/dyn/educatio...  \n",
       "1  {'href': 'http://www.nasa.gov/rss/dyn/educatio...  \n",
       "2  {'href': 'http://www.nasa.gov/rss/dyn/educatio...  \n",
       "3  {'href': 'http://www.nasa.gov/rss/dyn/educatio...  \n",
       "4  {'href': 'http://www.nasa.gov/rss/dyn/educatio...  "
      ]
     },
     "execution_count": 27,
     "metadata": {},
     "output_type": "execute_result"
    }
   ],
   "source": [
    "nasadf = pd.DataFrame(nasaedu.entries)\n",
    "nasadf.head()"
   ]
  },
  {
   "cell_type": "code",
   "execution_count": 28,
   "metadata": {},
   "outputs": [],
   "source": [
    "#para tener un dato numérico voy a crear un ID en una columna a modo de entrada de dato\n",
    "#nasadf['entries'] = range(1, len(nasadf) + 1)\n",
    "#nasadf\n"
   ]
  },
  {
   "cell_type": "markdown",
   "metadata": {},
   "source": [
    "### 10. Count the number of entries per author and sort them in descending order."
   ]
  },
  {
   "cell_type": "code",
   "execution_count": 37,
   "metadata": {},
   "outputs": [
    {
     "data": {
      "text/plain": [
       "title\n",
       "Pi Day Challenge: Solve Stellar Math Problems With NASA                   1\n",
       "NASA Solar System Ambassadors: Sharing the Science for 25 Years           1\n",
       "Maryland Students, Navy Pilots to Hear from NASA Astronauts in Space      1\n",
       "NASA Langley STEM Outreach Pays Dividends with Virginia Beach Schools     1\n",
       "SOAR High School Student Wins NASA Armstrong Scholarship                  1\n",
       "NASA Langley Welcomes Virginia Teachers as Part of 2022 MODSIM Program    1\n",
       "NASA Interns’ First Day at Goddard                                        1\n",
       "NASA Administrator, STEM Partner Connect Orlando Children with Artemis    1\n",
       "NASA Selects Minority-Serving Institution Proposals to Receive Support    1\n",
       "NASA Administrator to Launch Artemis Learning Lunchbox Initiative         1\n",
       "Name: count, dtype: int64"
      ]
     },
     "execution_count": 37,
     "metadata": {},
     "output_type": "execute_result"
    }
   ],
   "source": [
    "counts = nasadf['title'].value_counts().sort_values(ascending=False)\n",
    "counts"
   ]
  },
  {
   "cell_type": "markdown",
   "metadata": {},
   "source": [
    "### 11. Add a new column to the data frame that contains the length (number of characters) of each entry title. Return a data frame that contains the title, author, and title length of each entry in descending order (longest title length at the top)."
   ]
  },
  {
   "cell_type": "code",
   "execution_count": 38,
   "metadata": {},
   "outputs": [
    {
     "data": {
      "text/html": [
       "<div>\n",
       "<style scoped>\n",
       "    .dataframe tbody tr th:only-of-type {\n",
       "        vertical-align: middle;\n",
       "    }\n",
       "\n",
       "    .dataframe tbody tr th {\n",
       "        vertical-align: top;\n",
       "    }\n",
       "\n",
       "    .dataframe thead th {\n",
       "        text-align: right;\n",
       "    }\n",
       "</style>\n",
       "<table border=\"1\" class=\"dataframe\">\n",
       "  <thead>\n",
       "    <tr style=\"text-align: right;\">\n",
       "      <th></th>\n",
       "      <th>title</th>\n",
       "      <th>link</th>\n",
       "      <th>title_length</th>\n",
       "    </tr>\n",
       "  </thead>\n",
       "  <tbody>\n",
       "    <tr>\n",
       "      <th>5</th>\n",
       "      <td>NASA Langley Welcomes Virginia Teachers as Par...</td>\n",
       "      <td>http://www.nasa.gov/feature/langley/nasa-langl...</td>\n",
       "      <td>70</td>\n",
       "    </tr>\n",
       "    <tr>\n",
       "      <th>7</th>\n",
       "      <td>NASA Administrator, STEM Partner Connect Orlan...</td>\n",
       "      <td>http://www.nasa.gov/press-release/nasa-adminis...</td>\n",
       "      <td>70</td>\n",
       "    </tr>\n",
       "    <tr>\n",
       "      <th>8</th>\n",
       "      <td>NASA Selects Minority-Serving Institution Prop...</td>\n",
       "      <td>http://www.nasa.gov/feature/jpl/nasa-selects-m...</td>\n",
       "      <td>70</td>\n",
       "    </tr>\n",
       "    <tr>\n",
       "      <th>3</th>\n",
       "      <td>NASA Langley STEM Outreach Pays Dividends with...</td>\n",
       "      <td>http://www.nasa.gov/feature/langley/nasa-langl...</td>\n",
       "      <td>69</td>\n",
       "    </tr>\n",
       "    <tr>\n",
       "      <th>2</th>\n",
       "      <td>Maryland Students, Navy Pilots to Hear from NA...</td>\n",
       "      <td>http://www.nasa.gov/press-release/maryland-stu...</td>\n",
       "      <td>68</td>\n",
       "    </tr>\n",
       "  </tbody>\n",
       "</table>\n",
       "</div>"
      ],
      "text/plain": [
       "                                               title   \n",
       "5  NASA Langley Welcomes Virginia Teachers as Par...  \\\n",
       "7  NASA Administrator, STEM Partner Connect Orlan...   \n",
       "8  NASA Selects Minority-Serving Institution Prop...   \n",
       "3  NASA Langley STEM Outreach Pays Dividends with...   \n",
       "2  Maryland Students, Navy Pilots to Hear from NA...   \n",
       "\n",
       "                                                link  title_length  \n",
       "5  http://www.nasa.gov/feature/langley/nasa-langl...            70  \n",
       "7  http://www.nasa.gov/press-release/nasa-adminis...            70  \n",
       "8  http://www.nasa.gov/feature/jpl/nasa-selects-m...            70  \n",
       "3  http://www.nasa.gov/feature/langley/nasa-langl...            69  \n",
       "2  http://www.nasa.gov/press-release/maryland-stu...            68  "
      ]
     },
     "execution_count": 38,
     "metadata": {},
     "output_type": "execute_result"
    }
   ],
   "source": [
    "nasadf['title_length'] = nasadf['title'].apply(len)\n",
    "nasadf[['title', 'link', 'title_length']].sort_values('title_length', ascending=False).head()"
   ]
  },
  {
   "cell_type": "markdown",
   "metadata": {},
   "source": [
    "### 12. Create a list of entry titles whose summary includes the phrase \"machine learning.\""
   ]
  },
  {
   "cell_type": "code",
   "execution_count": 39,
   "metadata": {},
   "outputs": [],
   "source": [
    "#idem a la pregunta 8."
   ]
  },
  {
   "cell_type": "code",
   "execution_count": null,
   "metadata": {},
   "outputs": [],
   "source": []
  }
 ],
 "metadata": {
  "kernelspec": {
   "display_name": "Python 3 (ipykernel)",
   "language": "python",
   "name": "python3"
  },
  "language_info": {
   "codemirror_mode": {
    "name": "ipython",
    "version": 3
   },
   "file_extension": ".py",
   "mimetype": "text/x-python",
   "name": "python",
   "nbconvert_exporter": "python",
   "pygments_lexer": "ipython3",
   "version": "3.9.6"
  }
 },
 "nbformat": 4,
 "nbformat_minor": 2
}
