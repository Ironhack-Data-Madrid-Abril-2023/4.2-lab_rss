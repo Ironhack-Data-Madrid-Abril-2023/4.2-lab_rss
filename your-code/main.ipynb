{
 "cells": [
  {
   "cell_type": "markdown",
   "metadata": {},
   "source": [
    "# Working with RSS Feeds Lab\n",
    "\n",
    "Complete the following set of exercises to solidify your knowledge of parsing RSS feeds and extracting information from them."
   ]
  },
  {
   "cell_type": "code",
   "execution_count": 1,
   "metadata": {},
   "outputs": [],
   "source": [
    "import feedparser"
   ]
  },
  {
   "cell_type": "markdown",
   "metadata": {},
   "source": [
    "### 1. Use feedparser to parse the following RSS feed URL."
   ]
  },
  {
   "cell_type": "code",
   "execution_count": 2,
   "metadata": {},
   "outputs": [],
   "source": [
    "chandra = feedparser.parse('https://www.nasa.gov/rss/dyn/chandra_images.rss')"
   ]
  },
  {
   "cell_type": "code",
   "execution_count": null,
   "metadata": {},
   "outputs": [],
   "source": []
  },
  {
   "cell_type": "markdown",
   "metadata": {},
   "source": [
    "### 2. Obtain a list of components (keys) that are available for this feed."
   ]
  },
  {
   "cell_type": "code",
   "execution_count": 3,
   "metadata": {},
   "outputs": [
    {
     "data": {
      "text/plain": [
       "dict_keys(['bozo', 'entries', 'feed', 'headers', 'href', 'status', 'encoding', 'version', 'namespaces'])"
      ]
     },
     "execution_count": 3,
     "metadata": {},
     "output_type": "execute_result"
    }
   ],
   "source": [
    "chandra.keys()"
   ]
  },
  {
   "cell_type": "markdown",
   "metadata": {},
   "source": [
    "### 3. Obtain a list of components (keys) that are available for the *feed* component of this RSS feed."
   ]
  },
  {
   "cell_type": "code",
   "execution_count": 4,
   "metadata": {},
   "outputs": [
    {
     "data": {
      "text/plain": [
       "dict_keys(['language', 'title', 'title_detail', 'subtitle', 'subtitle_detail', 'links', 'link', 'publisher', 'publisher_detail'])"
      ]
     },
     "execution_count": 4,
     "metadata": {},
     "output_type": "execute_result"
    }
   ],
   "source": [
    "chandra['feed'].keys()"
   ]
  },
  {
   "cell_type": "markdown",
   "metadata": {},
   "source": [
    "### 4. Extract and print the feed title, subtitle, author, and link."
   ]
  },
  {
   "cell_type": "code",
   "execution_count": 23,
   "metadata": {},
   "outputs": [
    {
     "name": "stdout",
     "output_type": "stream",
     "text": [
      "Chandra Images\n",
      "Images from the Chandra X-Ray Space Telescope\n",
      "brian.dunbar@nasa.gov\n",
      "http://www.nasa.gov/\n"
     ]
    }
   ],
   "source": [
    "print(chandra['feed']['title'])\n",
    "print(chandra['feed']['subtitle'])\n",
    "print(chandra['feed']['publisher'])\n",
    "print(chandra['feed']['link'])\n"
   ]
  },
  {
   "cell_type": "markdown",
   "metadata": {},
   "source": [
    "### 5. Count the number of entries that are contained in this RSS feed."
   ]
  },
  {
   "cell_type": "code",
   "execution_count": 18,
   "metadata": {},
   "outputs": [
    {
     "data": {
      "text/plain": [
       "'There are 10 entries'"
      ]
     },
     "execution_count": 18,
     "metadata": {},
     "output_type": "execute_result"
    }
   ],
   "source": [
    "a = 0\n",
    "for i in chandra['entries']:\n",
    "    a += 1\n",
    "\n",
    "f'There are {a} entries'"
   ]
  },
  {
   "cell_type": "markdown",
   "metadata": {},
   "source": [
    "### 6. Obtain a list of components (keys) available for an entry.\n",
    "\n",
    "*Hint: Remember to index first before requesting the keys*"
   ]
  },
  {
   "cell_type": "code",
   "execution_count": 17,
   "metadata": {},
   "outputs": [
    {
     "data": {
      "text/plain": [
       "dict_keys(['title', 'title_detail', 'links', 'link', 'summary', 'summary_detail', 'id', 'guidislink', 'published', 'published_parsed', 'source'])"
      ]
     },
     "execution_count": 17,
     "metadata": {},
     "output_type": "execute_result"
    }
   ],
   "source": [
    "chandra['entries'][0].keys()"
   ]
  },
  {
   "cell_type": "markdown",
   "metadata": {},
   "source": [
    "### 7. Extract a list of entry titles."
   ]
  },
  {
   "cell_type": "code",
   "execution_count": 25,
   "metadata": {},
   "outputs": [
    {
     "data": {
      "text/plain": [
       "[\"New Stellar Danger to Planets Identified by NASA's Chandra\",\n",
       " \"Chandra Determines What Makes a Galaxy's Wind Blow\",\n",
       " \"NASA's Chandra Discovers Giant Black Holes on Collision Course\",\n",
       " 'The Enduring Stellar Lifecycle in 30 Doradus',\n",
       " 'Chandra Sees Stellar X-rays Exceeding Safety Limits',\n",
       " 'Setting the Clock on a Stellar Explosion',\n",
       " 'NASA Telescopes Capture Stellar Delivery Service for Black Hole',\n",
       " 'Zeta Ophiuchi: A Star With a Complicated Past',\n",
       " 'Embracing a Rejected Star',\n",
       " 'Chandra Shows Giant Black Hole Spins Slower Than Its Peers']"
      ]
     },
     "execution_count": 25,
     "metadata": {},
     "output_type": "execute_result"
    }
   ],
   "source": [
    "titles = []\n",
    "\n",
    "for i in chandra['entries']:\n",
    "    eso = i['title']\n",
    "    if eso not in titles:\n",
    "        titles.append(eso)\n",
    "\n",
    "titles"
   ]
  },
  {
   "cell_type": "markdown",
   "metadata": {},
   "source": [
    "### 8. Calculate the percentage of \"Four short links\" entry titles."
   ]
  },
  {
   "cell_type": "code",
   "execution_count": null,
   "metadata": {},
   "outputs": [],
   "source": []
  },
  {
   "cell_type": "markdown",
   "metadata": {},
   "source": [
    "### 9. Create a Pandas data frame from the feed's entries."
   ]
  },
  {
   "cell_type": "code",
   "execution_count": 71,
   "metadata": {},
   "outputs": [
    {
     "ename": "AttributeError",
     "evalue": "'list' object has no attribute 'head'",
     "output_type": "error",
     "traceback": [
      "\u001b[1;31m---------------------------------------------------------------------------\u001b[0m",
      "\u001b[1;31mAttributeError\u001b[0m                            Traceback (most recent call last)",
      "Cell \u001b[1;32mIn[71], line 2\u001b[0m\n\u001b[0;32m      1\u001b[0m \u001b[39mimport\u001b[39;00m \u001b[39mpandas\u001b[39;00m \u001b[39mas\u001b[39;00m \u001b[39mpd\u001b[39;00m\n\u001b[1;32m----> 2\u001b[0m chandra[\u001b[39m'\u001b[39;49m\u001b[39mentries\u001b[39;49m\u001b[39m'\u001b[39;49m]\u001b[39m.\u001b[39;49mhead()\n",
      "\u001b[1;31mAttributeError\u001b[0m: 'list' object has no attribute 'head'"
     ]
    }
   ],
   "source": [
    "import pandas as pd\n",
    "# chandra['entries']\n"
   ]
  },
  {
   "cell_type": "code",
   "execution_count": 70,
   "metadata": {},
   "outputs": [
    {
     "data": {
      "text/html": [
       "<div>\n",
       "<style scoped>\n",
       "    .dataframe tbody tr th:only-of-type {\n",
       "        vertical-align: middle;\n",
       "    }\n",
       "\n",
       "    .dataframe tbody tr th {\n",
       "        vertical-align: top;\n",
       "    }\n",
       "\n",
       "    .dataframe thead th {\n",
       "        text-align: right;\n",
       "    }\n",
       "</style>\n",
       "<table border=\"1\" class=\"dataframe\">\n",
       "  <thead>\n",
       "    <tr style=\"text-align: right;\">\n",
       "      <th></th>\n",
       "      <th>title</th>\n",
       "      <th>title_detail</th>\n",
       "      <th>links</th>\n",
       "      <th>link</th>\n",
       "      <th>summary</th>\n",
       "      <th>summary_detail</th>\n",
       "      <th>id</th>\n",
       "      <th>guidislink</th>\n",
       "      <th>published</th>\n",
       "      <th>published_parsed</th>\n",
       "      <th>source</th>\n",
       "    </tr>\n",
       "  </thead>\n",
       "  <tbody>\n",
       "    <tr>\n",
       "      <th>0</th>\n",
       "      <td>New Stellar Danger to Planets Identified by NA...</td>\n",
       "      <td>{'type': 'text/plain', 'language': 'en', 'base...</td>\n",
       "      <td>[{'rel': 'alternate', 'type': 'text/html', 'hr...</td>\n",
       "      <td>http://www.nasa.gov/mission_pages/chandra/imag...</td>\n",
       "      <td>Astronomers have determined supernova explosio...</td>\n",
       "      <td>{'type': 'text/html', 'language': 'en', 'base'...</td>\n",
       "      <td>http://www.nasa.gov/mission_pages/chandra/imag...</td>\n",
       "      <td>False</td>\n",
       "      <td>Thu, 20 Apr 2023 09:49 EDT</td>\n",
       "      <td>(2023, 4, 20, 13, 49, 0, 3, 110, 0)</td>\n",
       "      <td>{'href': 'http://www.nasa.gov/rss/dyn/chandra_...</td>\n",
       "    </tr>\n",
       "    <tr>\n",
       "      <th>1</th>\n",
       "      <td>Chandra Determines What Makes a Galaxy's Wind ...</td>\n",
       "      <td>{'type': 'text/plain', 'language': 'en', 'base...</td>\n",
       "      <td>[{'rel': 'alternate', 'type': 'text/html', 'hr...</td>\n",
       "      <td>http://www.nasa.gov/mission_pages/chandra/imag...</td>\n",
       "      <td>NGC 253 shows the effect of powerful winds bei...</td>\n",
       "      <td>{'type': 'text/html', 'language': 'en', 'base'...</td>\n",
       "      <td>http://www.nasa.gov/mission_pages/chandra/imag...</td>\n",
       "      <td>False</td>\n",
       "      <td>Wed, 29 Mar 2023 09:59 EDT</td>\n",
       "      <td>(2023, 3, 29, 13, 59, 0, 2, 88, 0)</td>\n",
       "      <td>{'href': 'http://www.nasa.gov/rss/dyn/chandra_...</td>\n",
       "    </tr>\n",
       "    <tr>\n",
       "      <th>2</th>\n",
       "      <td>NASA's Chandra Discovers Giant Black Holes on ...</td>\n",
       "      <td>{'type': 'text/plain', 'language': 'en', 'base...</td>\n",
       "      <td>[{'rel': 'alternate', 'type': 'text/html', 'hr...</td>\n",
       "      <td>http://www.nasa.gov/mission_pages/chandra/imag...</td>\n",
       "      <td>NASA’s Chandra X-ray Observatory helped identi...</td>\n",
       "      <td>{'type': 'text/html', 'language': 'en', 'base'...</td>\n",
       "      <td>http://www.nasa.gov/mission_pages/chandra/imag...</td>\n",
       "      <td>False</td>\n",
       "      <td>Wed, 22 Feb 2023 09:00 EST</td>\n",
       "      <td>(2023, 2, 22, 14, 0, 0, 2, 53, 0)</td>\n",
       "      <td>{'href': 'http://www.nasa.gov/rss/dyn/chandra_...</td>\n",
       "    </tr>\n",
       "    <tr>\n",
       "      <th>3</th>\n",
       "      <td>The Enduring Stellar Lifecycle in 30 Doradus</td>\n",
       "      <td>{'type': 'text/plain', 'language': 'en', 'base...</td>\n",
       "      <td>[{'rel': 'alternate', 'type': 'text/html', 'hr...</td>\n",
       "      <td>http://www.nasa.gov/mission_pages/chandra/imag...</td>\n",
       "      <td>The \"Tarantula Nebula\" (officially known as 30...</td>\n",
       "      <td>{'type': 'text/html', 'language': 'en', 'base'...</td>\n",
       "      <td>http://www.nasa.gov/mission_pages/chandra/imag...</td>\n",
       "      <td>False</td>\n",
       "      <td>Tue, 10 Jan 2023 15:39 EST</td>\n",
       "      <td>(2023, 1, 10, 20, 39, 0, 1, 10, 0)</td>\n",
       "      <td>{'href': 'http://www.nasa.gov/rss/dyn/chandra_...</td>\n",
       "    </tr>\n",
       "    <tr>\n",
       "      <th>4</th>\n",
       "      <td>Chandra Sees Stellar X-rays Exceeding Safety L...</td>\n",
       "      <td>{'type': 'text/plain', 'language': 'en', 'base...</td>\n",
       "      <td>[{'rel': 'alternate', 'type': 'text/html', 'hr...</td>\n",
       "      <td>http://www.nasa.gov/mission_pages/chandra/imag...</td>\n",
       "      <td>Astronomers have made the most extensive study...</td>\n",
       "      <td>{'type': 'text/html', 'language': 'en', 'base'...</td>\n",
       "      <td>http://www.nasa.gov/mission_pages/chandra/imag...</td>\n",
       "      <td>False</td>\n",
       "      <td>Thu, 15 Dec 2022 10:00 EST</td>\n",
       "      <td>(2022, 12, 15, 15, 0, 0, 3, 349, 0)</td>\n",
       "      <td>{'href': 'http://www.nasa.gov/rss/dyn/chandra_...</td>\n",
       "    </tr>\n",
       "  </tbody>\n",
       "</table>\n",
       "</div>"
      ],
      "text/plain": [
       "                                               title   \n",
       "0  New Stellar Danger to Planets Identified by NA...  \\\n",
       "1  Chandra Determines What Makes a Galaxy's Wind ...   \n",
       "2  NASA's Chandra Discovers Giant Black Holes on ...   \n",
       "3       The Enduring Stellar Lifecycle in 30 Doradus   \n",
       "4  Chandra Sees Stellar X-rays Exceeding Safety L...   \n",
       "\n",
       "                                        title_detail   \n",
       "0  {'type': 'text/plain', 'language': 'en', 'base...  \\\n",
       "1  {'type': 'text/plain', 'language': 'en', 'base...   \n",
       "2  {'type': 'text/plain', 'language': 'en', 'base...   \n",
       "3  {'type': 'text/plain', 'language': 'en', 'base...   \n",
       "4  {'type': 'text/plain', 'language': 'en', 'base...   \n",
       "\n",
       "                                               links   \n",
       "0  [{'rel': 'alternate', 'type': 'text/html', 'hr...  \\\n",
       "1  [{'rel': 'alternate', 'type': 'text/html', 'hr...   \n",
       "2  [{'rel': 'alternate', 'type': 'text/html', 'hr...   \n",
       "3  [{'rel': 'alternate', 'type': 'text/html', 'hr...   \n",
       "4  [{'rel': 'alternate', 'type': 'text/html', 'hr...   \n",
       "\n",
       "                                                link   \n",
       "0  http://www.nasa.gov/mission_pages/chandra/imag...  \\\n",
       "1  http://www.nasa.gov/mission_pages/chandra/imag...   \n",
       "2  http://www.nasa.gov/mission_pages/chandra/imag...   \n",
       "3  http://www.nasa.gov/mission_pages/chandra/imag...   \n",
       "4  http://www.nasa.gov/mission_pages/chandra/imag...   \n",
       "\n",
       "                                             summary   \n",
       "0  Astronomers have determined supernova explosio...  \\\n",
       "1  NGC 253 shows the effect of powerful winds bei...   \n",
       "2  NASA’s Chandra X-ray Observatory helped identi...   \n",
       "3  The \"Tarantula Nebula\" (officially known as 30...   \n",
       "4  Astronomers have made the most extensive study...   \n",
       "\n",
       "                                      summary_detail   \n",
       "0  {'type': 'text/html', 'language': 'en', 'base'...  \\\n",
       "1  {'type': 'text/html', 'language': 'en', 'base'...   \n",
       "2  {'type': 'text/html', 'language': 'en', 'base'...   \n",
       "3  {'type': 'text/html', 'language': 'en', 'base'...   \n",
       "4  {'type': 'text/html', 'language': 'en', 'base'...   \n",
       "\n",
       "                                                  id  guidislink   \n",
       "0  http://www.nasa.gov/mission_pages/chandra/imag...       False  \\\n",
       "1  http://www.nasa.gov/mission_pages/chandra/imag...       False   \n",
       "2  http://www.nasa.gov/mission_pages/chandra/imag...       False   \n",
       "3  http://www.nasa.gov/mission_pages/chandra/imag...       False   \n",
       "4  http://www.nasa.gov/mission_pages/chandra/imag...       False   \n",
       "\n",
       "                    published                     published_parsed   \n",
       "0  Thu, 20 Apr 2023 09:49 EDT  (2023, 4, 20, 13, 49, 0, 3, 110, 0)  \\\n",
       "1  Wed, 29 Mar 2023 09:59 EDT   (2023, 3, 29, 13, 59, 0, 2, 88, 0)   \n",
       "2  Wed, 22 Feb 2023 09:00 EST    (2023, 2, 22, 14, 0, 0, 2, 53, 0)   \n",
       "3  Tue, 10 Jan 2023 15:39 EST   (2023, 1, 10, 20, 39, 0, 1, 10, 0)   \n",
       "4  Thu, 15 Dec 2022 10:00 EST  (2022, 12, 15, 15, 0, 0, 3, 349, 0)   \n",
       "\n",
       "                                              source  \n",
       "0  {'href': 'http://www.nasa.gov/rss/dyn/chandra_...  \n",
       "1  {'href': 'http://www.nasa.gov/rss/dyn/chandra_...  \n",
       "2  {'href': 'http://www.nasa.gov/rss/dyn/chandra_...  \n",
       "3  {'href': 'http://www.nasa.gov/rss/dyn/chandra_...  \n",
       "4  {'href': 'http://www.nasa.gov/rss/dyn/chandra_...  "
      ]
     },
     "execution_count": 70,
     "metadata": {},
     "output_type": "execute_result"
    }
   ],
   "source": [
    "df = pd.DataFrame(chandra['entries']).head()\n",
    "\n",
    "df"
   ]
  },
  {
   "cell_type": "markdown",
   "metadata": {},
   "source": [
    "### 10. Count the number of entries per author and sort them in descending order."
   ]
  },
  {
   "cell_type": "code",
   "execution_count": null,
   "metadata": {},
   "outputs": [],
   "source": [
    "# authors = df.groupby('author', as_index=False).agg({'title':'count'})\n",
    "# authors.columns = ['author', 'entries']\n",
    "# authors.sort_values('entries', ascending=False)\n",
    "\n",
    "# No hay authors en este link, he buscado en más opciones alguna en la que pudiese sumar pero no encontré :S os pongo el como sería si hubiese authors."
   ]
  },
  {
   "cell_type": "markdown",
   "metadata": {},
   "source": [
    "### 11. Add a new column to the data frame that contains the length (number of characters) of each entry title. Return a data frame that contains the title, author, and title length of each entry in descending order (longest title length at the top)."
   ]
  },
  {
   "cell_type": "code",
   "execution_count": 73,
   "metadata": {},
   "outputs": [
    {
     "data": {
      "text/html": [
       "<div>\n",
       "<style scoped>\n",
       "    .dataframe tbody tr th:only-of-type {\n",
       "        vertical-align: middle;\n",
       "    }\n",
       "\n",
       "    .dataframe tbody tr th {\n",
       "        vertical-align: top;\n",
       "    }\n",
       "\n",
       "    .dataframe thead th {\n",
       "        text-align: right;\n",
       "    }\n",
       "</style>\n",
       "<table border=\"1\" class=\"dataframe\">\n",
       "  <thead>\n",
       "    <tr style=\"text-align: right;\">\n",
       "      <th></th>\n",
       "      <th>title</th>\n",
       "      <th>title_length</th>\n",
       "    </tr>\n",
       "  </thead>\n",
       "  <tbody>\n",
       "    <tr>\n",
       "      <th>2</th>\n",
       "      <td>NASA's Chandra Discovers Giant Black Holes on ...</td>\n",
       "      <td>62</td>\n",
       "    </tr>\n",
       "    <tr>\n",
       "      <th>0</th>\n",
       "      <td>New Stellar Danger to Planets Identified by NA...</td>\n",
       "      <td>58</td>\n",
       "    </tr>\n",
       "    <tr>\n",
       "      <th>4</th>\n",
       "      <td>Chandra Sees Stellar X-rays Exceeding Safety L...</td>\n",
       "      <td>51</td>\n",
       "    </tr>\n",
       "    <tr>\n",
       "      <th>1</th>\n",
       "      <td>Chandra Determines What Makes a Galaxy's Wind ...</td>\n",
       "      <td>50</td>\n",
       "    </tr>\n",
       "    <tr>\n",
       "      <th>3</th>\n",
       "      <td>The Enduring Stellar Lifecycle in 30 Doradus</td>\n",
       "      <td>44</td>\n",
       "    </tr>\n",
       "  </tbody>\n",
       "</table>\n",
       "</div>"
      ],
      "text/plain": [
       "                                               title  title_length\n",
       "2  NASA's Chandra Discovers Giant Black Holes on ...            62\n",
       "0  New Stellar Danger to Planets Identified by NA...            58\n",
       "4  Chandra Sees Stellar X-rays Exceeding Safety L...            51\n",
       "1  Chandra Determines What Makes a Galaxy's Wind ...            50\n",
       "3       The Enduring Stellar Lifecycle in 30 Doradus            44"
      ]
     },
     "execution_count": 73,
     "metadata": {},
     "output_type": "execute_result"
    }
   ],
   "source": [
    "df['title_length'] = df['title'].apply(len)\n",
    "df[['title', 'title_length']].sort_values('title_length', ascending=False).head()"
   ]
  },
  {
   "cell_type": "markdown",
   "metadata": {},
   "source": [
    "### 12. Create a list of entry titles whose summary includes the phrase \"machine learning.\""
   ]
  },
  {
   "cell_type": "code",
   "execution_count": 74,
   "metadata": {},
   "outputs": [
    {
     "data": {
      "text/plain": [
       "[]"
      ]
     },
     "execution_count": 74,
     "metadata": {},
     "output_type": "execute_result"
    }
   ],
   "source": [
    "entries = []\n",
    "\n",
    "for i in chandra['entries']:\n",
    "    ay = i['summary']\n",
    "    if 'machine learning' in ay:\n",
    "        entries.append(ay)\n",
    "\n",
    "entries"
   ]
  },
  {
   "cell_type": "code",
   "execution_count": null,
   "metadata": {},
   "outputs": [],
   "source": []
  }
 ],
 "metadata": {
  "kernelspec": {
   "display_name": "Python 3 (ipykernel)",
   "language": "python",
   "name": "python3"
  },
  "language_info": {
   "codemirror_mode": {
    "name": "ipython",
    "version": 3
   },
   "file_extension": ".py",
   "mimetype": "text/x-python",
   "name": "python",
   "nbconvert_exporter": "python",
   "pygments_lexer": "ipython3",
   "version": "3.11.3"
  }
 },
 "nbformat": 4,
 "nbformat_minor": 2
}
