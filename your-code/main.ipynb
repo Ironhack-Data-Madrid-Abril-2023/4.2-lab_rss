{
 "cells": [
  {
   "cell_type": "markdown",
   "metadata": {},
   "source": [
    "# Working with RSS Feeds Lab\n",
    "\n",
    "Complete the following set of exercises to solidify your knowledge of parsing RSS feeds and extracting information from them."
   ]
  },
  {
   "cell_type": "code",
   "execution_count": 2,
   "metadata": {},
   "outputs": [
    {
     "name": "stdout",
     "output_type": "stream",
     "text": [
      "Collecting feedparser\n",
      "  Downloading feedparser-6.0.10-py3-none-any.whl (81 kB)\n",
      "     ---------------------------------------- 81.1/81.1 kB 2.3 MB/s eta 0:00:00\n",
      "Collecting sgmllib3k\n",
      "  Downloading sgmllib3k-1.0.0.tar.gz (5.8 kB)\n",
      "  Preparing metadata (setup.py): started\n",
      "  Preparing metadata (setup.py): finished with status 'done'\n",
      "Building wheels for collected packages: sgmllib3k\n",
      "  Building wheel for sgmllib3k (setup.py): started\n",
      "  Building wheel for sgmllib3k (setup.py): finished with status 'done'\n",
      "  Created wheel for sgmllib3k: filename=sgmllib3k-1.0.0-py3-none-any.whl size=6061 sha256=fb534e6b26e03e4ef43524b3640959f545f46be139a5bfc57a9dfb765eda5e41\n",
      "  Stored in directory: c:\\users\\pacot\\appdata\\local\\pip\\cache\\wheels\\3b\\24\\68\\f82c1fe16fe6cc7c6f9f67fe4bbf2a4ce527dea6b14a4b34ee\n",
      "Successfully built sgmllib3k\n",
      "Installing collected packages: sgmllib3k, feedparser\n",
      "Successfully installed feedparser-6.0.10 sgmllib3k-1.0.0\n",
      "Note: you may need to restart the kernel to use updated packages.\n"
     ]
    }
   ],
   "source": [
    "%pip install feedparser\n",
    "\n",
    "import feedparser"
   ]
  },
  {
   "cell_type": "markdown",
   "metadata": {},
   "source": [
    "### 1. Use feedparser to parse the following RSS feed URL."
   ]
  },
  {
   "cell_type": "code",
   "execution_count": 3,
   "metadata": {},
   "outputs": [],
   "source": [
    "nasa = feedparser.parse('https://www.nasa.gov/rss/dyn/mission_pages/kepler/news/kepler-newsandfeatures-RSS.rss')"
   ]
  },
  {
   "cell_type": "code",
   "execution_count": null,
   "metadata": {},
   "outputs": [],
   "source": []
  },
  {
   "cell_type": "markdown",
   "metadata": {},
   "source": [
    "### 2. Obtain a list of components (keys) that are available for this feed."
   ]
  },
  {
   "cell_type": "code",
   "execution_count": 6,
   "metadata": {},
   "outputs": [
    {
     "name": "stdout",
     "output_type": "stream",
     "text": [
      "dict_keys(['bozo', 'entries', 'feed', 'headers', 'href', 'status', 'encoding', 'version', 'namespaces'])\n"
     ]
    }
   ],
   "source": [
    "k = nasa.keys()\n",
    "print (k)"
   ]
  },
  {
   "cell_type": "markdown",
   "metadata": {},
   "source": [
    "### 3. Obtain a list of components (keys) that are available for the *feed* component of this RSS feed."
   ]
  },
  {
   "cell_type": "code",
   "execution_count": 7,
   "metadata": {},
   "outputs": [
    {
     "name": "stdout",
     "output_type": "stream",
     "text": [
      "dict_keys(['language', 'title', 'title_detail', 'subtitle', 'subtitle_detail', 'links', 'link', 'publisher', 'publisher_detail'])\n"
     ]
    }
   ],
   "source": [
    "f = nasa['feed'].keys()\n",
    "print(f)"
   ]
  },
  {
   "cell_type": "markdown",
   "metadata": {},
   "source": [
    "### 4. Extract and print the feed title, subtitle, author, and link."
   ]
  },
  {
   "cell_type": "code",
   "execution_count": 10,
   "metadata": {},
   "outputs": [
    {
     "name": "stdout",
     "output_type": "stream",
     "text": [
      "The title is \"Kepler News and Features\" and the subtitle is \"Kepler News and Features RSS\" and finally the link is http://www.nasa.gov/\n"
     ]
    }
   ],
   "source": [
    "print('The title is \"' + nasa['feed']['title'] + '\" and the subtitle is \"' + nasa['feed']['subtitle'] + '\" and finally the link is ' + nasa['feed']['link'])"
   ]
  },
  {
   "cell_type": "markdown",
   "metadata": {},
   "source": [
    "### 5. Count the number of entries that are contained in this RSS feed."
   ]
  },
  {
   "cell_type": "code",
   "execution_count": 13,
   "metadata": {},
   "outputs": [
    {
     "data": {
      "text/plain": [
       "10"
      ]
     },
     "execution_count": 13,
     "metadata": {},
     "output_type": "execute_result"
    }
   ],
   "source": [
    "len(nasa['entries'])"
   ]
  },
  {
   "cell_type": "markdown",
   "metadata": {},
   "source": [
    "### 6. Obtain a list of components (keys) available for an entry.\n",
    "\n",
    "*Hint: Remember to index first before requesting the keys*"
   ]
  },
  {
   "cell_type": "code",
   "execution_count": 15,
   "metadata": {},
   "outputs": [
    {
     "name": "stdout",
     "output_type": "stream",
     "text": [
      "dict_keys(['title', 'title_detail', 'links', 'link', 'summary', 'summary_detail', 'id', 'guidislink', 'published', 'published_parsed', 'source'])\n"
     ]
    }
   ],
   "source": [
    "\n",
    "c = nasa['entries'][0].keys()\n",
    "print(c)\n"
   ]
  },
  {
   "cell_type": "code",
   "execution_count": 18,
   "metadata": {},
   "outputs": [
    {
     "data": {
      "text/plain": [
       "[{'title': \"New Deep Learning Method Adds 301 Planets to Kepler's Total Count\",\n",
       "  'title_detail': {'type': 'text/plain',\n",
       "   'language': 'en',\n",
       "   'base': 'http://www.nasa.gov/',\n",
       "   'value': \"New Deep Learning Method Adds 301 Planets to Kepler's Total Count\"},\n",
       "  'links': [{'rel': 'alternate',\n",
       "    'type': 'text/html',\n",
       "    'href': 'http://www.nasa.gov/feature/ames/new-deep-learning-method-adds-301-planets-to-keplers-total-count'},\n",
       "   {'length': '7380534',\n",
       "    'type': 'image/gif',\n",
       "    'href': 'http://www.nasa.gov/sites/default/files/styles/1x1_cardfeed/public/thumbnails/image/exoplanet_banner_1.gif?itok=L3rCP01p',\n",
       "    'rel': 'enclosure'}],\n",
       "  'link': 'http://www.nasa.gov/feature/ames/new-deep-learning-method-adds-301-planets-to-keplers-total-count',\n",
       "  'summary': 'Scientists recently added a whopping 301 newly confirmed exoplanets to the total exoplanet tally.',\n",
       "  'summary_detail': {'type': 'text/html',\n",
       "   'language': 'en',\n",
       "   'base': 'http://www.nasa.gov/',\n",
       "   'value': 'Scientists recently added a whopping 301 newly confirmed exoplanets to the total exoplanet tally.'},\n",
       "  'id': 'http://www.nasa.gov/feature/ames/new-deep-learning-method-adds-301-planets-to-keplers-total-count',\n",
       "  'guidislink': False,\n",
       "  'published': 'Mon, 22 Nov 2021 20:36 EST',\n",
       "  'published_parsed': time.struct_time(tm_year=2021, tm_mon=11, tm_mday=23, tm_hour=1, tm_min=36, tm_sec=0, tm_wday=1, tm_yday=327, tm_isdst=0),\n",
       "  'source': {'href': 'http://www.nasa.gov/rss/dyn/mission_pages/kepler/news/kepler-newsandfeatures-RSS.rss',\n",
       "   'title': 'Kepler News and Features'}},\n",
       " {'title': 'NASA’s TESS Tunes into an All-sky ‘Symphony’ of Red Giant Stars',\n",
       "  'title_detail': {'type': 'text/plain',\n",
       "   'language': 'en',\n",
       "   'base': 'http://www.nasa.gov/',\n",
       "   'value': 'NASA’s TESS Tunes into an All-sky ‘Symphony’ of Red Giant Stars'},\n",
       "  'links': [{'rel': 'alternate',\n",
       "    'type': 'text/html',\n",
       "    'href': 'http://www.nasa.gov/feature/goddard/2021/nasa-s-tess-tunes-into-an-all-sky-symphony-of-red-giant-stars'},\n",
       "   {'length': '11629231',\n",
       "    'type': 'image/png',\n",
       "    'href': 'http://www.nasa.gov/sites/default/files/styles/1x1_cardfeed/public/thumbnails/image/tess_red_giant_composite.png?itok=MNOyrVZL',\n",
       "    'rel': 'enclosure'}],\n",
       "  'link': 'http://www.nasa.gov/feature/goddard/2021/nasa-s-tess-tunes-into-an-all-sky-symphony-of-red-giant-stars',\n",
       "  'summary': 'Using NASA’s Transiting Exoplanet Survey Satellite, astronomers have identified a vast collection of pulsating red giant stars that will help us explore our galactic neighborhood.',\n",
       "  'summary_detail': {'type': 'text/html',\n",
       "   'language': 'en',\n",
       "   'base': 'http://www.nasa.gov/',\n",
       "   'value': 'Using NASA’s Transiting Exoplanet Survey Satellite, astronomers have identified a vast collection of pulsating red giant stars that will help us explore our galactic neighborhood.'},\n",
       "  'id': 'http://www.nasa.gov/feature/goddard/2021/nasa-s-tess-tunes-into-an-all-sky-symphony-of-red-giant-stars',\n",
       "  'guidislink': False,\n",
       "  'published': 'Wed, 04 Aug 2021 17:00 EDT',\n",
       "  'published_parsed': time.struct_time(tm_year=2021, tm_mon=8, tm_mday=4, tm_hour=21, tm_min=0, tm_sec=0, tm_wday=2, tm_yday=216, tm_isdst=0),\n",
       "  'source': {'href': 'http://www.nasa.gov/rss/dyn/mission_pages/kepler/news/kepler-newsandfeatures-RSS.rss',\n",
       "   'title': 'Kepler News and Features'}},\n",
       " {'title': 'Planetary Sleuthing Finds Triple-Star World',\n",
       "  'title_detail': {'type': 'text/plain',\n",
       "   'language': 'en',\n",
       "   'base': 'http://www.nasa.gov/',\n",
       "   'value': 'Planetary Sleuthing Finds Triple-Star World'},\n",
       "  'links': [{'rel': 'alternate',\n",
       "    'type': 'text/html',\n",
       "    'href': 'http://www.nasa.gov/feature/ames/planetary-sleuthing-finds-triple-star-world'},\n",
       "   {'length': '670317',\n",
       "    'type': 'image/jpeg',\n",
       "    'href': 'http://www.nasa.gov/sites/default/files/styles/1x1_cardfeed/public/thumbnails/image/koi_5_art.jpg?itok=jXWOMzRg',\n",
       "    'rel': 'enclosure'}],\n",
       "  'link': 'http://www.nasa.gov/feature/ames/planetary-sleuthing-finds-triple-star-world',\n",
       "  'summary': 'Years after its detection, astronomers have confirmed a planet called KOI-5Ab orbiting in a triple-star system with a skewed configuration.',\n",
       "  'summary_detail': {'type': 'text/html',\n",
       "   'language': 'en',\n",
       "   'base': 'http://www.nasa.gov/',\n",
       "   'value': 'Years after its detection, astronomers have confirmed a planet called KOI-5Ab orbiting in a triple-star system with a skewed configuration.'},\n",
       "  'id': 'http://www.nasa.gov/feature/ames/planetary-sleuthing-finds-triple-star-world',\n",
       "  'guidislink': False,\n",
       "  'published': 'Mon, 11 Jan 2021 13:40 EST',\n",
       "  'published_parsed': time.struct_time(tm_year=2021, tm_mon=1, tm_mday=11, tm_hour=18, tm_min=40, tm_sec=0, tm_wday=0, tm_yday=11, tm_isdst=0),\n",
       "  'source': {'href': 'http://www.nasa.gov/rss/dyn/mission_pages/kepler/news/kepler-newsandfeatures-RSS.rss',\n",
       "   'title': 'Kepler News and Features'}},\n",
       " {'title': 'About Half of Sun-Like Stars Could Host Rocky, Potentially Habitable Planets',\n",
       "  'title_detail': {'type': 'text/plain',\n",
       "   'language': 'en',\n",
       "   'base': 'http://www.nasa.gov/',\n",
       "   'value': 'About Half of Sun-Like Stars Could Host Rocky, Potentially Habitable Planets'},\n",
       "  'links': [{'rel': 'alternate',\n",
       "    'type': 'text/html',\n",
       "    'href': 'http://www.nasa.gov/feature/ames/kepler-occurrence-rate'},\n",
       "   {'length': '3778841',\n",
       "    'type': 'image/jpeg',\n",
       "    'href': 'http://www.nasa.gov/sites/default/files/styles/1x1_cardfeed/public/thumbnails/image/kepler_1_1.jpg?itok=mLm5RUff',\n",
       "    'rel': 'enclosure'}],\n",
       "  'link': 'http://www.nasa.gov/feature/ames/kepler-occurrence-rate',\n",
       "  'summary': 'According to new research using data from NASA’s retired planet-hunting mission, the Kepler space telescope, about half the stars similar in temperature to our Sun could have a rocky planet capable of supporting liquid water on its surface.',\n",
       "  'summary_detail': {'type': 'text/html',\n",
       "   'language': 'en',\n",
       "   'base': 'http://www.nasa.gov/',\n",
       "   'value': 'According to new research using data from NASA’s retired planet-hunting mission, the Kepler space telescope, about half the stars similar in temperature to our Sun could have a rocky planet capable of supporting liquid water on its surface.'},\n",
       "  'id': 'http://www.nasa.gov/feature/ames/kepler-occurrence-rate',\n",
       "  'guidislink': False,\n",
       "  'published': 'Thu, 29 Oct 2020 07:00 EDT',\n",
       "  'published_parsed': time.struct_time(tm_year=2020, tm_mon=10, tm_mday=29, tm_hour=11, tm_min=0, tm_sec=0, tm_wday=3, tm_yday=303, tm_isdst=0),\n",
       "  'source': {'href': 'http://www.nasa.gov/rss/dyn/mission_pages/kepler/news/kepler-newsandfeatures-RSS.rss',\n",
       "   'title': 'Kepler News and Features'}},\n",
       " {'title': 'NASA Awards SETI Institute Contract for Planetary Protection Support',\n",
       "  'title_detail': {'type': 'text/plain',\n",
       "   'language': 'en',\n",
       "   'base': 'http://www.nasa.gov/',\n",
       "   'value': 'NASA Awards SETI Institute Contract for Planetary Protection Support'},\n",
       "  'links': [{'rel': 'alternate',\n",
       "    'type': 'text/html',\n",
       "    'href': 'http://www.nasa.gov/press-release/nasa-awards-seti-institute-contract-for-planetary-protection-support'},\n",
       "   {'length': '2527203',\n",
       "    'type': 'image/jpeg',\n",
       "    'href': 'http://www.nasa.gov/sites/default/files/styles/1x1_cardfeed/public/thumbnails/image/0501191516-amy_lab_sampling.jpg?itok=XbOXLQeE',\n",
       "    'rel': 'enclosure'}],\n",
       "  'link': 'http://www.nasa.gov/press-release/nasa-awards-seti-institute-contract-for-planetary-protection-support',\n",
       "  'summary': 'NASA has awarded the SETI Institute in Mountain View, California, a contract to support all phases of current and future planetary protection missions to ensure compliance with planetary protection standards.',\n",
       "  'summary_detail': {'type': 'text/html',\n",
       "   'language': 'en',\n",
       "   'base': 'http://www.nasa.gov/',\n",
       "   'value': 'NASA has awarded the SETI Institute in Mountain View, California, a contract to support all phases of current and future planetary protection missions to ensure compliance with planetary protection standards.'},\n",
       "  'id': 'http://www.nasa.gov/press-release/nasa-awards-seti-institute-contract-for-planetary-protection-support',\n",
       "  'guidislink': False,\n",
       "  'published': 'Fri, 10 Jul 2020 12:04 EDT',\n",
       "  'published_parsed': time.struct_time(tm_year=2020, tm_mon=7, tm_mday=10, tm_hour=16, tm_min=4, tm_sec=0, tm_wday=4, tm_yday=192, tm_isdst=0),\n",
       "  'source': {'href': 'http://www.nasa.gov/rss/dyn/mission_pages/kepler/news/kepler-newsandfeatures-RSS.rss',\n",
       "   'title': 'Kepler News and Features'}},\n",
       " {'title': 'Gravity Assist: Puffy Planets, Powerful Telescopes, with Knicole Colon',\n",
       "  'title_detail': {'type': 'text/plain',\n",
       "   'language': 'en',\n",
       "   'base': 'http://www.nasa.gov/',\n",
       "   'value': 'Gravity Assist: Puffy Planets, Powerful Telescopes, with Knicole Colon'},\n",
       "  'links': [{'rel': 'alternate',\n",
       "    'type': 'text/html',\n",
       "    'href': 'http://www.nasa.gov/mediacast/gravity-assist-puffy-planets-powerful-telescopes-with-knicole-colon'},\n",
       "   {'length': '907941',\n",
       "    'type': 'image/jpeg',\n",
       "    'href': 'http://www.nasa.gov/sites/default/files/styles/1x1_cardfeed/public/thumbnails/image/gravity-assist-logo.jpg?itok=EHoMdpdd',\n",
       "    'rel': 'enclosure'}],\n",
       "  'link': 'http://www.nasa.gov/mediacast/gravity-assist-puffy-planets-powerful-telescopes-with-knicole-colon',\n",
       "  'summary': 'NASA astrophysicist Knicole Colon describes her work on the Kepler, Hubble, TESS and Webb missions, and takes us on a tour of some of her favorite planets.',\n",
       "  'summary_detail': {'type': 'text/html',\n",
       "   'language': 'en',\n",
       "   'base': 'http://www.nasa.gov/',\n",
       "   'value': 'NASA astrophysicist Knicole Colon describes her work on the Kepler, Hubble, TESS and Webb missions, and takes us on a tour of some of her favorite planets.'},\n",
       "  'id': 'http://www.nasa.gov/mediacast/gravity-assist-puffy-planets-powerful-telescopes-with-knicole-colon',\n",
       "  'guidislink': False,\n",
       "  'published': 'Fri, 12 Jun 2020 09:01 EDT',\n",
       "  'published_parsed': time.struct_time(tm_year=2020, tm_mon=6, tm_mday=12, tm_hour=13, tm_min=1, tm_sec=0, tm_wday=4, tm_yday=164, tm_isdst=0),\n",
       "  'source': {'href': 'http://www.nasa.gov/rss/dyn/mission_pages/kepler/news/kepler-newsandfeatures-RSS.rss',\n",
       "   'title': 'Kepler News and Features'}},\n",
       " {'title': 'Imagining Another Earth',\n",
       "  'title_detail': {'type': 'text/plain',\n",
       "   'language': 'en',\n",
       "   'base': 'http://www.nasa.gov/',\n",
       "   'value': 'Imagining Another Earth'},\n",
       "  'links': [{'rel': 'alternate',\n",
       "    'type': 'text/html',\n",
       "    'href': 'http://www.nasa.gov/image-feature/imagining-another-earth'},\n",
       "   {'length': '563172',\n",
       "    'type': 'image/jpeg',\n",
       "    'href': 'http://www.nasa.gov/sites/default/files/styles/1x1_cardfeed/public/thumbnails/image/pia23689.jpg?itok=n0lj0bju',\n",
       "    'rel': 'enclosure'}],\n",
       "  'link': 'http://www.nasa.gov/image-feature/imagining-another-earth',\n",
       "  'summary': \"This artist's concept shows exoplanet Kepler-1649c orbiting around its host red dwarf star.\",\n",
       "  'summary_detail': {'type': 'text/html',\n",
       "   'language': 'en',\n",
       "   'base': 'http://www.nasa.gov/',\n",
       "   'value': \"This artist's concept shows exoplanet Kepler-1649c orbiting around its host red dwarf star.\"},\n",
       "  'id': 'http://www.nasa.gov/image-feature/imagining-another-earth',\n",
       "  'guidislink': False,\n",
       "  'published': 'Thu, 28 May 2020 10:27 EDT',\n",
       "  'published_parsed': time.struct_time(tm_year=2020, tm_mon=5, tm_mday=28, tm_hour=14, tm_min=27, tm_sec=0, tm_wday=3, tm_yday=149, tm_isdst=0),\n",
       "  'source': {'href': 'http://www.nasa.gov/rss/dyn/mission_pages/kepler/news/kepler-newsandfeatures-RSS.rss',\n",
       "   'title': 'Kepler News and Features'}},\n",
       " {'title': 'NASA’s TESS Enables Breakthrough Study of Perplexing Stellar Pulsations',\n",
       "  'title_detail': {'type': 'text/plain',\n",
       "   'language': 'en',\n",
       "   'base': 'http://www.nasa.gov/',\n",
       "   'value': 'NASA’s TESS Enables Breakthrough Study of Perplexing Stellar Pulsations'},\n",
       "  'links': [{'rel': 'alternate',\n",
       "    'type': 'text/html',\n",
       "    'href': 'http://www.nasa.gov/feature/goddard/2020/nasa-s-tess-enables-breakthrough-study-of-perplexing-stellar-pulsations'},\n",
       "   {'length': '6609190',\n",
       "    'type': 'image/gif',\n",
       "    'href': 'http://www.nasa.gov/sites/default/files/styles/1x1_cardfeed/public/thumbnails/image/full_sequence_gif_.gif?itok=xCqhU6ID',\n",
       "    'rel': 'enclosure'}],\n",
       "  'link': 'http://www.nasa.gov/feature/goddard/2020/nasa-s-tess-enables-breakthrough-study-of-perplexing-stellar-pulsations',\n",
       "  'summary': 'Astronomers have detected elusive pulsation patterns in dozens of young, rapidly rotating stars thanks to data from NASA’s Transiting Exoplanet Survey Satellite (TESS).',\n",
       "  'summary_detail': {'type': 'text/html',\n",
       "   'language': 'en',\n",
       "   'base': 'http://www.nasa.gov/',\n",
       "   'value': 'Astronomers have detected elusive pulsation patterns in dozens of young, rapidly rotating stars thanks to data from NASA’s Transiting Exoplanet Survey Satellite (TESS).'},\n",
       "  'id': 'http://www.nasa.gov/feature/goddard/2020/nasa-s-tess-enables-breakthrough-study-of-perplexing-stellar-pulsations',\n",
       "  'guidislink': False,\n",
       "  'published': 'Wed, 13 May 2020 11:00 EDT',\n",
       "  'published_parsed': time.struct_time(tm_year=2020, tm_mon=5, tm_mday=13, tm_hour=15, tm_min=0, tm_sec=0, tm_wday=2, tm_yday=134, tm_isdst=0),\n",
       "  'source': {'href': 'http://www.nasa.gov/rss/dyn/mission_pages/kepler/news/kepler-newsandfeatures-RSS.rss',\n",
       "   'title': 'Kepler News and Features'}},\n",
       " {'title': 'AAS Names 29 NASA-Affiliated Legacy Fellows',\n",
       "  'title_detail': {'type': 'text/plain',\n",
       "   'language': 'en',\n",
       "   'base': 'http://www.nasa.gov/',\n",
       "   'value': 'AAS Names 29 NASA-Affiliated Legacy Fellows'},\n",
       "  'links': [{'rel': 'alternate',\n",
       "    'type': 'text/html',\n",
       "    'href': 'http://www.nasa.gov/feature/aas-names-29-nasa-affiliated-legacy-fellows'},\n",
       "   {'length': '5053604',\n",
       "    'type': 'image/jpeg',\n",
       "    'href': 'http://www.nasa.gov/sites/default/files/styles/1x1_cardfeed/public/thumbnails/image/crab.jpg?itok=SsqdOZGd',\n",
       "    'rel': 'enclosure'}],\n",
       "  'link': 'http://www.nasa.gov/feature/aas-names-29-nasa-affiliated-legacy-fellows',\n",
       "  'summary': 'Twenty-nine scientists working at or affiliated with NASA have been named Fellows of the American Astronomical Society (AAS), the major organization of professional astronomers in North America.',\n",
       "  'summary_detail': {'type': 'text/html',\n",
       "   'language': 'en',\n",
       "   'base': 'http://www.nasa.gov/',\n",
       "   'value': 'Twenty-nine scientists working at or affiliated with NASA have been named Fellows of the American Astronomical Society (AAS), the major organization of professional astronomers in North America.'},\n",
       "  'id': 'http://www.nasa.gov/feature/aas-names-29-nasa-affiliated-legacy-fellows',\n",
       "  'guidislink': False,\n",
       "  'published': 'Thu, 30 Apr 2020 09:00 EDT',\n",
       "  'published_parsed': time.struct_time(tm_year=2020, tm_mon=4, tm_mday=30, tm_hour=13, tm_min=0, tm_sec=0, tm_wday=3, tm_yday=121, tm_isdst=0),\n",
       "  'source': {'href': 'http://www.nasa.gov/rss/dyn/mission_pages/kepler/news/kepler-newsandfeatures-RSS.rss',\n",
       "   'title': 'Kepler News and Features'}},\n",
       " {'title': 'Kepler-1649c: Earth-Size, Habitable Zone Planet Hides in Plain Sight',\n",
       "  'title_detail': {'type': 'text/plain',\n",
       "   'language': 'en',\n",
       "   'base': 'http://www.nasa.gov/',\n",
       "   'value': 'Kepler-1649c: Earth-Size, Habitable Zone Planet Hides in Plain Sight'},\n",
       "  'links': [{'rel': 'alternate',\n",
       "    'type': 'text/html',\n",
       "    'href': 'http://www.nasa.gov/image-feature/kepler-1649c-earth-size-habitable-zone-planet-hides-in-plain-sight'},\n",
       "   {'length': '3631376',\n",
       "    'type': 'image/jpeg',\n",
       "    'href': 'http://www.nasa.gov/sites/default/files/styles/1x1_cardfeed/public/thumbnails/image/product_2.jpg?itok=ncVFZrIG',\n",
       "    'rel': 'enclosure'}],\n",
       "  'link': 'http://www.nasa.gov/image-feature/kepler-1649c-earth-size-habitable-zone-planet-hides-in-plain-sight',\n",
       "  'summary': \"This artist's illustration shows what Kepler-1649c could look like from its surface.\",\n",
       "  'summary_detail': {'type': 'text/html',\n",
       "   'language': 'en',\n",
       "   'base': 'http://www.nasa.gov/',\n",
       "   'value': \"This artist's illustration shows what Kepler-1649c could look like from its surface.\"},\n",
       "  'id': 'http://www.nasa.gov/image-feature/kepler-1649c-earth-size-habitable-zone-planet-hides-in-plain-sight',\n",
       "  'guidislink': False,\n",
       "  'published': 'Thu, 16 Apr 2020 02:13 EDT',\n",
       "  'published_parsed': time.struct_time(tm_year=2020, tm_mon=4, tm_mday=16, tm_hour=6, tm_min=13, tm_sec=0, tm_wday=3, tm_yday=107, tm_isdst=0),\n",
       "  'source': {'href': 'http://www.nasa.gov/rss/dyn/mission_pages/kepler/news/kepler-newsandfeatures-RSS.rss',\n",
       "   'title': 'Kepler News and Features'}}]"
      ]
     },
     "execution_count": 18,
     "metadata": {},
     "output_type": "execute_result"
    }
   ],
   "source": [
    "nasa['entries']"
   ]
  },
  {
   "cell_type": "markdown",
   "metadata": {},
   "source": [
    "### 7. Extract a list of entry titles."
   ]
  },
  {
   "cell_type": "code",
   "execution_count": 21,
   "metadata": {},
   "outputs": [
    {
     "name": "stdout",
     "output_type": "stream",
     "text": [
      "[\"New Deep Learning Method Adds 301 Planets to Kepler's Total Count\", 'NASA’s TESS Tunes into an All-sky ‘Symphony’ of Red Giant Stars', 'Planetary Sleuthing Finds Triple-Star World', 'About Half of Sun-Like Stars Could Host Rocky, Potentially Habitable Planets', 'NASA Awards SETI Institute Contract for Planetary Protection Support', 'Gravity Assist: Puffy Planets, Powerful Telescopes, with Knicole Colon', 'Imagining Another Earth', 'NASA’s TESS Enables Breakthrough Study of Perplexing Stellar Pulsations', 'AAS Names 29 NASA-Affiliated Legacy Fellows', 'Kepler-1649c: Earth-Size, Habitable Zone Planet Hides in Plain Sight']\n"
     ]
    }
   ],
   "source": [
    "titles = []\n",
    "for i in range(len(nasa['entries'])):\n",
    "    titles.append(nasa['entries'][i]['title'])\n",
    "print(titles)"
   ]
  },
  {
   "cell_type": "markdown",
   "metadata": {},
   "source": [
    "### 8. Calculate the percentage of \"Four short links\" entry titles."
   ]
  },
  {
   "cell_type": "code",
   "execution_count": null,
   "metadata": {},
   "outputs": [],
   "source": []
  },
  {
   "cell_type": "markdown",
   "metadata": {},
   "source": [
    "### 9. Create a Pandas data frame from the feed's entries."
   ]
  },
  {
   "cell_type": "code",
   "execution_count": 22,
   "metadata": {},
   "outputs": [
    {
     "data": {
      "text/html": [
       "<div>\n",
       "<style scoped>\n",
       "    .dataframe tbody tr th:only-of-type {\n",
       "        vertical-align: middle;\n",
       "    }\n",
       "\n",
       "    .dataframe tbody tr th {\n",
       "        vertical-align: top;\n",
       "    }\n",
       "\n",
       "    .dataframe thead th {\n",
       "        text-align: right;\n",
       "    }\n",
       "</style>\n",
       "<table border=\"1\" class=\"dataframe\">\n",
       "  <thead>\n",
       "    <tr style=\"text-align: right;\">\n",
       "      <th></th>\n",
       "      <th>title</th>\n",
       "      <th>title_detail</th>\n",
       "      <th>links</th>\n",
       "      <th>link</th>\n",
       "      <th>summary</th>\n",
       "      <th>summary_detail</th>\n",
       "      <th>id</th>\n",
       "      <th>guidislink</th>\n",
       "      <th>published</th>\n",
       "      <th>published_parsed</th>\n",
       "      <th>source</th>\n",
       "    </tr>\n",
       "  </thead>\n",
       "  <tbody>\n",
       "    <tr>\n",
       "      <th>0</th>\n",
       "      <td>New Deep Learning Method Adds 301 Planets to K...</td>\n",
       "      <td>{'type': 'text/plain', 'language': 'en', 'base...</td>\n",
       "      <td>[{'rel': 'alternate', 'type': 'text/html', 'hr...</td>\n",
       "      <td>http://www.nasa.gov/feature/ames/new-deep-lear...</td>\n",
       "      <td>Scientists recently added a whopping 301 newly...</td>\n",
       "      <td>{'type': 'text/html', 'language': 'en', 'base'...</td>\n",
       "      <td>http://www.nasa.gov/feature/ames/new-deep-lear...</td>\n",
       "      <td>False</td>\n",
       "      <td>Mon, 22 Nov 2021 20:36 EST</td>\n",
       "      <td>(2021, 11, 23, 1, 36, 0, 1, 327, 0)</td>\n",
       "      <td>{'href': 'http://www.nasa.gov/rss/dyn/mission_...</td>\n",
       "    </tr>\n",
       "    <tr>\n",
       "      <th>1</th>\n",
       "      <td>NASA’s TESS Tunes into an All-sky ‘Symphony’ o...</td>\n",
       "      <td>{'type': 'text/plain', 'language': 'en', 'base...</td>\n",
       "      <td>[{'rel': 'alternate', 'type': 'text/html', 'hr...</td>\n",
       "      <td>http://www.nasa.gov/feature/goddard/2021/nasa-...</td>\n",
       "      <td>Using NASA’s Transiting Exoplanet Survey Satel...</td>\n",
       "      <td>{'type': 'text/html', 'language': 'en', 'base'...</td>\n",
       "      <td>http://www.nasa.gov/feature/goddard/2021/nasa-...</td>\n",
       "      <td>False</td>\n",
       "      <td>Wed, 04 Aug 2021 17:00 EDT</td>\n",
       "      <td>(2021, 8, 4, 21, 0, 0, 2, 216, 0)</td>\n",
       "      <td>{'href': 'http://www.nasa.gov/rss/dyn/mission_...</td>\n",
       "    </tr>\n",
       "    <tr>\n",
       "      <th>2</th>\n",
       "      <td>Planetary Sleuthing Finds Triple-Star World</td>\n",
       "      <td>{'type': 'text/plain', 'language': 'en', 'base...</td>\n",
       "      <td>[{'rel': 'alternate', 'type': 'text/html', 'hr...</td>\n",
       "      <td>http://www.nasa.gov/feature/ames/planetary-sle...</td>\n",
       "      <td>Years after its detection, astronomers have co...</td>\n",
       "      <td>{'type': 'text/html', 'language': 'en', 'base'...</td>\n",
       "      <td>http://www.nasa.gov/feature/ames/planetary-sle...</td>\n",
       "      <td>False</td>\n",
       "      <td>Mon, 11 Jan 2021 13:40 EST</td>\n",
       "      <td>(2021, 1, 11, 18, 40, 0, 0, 11, 0)</td>\n",
       "      <td>{'href': 'http://www.nasa.gov/rss/dyn/mission_...</td>\n",
       "    </tr>\n",
       "    <tr>\n",
       "      <th>3</th>\n",
       "      <td>About Half of Sun-Like Stars Could Host Rocky,...</td>\n",
       "      <td>{'type': 'text/plain', 'language': 'en', 'base...</td>\n",
       "      <td>[{'rel': 'alternate', 'type': 'text/html', 'hr...</td>\n",
       "      <td>http://www.nasa.gov/feature/ames/kepler-occurr...</td>\n",
       "      <td>According to new research using data from NASA...</td>\n",
       "      <td>{'type': 'text/html', 'language': 'en', 'base'...</td>\n",
       "      <td>http://www.nasa.gov/feature/ames/kepler-occurr...</td>\n",
       "      <td>False</td>\n",
       "      <td>Thu, 29 Oct 2020 07:00 EDT</td>\n",
       "      <td>(2020, 10, 29, 11, 0, 0, 3, 303, 0)</td>\n",
       "      <td>{'href': 'http://www.nasa.gov/rss/dyn/mission_...</td>\n",
       "    </tr>\n",
       "    <tr>\n",
       "      <th>4</th>\n",
       "      <td>NASA Awards SETI Institute Contract for Planet...</td>\n",
       "      <td>{'type': 'text/plain', 'language': 'en', 'base...</td>\n",
       "      <td>[{'rel': 'alternate', 'type': 'text/html', 'hr...</td>\n",
       "      <td>http://www.nasa.gov/press-release/nasa-awards-...</td>\n",
       "      <td>NASA has awarded the SETI Institute in Mountai...</td>\n",
       "      <td>{'type': 'text/html', 'language': 'en', 'base'...</td>\n",
       "      <td>http://www.nasa.gov/press-release/nasa-awards-...</td>\n",
       "      <td>False</td>\n",
       "      <td>Fri, 10 Jul 2020 12:04 EDT</td>\n",
       "      <td>(2020, 7, 10, 16, 4, 0, 4, 192, 0)</td>\n",
       "      <td>{'href': 'http://www.nasa.gov/rss/dyn/mission_...</td>\n",
       "    </tr>\n",
       "  </tbody>\n",
       "</table>\n",
       "</div>"
      ],
      "text/plain": [
       "                                               title  \\\n",
       "0  New Deep Learning Method Adds 301 Planets to K...   \n",
       "1  NASA’s TESS Tunes into an All-sky ‘Symphony’ o...   \n",
       "2        Planetary Sleuthing Finds Triple-Star World   \n",
       "3  About Half of Sun-Like Stars Could Host Rocky,...   \n",
       "4  NASA Awards SETI Institute Contract for Planet...   \n",
       "\n",
       "                                        title_detail  \\\n",
       "0  {'type': 'text/plain', 'language': 'en', 'base...   \n",
       "1  {'type': 'text/plain', 'language': 'en', 'base...   \n",
       "2  {'type': 'text/plain', 'language': 'en', 'base...   \n",
       "3  {'type': 'text/plain', 'language': 'en', 'base...   \n",
       "4  {'type': 'text/plain', 'language': 'en', 'base...   \n",
       "\n",
       "                                               links  \\\n",
       "0  [{'rel': 'alternate', 'type': 'text/html', 'hr...   \n",
       "1  [{'rel': 'alternate', 'type': 'text/html', 'hr...   \n",
       "2  [{'rel': 'alternate', 'type': 'text/html', 'hr...   \n",
       "3  [{'rel': 'alternate', 'type': 'text/html', 'hr...   \n",
       "4  [{'rel': 'alternate', 'type': 'text/html', 'hr...   \n",
       "\n",
       "                                                link  \\\n",
       "0  http://www.nasa.gov/feature/ames/new-deep-lear...   \n",
       "1  http://www.nasa.gov/feature/goddard/2021/nasa-...   \n",
       "2  http://www.nasa.gov/feature/ames/planetary-sle...   \n",
       "3  http://www.nasa.gov/feature/ames/kepler-occurr...   \n",
       "4  http://www.nasa.gov/press-release/nasa-awards-...   \n",
       "\n",
       "                                             summary  \\\n",
       "0  Scientists recently added a whopping 301 newly...   \n",
       "1  Using NASA’s Transiting Exoplanet Survey Satel...   \n",
       "2  Years after its detection, astronomers have co...   \n",
       "3  According to new research using data from NASA...   \n",
       "4  NASA has awarded the SETI Institute in Mountai...   \n",
       "\n",
       "                                      summary_detail  \\\n",
       "0  {'type': 'text/html', 'language': 'en', 'base'...   \n",
       "1  {'type': 'text/html', 'language': 'en', 'base'...   \n",
       "2  {'type': 'text/html', 'language': 'en', 'base'...   \n",
       "3  {'type': 'text/html', 'language': 'en', 'base'...   \n",
       "4  {'type': 'text/html', 'language': 'en', 'base'...   \n",
       "\n",
       "                                                  id  guidislink  \\\n",
       "0  http://www.nasa.gov/feature/ames/new-deep-lear...       False   \n",
       "1  http://www.nasa.gov/feature/goddard/2021/nasa-...       False   \n",
       "2  http://www.nasa.gov/feature/ames/planetary-sle...       False   \n",
       "3  http://www.nasa.gov/feature/ames/kepler-occurr...       False   \n",
       "4  http://www.nasa.gov/press-release/nasa-awards-...       False   \n",
       "\n",
       "                    published                     published_parsed  \\\n",
       "0  Mon, 22 Nov 2021 20:36 EST  (2021, 11, 23, 1, 36, 0, 1, 327, 0)   \n",
       "1  Wed, 04 Aug 2021 17:00 EDT    (2021, 8, 4, 21, 0, 0, 2, 216, 0)   \n",
       "2  Mon, 11 Jan 2021 13:40 EST   (2021, 1, 11, 18, 40, 0, 0, 11, 0)   \n",
       "3  Thu, 29 Oct 2020 07:00 EDT  (2020, 10, 29, 11, 0, 0, 3, 303, 0)   \n",
       "4  Fri, 10 Jul 2020 12:04 EDT   (2020, 7, 10, 16, 4, 0, 4, 192, 0)   \n",
       "\n",
       "                                              source  \n",
       "0  {'href': 'http://www.nasa.gov/rss/dyn/mission_...  \n",
       "1  {'href': 'http://www.nasa.gov/rss/dyn/mission_...  \n",
       "2  {'href': 'http://www.nasa.gov/rss/dyn/mission_...  \n",
       "3  {'href': 'http://www.nasa.gov/rss/dyn/mission_...  \n",
       "4  {'href': 'http://www.nasa.gov/rss/dyn/mission_...  "
      ]
     },
     "execution_count": 22,
     "metadata": {},
     "output_type": "execute_result"
    }
   ],
   "source": [
    "import pandas as pd\n",
    "\n",
    "df = pd.DataFrame(nasa.entries)\n",
    "df.head()"
   ]
  },
  {
   "cell_type": "code",
   "execution_count": null,
   "metadata": {},
   "outputs": [],
   "source": []
  },
  {
   "cell_type": "markdown",
   "metadata": {},
   "source": [
    "### 10. Count the number of entries per author and sort them in descending order."
   ]
  },
  {
   "cell_type": "code",
   "execution_count": null,
   "metadata": {},
   "outputs": [],
   "source": []
  },
  {
   "cell_type": "markdown",
   "metadata": {},
   "source": [
    "### 11. Add a new column to the data frame that contains the length (number of characters) of each entry title. Return a data frame that contains the title, author, and title length of each entry in descending order (longest title length at the top)."
   ]
  },
  {
   "cell_type": "code",
   "execution_count": 23,
   "metadata": {},
   "outputs": [
    {
     "data": {
      "text/html": [
       "<div>\n",
       "<style scoped>\n",
       "    .dataframe tbody tr th:only-of-type {\n",
       "        vertical-align: middle;\n",
       "    }\n",
       "\n",
       "    .dataframe tbody tr th {\n",
       "        vertical-align: top;\n",
       "    }\n",
       "\n",
       "    .dataframe thead th {\n",
       "        text-align: right;\n",
       "    }\n",
       "</style>\n",
       "<table border=\"1\" class=\"dataframe\">\n",
       "  <thead>\n",
       "    <tr style=\"text-align: right;\">\n",
       "      <th></th>\n",
       "      <th>title</th>\n",
       "      <th>title_length</th>\n",
       "    </tr>\n",
       "  </thead>\n",
       "  <tbody>\n",
       "    <tr>\n",
       "      <th>3</th>\n",
       "      <td>About Half of Sun-Like Stars Could Host Rocky,...</td>\n",
       "      <td>76</td>\n",
       "    </tr>\n",
       "    <tr>\n",
       "      <th>7</th>\n",
       "      <td>NASA’s TESS Enables Breakthrough Study of Perp...</td>\n",
       "      <td>71</td>\n",
       "    </tr>\n",
       "    <tr>\n",
       "      <th>5</th>\n",
       "      <td>Gravity Assist: Puffy Planets, Powerful Telesc...</td>\n",
       "      <td>70</td>\n",
       "    </tr>\n",
       "    <tr>\n",
       "      <th>4</th>\n",
       "      <td>NASA Awards SETI Institute Contract for Planet...</td>\n",
       "      <td>68</td>\n",
       "    </tr>\n",
       "    <tr>\n",
       "      <th>9</th>\n",
       "      <td>Kepler-1649c: Earth-Size, Habitable Zone Plane...</td>\n",
       "      <td>68</td>\n",
       "    </tr>\n",
       "  </tbody>\n",
       "</table>\n",
       "</div>"
      ],
      "text/plain": [
       "                                               title  title_length\n",
       "3  About Half of Sun-Like Stars Could Host Rocky,...            76\n",
       "7  NASA’s TESS Enables Breakthrough Study of Perp...            71\n",
       "5  Gravity Assist: Puffy Planets, Powerful Telesc...            70\n",
       "4  NASA Awards SETI Institute Contract for Planet...            68\n",
       "9  Kepler-1649c: Earth-Size, Habitable Zone Plane...            68"
      ]
     },
     "execution_count": 23,
     "metadata": {},
     "output_type": "execute_result"
    }
   ],
   "source": [
    "df['title_length'] = df['title'].apply(len)\n",
    "df[['title', 'title_length']].sort_values('title_length', ascending=False).head()"
   ]
  },
  {
   "cell_type": "markdown",
   "metadata": {},
   "source": [
    "### 12. Create a list of entry titles whose summary includes the phrase \"machine learning.\""
   ]
  },
  {
   "cell_type": "code",
   "execution_count": 24,
   "metadata": {},
   "outputs": [
    {
     "name": "stdout",
     "output_type": "stream",
     "text": [
      "[]\n"
     ]
    }
   ],
   "source": [
    "phrase_titles = [nasa.entries[i].title for i in range(len(nasa.entries)) if 'machine learning' in nasa.entries]\n",
    "print (phrase_titles)"
   ]
  }
 ],
 "metadata": {
  "kernelspec": {
   "display_name": "Python 3 (ipykernel)",
   "language": "python",
   "name": "python3"
  },
  "language_info": {
   "codemirror_mode": {
    "name": "ipython",
    "version": 3
   },
   "file_extension": ".py",
   "mimetype": "text/x-python",
   "name": "python",
   "nbconvert_exporter": "python",
   "pygments_lexer": "ipython3",
   "version": "3.10.9"
  }
 },
 "nbformat": 4,
 "nbformat_minor": 2
}
