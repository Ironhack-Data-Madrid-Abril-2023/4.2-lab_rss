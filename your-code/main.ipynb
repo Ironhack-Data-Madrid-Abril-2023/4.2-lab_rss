{
 "cells": [
  {
   "cell_type": "markdown",
   "metadata": {},
   "source": [
    "# Working with RSS Feeds Lab\n",
    "\n",
    "Complete the following set of exercises to solidify your knowledge of parsing RSS feeds and extracting information from them."
   ]
  },
  {
   "cell_type": "code",
   "execution_count": 6,
   "metadata": {},
   "outputs": [
    {
     "name": "stdout",
     "output_type": "stream",
     "text": [
      "Requirement already satisfied: feedparser in c:\\users\\cleme\\anaconda3\\lib\\site-packages (6.0.10)\n",
      "Requirement already satisfied: sgmllib3k in c:\\users\\cleme\\anaconda3\\lib\\site-packages (from feedparser) (1.0.0)\n",
      "Note: you may need to restart the kernel to use updated packages.\n"
     ]
    }
   ],
   "source": [
    "%pip install feedparser\n",
    "import feedparser"
   ]
  },
  {
   "cell_type": "markdown",
   "metadata": {},
   "source": [
    "### 1. Use feedparser to parse the following RSS feed URL."
   ]
  },
  {
   "cell_type": "code",
   "execution_count": 41,
   "metadata": {},
   "outputs": [],
   "source": [
    "nasa= feedparser.parse('https://www.nasa.gov/rss/dyn/solar_system.rss')"
   ]
  },
  {
   "cell_type": "code",
   "execution_count": 42,
   "metadata": {},
   "outputs": [
    {
     "name": "stdout",
     "output_type": "stream",
     "text": [
      "{'language': 'en-us', 'title': 'Solar System and Beyond', 'title_detail': {'type': 'text/plain', 'language': 'en', 'base': 'http://www.nasa.gov/', 'value': 'Solar System and Beyond'}, 'subtitle': 'A RSS news feed containing the latest NASA press releases on missions exploring our solar system and beyond.', 'subtitle_detail': {'type': 'text/html', 'language': 'en', 'base': 'http://www.nasa.gov/', 'value': 'A RSS news feed containing the latest NASA press releases on missions exploring our solar system and beyond.'}, 'links': [{'rel': 'alternate', 'type': 'text/html', 'href': 'http://www.nasa.gov/'}, {'rel': 'self', 'href': 'http://www.nasa.gov/rss/dyn/solar_system.rss', 'type': 'application/atom+xml'}], 'link': 'http://www.nasa.gov/', 'authors': [{'email': 'jim.wilson@nasa.gov'}], 'author': 'jim.wilson@nasa.gov', 'author_detail': {'email': 'jim.wilson@nasa.gov'}, 'publisher': 'brian.dunbar@nasa.gov', 'publisher_detail': {'email': 'brian.dunbar@nasa.gov'}, 'docs': 'http://blogs.harvard.edu/tech/rss'}\n"
     ]
    }
   ],
   "source": [
    "print(nasa['feed'])"
   ]
  },
  {
   "cell_type": "markdown",
   "metadata": {},
   "source": [
    "### 2. Obtain a list of components (keys) that are available for this feed."
   ]
  },
  {
   "cell_type": "code",
   "execution_count": 43,
   "metadata": {},
   "outputs": [
    {
     "data": {
      "text/plain": [
       "dict_keys(['bozo', 'entries', 'feed', 'headers', 'href', 'status', 'encoding', 'version', 'namespaces'])"
      ]
     },
     "execution_count": 43,
     "metadata": {},
     "output_type": "execute_result"
    }
   ],
   "source": [
    "nasa.keys()"
   ]
  },
  {
   "cell_type": "markdown",
   "metadata": {},
   "source": [
    "### 3. Obtain a list of components (keys) that are available for the *feed* component of this RSS feed."
   ]
  },
  {
   "cell_type": "code",
   "execution_count": 46,
   "metadata": {},
   "outputs": [
    {
     "name": "stdout",
     "output_type": "stream",
     "text": [
      "{'language': 'en-us', 'title': 'Solar System and Beyond', 'title_detail': {'type': 'text/plain', 'language': 'en', 'base': 'http://www.nasa.gov/', 'value': 'Solar System and Beyond'}, 'subtitle': 'A RSS news feed containing the latest NASA press releases on missions exploring our solar system and beyond.', 'subtitle_detail': {'type': 'text/html', 'language': 'en', 'base': 'http://www.nasa.gov/', 'value': 'A RSS news feed containing the latest NASA press releases on missions exploring our solar system and beyond.'}, 'links': [{'rel': 'alternate', 'type': 'text/html', 'href': 'http://www.nasa.gov/'}, {'rel': 'self', 'href': 'http://www.nasa.gov/rss/dyn/solar_system.rss', 'type': 'application/atom+xml'}], 'link': 'http://www.nasa.gov/', 'authors': [{'email': 'jim.wilson@nasa.gov'}], 'author': 'jim.wilson@nasa.gov', 'author_detail': {'email': 'jim.wilson@nasa.gov'}, 'publisher': 'brian.dunbar@nasa.gov', 'publisher_detail': {'email': 'brian.dunbar@nasa.gov'}, 'docs': 'http://blogs.harvard.edu/tech/rss'}\n"
     ]
    }
   ],
   "source": [
    "print (nasa.feed)\n"
   ]
  },
  {
   "cell_type": "markdown",
   "metadata": {},
   "source": [
    "### 4. Extract and print the feed title, subtitle, author, and link."
   ]
  },
  {
   "cell_type": "code",
   "execution_count": 49,
   "metadata": {},
   "outputs": [
    {
     "name": "stdout",
     "output_type": "stream",
     "text": [
      "Title: Solar System and Beyond\n",
      "Subtitle: A RSS news feed containing the latest NASA press releases on missions exploring our solar system and beyond.\n",
      "Author: jim.wilson@nasa.gov\n",
      "Link: http://www.nasa.gov/\n"
     ]
    }
   ],
   "source": [
    "print('Title:', nasa.feed.title)\n",
    "print('Subtitle:', nasa.feed.subtitle)\n",
    "print('Author:', nasa.feed.author)\n",
    "print('Link:', nasa.feed.link)"
   ]
  },
  {
   "cell_type": "markdown",
   "metadata": {},
   "source": [
    "### 5. Count the number of entries that are contained in this RSS feed."
   ]
  },
  {
   "cell_type": "code",
   "execution_count": 50,
   "metadata": {},
   "outputs": [
    {
     "name": "stdout",
     "output_type": "stream",
     "text": [
      "{10}\n"
     ]
    }
   ],
   "source": [
    "num_entries = len(nasa.entries)\n",
    "print({num_entries})\n",
    "\n",
    "\n"
   ]
  },
  {
   "cell_type": "markdown",
   "metadata": {},
   "source": [
    "### 6. Obtain a list of components (keys) available for an entry.\n",
    "\n",
    "*Hint: Remember to index first before requesting the keys*"
   ]
  },
  {
   "cell_type": "code",
   "execution_count": 51,
   "metadata": {},
   "outputs": [
    {
     "name": "stdout",
     "output_type": "stream",
     "text": [
      "dict_keys(['title', 'title_detail', 'links', 'link', 'summary', 'summary_detail', 'id', 'guidislink', 'published', 'published_parsed', 'source'])\n"
     ]
    }
   ],
   "source": [
    "keys = nasa.entries[0].keys()\n",
    "\n",
    "print(keys)"
   ]
  },
  {
   "cell_type": "markdown",
   "metadata": {},
   "source": [
    "### 7. Extract a list of entry titles."
   ]
  },
  {
   "cell_type": "code",
   "execution_count": 52,
   "metadata": {},
   "outputs": [
    {
     "name": "stdout",
     "output_type": "stream",
     "text": [
      "['NASA Awards Contract to Maintain Webb Telescope Operations', 'NASA’s Big 2022: Historic Moon Mission, Webb Telescope Images, More', 'Experts Available to Discuss NASA Webb Telescope Science Results', 'El impacto de DART cambió el movimiento de un asteroide en el espacio', 'NASA Confirms DART Mission Impact Changed Asteroid’s Motion in Space', 'NASA to Provide Update on DART, World’s First Planetary Defense Test', 'NASA’s DART Mission Hits Asteroid in First-Ever Planetary Defense Test', \"Celebrate 'International Observe the Moon Night' with NASA\", 'NASA to Host Briefing on Perseverance Mars Rover Mission Operations', 'La NASA invita a la prensa a la primera prueba de defensa planetaria']\n"
     ]
    }
   ],
   "source": [
    "titles = [entry.title for entry in nasa.entries]\n",
    "\n",
    "print(titles)"
   ]
  },
  {
   "cell_type": "markdown",
   "metadata": {},
   "source": [
    "### 8. Calculate the percentage of \"Four short links\" entry titles."
   ]
  },
  {
   "cell_type": "code",
   "execution_count": 53,
   "metadata": {},
   "outputs": [
    {
     "name": "stdout",
     "output_type": "stream",
     "text": [
      "0.0\n"
     ]
    }
   ],
   "source": [
    "count = sum('Four short links' in entry.title for entry in nasa.entries)\n",
    "\n",
    "percentage = (count / len(nasa.entries)) * 100\n",
    "\n",
    "print(percentage)"
   ]
  },
  {
   "cell_type": "markdown",
   "metadata": {},
   "source": [
    "### 9. Create a Pandas data frame from the feed's entries."
   ]
  },
  {
   "cell_type": "code",
   "execution_count": 56,
   "metadata": {},
   "outputs": [],
   "source": [
    "import pandas as pd\n",
    "\n"
   ]
  },
  {
   "cell_type": "code",
   "execution_count": 75,
   "metadata": {},
   "outputs": [
    {
     "data": {
      "text/html": [
       "<div>\n",
       "<style scoped>\n",
       "    .dataframe tbody tr th:only-of-type {\n",
       "        vertical-align: middle;\n",
       "    }\n",
       "\n",
       "    .dataframe tbody tr th {\n",
       "        vertical-align: top;\n",
       "    }\n",
       "\n",
       "    .dataframe thead th {\n",
       "        text-align: right;\n",
       "    }\n",
       "</style>\n",
       "<table border=\"1\" class=\"dataframe\">\n",
       "  <thead>\n",
       "    <tr style=\"text-align: right;\">\n",
       "      <th></th>\n",
       "      <th>title</th>\n",
       "      <th>link</th>\n",
       "      <th>published</th>\n",
       "      <th>summary</th>\n",
       "    </tr>\n",
       "  </thead>\n",
       "  <tbody>\n",
       "    <tr>\n",
       "      <th>0</th>\n",
       "      <td>NASA Awards Contract to Maintain Webb Telescop...</td>\n",
       "      <td>http://www.nasa.gov/press-release/nasa-awards-...</td>\n",
       "      <td>Thu, 15 Dec 2022 16:02 EST</td>\n",
       "      <td>NASA has selected Northrop Grumman Systems Cor...</td>\n",
       "    </tr>\n",
       "    <tr>\n",
       "      <th>1</th>\n",
       "      <td>NASA’s Big 2022: Historic Moon Mission, Webb T...</td>\n",
       "      <td>http://www.nasa.gov/press-release/nasa-s-big-2...</td>\n",
       "      <td>Tue, 13 Dec 2022 10:22 EST</td>\n",
       "      <td>2022 is one for the history books as NASA caps...</td>\n",
       "    </tr>\n",
       "    <tr>\n",
       "      <th>2</th>\n",
       "      <td>Experts Available to Discuss NASA Webb Telesco...</td>\n",
       "      <td>http://www.nasa.gov/press-release/experts-avai...</td>\n",
       "      <td>Tue, 15 Nov 2022 16:41 EST</td>\n",
       "      <td>Experts from NASA and other institutions will ...</td>\n",
       "    </tr>\n",
       "    <tr>\n",
       "      <th>3</th>\n",
       "      <td>El impacto de DART cambió el movimiento de un ...</td>\n",
       "      <td>http://www.nasa.gov/press-release/el-impacto-d...</td>\n",
       "      <td>Tue, 11 Oct 2022 13:28 EDT</td>\n",
       "      <td>El análisis de los datos obtenidos en las últi...</td>\n",
       "    </tr>\n",
       "    <tr>\n",
       "      <th>4</th>\n",
       "      <td>NASA Confirms DART Mission Impact Changed Aste...</td>\n",
       "      <td>http://www.nasa.gov/press-release/nasa-confirm...</td>\n",
       "      <td>Tue, 11 Oct 2022 13:12 EDT</td>\n",
       "      <td>Analysis of data obtained over the past two we...</td>\n",
       "    </tr>\n",
       "  </tbody>\n",
       "</table>\n",
       "</div>"
      ],
      "text/plain": [
       "                                               title  \\\n",
       "0  NASA Awards Contract to Maintain Webb Telescop...   \n",
       "1  NASA’s Big 2022: Historic Moon Mission, Webb T...   \n",
       "2  Experts Available to Discuss NASA Webb Telesco...   \n",
       "3  El impacto de DART cambió el movimiento de un ...   \n",
       "4  NASA Confirms DART Mission Impact Changed Aste...   \n",
       "\n",
       "                                                link  \\\n",
       "0  http://www.nasa.gov/press-release/nasa-awards-...   \n",
       "1  http://www.nasa.gov/press-release/nasa-s-big-2...   \n",
       "2  http://www.nasa.gov/press-release/experts-avai...   \n",
       "3  http://www.nasa.gov/press-release/el-impacto-d...   \n",
       "4  http://www.nasa.gov/press-release/nasa-confirm...   \n",
       "\n",
       "                    published  \\\n",
       "0  Thu, 15 Dec 2022 16:02 EST   \n",
       "1  Tue, 13 Dec 2022 10:22 EST   \n",
       "2  Tue, 15 Nov 2022 16:41 EST   \n",
       "3  Tue, 11 Oct 2022 13:28 EDT   \n",
       "4  Tue, 11 Oct 2022 13:12 EDT   \n",
       "\n",
       "                                             summary  \n",
       "0  NASA has selected Northrop Grumman Systems Cor...  \n",
       "1  2022 is one for the history books as NASA caps...  \n",
       "2  Experts from NASA and other institutions will ...  \n",
       "3  El análisis de los datos obtenidos en las últi...  \n",
       "4  Analysis of data obtained over the past two we...  "
      ]
     },
     "execution_count": 75,
     "metadata": {},
     "output_type": "execute_result"
    }
   ],
   "source": [
    "entries_list = []\n",
    "for entry in nasa.entries:\n",
    "    entry_dict ={'title': entry.title,\n",
    "                'link': entry.link,\n",
    "                'published': entry.published,\n",
    "                'summary': entry.summary}\n",
    "        \n",
    "    \n",
    "    entries_list.append(entry_dict)\n",
    "\n",
    "\n",
    "df = pd.DataFrame(entries_list)\n",
    "\n",
    "df.head()"
   ]
  },
  {
   "cell_type": "markdown",
   "metadata": {},
   "source": [
    "### 10. Count the number of entries per author and sort them in descending order."
   ]
  },
  {
   "cell_type": "code",
   "execution_count": 78,
   "metadata": {},
   "outputs": [
    {
     "name": "stdout",
     "output_type": "stream",
     "text": [
      "NASA Awards Contract to Maintain Webb Telescope Operations                1\n",
      "NASA’s Big 2022: Historic Moon Mission, Webb Telescope Images, More       1\n",
      "Experts Available to Discuss NASA Webb Telescope Science Results          1\n",
      "El impacto de DART cambió el movimiento de un asteroide en el espacio     1\n",
      "NASA Confirms DART Mission Impact Changed Asteroid’s Motion in Space      1\n",
      "NASA to Provide Update on DART, World’s First Planetary Defense Test      1\n",
      "NASA’s DART Mission Hits Asteroid in First-Ever Planetary Defense Test    1\n",
      "Celebrate 'International Observe the Moon Night' with NASA                1\n",
      "NASA to Host Briefing on Perseverance Mars Rover Mission Operations       1\n",
      "La NASA invita a la prensa a la primera prueba de defensa planetaria      1\n",
      "Name: title, dtype: int64\n"
     ]
    }
   ],
   "source": [
    "counts = df['title'].value_counts(ascending=False)\n",
    "\n",
    "print(counts)"
   ]
  },
  {
   "cell_type": "markdown",
   "metadata": {},
   "source": [
    "### 11. Add a new column to the data frame that contains the length (number of characters) of each entry title. Return a data frame that contains the title, author, and title length of each entry in descending order (longest title length at the top)."
   ]
  },
  {
   "cell_type": "code",
   "execution_count": 83,
   "metadata": {},
   "outputs": [],
   "source": [
    "entries_list = []\n",
    "for entry in nasa.entries:\n",
    "    entry_dict = {'title': entry.title,\n",
    "                'link': entry.link,\n",
    "                'published': entry.published,\n",
    "                'summary': entry.summary,\n",
    "                'title': entry.title}\n",
    "    \n",
    "    entries_list.append(entry_dict)"
   ]
  },
  {
   "cell_type": "code",
   "execution_count": 84,
   "metadata": {},
   "outputs": [
    {
     "name": "stdout",
     "output_type": "stream",
     "text": [
      "                                               title  title_length\n",
      "6  NASA’s DART Mission Hits Asteroid in First-Eve...            70\n",
      "3  El impacto de DART cambió el movimiento de un ...            69\n",
      "4  NASA Confirms DART Mission Impact Changed Aste...            68\n",
      "5  NASA to Provide Update on DART, World’s First ...            68\n",
      "9  La NASA invita a la prensa a la primera prueba...            68\n",
      "1  NASA’s Big 2022: Historic Moon Mission, Webb T...            67\n",
      "8  NASA to Host Briefing on Perseverance Mars Rov...            67\n",
      "2  Experts Available to Discuss NASA Webb Telesco...            64\n",
      "0  NASA Awards Contract to Maintain Webb Telescop...            58\n",
      "7  Celebrate 'International Observe the Moon Nigh...            58\n"
     ]
    }
   ],
   "source": [
    "df['title_length'] = df['title'].apply(len)\n",
    "\n",
    "\n",
    "df_sorted = df[['title', 'title_length']].sort_values(by='title_length', ascending=False)\n",
    "\n",
    "print(df_sorted)"
   ]
  },
  {
   "cell_type": "markdown",
   "metadata": {},
   "source": [
    "### 12. Create a list of entry titles whose summary includes the phrase \"machine learning.\""
   ]
  },
  {
   "cell_type": "code",
   "execution_count": 86,
   "metadata": {},
   "outputs": [
    {
     "name": "stdout",
     "output_type": "stream",
     "text": [
      "[]\n"
     ]
    }
   ],
   "source": [
    "entries_list = []\n",
    "\n",
    "\n",
    "for entry in nasa.entries:\n",
    "    if 'machine learning' in entry.summary.lower():\n",
    "        entries_list.append(entry.title)\n",
    "\n",
    "\n",
    "print(entries_list)"
   ]
  },
  {
   "cell_type": "code",
   "execution_count": null,
   "metadata": {},
   "outputs": [],
   "source": []
  }
 ],
 "metadata": {
  "kernelspec": {
   "display_name": "Python 3 (ipykernel)",
   "language": "python",
   "name": "python3"
  },
  "language_info": {
   "codemirror_mode": {
    "name": "ipython",
    "version": 3
   },
   "file_extension": ".py",
   "mimetype": "text/x-python",
   "name": "python",
   "nbconvert_exporter": "python",
   "pygments_lexer": "ipython3",
   "version": "3.10.9"
  }
 },
 "nbformat": 4,
 "nbformat_minor": 2
}
