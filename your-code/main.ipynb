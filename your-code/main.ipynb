{
 "cells": [
  {
   "cell_type": "markdown",
   "metadata": {},
   "source": [
    "# Working with RSS Feeds Lab\n",
    "\n",
    "Complete the following set of exercises to solidify your knowledge of parsing RSS feeds and extracting information from them."
   ]
  },
  {
   "cell_type": "code",
   "execution_count": 1,
   "metadata": {},
   "outputs": [
    {
     "name": "stdout",
     "output_type": "stream",
     "text": [
      "Collecting feedparser\n",
      "  Downloading feedparser-6.0.10-py3-none-any.whl (81 kB)\n",
      "     ---------------------------------------- 81.1/81.1 kB 2.2 MB/s eta 0:00:00\n",
      "Collecting sgmllib3k\n",
      "  Downloading sgmllib3k-1.0.0.tar.gz (5.8 kB)\n",
      "  Preparing metadata (setup.py): started\n",
      "  Preparing metadata (setup.py): finished with status 'done'\n",
      "Installing collected packages: sgmllib3k, feedparser\n",
      "  Running setup.py install for sgmllib3k: started\n",
      "  Running setup.py install for sgmllib3k: finished with status 'done'\n",
      "Successfully installed feedparser-6.0.10 sgmllib3k-1.0.0\n",
      "Note: you may need to restart the kernel to use updated packages.\n"
     ]
    },
    {
     "name": "stderr",
     "output_type": "stream",
     "text": [
      "  DEPRECATION: sgmllib3k is being installed using the legacy 'setup.py install' method, because it does not have a 'pyproject.toml' and the 'wheel' package is not installed. pip 23.1 will enforce this behaviour change. A possible replacement is to enable the '--use-pep517' option. Discussion can be found at https://github.com/pypa/pip/issues/8559\n",
      "\n",
      "[notice] A new release of pip available: 22.3.1 -> 23.1.2\n",
      "[notice] To update, run: python.exe -m pip install --upgrade pip\n"
     ]
    }
   ],
   "source": [
    "%pip install feedparser"
   ]
  },
  {
   "cell_type": "code",
   "execution_count": 2,
   "metadata": {},
   "outputs": [],
   "source": [
    "import feedparser"
   ]
  },
  {
   "cell_type": "markdown",
   "metadata": {},
   "source": [
    "### 1. Use feedparser to parse the following RSS feed URL."
   ]
  },
  {
   "cell_type": "code",
   "execution_count": 3,
   "metadata": {},
   "outputs": [],
   "source": [
    "nasa = feedparser.parse('https://www.nasa.gov/rss/dyn/mission_pages/kepler/news/kepler-newsandfeatures-RSS.rss')"
   ]
  },
  {
   "cell_type": "markdown",
   "metadata": {},
   "source": [
    "### 2. Obtain a list of components (keys) that are available for this feed."
   ]
  },
  {
   "cell_type": "code",
   "execution_count": 5,
   "metadata": {},
   "outputs": [
    {
     "data": {
      "text/plain": [
       "dict_keys(['bozo', 'entries', 'feed', 'headers', 'href', 'status', 'encoding', 'version', 'namespaces'])"
      ]
     },
     "execution_count": 5,
     "metadata": {},
     "output_type": "execute_result"
    }
   ],
   "source": [
    "nasa.keys()"
   ]
  },
  {
   "cell_type": "markdown",
   "metadata": {},
   "source": [
    "### 3. Obtain a list of components (keys) that are available for the *feed* component of this RSS feed."
   ]
  },
  {
   "cell_type": "code",
   "execution_count": 6,
   "metadata": {},
   "outputs": [
    {
     "data": {
      "text/plain": [
       "dict_keys(['language', 'title', 'title_detail', 'subtitle', 'subtitle_detail', 'links', 'link', 'publisher', 'publisher_detail'])"
      ]
     },
     "execution_count": 6,
     "metadata": {},
     "output_type": "execute_result"
    }
   ],
   "source": [
    "nasa['feed'].keys()"
   ]
  },
  {
   "cell_type": "markdown",
   "metadata": {},
   "source": [
    "### 4. Extract and print the feed title, subtitle, author, and link."
   ]
  },
  {
   "cell_type": "code",
   "execution_count": 17,
   "metadata": {},
   "outputs": [
    {
     "data": {
      "text/plain": [
       "{'language': 'en-us',\n",
       " 'title': 'Kepler News and Features',\n",
       " 'title_detail': {'type': 'text/plain',\n",
       "  'language': 'en',\n",
       "  'base': 'http://www.nasa.gov/',\n",
       "  'value': 'Kepler News and Features'},\n",
       " 'subtitle': 'Kepler News and Features RSS',\n",
       " 'subtitle_detail': {'type': 'text/html',\n",
       "  'language': 'en',\n",
       "  'base': 'http://www.nasa.gov/',\n",
       "  'value': 'Kepler News and Features RSS'},\n",
       " 'links': [{'rel': 'alternate',\n",
       "   'type': 'text/html',\n",
       "   'href': 'http://www.nasa.gov/'},\n",
       "  {'rel': 'self',\n",
       "   'href': 'http://www.nasa.gov/rss/dyn/mission_pages/kepler/news/kepler-newsandfeatures-RSS.rss',\n",
       "   'type': 'application/atom+xml'}],\n",
       " 'link': 'http://www.nasa.gov/',\n",
       " 'publisher': 'brian.dunbar@nasa.gov',\n",
       " 'publisher_detail': {'email': 'brian.dunbar@nasa.gov'}}"
      ]
     },
     "execution_count": 17,
     "metadata": {},
     "output_type": "execute_result"
    }
   ],
   "source": [
    "nasa['feed']"
   ]
  },
  {
   "cell_type": "code",
   "execution_count": 19,
   "metadata": {},
   "outputs": [
    {
     "name": "stdout",
     "output_type": "stream",
     "text": [
      "Kepler News and FeaturesKepler News and Features RSShttp://www.nasa.gov/\n"
     ]
    }
   ],
   "source": [
    "print(nasa['feed']['title'] + '' + nasa['feed']['subtitle'] + '' + nasa['feed']['link'])"
   ]
  },
  {
   "cell_type": "markdown",
   "metadata": {},
   "source": [
    "### 5. Count the number of entries that are contained in this RSS feed."
   ]
  },
  {
   "cell_type": "code",
   "execution_count": 21,
   "metadata": {},
   "outputs": [
    {
     "data": {
      "text/plain": [
       "10"
      ]
     },
     "execution_count": 21,
     "metadata": {},
     "output_type": "execute_result"
    }
   ],
   "source": [
    "len(nasa['entries'])"
   ]
  },
  {
   "cell_type": "markdown",
   "metadata": {},
   "source": [
    "### 6. Obtain a list of components (keys) available for an entry.\n",
    "\n",
    "*Hint: Remember to index first before requesting the keys*"
   ]
  },
  {
   "cell_type": "code",
   "execution_count": 36,
   "metadata": {},
   "outputs": [],
   "source": [
    "#nasa['entries']"
   ]
  },
  {
   "cell_type": "code",
   "execution_count": 51,
   "metadata": {},
   "outputs": [
    {
     "data": {
      "text/plain": [
       "dict_keys(['title', 'title_detail', 'links', 'link', 'summary', 'summary_detail', 'id', 'guidislink', 'published', 'published_parsed', 'source'])"
      ]
     },
     "execution_count": 51,
     "metadata": {},
     "output_type": "execute_result"
    }
   ],
   "source": [
    "nasa.entries[0].keys()"
   ]
  },
  {
   "cell_type": "markdown",
   "metadata": {},
   "source": [
    "### 7. Extract a list of entry titles."
   ]
  },
  {
   "cell_type": "code",
   "execution_count": 50,
   "metadata": {},
   "outputs": [
    {
     "name": "stdout",
     "output_type": "stream",
     "text": [
      "[\"New Deep Learning Method Adds 301 Planets to Kepler's Total Count\", 'NASA’s TESS Tunes into an All-sky ‘Symphony’ of Red Giant Stars', 'Planetary Sleuthing Finds Triple-Star World', 'About Half of Sun-Like Stars Could Host Rocky, Potentially Habitable Planets', 'NASA Awards SETI Institute Contract for Planetary Protection Support', 'Gravity Assist: Puffy Planets, Powerful Telescopes, with Knicole Colon', 'Imagining Another Earth', 'NASA’s TESS Enables Breakthrough Study of Perplexing Stellar Pulsations', 'AAS Names 29 NASA-Affiliated Legacy Fellows', 'Kepler-1649c: Earth-Size, Habitable Zone Planet Hides in Plain Sight']\n"
     ]
    }
   ],
   "source": [
    "titles = [nasa.entries[i].title for i in range(len(nasa.entries))]\n",
    "print(titles)"
   ]
  },
  {
   "cell_type": "markdown",
   "metadata": {},
   "source": [
    "### 8. Calculate the percentage of \"Four short links\" entry titles."
   ]
  },
  {
   "cell_type": "code",
   "execution_count": null,
   "metadata": {},
   "outputs": [],
   "source": []
  },
  {
   "cell_type": "markdown",
   "metadata": {},
   "source": [
    "### 9. Create a Pandas data frame from the feed's entries."
   ]
  },
  {
   "cell_type": "code",
   "execution_count": 48,
   "metadata": {},
   "outputs": [],
   "source": [
    "import pandas as pd"
   ]
  },
  {
   "cell_type": "code",
   "execution_count": 52,
   "metadata": {},
   "outputs": [
    {
     "data": {
      "text/html": [
       "<div>\n",
       "<style scoped>\n",
       "    .dataframe tbody tr th:only-of-type {\n",
       "        vertical-align: middle;\n",
       "    }\n",
       "\n",
       "    .dataframe tbody tr th {\n",
       "        vertical-align: top;\n",
       "    }\n",
       "\n",
       "    .dataframe thead th {\n",
       "        text-align: right;\n",
       "    }\n",
       "</style>\n",
       "<table border=\"1\" class=\"dataframe\">\n",
       "  <thead>\n",
       "    <tr style=\"text-align: right;\">\n",
       "      <th></th>\n",
       "      <th>title</th>\n",
       "      <th>title_detail</th>\n",
       "      <th>links</th>\n",
       "      <th>link</th>\n",
       "      <th>summary</th>\n",
       "      <th>summary_detail</th>\n",
       "      <th>id</th>\n",
       "      <th>guidislink</th>\n",
       "      <th>published</th>\n",
       "      <th>published_parsed</th>\n",
       "      <th>source</th>\n",
       "    </tr>\n",
       "  </thead>\n",
       "  <tbody>\n",
       "    <tr>\n",
       "      <th>0</th>\n",
       "      <td>New Deep Learning Method Adds 301 Planets to K...</td>\n",
       "      <td>{'type': 'text/plain', 'language': 'en', 'base...</td>\n",
       "      <td>[{'rel': 'alternate', 'type': 'text/html', 'hr...</td>\n",
       "      <td>http://www.nasa.gov/feature/ames/new-deep-lear...</td>\n",
       "      <td>Scientists recently added a whopping 301 newly...</td>\n",
       "      <td>{'type': 'text/html', 'language': 'en', 'base'...</td>\n",
       "      <td>http://www.nasa.gov/feature/ames/new-deep-lear...</td>\n",
       "      <td>False</td>\n",
       "      <td>Mon, 22 Nov 2021 20:36 EST</td>\n",
       "      <td>(2021, 11, 23, 1, 36, 0, 1, 327, 0)</td>\n",
       "      <td>{'href': 'http://www.nasa.gov/rss/dyn/mission_...</td>\n",
       "    </tr>\n",
       "    <tr>\n",
       "      <th>1</th>\n",
       "      <td>NASA’s TESS Tunes into an All-sky ‘Symphony’ o...</td>\n",
       "      <td>{'type': 'text/plain', 'language': 'en', 'base...</td>\n",
       "      <td>[{'rel': 'alternate', 'type': 'text/html', 'hr...</td>\n",
       "      <td>http://www.nasa.gov/feature/goddard/2021/nasa-...</td>\n",
       "      <td>Using NASA’s Transiting Exoplanet Survey Satel...</td>\n",
       "      <td>{'type': 'text/html', 'language': 'en', 'base'...</td>\n",
       "      <td>http://www.nasa.gov/feature/goddard/2021/nasa-...</td>\n",
       "      <td>False</td>\n",
       "      <td>Wed, 04 Aug 2021 17:00 EDT</td>\n",
       "      <td>(2021, 8, 4, 21, 0, 0, 2, 216, 0)</td>\n",
       "      <td>{'href': 'http://www.nasa.gov/rss/dyn/mission_...</td>\n",
       "    </tr>\n",
       "    <tr>\n",
       "      <th>2</th>\n",
       "      <td>Planetary Sleuthing Finds Triple-Star World</td>\n",
       "      <td>{'type': 'text/plain', 'language': 'en', 'base...</td>\n",
       "      <td>[{'rel': 'alternate', 'type': 'text/html', 'hr...</td>\n",
       "      <td>http://www.nasa.gov/feature/ames/planetary-sle...</td>\n",
       "      <td>Years after its detection, astronomers have co...</td>\n",
       "      <td>{'type': 'text/html', 'language': 'en', 'base'...</td>\n",
       "      <td>http://www.nasa.gov/feature/ames/planetary-sle...</td>\n",
       "      <td>False</td>\n",
       "      <td>Mon, 11 Jan 2021 13:40 EST</td>\n",
       "      <td>(2021, 1, 11, 18, 40, 0, 0, 11, 0)</td>\n",
       "      <td>{'href': 'http://www.nasa.gov/rss/dyn/mission_...</td>\n",
       "    </tr>\n",
       "    <tr>\n",
       "      <th>3</th>\n",
       "      <td>About Half of Sun-Like Stars Could Host Rocky,...</td>\n",
       "      <td>{'type': 'text/plain', 'language': 'en', 'base...</td>\n",
       "      <td>[{'rel': 'alternate', 'type': 'text/html', 'hr...</td>\n",
       "      <td>http://www.nasa.gov/feature/ames/kepler-occurr...</td>\n",
       "      <td>According to new research using data from NASA...</td>\n",
       "      <td>{'type': 'text/html', 'language': 'en', 'base'...</td>\n",
       "      <td>http://www.nasa.gov/feature/ames/kepler-occurr...</td>\n",
       "      <td>False</td>\n",
       "      <td>Thu, 29 Oct 2020 07:00 EDT</td>\n",
       "      <td>(2020, 10, 29, 11, 0, 0, 3, 303, 0)</td>\n",
       "      <td>{'href': 'http://www.nasa.gov/rss/dyn/mission_...</td>\n",
       "    </tr>\n",
       "    <tr>\n",
       "      <th>4</th>\n",
       "      <td>NASA Awards SETI Institute Contract for Planet...</td>\n",
       "      <td>{'type': 'text/plain', 'language': 'en', 'base...</td>\n",
       "      <td>[{'rel': 'alternate', 'type': 'text/html', 'hr...</td>\n",
       "      <td>http://www.nasa.gov/press-release/nasa-awards-...</td>\n",
       "      <td>NASA has awarded the SETI Institute in Mountai...</td>\n",
       "      <td>{'type': 'text/html', 'language': 'en', 'base'...</td>\n",
       "      <td>http://www.nasa.gov/press-release/nasa-awards-...</td>\n",
       "      <td>False</td>\n",
       "      <td>Fri, 10 Jul 2020 12:04 EDT</td>\n",
       "      <td>(2020, 7, 10, 16, 4, 0, 4, 192, 0)</td>\n",
       "      <td>{'href': 'http://www.nasa.gov/rss/dyn/mission_...</td>\n",
       "    </tr>\n",
       "  </tbody>\n",
       "</table>\n",
       "</div>"
      ],
      "text/plain": [
       "                                               title   \n",
       "0  New Deep Learning Method Adds 301 Planets to K...  \\\n",
       "1  NASA’s TESS Tunes into an All-sky ‘Symphony’ o...   \n",
       "2        Planetary Sleuthing Finds Triple-Star World   \n",
       "3  About Half of Sun-Like Stars Could Host Rocky,...   \n",
       "4  NASA Awards SETI Institute Contract for Planet...   \n",
       "\n",
       "                                        title_detail   \n",
       "0  {'type': 'text/plain', 'language': 'en', 'base...  \\\n",
       "1  {'type': 'text/plain', 'language': 'en', 'base...   \n",
       "2  {'type': 'text/plain', 'language': 'en', 'base...   \n",
       "3  {'type': 'text/plain', 'language': 'en', 'base...   \n",
       "4  {'type': 'text/plain', 'language': 'en', 'base...   \n",
       "\n",
       "                                               links   \n",
       "0  [{'rel': 'alternate', 'type': 'text/html', 'hr...  \\\n",
       "1  [{'rel': 'alternate', 'type': 'text/html', 'hr...   \n",
       "2  [{'rel': 'alternate', 'type': 'text/html', 'hr...   \n",
       "3  [{'rel': 'alternate', 'type': 'text/html', 'hr...   \n",
       "4  [{'rel': 'alternate', 'type': 'text/html', 'hr...   \n",
       "\n",
       "                                                link   \n",
       "0  http://www.nasa.gov/feature/ames/new-deep-lear...  \\\n",
       "1  http://www.nasa.gov/feature/goddard/2021/nasa-...   \n",
       "2  http://www.nasa.gov/feature/ames/planetary-sle...   \n",
       "3  http://www.nasa.gov/feature/ames/kepler-occurr...   \n",
       "4  http://www.nasa.gov/press-release/nasa-awards-...   \n",
       "\n",
       "                                             summary   \n",
       "0  Scientists recently added a whopping 301 newly...  \\\n",
       "1  Using NASA’s Transiting Exoplanet Survey Satel...   \n",
       "2  Years after its detection, astronomers have co...   \n",
       "3  According to new research using data from NASA...   \n",
       "4  NASA has awarded the SETI Institute in Mountai...   \n",
       "\n",
       "                                      summary_detail   \n",
       "0  {'type': 'text/html', 'language': 'en', 'base'...  \\\n",
       "1  {'type': 'text/html', 'language': 'en', 'base'...   \n",
       "2  {'type': 'text/html', 'language': 'en', 'base'...   \n",
       "3  {'type': 'text/html', 'language': 'en', 'base'...   \n",
       "4  {'type': 'text/html', 'language': 'en', 'base'...   \n",
       "\n",
       "                                                  id  guidislink   \n",
       "0  http://www.nasa.gov/feature/ames/new-deep-lear...       False  \\\n",
       "1  http://www.nasa.gov/feature/goddard/2021/nasa-...       False   \n",
       "2  http://www.nasa.gov/feature/ames/planetary-sle...       False   \n",
       "3  http://www.nasa.gov/feature/ames/kepler-occurr...       False   \n",
       "4  http://www.nasa.gov/press-release/nasa-awards-...       False   \n",
       "\n",
       "                    published                     published_parsed   \n",
       "0  Mon, 22 Nov 2021 20:36 EST  (2021, 11, 23, 1, 36, 0, 1, 327, 0)  \\\n",
       "1  Wed, 04 Aug 2021 17:00 EDT    (2021, 8, 4, 21, 0, 0, 2, 216, 0)   \n",
       "2  Mon, 11 Jan 2021 13:40 EST   (2021, 1, 11, 18, 40, 0, 0, 11, 0)   \n",
       "3  Thu, 29 Oct 2020 07:00 EDT  (2020, 10, 29, 11, 0, 0, 3, 303, 0)   \n",
       "4  Fri, 10 Jul 2020 12:04 EDT   (2020, 7, 10, 16, 4, 0, 4, 192, 0)   \n",
       "\n",
       "                                              source  \n",
       "0  {'href': 'http://www.nasa.gov/rss/dyn/mission_...  \n",
       "1  {'href': 'http://www.nasa.gov/rss/dyn/mission_...  \n",
       "2  {'href': 'http://www.nasa.gov/rss/dyn/mission_...  \n",
       "3  {'href': 'http://www.nasa.gov/rss/dyn/mission_...  \n",
       "4  {'href': 'http://www.nasa.gov/rss/dyn/mission_...  "
      ]
     },
     "execution_count": 52,
     "metadata": {},
     "output_type": "execute_result"
    }
   ],
   "source": [
    "df = pd.DataFrame(nasa.entries)\n",
    "df.head()"
   ]
  },
  {
   "cell_type": "markdown",
   "metadata": {},
   "source": [
    "### 10. Count the number of entries per author and sort them in descending order."
   ]
  },
  {
   "cell_type": "code",
   "execution_count": 53,
   "metadata": {},
   "outputs": [],
   "source": [
    "# No puedo contar el numero de autores con el url dado. Sim embargo seria haciendolo con un groupby como en el learning."
   ]
  },
  {
   "cell_type": "markdown",
   "metadata": {},
   "source": [
    "### 11. Add a new column to the data frame that contains the length (number of characters) of each entry title. Return a data frame that contains the title, author, and title length of each entry in descending order (longest title length at the top)."
   ]
  },
  {
   "cell_type": "code",
   "execution_count": 55,
   "metadata": {},
   "outputs": [
    {
     "data": {
      "text/html": [
       "<div>\n",
       "<style scoped>\n",
       "    .dataframe tbody tr th:only-of-type {\n",
       "        vertical-align: middle;\n",
       "    }\n",
       "\n",
       "    .dataframe tbody tr th {\n",
       "        vertical-align: top;\n",
       "    }\n",
       "\n",
       "    .dataframe thead th {\n",
       "        text-align: right;\n",
       "    }\n",
       "</style>\n",
       "<table border=\"1\" class=\"dataframe\">\n",
       "  <thead>\n",
       "    <tr style=\"text-align: right;\">\n",
       "      <th></th>\n",
       "      <th>title</th>\n",
       "      <th>title_length</th>\n",
       "    </tr>\n",
       "  </thead>\n",
       "  <tbody>\n",
       "    <tr>\n",
       "      <th>3</th>\n",
       "      <td>About Half of Sun-Like Stars Could Host Rocky,...</td>\n",
       "      <td>76</td>\n",
       "    </tr>\n",
       "    <tr>\n",
       "      <th>7</th>\n",
       "      <td>NASA’s TESS Enables Breakthrough Study of Perp...</td>\n",
       "      <td>71</td>\n",
       "    </tr>\n",
       "    <tr>\n",
       "      <th>5</th>\n",
       "      <td>Gravity Assist: Puffy Planets, Powerful Telesc...</td>\n",
       "      <td>70</td>\n",
       "    </tr>\n",
       "    <tr>\n",
       "      <th>4</th>\n",
       "      <td>NASA Awards SETI Institute Contract for Planet...</td>\n",
       "      <td>68</td>\n",
       "    </tr>\n",
       "    <tr>\n",
       "      <th>9</th>\n",
       "      <td>Kepler-1649c: Earth-Size, Habitable Zone Plane...</td>\n",
       "      <td>68</td>\n",
       "    </tr>\n",
       "  </tbody>\n",
       "</table>\n",
       "</div>"
      ],
      "text/plain": [
       "                                               title  title_length\n",
       "3  About Half of Sun-Like Stars Could Host Rocky,...            76\n",
       "7  NASA’s TESS Enables Breakthrough Study of Perp...            71\n",
       "5  Gravity Assist: Puffy Planets, Powerful Telesc...            70\n",
       "4  NASA Awards SETI Institute Contract for Planet...            68\n",
       "9  Kepler-1649c: Earth-Size, Habitable Zone Plane...            68"
      ]
     },
     "execution_count": 55,
     "metadata": {},
     "output_type": "execute_result"
    }
   ],
   "source": [
    "df['title_length'] = df['title'].apply(len)\n",
    "df[['title', 'title_length']].sort_values('title_length', ascending=False).head()"
   ]
  },
  {
   "cell_type": "markdown",
   "metadata": {},
   "source": [
    "### 12. Create a list of entry titles whose summary includes the phrase \"machine learning.\""
   ]
  },
  {
   "cell_type": "code",
   "execution_count": 57,
   "metadata": {},
   "outputs": [
    {
     "name": "stdout",
     "output_type": "stream",
     "text": [
      "[]\n"
     ]
    }
   ],
   "source": [
    "phrase_titles = [nasa.entries[i].title for i in range(len(nasa.entries)) if \"machine learning\" in nasa.entries]\n",
    "print(phrase_titles)"
   ]
  }
 ],
 "metadata": {
  "kernelspec": {
   "display_name": "Python 3 (ipykernel)",
   "language": "python",
   "name": "python3"
  },
  "language_info": {
   "codemirror_mode": {
    "name": "ipython",
    "version": 3
   },
   "file_extension": ".py",
   "mimetype": "text/x-python",
   "name": "python",
   "nbconvert_exporter": "python",
   "pygments_lexer": "ipython3",
   "version": "3.11.2"
  }
 },
 "nbformat": 4,
 "nbformat_minor": 2
}
