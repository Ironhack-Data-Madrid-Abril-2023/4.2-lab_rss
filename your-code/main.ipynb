{
 "cells": [
  {
   "cell_type": "markdown",
   "metadata": {},
   "source": [
    "# Working with RSS Feeds Lab\n",
    "\n",
    "Complete the following set of exercises to solidify your knowledge of parsing RSS feeds and extracting information from them."
   ]
  },
  {
   "cell_type": "code",
   "execution_count": 1,
   "metadata": {},
   "outputs": [],
   "source": [
    "import feedparser"
   ]
  },
  {
   "cell_type": "markdown",
   "metadata": {},
   "source": [
    "### 1. Use feedparser to parse the following RSS feed URL."
   ]
  },
  {
   "cell_type": "code",
   "execution_count": 2,
   "metadata": {},
   "outputs": [],
   "source": [
    "nasa_url = 'https://www.nasa.gov/content/nasa-rss-feeds'\n",
    "nasa = feedparser.parse(nasa_url)"
   ]
  },
  {
   "cell_type": "markdown",
   "metadata": {},
   "source": [
    "### 2. Obtain a list of components (keys) that are available for this feed."
   ]
  },
  {
   "cell_type": "code",
   "execution_count": 3,
   "metadata": {},
   "outputs": [
    {
     "data": {
      "text/plain": [
       "dict_keys(['bozo', 'entries', 'feed', 'headers', 'etag', 'updated', 'updated_parsed', 'href', 'status', 'encoding', 'bozo_exception', 'version', 'namespaces'])"
      ]
     },
     "execution_count": 3,
     "metadata": {},
     "output_type": "execute_result"
    }
   ],
   "source": [
    "nasa.keys()"
   ]
  },
  {
   "cell_type": "markdown",
   "metadata": {},
   "source": [
    "### 3. Obtain a list of components (keys) that are available for the *feed* component of this RSS feed."
   ]
  },
  {
   "cell_type": "code",
   "execution_count": 4,
   "metadata": {},
   "outputs": [
    {
     "data": {
      "text/plain": [
       "dict_keys(['html', 'meta', 'links', 'script', 'summary'])"
      ]
     },
     "execution_count": 4,
     "metadata": {},
     "output_type": "execute_result"
    }
   ],
   "source": [
    "nasa['feed'].keys()"
   ]
  },
  {
   "cell_type": "markdown",
   "metadata": {},
   "source": [
    "### 4. Extract and print the feed title, subtitle, author, and link."
   ]
  },
  {
   "cell_type": "code",
   "execution_count": 5,
   "metadata": {},
   "outputs": [
    {
     "data": {
      "text/plain": [
       "dict_keys(['bozo', 'entries', 'feed', 'headers', 'href', 'status', 'encoding', 'version', 'namespaces'])"
      ]
     },
     "execution_count": 5,
     "metadata": {},
     "output_type": "execute_result"
    }
   ],
   "source": [
    "#primero cojo el link de un feed concreto y repito el proceso\n",
    "\n",
    "nasa_feed = feedparser.parse('https://www.nasa.gov/rss/dyn/breaking_news.rss')\n",
    "nasa_feed.keys()"
   ]
  },
  {
   "cell_type": "code",
   "execution_count": 6,
   "metadata": {},
   "outputs": [
    {
     "data": {
      "text/plain": [
       "dict_keys(['title', 'title_detail', 'links', 'link', 'summary', 'summary_detail', 'id', 'guidislink', 'published', 'published_parsed', 'source', 'dc_identifier'])"
      ]
     },
     "execution_count": 6,
     "metadata": {},
     "output_type": "execute_result"
    }
   ],
   "source": [
    "nasa_feed['entries'][0].keys()"
   ]
  },
  {
   "cell_type": "code",
   "execution_count": 7,
   "metadata": {},
   "outputs": [],
   "source": [
    "f = nasa_feed['entries'][0]\n"
   ]
  },
  {
   "cell_type": "code",
   "execution_count": 8,
   "metadata": {},
   "outputs": [],
   "source": [
    "title = f['title']\n",
    "subtitle = f['summary']\n",
    "author = f[\"title_detail\"][\"base\"]\n",
    "link = f['link']"
   ]
  },
  {
   "cell_type": "code",
   "execution_count": 9,
   "metadata": {},
   "outputs": [
    {
     "name": "stdout",
     "output_type": "stream",
     "text": [
      "title: NASA Sets Coverage for Dragon Port Relocation on Space Station\n",
      "subtitle: Four crew members aboard the International Space Station will relocate their SpaceX Dragon spacecraft’s docking port Saturday, May 6, to make way for the arrival of an upcoming cargo spacecraft.\n",
      "author: http://www.nasa.gov/\n",
      "link: http://www.nasa.gov/press-release/nasa-sets-coverage-for-dragon-port-relocation-on-space-station\n"
     ]
    }
   ],
   "source": [
    "print(f'title: {title}')\n",
    "print(f'subtitle: {subtitle}')\n",
    "print(f'author: {author}')\n",
    "print(f'link: {link}')"
   ]
  },
  {
   "cell_type": "markdown",
   "metadata": {},
   "source": [
    "### 5. Count the number of entries that are contained in this RSS feed."
   ]
  },
  {
   "cell_type": "code",
   "execution_count": 10,
   "metadata": {},
   "outputs": [
    {
     "data": {
      "text/plain": [
       "10"
      ]
     },
     "execution_count": 10,
     "metadata": {},
     "output_type": "execute_result"
    }
   ],
   "source": [
    "len(nasa_feed['entries'])"
   ]
  },
  {
   "cell_type": "markdown",
   "metadata": {},
   "source": [
    "### 6. Obtain a list of components (keys) available for an entry.\n",
    "\n",
    "*Hint: Remember to index first before requesting the keys*"
   ]
  },
  {
   "cell_type": "code",
   "execution_count": 11,
   "metadata": {},
   "outputs": [],
   "source": [
    "entry_list = list(nasa_feed['entries'][0].keys())"
   ]
  },
  {
   "cell_type": "code",
   "execution_count": 12,
   "metadata": {},
   "outputs": [
    {
     "data": {
      "text/plain": [
       "['title',\n",
       " 'title_detail',\n",
       " 'links',\n",
       " 'link',\n",
       " 'summary',\n",
       " 'summary_detail',\n",
       " 'id',\n",
       " 'guidislink',\n",
       " 'published',\n",
       " 'published_parsed',\n",
       " 'source',\n",
       " 'dc_identifier']"
      ]
     },
     "execution_count": 12,
     "metadata": {},
     "output_type": "execute_result"
    }
   ],
   "source": [
    "entry_list"
   ]
  },
  {
   "cell_type": "markdown",
   "metadata": {},
   "source": [
    "### 7. Extract a list of entry titles."
   ]
  },
  {
   "cell_type": "code",
   "execution_count": 17,
   "metadata": {},
   "outputs": [],
   "source": [
    "ent = nasa_feed['entries']"
   ]
  },
  {
   "cell_type": "code",
   "execution_count": 18,
   "metadata": {},
   "outputs": [],
   "source": [
    "diks = []\n",
    "\n",
    "for dik in ent:\n",
    "    diks.append(dik['title'])"
   ]
  },
  {
   "cell_type": "code",
   "execution_count": 19,
   "metadata": {},
   "outputs": [
    {
     "data": {
      "text/plain": [
       "['NASA Sets Coverage for Dragon Port Relocation on Space Station',\n",
       " 'Entrepreneurs to Pitch Ideas for Future in NASA ‘Space Tank’',\n",
       " 'NASA Updates Coverage of Roscosmos Spacewalks at Space Station',\n",
       " 'NASA Sets Coverage for Czech Republic Artemis Accords Signing Ceremony',\n",
       " 'NASA Experts Available for Interviews About Sea and Sky Campaign',\n",
       " 'NASA Announces Winners of 2023 Human Exploration Rover Challenge',\n",
       " 'NASA Selects 12 Companies to Collaborate on Key Technology Development',\n",
       " 'NASA Announces Student Winners of Power to Explore Challenge',\n",
       " 'NASA, Rocket Lab Set Coverage for Tropical Cyclones Mission',\n",
       " 'VP Harris, South Korea President Yoon Suk Yeol to Visit NASA Goddard']"
      ]
     },
     "execution_count": 19,
     "metadata": {},
     "output_type": "execute_result"
    }
   ],
   "source": [
    "diks"
   ]
  },
  {
   "cell_type": "markdown",
   "metadata": {},
   "source": [
    "### 8. Calculate the percentage of \"Four short links\" entry titles."
   ]
  },
  {
   "cell_type": "code",
   "execution_count": null,
   "metadata": {},
   "outputs": [],
   "source": [
    "#wtf"
   ]
  },
  {
   "cell_type": "markdown",
   "metadata": {},
   "source": [
    "### 9. Create a Pandas data frame from the feed's entries."
   ]
  },
  {
   "cell_type": "code",
   "execution_count": 20,
   "metadata": {},
   "outputs": [],
   "source": [
    "import pandas as pd"
   ]
  },
  {
   "cell_type": "code",
   "execution_count": 22,
   "metadata": {},
   "outputs": [
    {
     "data": {
      "text/html": [
       "<div>\n",
       "<style scoped>\n",
       "    .dataframe tbody tr th:only-of-type {\n",
       "        vertical-align: middle;\n",
       "    }\n",
       "\n",
       "    .dataframe tbody tr th {\n",
       "        vertical-align: top;\n",
       "    }\n",
       "\n",
       "    .dataframe thead th {\n",
       "        text-align: right;\n",
       "    }\n",
       "</style>\n",
       "<table border=\"1\" class=\"dataframe\">\n",
       "  <thead>\n",
       "    <tr style=\"text-align: right;\">\n",
       "      <th></th>\n",
       "      <th>title</th>\n",
       "      <th>title_detail</th>\n",
       "      <th>links</th>\n",
       "      <th>link</th>\n",
       "      <th>summary</th>\n",
       "      <th>summary_detail</th>\n",
       "      <th>id</th>\n",
       "      <th>guidislink</th>\n",
       "      <th>published</th>\n",
       "      <th>published_parsed</th>\n",
       "      <th>source</th>\n",
       "      <th>dc_identifier</th>\n",
       "    </tr>\n",
       "  </thead>\n",
       "  <tbody>\n",
       "    <tr>\n",
       "      <th>0</th>\n",
       "      <td>NASA Sets Coverage for Dragon Port Relocation ...</td>\n",
       "      <td>{'type': 'text/plain', 'language': 'en', 'base...</td>\n",
       "      <td>[{'rel': 'alternate', 'type': 'text/html', 'hr...</td>\n",
       "      <td>http://www.nasa.gov/press-release/nasa-sets-co...</td>\n",
       "      <td>Four crew members aboard the International Spa...</td>\n",
       "      <td>{'type': 'text/html', 'language': 'en', 'base'...</td>\n",
       "      <td>http://www.nasa.gov/press-release/nasa-sets-co...</td>\n",
       "      <td>False</td>\n",
       "      <td>Mon, 01 May 2023 15:06 EDT</td>\n",
       "      <td>(2023, 5, 1, 19, 6, 0, 0, 121, 0)</td>\n",
       "      <td>{'href': 'http://www.nasa.gov/rss/dyn/breaking...</td>\n",
       "      <td>486960</td>\n",
       "    </tr>\n",
       "    <tr>\n",
       "      <th>1</th>\n",
       "      <td>Entrepreneurs to Pitch Ideas for Future in NAS...</td>\n",
       "      <td>{'type': 'text/plain', 'language': 'en', 'base...</td>\n",
       "      <td>[{'rel': 'alternate', 'type': 'text/html', 'hr...</td>\n",
       "      <td>http://www.nasa.gov/press-release/entrepreneur...</td>\n",
       "      <td>College students in NASA’s Minority University...</td>\n",
       "      <td>{'type': 'text/html', 'language': 'en', 'base'...</td>\n",
       "      <td>http://www.nasa.gov/press-release/entrepreneur...</td>\n",
       "      <td>False</td>\n",
       "      <td>Thu, 27 Apr 2023 14:02 EDT</td>\n",
       "      <td>(2023, 4, 27, 18, 2, 0, 3, 117, 0)</td>\n",
       "      <td>{'href': 'http://www.nasa.gov/rss/dyn/breaking...</td>\n",
       "      <td>486922</td>\n",
       "    </tr>\n",
       "    <tr>\n",
       "      <th>2</th>\n",
       "      <td>NASA Updates Coverage of Roscosmos Spacewalks ...</td>\n",
       "      <td>{'type': 'text/plain', 'language': 'en', 'base...</td>\n",
       "      <td>[{'rel': 'alternate', 'type': 'text/html', 'hr...</td>\n",
       "      <td>http://www.nasa.gov/press-release/nasa-updates...</td>\n",
       "      <td>NASA will provide live coverage as two Roscosm...</td>\n",
       "      <td>{'type': 'text/html', 'language': 'en', 'base'...</td>\n",
       "      <td>http://www.nasa.gov/press-release/nasa-updates...</td>\n",
       "      <td>False</td>\n",
       "      <td>Wed, 26 Apr 2023 14:59 EDT</td>\n",
       "      <td>(2023, 4, 26, 18, 59, 0, 2, 116, 0)</td>\n",
       "      <td>{'href': 'http://www.nasa.gov/rss/dyn/breaking...</td>\n",
       "      <td>486897</td>\n",
       "    </tr>\n",
       "    <tr>\n",
       "      <th>3</th>\n",
       "      <td>NASA Sets Coverage for Czech Republic Artemis ...</td>\n",
       "      <td>{'type': 'text/plain', 'language': 'en', 'base...</td>\n",
       "      <td>[{'rel': 'alternate', 'type': 'text/html', 'hr...</td>\n",
       "      <td>http://www.nasa.gov/press-release/nasa-sets-co...</td>\n",
       "      <td>The Czech Republic is expected to sign the Art...</td>\n",
       "      <td>{'type': 'text/html', 'language': 'en', 'base'...</td>\n",
       "      <td>http://www.nasa.gov/press-release/nasa-sets-co...</td>\n",
       "      <td>False</td>\n",
       "      <td>Wed, 26 Apr 2023 14:49 EDT</td>\n",
       "      <td>(2023, 4, 26, 18, 49, 0, 2, 116, 0)</td>\n",
       "      <td>{'href': 'http://www.nasa.gov/rss/dyn/breaking...</td>\n",
       "      <td>486898</td>\n",
       "    </tr>\n",
       "    <tr>\n",
       "      <th>4</th>\n",
       "      <td>NASA Experts Available for Interviews About Se...</td>\n",
       "      <td>{'type': 'text/plain', 'language': 'en', 'base...</td>\n",
       "      <td>[{'rel': 'alternate', 'type': 'text/html', 'hr...</td>\n",
       "      <td>http://www.nasa.gov/press-release/nasa-experts...</td>\n",
       "      <td>This spring, NASA’s S-MODE (Sub-Mesoscale Ocea...</td>\n",
       "      <td>{'type': 'text/html', 'language': 'en', 'base'...</td>\n",
       "      <td>http://www.nasa.gov/press-release/nasa-experts...</td>\n",
       "      <td>False</td>\n",
       "      <td>Wed, 26 Apr 2023 14:09 EDT</td>\n",
       "      <td>(2023, 4, 26, 18, 9, 0, 2, 116, 0)</td>\n",
       "      <td>{'href': 'http://www.nasa.gov/rss/dyn/breaking...</td>\n",
       "      <td>486894</td>\n",
       "    </tr>\n",
       "  </tbody>\n",
       "</table>\n",
       "</div>"
      ],
      "text/plain": [
       "                                               title   \n",
       "0  NASA Sets Coverage for Dragon Port Relocation ...  \\\n",
       "1  Entrepreneurs to Pitch Ideas for Future in NAS...   \n",
       "2  NASA Updates Coverage of Roscosmos Spacewalks ...   \n",
       "3  NASA Sets Coverage for Czech Republic Artemis ...   \n",
       "4  NASA Experts Available for Interviews About Se...   \n",
       "\n",
       "                                        title_detail   \n",
       "0  {'type': 'text/plain', 'language': 'en', 'base...  \\\n",
       "1  {'type': 'text/plain', 'language': 'en', 'base...   \n",
       "2  {'type': 'text/plain', 'language': 'en', 'base...   \n",
       "3  {'type': 'text/plain', 'language': 'en', 'base...   \n",
       "4  {'type': 'text/plain', 'language': 'en', 'base...   \n",
       "\n",
       "                                               links   \n",
       "0  [{'rel': 'alternate', 'type': 'text/html', 'hr...  \\\n",
       "1  [{'rel': 'alternate', 'type': 'text/html', 'hr...   \n",
       "2  [{'rel': 'alternate', 'type': 'text/html', 'hr...   \n",
       "3  [{'rel': 'alternate', 'type': 'text/html', 'hr...   \n",
       "4  [{'rel': 'alternate', 'type': 'text/html', 'hr...   \n",
       "\n",
       "                                                link   \n",
       "0  http://www.nasa.gov/press-release/nasa-sets-co...  \\\n",
       "1  http://www.nasa.gov/press-release/entrepreneur...   \n",
       "2  http://www.nasa.gov/press-release/nasa-updates...   \n",
       "3  http://www.nasa.gov/press-release/nasa-sets-co...   \n",
       "4  http://www.nasa.gov/press-release/nasa-experts...   \n",
       "\n",
       "                                             summary   \n",
       "0  Four crew members aboard the International Spa...  \\\n",
       "1  College students in NASA’s Minority University...   \n",
       "2  NASA will provide live coverage as two Roscosm...   \n",
       "3  The Czech Republic is expected to sign the Art...   \n",
       "4  This spring, NASA’s S-MODE (Sub-Mesoscale Ocea...   \n",
       "\n",
       "                                      summary_detail   \n",
       "0  {'type': 'text/html', 'language': 'en', 'base'...  \\\n",
       "1  {'type': 'text/html', 'language': 'en', 'base'...   \n",
       "2  {'type': 'text/html', 'language': 'en', 'base'...   \n",
       "3  {'type': 'text/html', 'language': 'en', 'base'...   \n",
       "4  {'type': 'text/html', 'language': 'en', 'base'...   \n",
       "\n",
       "                                                  id  guidislink   \n",
       "0  http://www.nasa.gov/press-release/nasa-sets-co...       False  \\\n",
       "1  http://www.nasa.gov/press-release/entrepreneur...       False   \n",
       "2  http://www.nasa.gov/press-release/nasa-updates...       False   \n",
       "3  http://www.nasa.gov/press-release/nasa-sets-co...       False   \n",
       "4  http://www.nasa.gov/press-release/nasa-experts...       False   \n",
       "\n",
       "                    published                     published_parsed   \n",
       "0  Mon, 01 May 2023 15:06 EDT    (2023, 5, 1, 19, 6, 0, 0, 121, 0)  \\\n",
       "1  Thu, 27 Apr 2023 14:02 EDT   (2023, 4, 27, 18, 2, 0, 3, 117, 0)   \n",
       "2  Wed, 26 Apr 2023 14:59 EDT  (2023, 4, 26, 18, 59, 0, 2, 116, 0)   \n",
       "3  Wed, 26 Apr 2023 14:49 EDT  (2023, 4, 26, 18, 49, 0, 2, 116, 0)   \n",
       "4  Wed, 26 Apr 2023 14:09 EDT   (2023, 4, 26, 18, 9, 0, 2, 116, 0)   \n",
       "\n",
       "                                              source dc_identifier  \n",
       "0  {'href': 'http://www.nasa.gov/rss/dyn/breaking...        486960  \n",
       "1  {'href': 'http://www.nasa.gov/rss/dyn/breaking...        486922  \n",
       "2  {'href': 'http://www.nasa.gov/rss/dyn/breaking...        486897  \n",
       "3  {'href': 'http://www.nasa.gov/rss/dyn/breaking...        486898  \n",
       "4  {'href': 'http://www.nasa.gov/rss/dyn/breaking...        486894  "
      ]
     },
     "execution_count": 22,
     "metadata": {},
     "output_type": "execute_result"
    }
   ],
   "source": [
    "df = pd.DataFrame(ent)\n",
    "df.head()"
   ]
  },
  {
   "cell_type": "markdown",
   "metadata": {},
   "source": [
    "### 10. Count the number of entries per author and sort them in descending order."
   ]
  },
  {
   "cell_type": "code",
   "execution_count": null,
   "metadata": {},
   "outputs": [],
   "source": [
    "#wtf x2"
   ]
  },
  {
   "cell_type": "code",
   "execution_count": null,
   "metadata": {},
   "outputs": [],
   "source": []
  },
  {
   "cell_type": "markdown",
   "metadata": {},
   "source": [
    "### 11. Add a new column to the data frame that contains the length (number of characters) of each entry title. Return a data frame that contains the title, author, and title length of each entry in descending order (longest title length at the top)."
   ]
  },
  {
   "cell_type": "code",
   "execution_count": 36,
   "metadata": {},
   "outputs": [
    {
     "data": {
      "text/html": [
       "<div>\n",
       "<style scoped>\n",
       "    .dataframe tbody tr th:only-of-type {\n",
       "        vertical-align: middle;\n",
       "    }\n",
       "\n",
       "    .dataframe tbody tr th {\n",
       "        vertical-align: top;\n",
       "    }\n",
       "\n",
       "    .dataframe thead th {\n",
       "        text-align: right;\n",
       "    }\n",
       "</style>\n",
       "<table border=\"1\" class=\"dataframe\">\n",
       "  <thead>\n",
       "    <tr style=\"text-align: right;\">\n",
       "      <th></th>\n",
       "      <th>title</th>\n",
       "      <th>title_detail</th>\n",
       "      <th>links</th>\n",
       "      <th>link</th>\n",
       "      <th>summary</th>\n",
       "      <th>summary_detail</th>\n",
       "      <th>id</th>\n",
       "      <th>guidislink</th>\n",
       "      <th>published</th>\n",
       "      <th>published_parsed</th>\n",
       "      <th>source</th>\n",
       "      <th>dc_identifier</th>\n",
       "      <th>title_count</th>\n",
       "    </tr>\n",
       "  </thead>\n",
       "  <tbody>\n",
       "    <tr>\n",
       "      <th>0</th>\n",
       "      <td>NASA Sets Coverage for Dragon Port Relocation ...</td>\n",
       "      <td>{'type': 'text/plain', 'language': 'en', 'base...</td>\n",
       "      <td>[{'rel': 'alternate', 'type': 'text/html', 'hr...</td>\n",
       "      <td>http://www.nasa.gov/press-release/nasa-sets-co...</td>\n",
       "      <td>Four crew members aboard the International Spa...</td>\n",
       "      <td>{'type': 'text/html', 'language': 'en', 'base'...</td>\n",
       "      <td>http://www.nasa.gov/press-release/nasa-sets-co...</td>\n",
       "      <td>False</td>\n",
       "      <td>Mon, 01 May 2023 15:06 EDT</td>\n",
       "      <td>(2023, 5, 1, 19, 6, 0, 0, 121, 0)</td>\n",
       "      <td>{'href': 'http://www.nasa.gov/rss/dyn/breaking...</td>\n",
       "      <td>486960</td>\n",
       "      <td>62</td>\n",
       "    </tr>\n",
       "    <tr>\n",
       "      <th>1</th>\n",
       "      <td>Entrepreneurs to Pitch Ideas for Future in NAS...</td>\n",
       "      <td>{'type': 'text/plain', 'language': 'en', 'base...</td>\n",
       "      <td>[{'rel': 'alternate', 'type': 'text/html', 'hr...</td>\n",
       "      <td>http://www.nasa.gov/press-release/entrepreneur...</td>\n",
       "      <td>College students in NASA’s Minority University...</td>\n",
       "      <td>{'type': 'text/html', 'language': 'en', 'base'...</td>\n",
       "      <td>http://www.nasa.gov/press-release/entrepreneur...</td>\n",
       "      <td>False</td>\n",
       "      <td>Thu, 27 Apr 2023 14:02 EDT</td>\n",
       "      <td>(2023, 4, 27, 18, 2, 0, 3, 117, 0)</td>\n",
       "      <td>{'href': 'http://www.nasa.gov/rss/dyn/breaking...</td>\n",
       "      <td>486922</td>\n",
       "      <td>60</td>\n",
       "    </tr>\n",
       "    <tr>\n",
       "      <th>2</th>\n",
       "      <td>NASA Updates Coverage of Roscosmos Spacewalks ...</td>\n",
       "      <td>{'type': 'text/plain', 'language': 'en', 'base...</td>\n",
       "      <td>[{'rel': 'alternate', 'type': 'text/html', 'hr...</td>\n",
       "      <td>http://www.nasa.gov/press-release/nasa-updates...</td>\n",
       "      <td>NASA will provide live coverage as two Roscosm...</td>\n",
       "      <td>{'type': 'text/html', 'language': 'en', 'base'...</td>\n",
       "      <td>http://www.nasa.gov/press-release/nasa-updates...</td>\n",
       "      <td>False</td>\n",
       "      <td>Wed, 26 Apr 2023 14:59 EDT</td>\n",
       "      <td>(2023, 4, 26, 18, 59, 0, 2, 116, 0)</td>\n",
       "      <td>{'href': 'http://www.nasa.gov/rss/dyn/breaking...</td>\n",
       "      <td>486897</td>\n",
       "      <td>62</td>\n",
       "    </tr>\n",
       "    <tr>\n",
       "      <th>3</th>\n",
       "      <td>NASA Sets Coverage for Czech Republic Artemis ...</td>\n",
       "      <td>{'type': 'text/plain', 'language': 'en', 'base...</td>\n",
       "      <td>[{'rel': 'alternate', 'type': 'text/html', 'hr...</td>\n",
       "      <td>http://www.nasa.gov/press-release/nasa-sets-co...</td>\n",
       "      <td>The Czech Republic is expected to sign the Art...</td>\n",
       "      <td>{'type': 'text/html', 'language': 'en', 'base'...</td>\n",
       "      <td>http://www.nasa.gov/press-release/nasa-sets-co...</td>\n",
       "      <td>False</td>\n",
       "      <td>Wed, 26 Apr 2023 14:49 EDT</td>\n",
       "      <td>(2023, 4, 26, 18, 49, 0, 2, 116, 0)</td>\n",
       "      <td>{'href': 'http://www.nasa.gov/rss/dyn/breaking...</td>\n",
       "      <td>486898</td>\n",
       "      <td>70</td>\n",
       "    </tr>\n",
       "    <tr>\n",
       "      <th>4</th>\n",
       "      <td>NASA Experts Available for Interviews About Se...</td>\n",
       "      <td>{'type': 'text/plain', 'language': 'en', 'base...</td>\n",
       "      <td>[{'rel': 'alternate', 'type': 'text/html', 'hr...</td>\n",
       "      <td>http://www.nasa.gov/press-release/nasa-experts...</td>\n",
       "      <td>This spring, NASA’s S-MODE (Sub-Mesoscale Ocea...</td>\n",
       "      <td>{'type': 'text/html', 'language': 'en', 'base'...</td>\n",
       "      <td>http://www.nasa.gov/press-release/nasa-experts...</td>\n",
       "      <td>False</td>\n",
       "      <td>Wed, 26 Apr 2023 14:09 EDT</td>\n",
       "      <td>(2023, 4, 26, 18, 9, 0, 2, 116, 0)</td>\n",
       "      <td>{'href': 'http://www.nasa.gov/rss/dyn/breaking...</td>\n",
       "      <td>486894</td>\n",
       "      <td>64</td>\n",
       "    </tr>\n",
       "  </tbody>\n",
       "</table>\n",
       "</div>"
      ],
      "text/plain": [
       "                                               title   \n",
       "0  NASA Sets Coverage for Dragon Port Relocation ...  \\\n",
       "1  Entrepreneurs to Pitch Ideas for Future in NAS...   \n",
       "2  NASA Updates Coverage of Roscosmos Spacewalks ...   \n",
       "3  NASA Sets Coverage for Czech Republic Artemis ...   \n",
       "4  NASA Experts Available for Interviews About Se...   \n",
       "\n",
       "                                        title_detail   \n",
       "0  {'type': 'text/plain', 'language': 'en', 'base...  \\\n",
       "1  {'type': 'text/plain', 'language': 'en', 'base...   \n",
       "2  {'type': 'text/plain', 'language': 'en', 'base...   \n",
       "3  {'type': 'text/plain', 'language': 'en', 'base...   \n",
       "4  {'type': 'text/plain', 'language': 'en', 'base...   \n",
       "\n",
       "                                               links   \n",
       "0  [{'rel': 'alternate', 'type': 'text/html', 'hr...  \\\n",
       "1  [{'rel': 'alternate', 'type': 'text/html', 'hr...   \n",
       "2  [{'rel': 'alternate', 'type': 'text/html', 'hr...   \n",
       "3  [{'rel': 'alternate', 'type': 'text/html', 'hr...   \n",
       "4  [{'rel': 'alternate', 'type': 'text/html', 'hr...   \n",
       "\n",
       "                                                link   \n",
       "0  http://www.nasa.gov/press-release/nasa-sets-co...  \\\n",
       "1  http://www.nasa.gov/press-release/entrepreneur...   \n",
       "2  http://www.nasa.gov/press-release/nasa-updates...   \n",
       "3  http://www.nasa.gov/press-release/nasa-sets-co...   \n",
       "4  http://www.nasa.gov/press-release/nasa-experts...   \n",
       "\n",
       "                                             summary   \n",
       "0  Four crew members aboard the International Spa...  \\\n",
       "1  College students in NASA’s Minority University...   \n",
       "2  NASA will provide live coverage as two Roscosm...   \n",
       "3  The Czech Republic is expected to sign the Art...   \n",
       "4  This spring, NASA’s S-MODE (Sub-Mesoscale Ocea...   \n",
       "\n",
       "                                      summary_detail   \n",
       "0  {'type': 'text/html', 'language': 'en', 'base'...  \\\n",
       "1  {'type': 'text/html', 'language': 'en', 'base'...   \n",
       "2  {'type': 'text/html', 'language': 'en', 'base'...   \n",
       "3  {'type': 'text/html', 'language': 'en', 'base'...   \n",
       "4  {'type': 'text/html', 'language': 'en', 'base'...   \n",
       "\n",
       "                                                  id  guidislink   \n",
       "0  http://www.nasa.gov/press-release/nasa-sets-co...       False  \\\n",
       "1  http://www.nasa.gov/press-release/entrepreneur...       False   \n",
       "2  http://www.nasa.gov/press-release/nasa-updates...       False   \n",
       "3  http://www.nasa.gov/press-release/nasa-sets-co...       False   \n",
       "4  http://www.nasa.gov/press-release/nasa-experts...       False   \n",
       "\n",
       "                    published                     published_parsed   \n",
       "0  Mon, 01 May 2023 15:06 EDT    (2023, 5, 1, 19, 6, 0, 0, 121, 0)  \\\n",
       "1  Thu, 27 Apr 2023 14:02 EDT   (2023, 4, 27, 18, 2, 0, 3, 117, 0)   \n",
       "2  Wed, 26 Apr 2023 14:59 EDT  (2023, 4, 26, 18, 59, 0, 2, 116, 0)   \n",
       "3  Wed, 26 Apr 2023 14:49 EDT  (2023, 4, 26, 18, 49, 0, 2, 116, 0)   \n",
       "4  Wed, 26 Apr 2023 14:09 EDT   (2023, 4, 26, 18, 9, 0, 2, 116, 0)   \n",
       "\n",
       "                                              source dc_identifier   \n",
       "0  {'href': 'http://www.nasa.gov/rss/dyn/breaking...        486960  \\\n",
       "1  {'href': 'http://www.nasa.gov/rss/dyn/breaking...        486922   \n",
       "2  {'href': 'http://www.nasa.gov/rss/dyn/breaking...        486897   \n",
       "3  {'href': 'http://www.nasa.gov/rss/dyn/breaking...        486898   \n",
       "4  {'href': 'http://www.nasa.gov/rss/dyn/breaking...        486894   \n",
       "\n",
       "   title_count  \n",
       "0           62  \n",
       "1           60  \n",
       "2           62  \n",
       "3           70  \n",
       "4           64  "
      ]
     },
     "execution_count": 36,
     "metadata": {},
     "output_type": "execute_result"
    }
   ],
   "source": [
    "\n",
    "\n",
    "df['title_count'] = df['title'].apply(lambda x: len(x))\n",
    "df.head()"
   ]
  },
  {
   "cell_type": "code",
   "execution_count": 37,
   "metadata": {},
   "outputs": [],
   "source": [
    "df_v2 = df[['title', 'summary','title_count']]"
   ]
  },
  {
   "cell_type": "code",
   "execution_count": 40,
   "metadata": {},
   "outputs": [
    {
     "data": {
      "text/html": [
       "<div>\n",
       "<style scoped>\n",
       "    .dataframe tbody tr th:only-of-type {\n",
       "        vertical-align: middle;\n",
       "    }\n",
       "\n",
       "    .dataframe tbody tr th {\n",
       "        vertical-align: top;\n",
       "    }\n",
       "\n",
       "    .dataframe thead th {\n",
       "        text-align: right;\n",
       "    }\n",
       "</style>\n",
       "<table border=\"1\" class=\"dataframe\">\n",
       "  <thead>\n",
       "    <tr style=\"text-align: right;\">\n",
       "      <th></th>\n",
       "      <th>title</th>\n",
       "      <th>summary</th>\n",
       "      <th>title_count</th>\n",
       "    </tr>\n",
       "  </thead>\n",
       "  <tbody>\n",
       "    <tr>\n",
       "      <th>3</th>\n",
       "      <td>NASA Sets Coverage for Czech Republic Artemis ...</td>\n",
       "      <td>The Czech Republic is expected to sign the Art...</td>\n",
       "      <td>70</td>\n",
       "    </tr>\n",
       "    <tr>\n",
       "      <th>6</th>\n",
       "      <td>NASA Selects 12 Companies to Collaborate on Ke...</td>\n",
       "      <td>NASA has selected 16 proposals from 12 compani...</td>\n",
       "      <td>70</td>\n",
       "    </tr>\n",
       "    <tr>\n",
       "      <th>9</th>\n",
       "      <td>VP Harris, South Korea President Yoon Suk Yeol...</td>\n",
       "      <td>Vice President Kamala Harris and Republic of K...</td>\n",
       "      <td>68</td>\n",
       "    </tr>\n",
       "    <tr>\n",
       "      <th>4</th>\n",
       "      <td>NASA Experts Available for Interviews About Se...</td>\n",
       "      <td>This spring, NASA’s S-MODE (Sub-Mesoscale Ocea...</td>\n",
       "      <td>64</td>\n",
       "    </tr>\n",
       "    <tr>\n",
       "      <th>5</th>\n",
       "      <td>NASA Announces Winners of 2023 Human Explorati...</td>\n",
       "      <td>NASA has announced the winners of the 2023 Hum...</td>\n",
       "      <td>64</td>\n",
       "    </tr>\n",
       "  </tbody>\n",
       "</table>\n",
       "</div>"
      ],
      "text/plain": [
       "                                               title   \n",
       "3  NASA Sets Coverage for Czech Republic Artemis ...  \\\n",
       "6  NASA Selects 12 Companies to Collaborate on Ke...   \n",
       "9  VP Harris, South Korea President Yoon Suk Yeol...   \n",
       "4  NASA Experts Available for Interviews About Se...   \n",
       "5  NASA Announces Winners of 2023 Human Explorati...   \n",
       "\n",
       "                                             summary  title_count  \n",
       "3  The Czech Republic is expected to sign the Art...           70  \n",
       "6  NASA has selected 16 proposals from 12 compani...           70  \n",
       "9  Vice President Kamala Harris and Republic of K...           68  \n",
       "4  This spring, NASA’s S-MODE (Sub-Mesoscale Ocea...           64  \n",
       "5  NASA has announced the winners of the 2023 Hum...           64  "
      ]
     },
     "execution_count": 40,
     "metadata": {},
     "output_type": "execute_result"
    }
   ],
   "source": [
    "df_v2 = df_v2.sort_values('title_count',ascending = False)\n",
    "df_v2.head()"
   ]
  },
  {
   "cell_type": "markdown",
   "metadata": {},
   "source": [
    "### 12. Create a list of entry titles whose summary includes the phrase \"machine learning.\""
   ]
  },
  {
   "cell_type": "code",
   "execution_count": 51,
   "metadata": {},
   "outputs": [],
   "source": [
    "#pongo space porque machine learning no hay\n",
    "\n",
    "nasas = []\n",
    "\n",
    "for m in ent:\n",
    "    if 'space' in m['summary']:\n",
    "        nasas.append(m['title'])\n",
    "        "
   ]
  },
  {
   "cell_type": "code",
   "execution_count": 52,
   "metadata": {},
   "outputs": [
    {
     "data": {
      "text/plain": [
       "['NASA Sets Coverage for Dragon Port Relocation on Space Station',\n",
       " 'NASA Updates Coverage of Roscosmos Spacewalks at Space Station',\n",
       " 'NASA Announces Student Winners of Power to Explore Challenge']"
      ]
     },
     "execution_count": 52,
     "metadata": {},
     "output_type": "execute_result"
    }
   ],
   "source": [
    "nasas"
   ]
  }
 ],
 "metadata": {
  "kernelspec": {
   "display_name": "Python 3 (ipykernel)",
   "language": "python",
   "name": "python3"
  },
  "language_info": {
   "codemirror_mode": {
    "name": "ipython",
    "version": 3
   },
   "file_extension": ".py",
   "mimetype": "text/x-python",
   "name": "python",
   "nbconvert_exporter": "python",
   "pygments_lexer": "ipython3",
   "version": "3.10.11"
  }
 },
 "nbformat": 4,
 "nbformat_minor": 2
}
