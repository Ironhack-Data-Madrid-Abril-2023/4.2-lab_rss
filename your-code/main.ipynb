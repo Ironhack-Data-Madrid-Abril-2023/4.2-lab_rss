{
 "cells": [
  {
   "cell_type": "markdown",
   "metadata": {},
   "source": [
    "# Working with RSS Feeds Lab\n",
    "\n",
    "Complete the following set of exercises to solidify your knowledge of parsing RSS feeds and extracting information from them."
   ]
  },
  {
   "cell_type": "code",
   "execution_count": 3,
   "metadata": {},
   "outputs": [
    {
     "name": "stdout",
     "output_type": "stream",
     "text": [
      "Requirement already satisfied: feedparser in c:\\users\\lorenzo\\anaconda3\\anaconda\\lib\\site-packages (6.0.10)\n",
      "Requirement already satisfied: sgmllib3k in c:\\users\\lorenzo\\anaconda3\\anaconda\\lib\\site-packages (from feedparser) (1.0.0)\n",
      "Note: you may need to restart the kernel to use updated packages.\n"
     ]
    }
   ],
   "source": [
    "%pip install feedparser\n",
    "import feedparser"
   ]
  },
  {
   "cell_type": "markdown",
   "metadata": {},
   "source": [
    "### 1. Use feedparser to parse the following RSS feed URL."
   ]
  },
  {
   "cell_type": "code",
   "execution_count": 4,
   "metadata": {},
   "outputs": [],
   "source": [
    "nasa = feedparser.parse('https://blogs.nasa.gov/stationreport/feed/')"
   ]
  },
  {
   "cell_type": "code",
   "execution_count": 5,
   "metadata": {},
   "outputs": [
    {
     "data": {
      "text/plain": [
       "feedparser.util.FeedParserDict"
      ]
     },
     "execution_count": 5,
     "metadata": {},
     "output_type": "execute_result"
    }
   ],
   "source": [
    "type(nasa)"
   ]
  },
  {
   "cell_type": "markdown",
   "metadata": {},
   "source": [
    "### 2. Obtain a list of components (keys) that are available for this feed."
   ]
  },
  {
   "cell_type": "code",
   "execution_count": 6,
   "metadata": {},
   "outputs": [
    {
     "data": {
      "text/plain": [
       "dict_keys(['bozo', 'entries', 'feed', 'headers', 'etag', 'updated', 'updated_parsed', 'href', 'status', 'encoding', 'version', 'namespaces'])"
      ]
     },
     "execution_count": 6,
     "metadata": {},
     "output_type": "execute_result"
    }
   ],
   "source": [
    "nasa.keys()"
   ]
  },
  {
   "cell_type": "markdown",
   "metadata": {},
   "source": [
    "### 3. Obtain a list of components (keys) that are available for the *feed* component of this RSS feed."
   ]
  },
  {
   "cell_type": "code",
   "execution_count": 7,
   "metadata": {},
   "outputs": [
    {
     "data": {
      "text/plain": [
       "dict_keys(['title', 'title_detail', 'links', 'link', 'subtitle', 'subtitle_detail', 'updated', 'updated_parsed', 'language', 'sy_updateperiod', 'sy_updatefrequency', 'generator_detail', 'generator'])"
      ]
     },
     "execution_count": 7,
     "metadata": {},
     "output_type": "execute_result"
    }
   ],
   "source": [
    "nasa['feed'].keys()"
   ]
  },
  {
   "cell_type": "code",
   "execution_count": 8,
   "metadata": {},
   "outputs": [
    {
     "ename": "AttributeError",
     "evalue": "'list' object has no attribute 'keys'",
     "output_type": "error",
     "traceback": [
      "\u001b[1;31m---------------------------------------------------------------------------\u001b[0m",
      "\u001b[1;31mAttributeError\u001b[0m                            Traceback (most recent call last)",
      "\u001b[1;32m~\\AppData\\Local\\Temp\\ipykernel_9844\\1233414923.py\u001b[0m in \u001b[0;36m<module>\u001b[1;34m\u001b[0m\n\u001b[1;32m----> 1\u001b[1;33m \u001b[0mnasa\u001b[0m\u001b[1;33m[\u001b[0m\u001b[1;34m'entries'\u001b[0m\u001b[1;33m]\u001b[0m\u001b[1;33m.\u001b[0m\u001b[0mkeys\u001b[0m\u001b[1;33m(\u001b[0m\u001b[1;33m)\u001b[0m   \u001b[1;31m# No entiendo porque me da las keys de fees y de entries no.\u001b[0m\u001b[1;33m\u001b[0m\u001b[1;33m\u001b[0m\u001b[0m\n\u001b[0m",
      "\u001b[1;31mAttributeError\u001b[0m: 'list' object has no attribute 'keys'"
     ]
    }
   ],
   "source": [
    "nasa['entries'].keys()   # No entiendo porque me da las keys de fees y de entries no."
   ]
  },
  {
   "cell_type": "markdown",
   "metadata": {},
   "source": [
    "### 4. Extract and print the feed title, subtitle, author, and link."
   ]
  },
  {
   "cell_type": "code",
   "execution_count": 9,
   "metadata": {},
   "outputs": [],
   "source": [
    "nasafeed = nasa['feed']"
   ]
  },
  {
   "cell_type": "code",
   "execution_count": 10,
   "metadata": {},
   "outputs": [
    {
     "data": {
      "text/plain": [
       "time.struct_time(tm_year=2023, tm_mon=4, tm_mday=27, tm_hour=18, tm_min=47, tm_sec=12, tm_wday=3, tm_yday=117, tm_isdst=0)"
      ]
     },
     "execution_count": 10,
     "metadata": {},
     "output_type": "execute_result"
    }
   ],
   "source": [
    "nasafeed['updated_parsed'] #exploración"
   ]
  },
  {
   "cell_type": "code",
   "execution_count": 11,
   "metadata": {},
   "outputs": [
    {
     "data": {
      "text/plain": [
       "('ISS On-Orbit Status Report', '', 'https://blogs.nasa.gov/stationreport')"
      ]
     },
     "execution_count": 11,
     "metadata": {},
     "output_type": "execute_result"
    }
   ],
   "source": [
    "nasafeed['title'],nasafeed['subtitle'],nasafeed['link'] # El autor no lo he encontrado."
   ]
  },
  {
   "cell_type": "markdown",
   "metadata": {},
   "source": [
    "### 5. Count the number of entries that are contained in this RSS feed."
   ]
  },
  {
   "cell_type": "code",
   "execution_count": 12,
   "metadata": {},
   "outputs": [
    {
     "data": {
      "text/plain": [
       "10"
      ]
     },
     "execution_count": 12,
     "metadata": {},
     "output_type": "execute_result"
    }
   ],
   "source": [
    "nasaentries = nasa['entries']\n",
    "len(nasaentries)"
   ]
  },
  {
   "cell_type": "markdown",
   "metadata": {},
   "source": [
    "### 6. Obtain a list of components (keys) available for an entry.\n",
    "\n",
    "*Hint: Remember to index first before requesting the keys*"
   ]
  },
  {
   "cell_type": "code",
   "execution_count": 13,
   "metadata": {},
   "outputs": [
    {
     "data": {
      "text/plain": [
       "dict_keys(['title', 'title_detail', 'links', 'link', 'authors', 'author', 'author_detail', 'published', 'published_parsed', 'tags', 'id', 'guidislink', 'summary', 'summary_detail'])"
      ]
     },
     "execution_count": 13,
     "metadata": {},
     "output_type": "execute_result"
    }
   ],
   "source": [
    "\n",
    "nasaentries[0].keys()"
   ]
  },
  {
   "cell_type": "markdown",
   "metadata": {},
   "source": [
    "### 7. Extract a list of entry titles."
   ]
  },
  {
   "cell_type": "code",
   "execution_count": 14,
   "metadata": {},
   "outputs": [
    {
     "name": "stdout",
     "output_type": "stream",
     "text": [
      "['ISS Daily Summary Report – 4/26/2023', 'ISS Daily Summary Report – 4/25/2023', 'ISS Daily Summary Report – 4/24/2023', 'ISS Daily Summary Report – 4/21/2023', 'ISS Daily Summary Report – 4/20/2023', 'ISS Daily Summary Report – 4/19/2023', 'ISS Daily Summary Report – 4/18/2023', 'ISS Daily Summary Report – 4/17/2023', 'ISS Daily Summary Report – 4/14/2023', 'ISS Daily Summary Report – 4/13/2023']\n"
     ]
    }
   ],
   "source": [
    "entries = []\n",
    "for elemento in nasaentries:\n",
    "    entries.append(elemento['title'])\n",
    "print(entries) "
   ]
  },
  {
   "cell_type": "markdown",
   "metadata": {},
   "source": [
    "### 8. Calculate the percentage of \"Four short links\" entry titles."
   ]
  },
  {
   "cell_type": "code",
   "execution_count": 15,
   "metadata": {},
   "outputs": [],
   "source": [
    "import pandas as pd\n",
    "df= pd.DataFrame(nasa['entries'])\n",
    "#todos los links parecen ser los 'largos', por otro lado nose como hacer en una formula la distinción entre link normal y link corto."
   ]
  },
  {
   "cell_type": "markdown",
   "metadata": {},
   "source": [
    "### 9. Create a Pandas data frame from the feed's entries."
   ]
  },
  {
   "cell_type": "code",
   "execution_count": 16,
   "metadata": {},
   "outputs": [
    {
     "data": {
      "text/html": [
       "<div>\n",
       "<style scoped>\n",
       "    .dataframe tbody tr th:only-of-type {\n",
       "        vertical-align: middle;\n",
       "    }\n",
       "\n",
       "    .dataframe tbody tr th {\n",
       "        vertical-align: top;\n",
       "    }\n",
       "\n",
       "    .dataframe thead th {\n",
       "        text-align: right;\n",
       "    }\n",
       "</style>\n",
       "<table border=\"1\" class=\"dataframe\">\n",
       "  <thead>\n",
       "    <tr style=\"text-align: right;\">\n",
       "      <th></th>\n",
       "      <th>title</th>\n",
       "      <th>title_detail</th>\n",
       "      <th>links</th>\n",
       "      <th>link</th>\n",
       "      <th>authors</th>\n",
       "      <th>author</th>\n",
       "      <th>author_detail</th>\n",
       "      <th>published</th>\n",
       "      <th>published_parsed</th>\n",
       "      <th>tags</th>\n",
       "      <th>id</th>\n",
       "      <th>guidislink</th>\n",
       "      <th>summary</th>\n",
       "      <th>summary_detail</th>\n",
       "    </tr>\n",
       "  </thead>\n",
       "  <tbody>\n",
       "    <tr>\n",
       "      <th>0</th>\n",
       "      <td>ISS Daily Summary Report – 4/26/2023</td>\n",
       "      <td>{'type': 'text/plain', 'language': None, 'base...</td>\n",
       "      <td>[{'rel': 'alternate', 'type': 'text/html', 'hr...</td>\n",
       "      <td>https://blogs.nasa.gov/stationreport/2023/04/2...</td>\n",
       "      <td>[{'name': 'Bill Keeter'}]</td>\n",
       "      <td>Bill Keeter</td>\n",
       "      <td>{'name': 'Bill Keeter'}</td>\n",
       "      <td>Wed, 26 Apr 2023 16:00:02 +0000</td>\n",
       "      <td>(2023, 4, 26, 16, 0, 2, 2, 116, 0)</td>\n",
       "      <td>[{'term': '2023', 'scheme': None, 'label': Non...</td>\n",
       "      <td>https://blogs.nasa.gov/stationreport/?p=6994</td>\n",
       "      <td>False</td>\n",
       "      <td>Payloads: Actiwatch-Plus: Actiwatch devices we...</td>\n",
       "      <td>{'type': 'text/html', 'language': None, 'base'...</td>\n",
       "    </tr>\n",
       "    <tr>\n",
       "      <th>1</th>\n",
       "      <td>ISS Daily Summary Report – 4/25/2023</td>\n",
       "      <td>{'type': 'text/plain', 'language': None, 'base...</td>\n",
       "      <td>[{'rel': 'alternate', 'type': 'text/html', 'hr...</td>\n",
       "      <td>https://blogs.nasa.gov/stationreport/2023/04/2...</td>\n",
       "      <td>[{'name': 'Bill Keeter'}]</td>\n",
       "      <td>Bill Keeter</td>\n",
       "      <td>{'name': 'Bill Keeter'}</td>\n",
       "      <td>Tue, 25 Apr 2023 16:00:33 +0000</td>\n",
       "      <td>(2023, 4, 25, 16, 0, 33, 1, 115, 0)</td>\n",
       "      <td>[{'term': '2023', 'scheme': None, 'label': Non...</td>\n",
       "      <td>https://blogs.nasa.gov/stationreport/?p=6992</td>\n",
       "      <td>False</td>\n",
       "      <td>Payloads: JEM Water Recovery System (JWRS): Tr...</td>\n",
       "      <td>{'type': 'text/html', 'language': None, 'base'...</td>\n",
       "    </tr>\n",
       "    <tr>\n",
       "      <th>2</th>\n",
       "      <td>ISS Daily Summary Report – 4/24/2023</td>\n",
       "      <td>{'type': 'text/plain', 'language': None, 'base...</td>\n",
       "      <td>[{'rel': 'alternate', 'type': 'text/html', 'hr...</td>\n",
       "      <td>https://blogs.nasa.gov/stationreport/2023/04/2...</td>\n",
       "      <td>[{'name': 'Bill Keeter'}]</td>\n",
       "      <td>Bill Keeter</td>\n",
       "      <td>{'name': 'Bill Keeter'}</td>\n",
       "      <td>Mon, 24 Apr 2023 16:00:20 +0000</td>\n",
       "      <td>(2023, 4, 24, 16, 0, 20, 0, 114, 0)</td>\n",
       "      <td>[{'term': '2023', 'scheme': None, 'label': Non...</td>\n",
       "      <td>https://blogs.nasa.gov/stationreport/?p=6990</td>\n",
       "      <td>False</td>\n",
       "      <td>Payloads: NanoRacks CubeSats Deployer-25 (NRCS...</td>\n",
       "      <td>{'type': 'text/html', 'language': None, 'base'...</td>\n",
       "    </tr>\n",
       "    <tr>\n",
       "      <th>3</th>\n",
       "      <td>ISS Daily Summary Report – 4/21/2023</td>\n",
       "      <td>{'type': 'text/plain', 'language': None, 'base...</td>\n",
       "      <td>[{'rel': 'alternate', 'type': 'text/html', 'hr...</td>\n",
       "      <td>https://blogs.nasa.gov/stationreport/2023/04/2...</td>\n",
       "      <td>[{'name': 'Bill Keeter'}]</td>\n",
       "      <td>Bill Keeter</td>\n",
       "      <td>{'name': 'Bill Keeter'}</td>\n",
       "      <td>Fri, 21 Apr 2023 16:00:44 +0000</td>\n",
       "      <td>(2023, 4, 21, 16, 0, 44, 4, 111, 0)</td>\n",
       "      <td>[{'term': '2023', 'scheme': None, 'label': Non...</td>\n",
       "      <td>https://blogs.nasa.gov/stationreport/?p=6988</td>\n",
       "      <td>False</td>\n",
       "      <td>Payloads: CapiSorb Visible System (CVS): Exper...</td>\n",
       "      <td>{'type': 'text/html', 'language': None, 'base'...</td>\n",
       "    </tr>\n",
       "    <tr>\n",
       "      <th>4</th>\n",
       "      <td>ISS Daily Summary Report – 4/20/2023</td>\n",
       "      <td>{'type': 'text/plain', 'language': None, 'base...</td>\n",
       "      <td>[{'rel': 'alternate', 'type': 'text/html', 'hr...</td>\n",
       "      <td>https://blogs.nasa.gov/stationreport/2023/04/2...</td>\n",
       "      <td>[{'name': 'Bill Keeter'}]</td>\n",
       "      <td>Bill Keeter</td>\n",
       "      <td>{'name': 'Bill Keeter'}</td>\n",
       "      <td>Thu, 20 Apr 2023 16:00:15 +0000</td>\n",
       "      <td>(2023, 4, 20, 16, 0, 15, 3, 110, 0)</td>\n",
       "      <td>[{'term': '2023', 'scheme': None, 'label': Non...</td>\n",
       "      <td>https://blogs.nasa.gov/stationreport/?p=6986</td>\n",
       "      <td>False</td>\n",
       "      <td>Payloads: CapiSorb Visible System (CVS): The C...</td>\n",
       "      <td>{'type': 'text/html', 'language': None, 'base'...</td>\n",
       "    </tr>\n",
       "    <tr>\n",
       "      <th>5</th>\n",
       "      <td>ISS Daily Summary Report – 4/19/2023</td>\n",
       "      <td>{'type': 'text/plain', 'language': None, 'base...</td>\n",
       "      <td>[{'rel': 'alternate', 'type': 'text/html', 'hr...</td>\n",
       "      <td>https://blogs.nasa.gov/stationreport/2023/04/1...</td>\n",
       "      <td>[{'name': 'Bill Keeter'}]</td>\n",
       "      <td>Bill Keeter</td>\n",
       "      <td>{'name': 'Bill Keeter'}</td>\n",
       "      <td>Wed, 19 Apr 2023 16:00:12 +0000</td>\n",
       "      <td>(2023, 4, 19, 16, 0, 12, 2, 109, 0)</td>\n",
       "      <td>[{'term': '2023', 'scheme': None, 'label': Non...</td>\n",
       "      <td>https://blogs.nasa.gov/stationreport/?p=6984</td>\n",
       "      <td>False</td>\n",
       "      <td>Payloads: AstroPi: A 5mm Camera Lens was mount...</td>\n",
       "      <td>{'type': 'text/html', 'language': None, 'base'...</td>\n",
       "    </tr>\n",
       "    <tr>\n",
       "      <th>6</th>\n",
       "      <td>ISS Daily Summary Report – 4/18/2023</td>\n",
       "      <td>{'type': 'text/plain', 'language': None, 'base...</td>\n",
       "      <td>[{'rel': 'alternate', 'type': 'text/html', 'hr...</td>\n",
       "      <td>https://blogs.nasa.gov/stationreport/2023/04/1...</td>\n",
       "      <td>[{'name': 'Bill Keeter'}]</td>\n",
       "      <td>Bill Keeter</td>\n",
       "      <td>{'name': 'Bill Keeter'}</td>\n",
       "      <td>Tue, 18 Apr 2023 16:00:44 +0000</td>\n",
       "      <td>(2023, 4, 18, 16, 0, 44, 1, 108, 0)</td>\n",
       "      <td>[{'term': '2023', 'scheme': None, 'label': Non...</td>\n",
       "      <td>https://blogs.nasa.gov/stationreport/?p=6981</td>\n",
       "      <td>False</td>\n",
       "      <td>Payloads: Investigating Structure and Function...</td>\n",
       "      <td>{'type': 'text/html', 'language': None, 'base'...</td>\n",
       "    </tr>\n",
       "    <tr>\n",
       "      <th>7</th>\n",
       "      <td>ISS Daily Summary Report – 4/17/2023</td>\n",
       "      <td>{'type': 'text/plain', 'language': None, 'base...</td>\n",
       "      <td>[{'rel': 'alternate', 'type': 'text/html', 'hr...</td>\n",
       "      <td>https://blogs.nasa.gov/stationreport/2023/04/1...</td>\n",
       "      <td>[{'name': 'Bill Keeter'}]</td>\n",
       "      <td>Bill Keeter</td>\n",
       "      <td>{'name': 'Bill Keeter'}</td>\n",
       "      <td>Mon, 17 Apr 2023 16:00:28 +0000</td>\n",
       "      <td>(2023, 4, 17, 16, 0, 28, 0, 107, 0)</td>\n",
       "      <td>[{'term': '2023', 'scheme': None, 'label': Non...</td>\n",
       "      <td>https://blogs.nasa.gov/stationreport/?p=6979</td>\n",
       "      <td>False</td>\n",
       "      <td>Payloads: Electromagnetic Levitator (EML): Arg...</td>\n",
       "      <td>{'type': 'text/html', 'language': None, 'base'...</td>\n",
       "    </tr>\n",
       "    <tr>\n",
       "      <th>8</th>\n",
       "      <td>ISS Daily Summary Report – 4/14/2023</td>\n",
       "      <td>{'type': 'text/plain', 'language': None, 'base...</td>\n",
       "      <td>[{'rel': 'alternate', 'type': 'text/html', 'hr...</td>\n",
       "      <td>https://blogs.nasa.gov/stationreport/2023/04/1...</td>\n",
       "      <td>[{'name': 'Bill Keeter'}]</td>\n",
       "      <td>Bill Keeter</td>\n",
       "      <td>{'name': 'Bill Keeter'}</td>\n",
       "      <td>Fri, 14 Apr 2023 16:00:48 +0000</td>\n",
       "      <td>(2023, 4, 14, 16, 0, 48, 4, 104, 0)</td>\n",
       "      <td>[{'term': '2023', 'scheme': None, 'label': Non...</td>\n",
       "      <td>https://blogs.nasa.gov/stationreport/?p=6977</td>\n",
       "      <td>False</td>\n",
       "      <td>Payloads: Advanced Space Experiment Processor ...</td>\n",
       "      <td>{'type': 'text/html', 'language': None, 'base'...</td>\n",
       "    </tr>\n",
       "    <tr>\n",
       "      <th>9</th>\n",
       "      <td>ISS Daily Summary Report – 4/13/2023</td>\n",
       "      <td>{'type': 'text/plain', 'language': None, 'base...</td>\n",
       "      <td>[{'rel': 'alternate', 'type': 'text/html', 'hr...</td>\n",
       "      <td>https://blogs.nasa.gov/stationreport/2023/04/1...</td>\n",
       "      <td>[{'name': 'Bill Keeter'}]</td>\n",
       "      <td>Bill Keeter</td>\n",
       "      <td>{'name': 'Bill Keeter'}</td>\n",
       "      <td>Thu, 13 Apr 2023 16:00:54 +0000</td>\n",
       "      <td>(2023, 4, 13, 16, 0, 54, 3, 103, 0)</td>\n",
       "      <td>[{'term': '2023', 'scheme': None, 'label': Non...</td>\n",
       "      <td>https://blogs.nasa.gov/stationreport/?p=6975</td>\n",
       "      <td>False</td>\n",
       "      <td>Payloads: Human Research Program (HRP) Sample ...</td>\n",
       "      <td>{'type': 'text/html', 'language': None, 'base'...</td>\n",
       "    </tr>\n",
       "  </tbody>\n",
       "</table>\n",
       "</div>"
      ],
      "text/plain": [
       "                                  title  \\\n",
       "0  ISS Daily Summary Report – 4/26/2023   \n",
       "1  ISS Daily Summary Report – 4/25/2023   \n",
       "2  ISS Daily Summary Report – 4/24/2023   \n",
       "3  ISS Daily Summary Report – 4/21/2023   \n",
       "4  ISS Daily Summary Report – 4/20/2023   \n",
       "5  ISS Daily Summary Report – 4/19/2023   \n",
       "6  ISS Daily Summary Report – 4/18/2023   \n",
       "7  ISS Daily Summary Report – 4/17/2023   \n",
       "8  ISS Daily Summary Report – 4/14/2023   \n",
       "9  ISS Daily Summary Report – 4/13/2023   \n",
       "\n",
       "                                        title_detail  \\\n",
       "0  {'type': 'text/plain', 'language': None, 'base...   \n",
       "1  {'type': 'text/plain', 'language': None, 'base...   \n",
       "2  {'type': 'text/plain', 'language': None, 'base...   \n",
       "3  {'type': 'text/plain', 'language': None, 'base...   \n",
       "4  {'type': 'text/plain', 'language': None, 'base...   \n",
       "5  {'type': 'text/plain', 'language': None, 'base...   \n",
       "6  {'type': 'text/plain', 'language': None, 'base...   \n",
       "7  {'type': 'text/plain', 'language': None, 'base...   \n",
       "8  {'type': 'text/plain', 'language': None, 'base...   \n",
       "9  {'type': 'text/plain', 'language': None, 'base...   \n",
       "\n",
       "                                               links  \\\n",
       "0  [{'rel': 'alternate', 'type': 'text/html', 'hr...   \n",
       "1  [{'rel': 'alternate', 'type': 'text/html', 'hr...   \n",
       "2  [{'rel': 'alternate', 'type': 'text/html', 'hr...   \n",
       "3  [{'rel': 'alternate', 'type': 'text/html', 'hr...   \n",
       "4  [{'rel': 'alternate', 'type': 'text/html', 'hr...   \n",
       "5  [{'rel': 'alternate', 'type': 'text/html', 'hr...   \n",
       "6  [{'rel': 'alternate', 'type': 'text/html', 'hr...   \n",
       "7  [{'rel': 'alternate', 'type': 'text/html', 'hr...   \n",
       "8  [{'rel': 'alternate', 'type': 'text/html', 'hr...   \n",
       "9  [{'rel': 'alternate', 'type': 'text/html', 'hr...   \n",
       "\n",
       "                                                link  \\\n",
       "0  https://blogs.nasa.gov/stationreport/2023/04/2...   \n",
       "1  https://blogs.nasa.gov/stationreport/2023/04/2...   \n",
       "2  https://blogs.nasa.gov/stationreport/2023/04/2...   \n",
       "3  https://blogs.nasa.gov/stationreport/2023/04/2...   \n",
       "4  https://blogs.nasa.gov/stationreport/2023/04/2...   \n",
       "5  https://blogs.nasa.gov/stationreport/2023/04/1...   \n",
       "6  https://blogs.nasa.gov/stationreport/2023/04/1...   \n",
       "7  https://blogs.nasa.gov/stationreport/2023/04/1...   \n",
       "8  https://blogs.nasa.gov/stationreport/2023/04/1...   \n",
       "9  https://blogs.nasa.gov/stationreport/2023/04/1...   \n",
       "\n",
       "                     authors       author            author_detail  \\\n",
       "0  [{'name': 'Bill Keeter'}]  Bill Keeter  {'name': 'Bill Keeter'}   \n",
       "1  [{'name': 'Bill Keeter'}]  Bill Keeter  {'name': 'Bill Keeter'}   \n",
       "2  [{'name': 'Bill Keeter'}]  Bill Keeter  {'name': 'Bill Keeter'}   \n",
       "3  [{'name': 'Bill Keeter'}]  Bill Keeter  {'name': 'Bill Keeter'}   \n",
       "4  [{'name': 'Bill Keeter'}]  Bill Keeter  {'name': 'Bill Keeter'}   \n",
       "5  [{'name': 'Bill Keeter'}]  Bill Keeter  {'name': 'Bill Keeter'}   \n",
       "6  [{'name': 'Bill Keeter'}]  Bill Keeter  {'name': 'Bill Keeter'}   \n",
       "7  [{'name': 'Bill Keeter'}]  Bill Keeter  {'name': 'Bill Keeter'}   \n",
       "8  [{'name': 'Bill Keeter'}]  Bill Keeter  {'name': 'Bill Keeter'}   \n",
       "9  [{'name': 'Bill Keeter'}]  Bill Keeter  {'name': 'Bill Keeter'}   \n",
       "\n",
       "                         published                     published_parsed  \\\n",
       "0  Wed, 26 Apr 2023 16:00:02 +0000   (2023, 4, 26, 16, 0, 2, 2, 116, 0)   \n",
       "1  Tue, 25 Apr 2023 16:00:33 +0000  (2023, 4, 25, 16, 0, 33, 1, 115, 0)   \n",
       "2  Mon, 24 Apr 2023 16:00:20 +0000  (2023, 4, 24, 16, 0, 20, 0, 114, 0)   \n",
       "3  Fri, 21 Apr 2023 16:00:44 +0000  (2023, 4, 21, 16, 0, 44, 4, 111, 0)   \n",
       "4  Thu, 20 Apr 2023 16:00:15 +0000  (2023, 4, 20, 16, 0, 15, 3, 110, 0)   \n",
       "5  Wed, 19 Apr 2023 16:00:12 +0000  (2023, 4, 19, 16, 0, 12, 2, 109, 0)   \n",
       "6  Tue, 18 Apr 2023 16:00:44 +0000  (2023, 4, 18, 16, 0, 44, 1, 108, 0)   \n",
       "7  Mon, 17 Apr 2023 16:00:28 +0000  (2023, 4, 17, 16, 0, 28, 0, 107, 0)   \n",
       "8  Fri, 14 Apr 2023 16:00:48 +0000  (2023, 4, 14, 16, 0, 48, 4, 104, 0)   \n",
       "9  Thu, 13 Apr 2023 16:00:54 +0000  (2023, 4, 13, 16, 0, 54, 3, 103, 0)   \n",
       "\n",
       "                                                tags  \\\n",
       "0  [{'term': '2023', 'scheme': None, 'label': Non...   \n",
       "1  [{'term': '2023', 'scheme': None, 'label': Non...   \n",
       "2  [{'term': '2023', 'scheme': None, 'label': Non...   \n",
       "3  [{'term': '2023', 'scheme': None, 'label': Non...   \n",
       "4  [{'term': '2023', 'scheme': None, 'label': Non...   \n",
       "5  [{'term': '2023', 'scheme': None, 'label': Non...   \n",
       "6  [{'term': '2023', 'scheme': None, 'label': Non...   \n",
       "7  [{'term': '2023', 'scheme': None, 'label': Non...   \n",
       "8  [{'term': '2023', 'scheme': None, 'label': Non...   \n",
       "9  [{'term': '2023', 'scheme': None, 'label': Non...   \n",
       "\n",
       "                                             id  guidislink  \\\n",
       "0  https://blogs.nasa.gov/stationreport/?p=6994       False   \n",
       "1  https://blogs.nasa.gov/stationreport/?p=6992       False   \n",
       "2  https://blogs.nasa.gov/stationreport/?p=6990       False   \n",
       "3  https://blogs.nasa.gov/stationreport/?p=6988       False   \n",
       "4  https://blogs.nasa.gov/stationreport/?p=6986       False   \n",
       "5  https://blogs.nasa.gov/stationreport/?p=6984       False   \n",
       "6  https://blogs.nasa.gov/stationreport/?p=6981       False   \n",
       "7  https://blogs.nasa.gov/stationreport/?p=6979       False   \n",
       "8  https://blogs.nasa.gov/stationreport/?p=6977       False   \n",
       "9  https://blogs.nasa.gov/stationreport/?p=6975       False   \n",
       "\n",
       "                                             summary  \\\n",
       "0  Payloads: Actiwatch-Plus: Actiwatch devices we...   \n",
       "1  Payloads: JEM Water Recovery System (JWRS): Tr...   \n",
       "2  Payloads: NanoRacks CubeSats Deployer-25 (NRCS...   \n",
       "3  Payloads: CapiSorb Visible System (CVS): Exper...   \n",
       "4  Payloads: CapiSorb Visible System (CVS): The C...   \n",
       "5  Payloads: AstroPi: A 5mm Camera Lens was mount...   \n",
       "6  Payloads: Investigating Structure and Function...   \n",
       "7  Payloads: Electromagnetic Levitator (EML): Arg...   \n",
       "8  Payloads: Advanced Space Experiment Processor ...   \n",
       "9  Payloads: Human Research Program (HRP) Sample ...   \n",
       "\n",
       "                                      summary_detail  \n",
       "0  {'type': 'text/html', 'language': None, 'base'...  \n",
       "1  {'type': 'text/html', 'language': None, 'base'...  \n",
       "2  {'type': 'text/html', 'language': None, 'base'...  \n",
       "3  {'type': 'text/html', 'language': None, 'base'...  \n",
       "4  {'type': 'text/html', 'language': None, 'base'...  \n",
       "5  {'type': 'text/html', 'language': None, 'base'...  \n",
       "6  {'type': 'text/html', 'language': None, 'base'...  \n",
       "7  {'type': 'text/html', 'language': None, 'base'...  \n",
       "8  {'type': 'text/html', 'language': None, 'base'...  \n",
       "9  {'type': 'text/html', 'language': None, 'base'...  "
      ]
     },
     "execution_count": 16,
     "metadata": {},
     "output_type": "execute_result"
    }
   ],
   "source": [
    "df"
   ]
  },
  {
   "cell_type": "code",
   "execution_count": null,
   "metadata": {},
   "outputs": [],
   "source": []
  },
  {
   "cell_type": "markdown",
   "metadata": {},
   "source": [
    "### 10. Count the number of entries per author and sort them in descending order."
   ]
  },
  {
   "cell_type": "code",
   "execution_count": null,
   "metadata": {},
   "outputs": [],
   "source": [
    "#No he encontrado autors en entries"
   ]
  },
  {
   "cell_type": "markdown",
   "metadata": {},
   "source": [
    "### 11. Add a new column to the data frame that contains the length (number of characters) of each entry title. Return a data frame that contains the title, author, and title length of each entry in descending order (longest title length at the top)."
   ]
  },
  {
   "cell_type": "code",
   "execution_count": 21,
   "metadata": {},
   "outputs": [
    {
     "data": {
      "text/html": [
       "<div>\n",
       "<style scoped>\n",
       "    .dataframe tbody tr th:only-of-type {\n",
       "        vertical-align: middle;\n",
       "    }\n",
       "\n",
       "    .dataframe tbody tr th {\n",
       "        vertical-align: top;\n",
       "    }\n",
       "\n",
       "    .dataframe thead th {\n",
       "        text-align: right;\n",
       "    }\n",
       "</style>\n",
       "<table border=\"1\" class=\"dataframe\">\n",
       "  <thead>\n",
       "    <tr style=\"text-align: right;\">\n",
       "      <th></th>\n",
       "      <th>title</th>\n",
       "      <th>title_len</th>\n",
       "    </tr>\n",
       "  </thead>\n",
       "  <tbody>\n",
       "    <tr>\n",
       "      <th>0</th>\n",
       "      <td>ISS Daily Summary Report – 4/26/2023</td>\n",
       "      <td>36</td>\n",
       "    </tr>\n",
       "    <tr>\n",
       "      <th>1</th>\n",
       "      <td>ISS Daily Summary Report – 4/25/2023</td>\n",
       "      <td>36</td>\n",
       "    </tr>\n",
       "    <tr>\n",
       "      <th>2</th>\n",
       "      <td>ISS Daily Summary Report – 4/24/2023</td>\n",
       "      <td>36</td>\n",
       "    </tr>\n",
       "    <tr>\n",
       "      <th>3</th>\n",
       "      <td>ISS Daily Summary Report – 4/21/2023</td>\n",
       "      <td>36</td>\n",
       "    </tr>\n",
       "    <tr>\n",
       "      <th>4</th>\n",
       "      <td>ISS Daily Summary Report – 4/20/2023</td>\n",
       "      <td>36</td>\n",
       "    </tr>\n",
       "    <tr>\n",
       "      <th>5</th>\n",
       "      <td>ISS Daily Summary Report – 4/19/2023</td>\n",
       "      <td>36</td>\n",
       "    </tr>\n",
       "    <tr>\n",
       "      <th>6</th>\n",
       "      <td>ISS Daily Summary Report – 4/18/2023</td>\n",
       "      <td>36</td>\n",
       "    </tr>\n",
       "    <tr>\n",
       "      <th>7</th>\n",
       "      <td>ISS Daily Summary Report – 4/17/2023</td>\n",
       "      <td>36</td>\n",
       "    </tr>\n",
       "    <tr>\n",
       "      <th>8</th>\n",
       "      <td>ISS Daily Summary Report – 4/14/2023</td>\n",
       "      <td>36</td>\n",
       "    </tr>\n",
       "    <tr>\n",
       "      <th>9</th>\n",
       "      <td>ISS Daily Summary Report – 4/13/2023</td>\n",
       "      <td>36</td>\n",
       "    </tr>\n",
       "  </tbody>\n",
       "</table>\n",
       "</div>"
      ],
      "text/plain": [
       "                                  title  title_len\n",
       "0  ISS Daily Summary Report – 4/26/2023         36\n",
       "1  ISS Daily Summary Report – 4/25/2023         36\n",
       "2  ISS Daily Summary Report – 4/24/2023         36\n",
       "3  ISS Daily Summary Report – 4/21/2023         36\n",
       "4  ISS Daily Summary Report – 4/20/2023         36\n",
       "5  ISS Daily Summary Report – 4/19/2023         36\n",
       "6  ISS Daily Summary Report – 4/18/2023         36\n",
       "7  ISS Daily Summary Report – 4/17/2023         36\n",
       "8  ISS Daily Summary Report – 4/14/2023         36\n",
       "9  ISS Daily Summary Report – 4/13/2023         36"
      ]
     },
     "execution_count": 21,
     "metadata": {},
     "output_type": "execute_result"
    }
   ],
   "source": [
    "df['title_len'] = df['title'].apply(len)\n",
    "df_title_len = df.loc[:, ['title', 'title_len']]\n",
    "df_title_len"
   ]
  },
  {
   "cell_type": "markdown",
   "metadata": {},
   "source": [
    "### 12. Create a list of entry titles whose summary includes the phrase \"machine learning.\""
   ]
  },
  {
   "cell_type": "code",
   "execution_count": 92,
   "metadata": {},
   "outputs": [
    {
     "data": {
      "text/plain": [
       "[]"
      ]
     },
     "execution_count": 92,
     "metadata": {},
     "output_type": "execute_result"
    }
   ],
   "source": [
    "list= []\n",
    "for k in nasa['entries']:\n",
    "    for e in 'summary':\n",
    "        if \"machine learning\" in e:\n",
    "            list.append(e)\n",
    "list"
   ]
  },
  {
   "cell_type": "code",
   "execution_count": null,
   "metadata": {},
   "outputs": [],
   "source": []
  }
 ],
 "metadata": {
  "kernelspec": {
   "display_name": "Python 3 (ipykernel)",
   "language": "python",
   "name": "python3"
  },
  "language_info": {
   "codemirror_mode": {
    "name": "ipython",
    "version": 3
   },
   "file_extension": ".py",
   "mimetype": "text/x-python",
   "name": "python",
   "nbconvert_exporter": "python",
   "pygments_lexer": "ipython3",
   "version": "3.9.13"
  }
 },
 "nbformat": 4,
 "nbformat_minor": 2
}
